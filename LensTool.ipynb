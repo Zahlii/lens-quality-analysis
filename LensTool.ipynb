{
 "cells": [
  {
   "cell_type": "code",
   "execution_count": 1,
   "id": "f39786d6",
   "metadata": {},
   "outputs": [
    {
     "data": {
      "text/html": [
       "<style>.container { width:98% !important; }</style>"
      ],
      "text/plain": [
       "<IPython.core.display.HTML object>"
      ]
     },
     "metadata": {},
     "output_type": "display_data"
    }
   ],
   "source": [
    "from IPython.display import display, HTML\n",
    "display(HTML(\"<style>.container { width:98% !important; }</style>\"))"
   ]
  },
  {
   "cell_type": "markdown",
   "id": "703164f1",
   "metadata": {},
   "source": [
    "# Skip the downloading stuff, we don't want to bring down the website"
   ]
  },
  {
   "cell_type": "code",
   "execution_count": 2,
   "id": "de10cbd6",
   "metadata": {},
   "outputs": [],
   "source": [
    "import requests\n",
    "from bs4 import BeautifulSoup\n",
    "from itertools import product\n",
    "from functools import lru_cache\n",
    "\n",
    "sess = requests.session()\n",
    "sess.headers.update({\n",
    "    \"User-Agent\": \"Mozilla/5.0 (Windows NT 10.0; Win64; x64) AppleWebKit/537.36 (KHTML, like Gecko) Chrome/111.0.0.0 Safari/537.36\"\n",
    "})\n",
    "\n",
    "@lru_cache(maxsize=2000)\n",
    "def fetch(url):\n",
    "    res = sess.get(url)\n",
    "    res = BeautifulSoup(res.content, \"html.parser\")\n",
    "    return res\n",
    "    "
   ]
  },
  {
   "cell_type": "code",
   "execution_count": 3,
   "id": "04b74ff2",
   "metadata": {
    "scrolled": true
   },
   "outputs": [
    {
     "data": {
      "text/plain": [
       "[('950', 'Canon EF-S 10-18mm f/4.5-5.6 IS STM Lens'),\n",
       " ('271', 'Canon EF-S 10-22mm f/3.5-4.5 USM Lens'),\n",
       " ('967', 'Canon EF-M 11-22mm f/4-5.6 IS STM Lens'),\n",
       " ('977', 'Canon EF 11-24mm f/4L USM Lens'),\n",
       " ('1569', 'Canon RF 14-35mm F4 L IS USM Lens'),\n",
       " ('1624', 'Canon RF 15-30mm F4.5-6.3 IS STM Lens'),\n",
       " ('1414', 'Canon RF 15-35mm F2.8 L IS USM Lens'),\n",
       " ('1114', 'Canon EF-M 15-45mm f/3.5-6.3 IS STM Lens'),\n",
       " ('675', 'Canon EF-S 15-85mm f/3.5-5.6 IS USM Lens'),\n",
       " ('1073', 'Canon EF 16-35mm f/2.8L III USM Lens'),\n",
       " ('412', 'Canon EF 16-35mm f/2.8L II USM Lens'),\n",
       " ('114', 'Canon EF 16-35mm f/2.8L USM Lens'),\n",
       " ('949', 'Canon EF 16-35mm f/4L IS USM Lens'),\n",
       " ('100', 'Canon EF 17-40mm f/4L USM Lens'),\n",
       " ('398', 'Canon EF-S 17-55mm f/2.8 IS USM Lens'),\n",
       " ('251', 'Canon EF-S 17-85mm f/4-5.6 IS USM Lens'),\n",
       " ('1621', 'Canon RF-S 18-45mm F4.5-6.3 IS STM Lens'),\n",
       " ('836', 'Canon EF-S 18-55mm f/3.5-5.6 IS STM Lens'),\n",
       " ('763', 'Canon EF-S 18-55mm f/3.5-5.6 IS II Lens'),\n",
       " ('455', 'Canon EF-S 18-55mm f/3.5-5.6 IS Lens'),\n",
       " ('410', 'Canon EF-S 18-55mm f/3.5-5.6 II Lens'),\n",
       " ('813', 'Canon EF-M 18-55mm f/3.5-5.6 IS STM Lens'),\n",
       " ('1112', 'Canon EF-S 18-55mm f/4-5.6 IS STM Lens'),\n",
       " ('1045', 'Canon EF-S 18-135mm f/3.5-5.6 IS USM Lens'),\n",
       " ('809', 'Canon EF-S 18-135mm f/3.5-5.6 IS STM Lens'),\n",
       " ('678', 'Canon EF-S 18-135mm f/3.5-5.6 IS Lens'),\n",
       " ('1622', 'Canon RF-S 18-150mm F3.5-6.3 IS STM Lens'),\n",
       " ('1134', 'Canon EF-M 18-150mm f/3.5-6.3 IS STM Lens'),\n",
       " ('476', 'Canon EF-S 18-200mm f/3.5-5.6 IS Lens'),\n",
       " ('1642', 'Canon RF 24-50mm F4.5-6.3 IS STM Lens'),\n",
       " ('1415', 'Canon RF 24-70mm F2.8 L IS USM Lens'),\n",
       " ('787', 'Canon EF 24-70mm f/2.8L II USM Lens'),\n",
       " ('101', 'Canon EF 24-70mm f/2.8L USM Lens'),\n",
       " ('823', 'Canon EF 24-70mm f/4L IS USM Lens'),\n",
       " ('119', 'Canon EF 24-85mm f/3.5-4.5 USM Lens'),\n",
       " ('1222', 'Canon RF 24-105mm F4 L IS USM Lens'),\n",
       " ('1072', 'Canon EF 24-105mm f/4L IS II USM Lens'),\n",
       " ('355', 'Canon EF 24-105mm f/4L IS USM Lens'),\n",
       " ('961', 'Canon EF 24-105mm f/3.5-5.6 IS STM Lens'),\n",
       " ('1504', 'Canon RF 24-105mm F4-7.1 IS STM Lens'),\n",
       " ('1416', 'Canon RF 24-240mm F4-6.3 IS USM Lens'),\n",
       " ('1223', 'Canon RF 28-70mm F2 L USM Lens'),\n",
       " ('102', 'Canon EF 28-70mm f/2.8L USM Lens'),\n",
       " ('302', 'Canon EF 28-105mm f/3.5-4.5 II USM Lens'),\n",
       " ('116', 'Canon EF 28-135mm f/3.5-5.6 IS USM Lens'),\n",
       " ('286', 'Canon EF 28-200mm f/3.5-5.6 USM Lens'),\n",
       " ('295', 'Canon EF 28-300mm f/3.5-5.6L IS USM Lens'),\n",
       " ('968', 'Canon EF-M 55-200mm f/4.5-6.3 IS STM Lens'),\n",
       " ('1643', 'Canon RF-S 55-210mm F5-7.1 IS STM Lens'),\n",
       " ('856', 'Canon EF-S 55-250mm f/4-5.6 IS STM Lens'),\n",
       " ('777', 'Canon EF-S 55-250mm f/4-5.6 IS II Lens'),\n",
       " ('456', 'Canon EF-S 55-250mm f/4-5.6 IS Lens'),\n",
       " ('1417', 'Canon RF 70-200mm F2.8 L IS USM Lens'),\n",
       " ('1197', 'Canon EF 70-200mm f/2.8L IS III USM Lens'),\n",
       " ('687', 'Canon EF 70-200mm f/2.8L IS II USM Lens'),\n",
       " ('103', 'Canon EF 70-200mm f/2.8L IS USM Lens'),\n",
       " ('242', 'Canon EF 70-200mm f/2.8L USM Lens'),\n",
       " ('1529', 'Canon RF 70-200mm F4 L IS USM Lens'),\n",
       " ('1198', 'Canon EF 70-200mm f/4L IS II USM Lens'),\n",
       " ('404', 'Canon EF 70-200mm f/4L IS USM Lens'),\n",
       " ('104', 'Canon EF 70-200mm f/4L USM Lens'),\n",
       " ('738', 'Canon EF 70-300mm f/4-5.6L IS USM Lens'),\n",
       " ('1077', 'Canon EF 70-300mm f/4-5.6 IS II USM Lens'),\n",
       " ('358', 'Canon EF 70-300mm f/4-5.6 IS USM Lens'),\n",
       " ('243', 'Canon EF 70-300mm f/4.5-5.6 DO IS USM Lens'),\n",
       " ('776', 'Canon EF 75-300mm f/4-5.6 III Lens'),\n",
       " ('288', 'Canon EF 100-300mm f/4.5-5.6 USM Lens'),\n",
       " ('972', 'Canon EF 100-400mm f/4.5-5.6L IS II USM Lens'),\n",
       " ('113', 'Canon EF 100-400mm f/4.5-5.6L IS USM Lens'),\n",
       " ('1572', 'Canon RF 100-400mm F5.6-8 IS USM Lens'),\n",
       " ('1510', 'Canon RF 100-500mm F4.5-7.1 L IS USM Lens'),\n",
       " ('764', 'Canon EF 200-400mm f/4L IS USM Lens'),\n",
       " ('454', 'Canon EF 14mm f/2.8L II USM Lens'),\n",
       " ('280', 'Canon EF 14mm f/2.8L USM Lens'),\n",
       " ('1573', 'Canon RF 16mm F2.8 STM Lens'),\n",
       " ('487', 'Canon TS-E 17mm f/4L Tilt-Shift Lens'),\n",
       " ('244', 'Canon EF 20mm f/2.8 USM Lens'),\n",
       " ('814', 'Canon EF-M 22mm f/2 STM Lens'),\n",
       " ('480', 'Canon EF 24mm f/1.4L II USM Lens'),\n",
       " ('247', 'Canon EF 24mm f/1.4L USM Lens'),\n",
       " ('1625', 'Canon RF 24mm F1.8 Macro IS STM Lens'),\n",
       " ('788', 'Canon EF 24mm f/2.8 IS USM Lens'),\n",
       " ('246', 'Canon EF 24mm f/2.8 Lens'),\n",
       " ('960', 'Canon EF-S 24mm f/2.8 STM Lens'),\n",
       " ('486', 'Canon TS-E 24mm f/3.5L II Tilt-Shift Lens'),\n",
       " ('347', 'Canon TS-E 24mm f/3.5L Tilt-Shift Lens'),\n",
       " ('253', 'Canon EF 28mm f/1.8 USM Lens'),\n",
       " ('789', 'Canon EF 28mm f/2.8 IS USM Lens'),\n",
       " ('254', 'Canon EF 28mm f/2.8 Lens'),\n",
       " ('1189', 'Canon EF-M 28mm f/3.5 Macro IS STM Lens'),\n",
       " ('1228', 'Canon EF-M 32mm f/1.4 STM Lens'),\n",
       " ('994', 'Canon EF 35mm f/1.4L II USM Lens'),\n",
       " ('121', 'Canon EF 35mm f/1.4L USM Lens'),\n",
       " ('1224', 'Canon RF 35mm F1.8 IS STM Macro Lens'),\n",
       " ('824', 'Canon EF 35mm f/2 IS USM Lens'),\n",
       " ('122', 'Canon EF 35mm f/2 Lens'),\n",
       " ('1133', 'Canon EF-S 35mm f/2.8 Macro IS STM Lens'),\n",
       " ('810', 'Canon EF 40mm f/2.8 STM Lens'),\n",
       " ('348', 'Canon TS-E 45mm f/2.8 Tilt-Shift Lens'),\n",
       " ('1225', 'Canon RF 50mm F1.2 L USM Lens'),\n",
       " ('403', 'Canon EF 50mm f/1.2L USM Lens'),\n",
       " ('115', 'Canon EF 50mm f/1.4 USM Lens'),\n",
       " ('1528', 'Canon RF 50mm F1.8 STM Lens'),\n",
       " ('989', 'Canon EF 50mm f/1.8 STM Lens'),\n",
       " ('105', 'Canon EF 50mm f/1.8 II Lens'),\n",
       " ('1165', 'Canon TS-E 50mm f/2.8L Tilt-Shift Macro Lens'),\n",
       " ('287', 'Canon EF 50mm f/2.5 Macro Lens'),\n",
       " ('335', 'Canon EF-S 60mm f/2.8 Macro USM Lens'),\n",
       " ('1418', 'Canon RF 85mm F1.2 L USM Lens'),\n",
       " ('1419', 'Canon RF 85mm F1.2 L USM DS Lens'),\n",
       " ('397', 'Canon EF 85mm f/1.2L II USM Lens'),\n",
       " ('120', 'Canon EF 85mm f/1.2L USM Lens'),\n",
       " ('1168', 'Canon EF 85mm f/1.4L IS USM Lens'),\n",
       " ('106', 'Canon EF 85mm f/1.8 USM Lens'),\n",
       " ('1514', 'Canon RF 85mm F2 Macro IS STM Lens'),\n",
       " ('1166', 'Canon TS-E 90mm f/2.8L Tilt-Shift Macro Lens'),\n",
       " ('349', 'Canon TS-E 90mm f/2.8 Tilt-Shift Lens'),\n",
       " ('118', 'Canon EF 100mm f/2 USM Lens'),\n",
       " ('1554', 'Canon RF 100mm F2.8 L Macro IS USM Lens'),\n",
       " ('674', 'Canon EF 100mm f/2.8L IS USM Macro Lens'),\n",
       " ('107', 'Canon EF 100mm f/2.8 USM Macro Lens'),\n",
       " ('108', 'Canon EF 135mm f/2L USM Lens'),\n",
       " ('1167', 'Canon TS-E 135mm f/4L Tilt-Shift Macro Lens'),\n",
       " ('306', 'Canon EF 135mm f/2.8 with Softfocus Lens'),\n",
       " ('109', 'Canon EF 180mm f/3.5L USM Macro Lens'),\n",
       " ('432', 'Canon EF 200mm f/1.8 L USM Lens'),\n",
       " ('458', 'Canon EF 200mm f/2L IS USM Lens'),\n",
       " ('245', 'Canon EF 200mm f/2.8L II USM Lens'),\n",
       " ('739', 'Canon EF 300mm f/2.8L IS II USM Lens'),\n",
       " ('249', 'Canon EF 300mm f/2.8L IS USM Lens'),\n",
       " ('111', 'Canon EF 300mm f/4L IS USM Lens'),\n",
       " ('1555', 'Canon RF 400mm F2.8 L IS USM Lens'),\n",
       " ('1226', 'Canon EF 400mm f/2.8L IS III USM Lens'),\n",
       " ('741', 'Canon EF 400mm f/2.8L IS II USM Lens'),\n",
       " ('327', 'Canon EF 400mm f/2.8L IS USM Lens'),\n",
       " ('962', 'Canon EF 400mm f/4 DO IS II USM Lens'),\n",
       " ('338', 'Canon EF 400mm f/4 DO IS USM Lens'),\n",
       " ('278', 'Canon EF 400mm f/5.6L USM Lens'),\n",
       " ('745', 'Canon EF 500mm f/4L IS II USM Lens'),\n",
       " ('117', 'Canon EF 500mm f/4L IS USM Lens'),\n",
       " ('1556', 'Canon RF 600mm F4 L IS USM Lens'),\n",
       " ('1227', 'Canon EF 600mm f/4L IS III USM Lens'),\n",
       " ('748', 'Canon EF 600mm f/4L IS II USM Lens'),\n",
       " ('336', 'Canon EF 600mm f/4L IS USM Lens'),\n",
       " ('1511', 'Canon RF 600mm F11 IS STM Lens'),\n",
       " ('1597', 'Canon RF 800mm F5.6 L IS USM Lens'),\n",
       " ('459', 'Canon EF 800mm f/5.6L IS USM Lens'),\n",
       " ('1513', 'Canon RF 800mm F11 IS STM Lens'),\n",
       " ('1599', 'Canon RF 1200mm F8 L IS USM Lens')]"
      ]
     },
     "execution_count": 3,
     "metadata": {},
     "output_type": "execute_result"
    }
   ],
   "source": [
    "from urllib.parse import urlparse\n",
    "\n",
    "main = fetch(\"https://www.the-digital-picture.com/Reviews/ISO-12233-Sample-Crops.aspx\")\n",
    "available_lenses = [(o[\"value\"], o.text) for o in main.find(\"select\", {\"name\": \"Lens\"}).find_all(\"option\") if o.text.startswith(\"Canon\")]\n",
    "available_lenses"
   ]
  },
  {
   "cell_type": "code",
   "execution_count": 4,
   "id": "d10f86b7",
   "metadata": {},
   "outputs": [],
   "source": [
    "def download(url):\n",
    "    res = sess.get(url)\n",
    "    return res.content"
   ]
  },
  {
   "cell_type": "code",
   "execution_count": 5,
   "id": "64c6218c",
   "metadata": {
    "scrolled": true
   },
   "outputs": [
    {
     "name": "stderr",
     "output_type": "stream",
     "text": [
      "\r",
      "  0%|                                                                                                                                                                                                               | 0/149 [00:00<?, ?it/s]"
     ]
    },
    {
     "name": "stdout",
     "output_type": "stream",
     "text": [
      "950 Canon EF-S 10-18mm f/4.5-5.6 IS STM Lens ('963', 'Canon EOS 7D Mark II')\n",
      "675 Canon EF-S 15-85mm f/3.5-5.6 IS USM Lens ('963', 'Canon EOS 7D Mark II')\n",
      "977 Canon EF 11-24mm f/4L USM Lens ('453', 'Canon EOS-1Ds Mark III')\n",
      "1114 Canon EF-M 15-45mm f/3.5-6.3 IS STM Lens ('812', 'Canon EOS M')\n",
      "271 Canon EF-S 10-22mm f/3.5-4.5 USM Lens ('963', 'Canon EOS 7D Mark II')\n",
      "967 Canon EF-M 11-22mm f/4-5.6 IS STM Lens ('812', 'Canon EOS M')\n",
      "1073 Canon EF 16-35mm f/2.8L III USM Lens ('453', 'Canon EOS-1Ds Mark III')\n",
      "1414 Canon RF 15-35mm F2.8 L IS USM Lens ('1508', 'Canon EOS R5')\n",
      "1624 Canon RF 15-30mm F4.5-6.3 IS STM Lens ('1508', 'Canon EOS R5')\n",
      "1569 Canon RF 14-35mm F4 L IS USM Lens ('1508', 'Canon EOS R5')\n",
      "977 Canon EF 11-24mm f/4L USM Lens ('979', 'Canon EOS 5Ds R')\n",
      "1414 Canon RF 15-35mm F2.8 L IS USM Lens ('1221', 'Canon EOS R')\n"
     ]
    },
    {
     "name": "stderr",
     "output_type": "stream",
     "text": [
      "\r",
      "  1%|█▎                                                                                                                                                                                                     | 1/149 [00:20<49:47, 20.19s/it]"
     ]
    },
    {
     "name": "stdout",
     "output_type": "stream",
     "text": [
      "412 Canon EF 16-35mm f/2.8L II USM Lens ('453', 'Canon EOS-1Ds Mark III')\n"
     ]
    },
    {
     "name": "stderr",
     "output_type": "stream",
     "text": [
      "\r",
      "  1%|██▋                                                                                                                                                                                                    | 2/149 [00:26<30:05, 12.28s/it]"
     ]
    },
    {
     "name": "stdout",
     "output_type": "stream",
     "text": [
      "114 Canon EF 16-35mm f/2.8L USM Lens ('9', 'Canon EOS-1Ds Mark II')\n",
      "977 Canon EF 11-24mm f/4L USM Lens ('963', 'Canon EOS 7D Mark II')\n"
     ]
    },
    {
     "name": "stderr",
     "output_type": "stream",
     "text": [
      "\r",
      "  2%|████                                                                                                                                                                                                   | 3/149 [00:38<28:45, 11.82s/it]"
     ]
    },
    {
     "name": "stdout",
     "output_type": "stream",
     "text": [
      "949 Canon EF 16-35mm f/4L IS USM Lens ('453', 'Canon EOS-1Ds Mark III')\n",
      "950 Canon EF-S 10-18mm f/4.5-5.6 IS STM Lens ('736', 'Canon EOS 60D')\n"
     ]
    },
    {
     "name": "stderr",
     "output_type": "stream",
     "text": [
      "\r",
      "  3%|█████▎                                                                                                                                                                                                 | 4/149 [00:45<23:59,  9.93s/it]"
     ]
    },
    {
     "name": "stdout",
     "output_type": "stream",
     "text": [
      "100 Canon EF 17-40mm f/4L USM Lens ('453', 'Canon EOS-1Ds Mark III')\n",
      "271 Canon EF-S 10-22mm f/3.5-4.5 USM Lens ('736', 'Canon EOS 60D')\n",
      "977 Canon EF 11-24mm f/4L USM Lens ('1221', 'Canon EOS R')\n",
      "675 Canon EF-S 15-85mm f/3.5-5.6 IS USM Lens ('736', 'Canon EOS 60D')\n",
      "1073 Canon EF 16-35mm f/2.8L III USM Lens ('979', 'Canon EOS 5Ds R')\n",
      "412 Canon EF 16-35mm f/2.8L II USM Lens ('9', 'Canon EOS-1Ds Mark II')\n"
     ]
    },
    {
     "name": "stderr",
     "output_type": "stream",
     "text": [
      "\r",
      "  3%|██████▋                                                                                                                                                                                                | 5/149 [01:27<51:41, 21.54s/it]"
     ]
    },
    {
     "name": "stdout",
     "output_type": "stream",
     "text": [
      "398 Canon EF-S 17-55mm f/2.8 IS USM Lens ('963', 'Canon EOS 7D Mark II')\n"
     ]
    },
    {
     "name": "stderr",
     "output_type": "stream",
     "text": [
      "\r",
      "  4%|████████                                                                                                                                                                                               | 6/149 [01:30<36:01, 15.12s/it]"
     ]
    },
    {
     "name": "stdout",
     "output_type": "stream",
     "text": [
      "251 Canon EF-S 17-85mm f/4-5.6 IS USM Lens ('736', 'Canon EOS 60D')\n"
     ]
    },
    {
     "name": "stderr",
     "output_type": "stream",
     "text": [
      "\r",
      "  5%|█████████▎                                                                                                                                                                                             | 7/149 [01:31<25:20, 10.71s/it]"
     ]
    },
    {
     "name": "stdout",
     "output_type": "stream",
     "text": [
      "949 Canon EF 16-35mm f/4L IS USM Lens ('979', 'Canon EOS 5Ds R')\n",
      "1621 Canon RF-S 18-45mm F4.5-6.3 IS STM Lens ('1619', 'Canon EOS R7')\n",
      "271 Canon EF-S 10-22mm f/3.5-4.5 USM Lens ('474', 'Canon EOS 50D')\n",
      "675 Canon EF-S 15-85mm f/3.5-5.6 IS USM Lens ('474', 'Canon EOS 50D')\n",
      "100 Canon EF 17-40mm f/4L USM Lens ('979', 'Canon EOS 5Ds R')\n"
     ]
    },
    {
     "name": "stderr",
     "output_type": "stream",
     "text": [
      "\r",
      "  5%|██████████▋                                                                                                                                                                                            | 8/149 [02:13<48:13, 20.52s/it]"
     ]
    },
    {
     "name": "stdout",
     "output_type": "stream",
     "text": [
      "836 Canon EF-S 18-55mm f/3.5-5.6 IS STM Lens ('736', 'Canon EOS 60D')\n",
      "412 Canon EF 16-35mm f/2.8L II USM Lens ('979', 'Canon EOS 5Ds R')\n",
      "251 Canon EF-S 17-85mm f/4-5.6 IS USM Lens ('474', 'Canon EOS 50D')\n",
      "949 Canon EF 16-35mm f/4L IS USM Lens ('963', 'Canon EOS 7D Mark II')\n",
      "398 Canon EF-S 17-55mm f/2.8 IS USM Lens ('736', 'Canon EOS 60D')\n",
      "1073 Canon EF 16-35mm f/2.8L III USM Lens ('963', 'Canon EOS 7D Mark II')\n"
     ]
    },
    {
     "name": "stderr",
     "output_type": "stream",
     "text": [
      "\r",
      "  6%|████████████                                                                                                                                                                                           | 9/149 [02:32<46:41, 20.01s/it]"
     ]
    },
    {
     "name": "stdout",
     "output_type": "stream",
     "text": [
      "763 Canon EF-S 18-55mm f/3.5-5.6 IS II Lens ('963', 'Canon EOS 7D Mark II')\n",
      "!!!Check https://media.the-digital-picture.com/Images/Lens-Tests/ISO-12233/Canon-EF-S-15-85mm-f-3.5-5.6-IS-USM-Lens/Crop1/2009-10-19_13-34-43.jpg\n"
     ]
    },
    {
     "name": "stderr",
     "output_type": "stream",
     "text": [
      "\r",
      "  7%|█████████████▎                                                                                                                                                                                        | 10/149 [02:53<47:09, 20.35s/it]"
     ]
    },
    {
     "name": "stdout",
     "output_type": "stream",
     "text": [
      "455 Canon EF-S 18-55mm f/3.5-5.6 IS Lens ('474', 'Canon EOS 50D')\n"
     ]
    },
    {
     "name": "stderr",
     "output_type": "stream",
     "text": [
      "\r",
      "  7%|██████████████▌                                                                                                                                                                                       | 11/149 [02:54<33:32, 14.58s/it]"
     ]
    },
    {
     "name": "stdout",
     "output_type": "stream",
     "text": [
      "410 Canon EF-S 18-55mm f/3.5-5.6 II Lens ('396', 'Canon EOS 30D')\n"
     ]
    },
    {
     "name": "stderr",
     "output_type": "stream",
     "text": [
      "\r",
      "  8%|███████████████▉                                                                                                                                                                                      | 12/149 [02:56<24:46, 10.85s/it]"
     ]
    },
    {
     "name": "stdout",
     "output_type": "stream",
     "text": [
      "813 Canon EF-M 18-55mm f/3.5-5.6 IS STM Lens ('812', 'Canon EOS M')\n",
      "398 Canon EF-S 17-55mm f/2.8 IS USM Lens ('474', 'Canon EOS 50D')\n",
      "763 Canon EF-S 18-55mm f/3.5-5.6 IS II Lens ('736', 'Canon EOS 60D')\n",
      "100 Canon EF 17-40mm f/4L USM Lens ('963', 'Canon EOS 7D Mark II')\n",
      "949 Canon EF 16-35mm f/4L IS USM Lens ('736', 'Canon EOS 60D')\n",
      "251 Canon EF-S 17-85mm f/4-5.6 IS USM Lens ('396', 'Canon EOS 30D')\n",
      "455 Canon EF-S 18-55mm f/3.5-5.6 IS Lens ('452', 'Canon EOS 40D')\n"
     ]
    },
    {
     "name": "stderr",
     "output_type": "stream",
     "text": [
      "\r",
      "  9%|█████████████████▎                                                                                                                                                                                    | 13/149 [03:37<45:11, 19.93s/it]"
     ]
    },
    {
     "name": "stdout",
     "output_type": "stream",
     "text": [
      "1112 Canon EF-S 18-55mm f/4-5.6 IS STM Lens ('963', 'Canon EOS 7D Mark II')\n",
      "1073 Canon EF 16-35mm f/2.8L III USM Lens ('1221', 'Canon EOS R')\n"
     ]
    },
    {
     "name": "stderr",
     "output_type": "stream",
     "text": [
      "\r",
      "  9%|██████████████████▌                                                                                                                                                                                   | 14/149 [03:54<42:56, 19.08s/it]"
     ]
    },
    {
     "name": "stdout",
     "output_type": "stream",
     "text": [
      "1045 Canon EF-S 18-135mm f/3.5-5.6 IS USM Lens ('963', 'Canon EOS 7D Mark II')\n",
      "763 Canon EF-S 18-55mm f/3.5-5.6 IS II Lens ('474', 'Canon EOS 50D')\n"
     ]
    },
    {
     "name": "stderr",
     "output_type": "stream",
     "text": [
      "\r",
      " 10%|███████████████████▉                                                                                                                                                                                  | 15/149 [04:03<35:48, 16.03s/it]"
     ]
    },
    {
     "name": "stdout",
     "output_type": "stream",
     "text": [
      "809 Canon EF-S 18-135mm f/3.5-5.6 IS STM Lens ('963', 'Canon EOS 7D Mark II')\n",
      "412 Canon EF 16-35mm f/2.8L II USM Lens ('963', 'Canon EOS 7D Mark II')\n"
     ]
    },
    {
     "name": "stderr",
     "output_type": "stream",
     "text": [
      " 11%|██████████████████████▌                                                                                                                                                                               | 17/149 [04:20<25:00, 11.37s/it]"
     ]
    },
    {
     "name": "stdout",
     "output_type": "stream",
     "text": [
      "678 Canon EF-S 18-135mm f/3.5-5.6 IS Lens ('736', 'Canon EOS 60D')\n",
      "1622 Canon RF-S 18-150mm F3.5-6.3 IS STM Lens ('1619', 'Canon EOS R7')\n"
     ]
    },
    {
     "name": "stderr",
     "output_type": "stream",
     "text": [
      "\r",
      " 12%|███████████████████████▉                                                                                                                                                                              | 18/149 [04:24<20:05,  9.20s/it]"
     ]
    },
    {
     "name": "stdout",
     "output_type": "stream",
     "text": [
      "1134 Canon EF-M 18-150mm f/3.5-6.3 IS STM Lens ('812', 'Canon EOS M')\n"
     ]
    },
    {
     "name": "stderr",
     "output_type": "stream",
     "text": [
      "\r",
      " 13%|█████████████████████████▏                                                                                                                                                                            | 19/149 [04:25<14:22,  6.63s/it]"
     ]
    },
    {
     "name": "stdout",
     "output_type": "stream",
     "text": [
      "476 Canon EF-S 18-200mm f/3.5-5.6 IS Lens ('963', 'Canon EOS 7D Mark II')\n",
      "100 Canon EF 17-40mm f/4L USM Lens ('736', 'Canon EOS 60D')\n"
     ]
    },
    {
     "name": "stderr",
     "output_type": "stream",
     "text": [
      "\r",
      " 13%|██████████████████████████▌                                                                                                                                                                           | 20/149 [04:45<22:50, 10.63s/it]"
     ]
    },
    {
     "name": "stdout",
     "output_type": "stream",
     "text": [
      "1642 Canon RF 24-50mm F4.5-6.3 IS STM Lens ('1508', 'Canon EOS R5')\n"
     ]
    },
    {
     "name": "stderr",
     "output_type": "stream",
     "text": [
      "\r",
      " 14%|███████████████████████████▉                                                                                                                                                                          | 21/149 [04:49<18:40,  8.75s/it]"
     ]
    },
    {
     "name": "stdout",
     "output_type": "stream",
     "text": [
      "1415 Canon RF 24-70mm F2.8 L IS USM Lens ('1508', 'Canon EOS R5')\n",
      "809 Canon EF-S 18-135mm f/3.5-5.6 IS STM Lens ('736', 'Canon EOS 60D')\n"
     ]
    },
    {
     "name": "stderr",
     "output_type": "stream",
     "text": [
      "\r",
      " 15%|█████████████████████████████▏                                                                                                                                                                        | 22/149 [05:02<21:19, 10.08s/it]"
     ]
    },
    {
     "name": "stdout",
     "output_type": "stream",
     "text": [
      "1415 Canon RF 24-70mm F2.8 L IS USM Lens ('1221', 'Canon EOS R')\n",
      "787 Canon EF 24-70mm f/2.8L II USM Lens ('453', 'Canon EOS-1Ds Mark III')\n"
     ]
    },
    {
     "name": "stderr",
     "output_type": "stream",
     "text": [
      "\r",
      " 15%|██████████████████████████████▌                                                                                                                                                                       | 23/149 [05:17<23:58, 11.42s/it]"
     ]
    },
    {
     "name": "stdout",
     "output_type": "stream",
     "text": [
      "101 Canon EF 24-70mm f/2.8L USM Lens ('453', 'Canon EOS-1Ds Mark III')\n",
      "678 Canon EF-S 18-135mm f/3.5-5.6 IS Lens ('474', 'Canon EOS 50D')\n",
      "412 Canon EF 16-35mm f/2.8L II USM Lens ('736', 'Canon EOS 60D')\n",
      "100 Canon EF 17-40mm f/4L USM Lens ('474', 'Canon EOS 50D')\n"
     ]
    },
    {
     "name": "stderr",
     "output_type": "stream",
     "text": [
      "\r",
      " 16%|███████████████████████████████▉                                                                                                                                                                      | 24/149 [05:34<27:00, 12.97s/it]"
     ]
    },
    {
     "name": "stdout",
     "output_type": "stream",
     "text": [
      "823 Canon EF 24-70mm f/4L IS USM Lens ('453', 'Canon EOS-1Ds Mark III')\n",
      "476 Canon EF-S 18-200mm f/3.5-5.6 IS Lens ('736', 'Canon EOS 60D')\n"
     ]
    },
    {
     "name": "stderr",
     "output_type": "stream",
     "text": [
      "\r",
      " 17%|█████████████████████████████████▏                                                                                                                                                                    | 25/149 [05:46<26:44, 12.94s/it]"
     ]
    },
    {
     "name": "stdout",
     "output_type": "stream",
     "text": [
      "119 Canon EF 24-85mm f/3.5-4.5 USM Lens ('453', 'Canon EOS-1Ds Mark III')\n"
     ]
    },
    {
     "name": "stderr",
     "output_type": "stream",
     "text": [
      "\r",
      " 17%|██████████████████████████████████▌                                                                                                                                                                   | 26/149 [05:58<25:28, 12.43s/it]"
     ]
    },
    {
     "name": "stdout",
     "output_type": "stream",
     "text": [
      "1222 Canon RF 24-105mm F4 L IS USM Lens ('1508', 'Canon EOS R5')\n",
      "787 Canon EF 24-70mm f/2.8L II USM Lens ('979', 'Canon EOS 5Ds R')\n",
      "823 Canon EF 24-70mm f/4L IS USM Lens ('979', 'Canon EOS 5Ds R')\n",
      "1222 Canon RF 24-105mm F4 L IS USM Lens ('1221', 'Canon EOS R')\n"
     ]
    },
    {
     "name": "stderr",
     "output_type": "stream",
     "text": [
      "\r",
      " 18%|███████████████████████████████████▉                                                                                                                                                                  | 27/149 [06:20<31:21, 15.42s/it]"
     ]
    },
    {
     "name": "stdout",
     "output_type": "stream",
     "text": [
      "1072 Canon EF 24-105mm f/4L IS II USM Lens ('453', 'Canon EOS-1Ds Mark III')\n"
     ]
    },
    {
     "name": "stderr",
     "output_type": "stream",
     "text": [
      "\r",
      " 19%|█████████████████████████████████████▏                                                                                                                                                                | 28/149 [06:22<22:45, 11.28s/it]"
     ]
    },
    {
     "name": "stdout",
     "output_type": "stream",
     "text": [
      "355 Canon EF 24-105mm f/4L IS USM Lens ('453', 'Canon EOS-1Ds Mark III')\n"
     ]
    },
    {
     "name": "stderr",
     "output_type": "stream",
     "text": [
      "\r",
      " 19%|██████████████████████████████████████▌                                                                                                                                                               | 29/149 [06:32<21:59, 11.00s/it]"
     ]
    },
    {
     "name": "stdout",
     "output_type": "stream",
     "text": [
      "961 Canon EF 24-105mm f/3.5-5.6 IS STM Lens ('453', 'Canon EOS-1Ds Mark III')\n",
      "119 Canon EF 24-85mm f/3.5-4.5 USM Lens ('9', 'Canon EOS-1Ds Mark II')\n"
     ]
    },
    {
     "name": "stderr",
     "output_type": "stream",
     "text": [
      "\r",
      " 20%|███████████████████████████████████████▊                                                                                                                                                              | 30/149 [06:36<17:29,  8.82s/it]"
     ]
    },
    {
     "name": "stdout",
     "output_type": "stream",
     "text": [
      "1504 Canon RF 24-105mm F4-7.1 IS STM Lens ('1508', 'Canon EOS R5')\n"
     ]
    },
    {
     "name": "stderr",
     "output_type": "stream",
     "text": [
      "\r",
      " 21%|█████████████████████████████████████████▏                                                                                                                                                            | 31/149 [06:40<14:39,  7.46s/it]"
     ]
    },
    {
     "name": "stdout",
     "output_type": "stream",
     "text": [
      "1416 Canon RF 24-240mm F4-6.3 IS USM Lens ('1508', 'Canon EOS R5')\n",
      "476 Canon EF-S 18-200mm f/3.5-5.6 IS Lens ('474', 'Canon EOS 50D')\n",
      "1504 Canon RF 24-105mm F4-7.1 IS STM Lens ('1221', 'Canon EOS R')\n",
      "1416 Canon RF 24-240mm F4-6.3 IS USM Lens ('1221', 'Canon EOS R')\n",
      "355 Canon EF 24-105mm f/4L IS USM Lens ('979', 'Canon EOS 5Ds R')\n",
      "823 Canon EF 24-70mm f/4L IS USM Lens ('963', 'Canon EOS 7D Mark II')\n",
      "1072 Canon EF 24-105mm f/4L IS II USM Lens ('979', 'Canon EOS 5Ds R')\n"
     ]
    },
    {
     "name": "stderr",
     "output_type": "stream",
     "text": [
      "\r",
      " 21%|██████████████████████████████████████████▌                                                                                                                                                           | 32/149 [07:31<40:02, 20.54s/it]"
     ]
    },
    {
     "name": "stdout",
     "output_type": "stream",
     "text": [
      "1223 Canon RF 28-70mm F2 L USM Lens ('1508', 'Canon EOS R5')\n",
      "961 Canon EF 24-105mm f/3.5-5.6 IS STM Lens ('979', 'Canon EOS 5Ds R')\n",
      "787 Canon EF 24-70mm f/2.8L II USM Lens ('963', 'Canon EOS 7D Mark II')\n",
      "1223 Canon RF 28-70mm F2 L USM Lens ('1221', 'Canon EOS R')\n"
     ]
    },
    {
     "name": "stderr",
     "output_type": "stream",
     "text": [
      "\r",
      " 22%|███████████████████████████████████████████▊                                                                                                                                                          | 33/149 [07:57<42:56, 22.21s/it]"
     ]
    },
    {
     "name": "stdout",
     "output_type": "stream",
     "text": [
      "102 Canon EF 28-70mm f/2.8L USM Lens ('453', 'Canon EOS-1Ds Mark III')\n"
     ]
    },
    {
     "name": "stderr",
     "output_type": "stream",
     "text": [
      "\r",
      " 23%|█████████████████████████████████████████████▏                                                                                                                                                        | 34/149 [08:07<35:37, 18.58s/it]"
     ]
    },
    {
     "name": "stdout",
     "output_type": "stream",
     "text": [
      "302 Canon EF 28-105mm f/3.5-4.5 II USM Lens ('453', 'Canon EOS-1Ds Mark III')\n"
     ]
    },
    {
     "name": "stderr",
     "output_type": "stream",
     "text": [
      "\r",
      " 23%|██████████████████████████████████████████████▌                                                                                                                                                       | 35/149 [08:12<27:19, 14.38s/it]"
     ]
    },
    {
     "name": "stdout",
     "output_type": "stream",
     "text": [
      "116 Canon EF 28-135mm f/3.5-5.6 IS USM Lens ('453', 'Canon EOS-1Ds Mark III')\n",
      "823 Canon EF 24-70mm f/4L IS USM Lens ('736', 'Canon EOS 60D')\n"
     ]
    },
    {
     "name": "stderr",
     "output_type": "stream",
     "text": [
      "\r",
      " 24%|███████████████████████████████████████████████▊                                                                                                                                                      | 36/149 [08:21<23:59, 12.74s/it]"
     ]
    },
    {
     "name": "stdout",
     "output_type": "stream",
     "text": [
      "286 Canon EF 28-200mm f/3.5-5.6 USM Lens ('453', 'Canon EOS-1Ds Mark III')\n",
      "787 Canon EF 24-70mm f/2.8L II USM Lens ('736', 'Canon EOS 60D')\n"
     ]
    },
    {
     "name": "stderr",
     "output_type": "stream",
     "text": [
      "\r",
      " 25%|█████████████████████████████████████████████████▏                                                                                                                                                    | 37/149 [08:50<33:05, 17.73s/it]"
     ]
    },
    {
     "name": "stdout",
     "output_type": "stream",
     "text": [
      "295 Canon EF 28-300mm f/3.5-5.6L IS USM Lens ('453', 'Canon EOS-1Ds Mark III')\n"
     ]
    },
    {
     "name": "stderr",
     "output_type": "stream",
     "text": [
      "\r",
      " 26%|██████████████████████████████████████████████████▍                                                                                                                                                   | 38/149 [08:51<23:26, 12.67s/it]"
     ]
    },
    {
     "name": "stdout",
     "output_type": "stream",
     "text": [
      "968 Canon EF-M 55-200mm f/4.5-6.3 IS STM Lens ('812', 'Canon EOS M')\n"
     ]
    },
    {
     "name": "stderr",
     "output_type": "stream",
     "text": [
      "\r",
      " 26%|███████████████████████████████████████████████████▊                                                                                                                                                  | 39/149 [09:04<23:19, 12.72s/it]"
     ]
    },
    {
     "name": "stdout",
     "output_type": "stream",
     "text": [
      "1643 Canon RF-S 55-210mm F5-7.1 IS STM Lens ('1619', 'Canon EOS R7')\n",
      "355 Canon EF 24-105mm f/4L IS USM Lens ('963', 'Canon EOS 7D Mark II')\n",
      "1072 Canon EF 24-105mm f/4L IS II USM Lens ('963', 'Canon EOS 7D Mark II')\n",
      "116 Canon EF 28-135mm f/3.5-5.6 IS USM Lens ('9', 'Canon EOS-1Ds Mark II')\n"
     ]
    },
    {
     "name": "stderr",
     "output_type": "stream",
     "text": [
      "\r",
      " 27%|█████████████████████████████████████████████████████▏                                                                                                                                                | 40/149 [09:28<29:22, 16.17s/it]"
     ]
    },
    {
     "name": "stdout",
     "output_type": "stream",
     "text": [
      "856 Canon EF-S 55-250mm f/4-5.6 IS STM Lens ('963', 'Canon EOS 7D Mark II')\n",
      "961 Canon EF 24-105mm f/3.5-5.6 IS STM Lens ('963', 'Canon EOS 7D Mark II')\n"
     ]
    },
    {
     "name": "stderr",
     "output_type": "stream",
     "text": [
      "\r",
      " 28%|██████████████████████████████████████████████████████▍                                                                                                                                               | 41/149 [09:32<22:20, 12.41s/it]"
     ]
    },
    {
     "name": "stdout",
     "output_type": "stream",
     "text": [
      "777 Canon EF-S 55-250mm f/4-5.6 IS II Lens ('736', 'Canon EOS 60D')\n"
     ]
    },
    {
     "name": "stderr",
     "output_type": "stream",
     "text": [
      "\r",
      " 28%|███████████████████████████████████████████████████████▊                                                                                                                                              | 42/149 [09:47<23:49, 13.36s/it]"
     ]
    },
    {
     "name": "stdout",
     "output_type": "stream",
     "text": [
      "456 Canon EF-S 55-250mm f/4-5.6 IS Lens ('474', 'Canon EOS 50D')\n",
      "787 Canon EF 24-70mm f/2.8L II USM Lens ('1221', 'Canon EOS R')\n",
      "355 Canon EF 24-105mm f/4L IS USM Lens ('736', 'Canon EOS 60D')\n",
      "777 Canon EF-S 55-250mm f/4-5.6 IS II Lens ('474', 'Canon EOS 50D')\n",
      "856 Canon EF-S 55-250mm f/4-5.6 IS STM Lens ('736', 'Canon EOS 60D')\n"
     ]
    },
    {
     "name": "stderr",
     "output_type": "stream",
     "text": [
      "\r",
      " 29%|█████████████████████████████████████████████████████████▏                                                                                                                                            | 43/149 [10:27<37:24, 21.18s/it]"
     ]
    },
    {
     "name": "stdout",
     "output_type": "stream",
     "text": [
      "1417 Canon RF 70-200mm F2.8 L IS USM Lens ('1553', 'Canon EOS R3')\n",
      "295 Canon EF 28-300mm f/3.5-5.6L IS USM Lens ('979', 'Canon EOS 5Ds R')\n",
      "961 Canon EF 24-105mm f/3.5-5.6 IS STM Lens ('736', 'Canon EOS 60D')\n",
      "1072 Canon EF 24-105mm f/4L IS II USM Lens ('1221', 'Canon EOS R')\n",
      "116 Canon EF 28-135mm f/3.5-5.6 IS USM Lens ('979', 'Canon EOS 5Ds R')\n",
      "456 Canon EF-S 55-250mm f/4-5.6 IS Lens ('452', 'Canon EOS 40D')\n",
      "!!!Check https://media.the-digital-picture.com/Images/Lens-Tests/ISO-12233/Canon-RF-70-200mm-F2.8-L-IS-USM-Lens/Crop5/2021-11-04_08-08-57.jpg\n",
      "1417 Canon RF 70-200mm F2.8 L IS USM Lens ('1508', 'Canon EOS R5')\n"
     ]
    },
    {
     "name": "stderr",
     "output_type": "stream",
     "text": [
      "\r",
      " 30%|██████████████████████████████████████████████████████████▍                                                                                                                                           | 44/149 [11:14<51:00, 29.15s/it]"
     ]
    },
    {
     "name": "stdout",
     "output_type": "stream",
     "text": [
      "1197 Canon EF 70-200mm f/2.8L IS III USM Lens ('979', 'Canon EOS 5Ds R')\n",
      "1417 Canon RF 70-200mm F2.8 L IS USM Lens ('1221', 'Canon EOS R')\n"
     ]
    },
    {
     "name": "stderr",
     "output_type": "stream",
     "text": [
      "\r",
      " 30%|███████████████████████████████████████████████████████████▊                                                                                                                                          | 45/149 [11:16<35:59, 20.76s/it]"
     ]
    },
    {
     "name": "stdout",
     "output_type": "stream",
     "text": [
      "687 Canon EF 70-200mm f/2.8L IS II USM Lens ('453', 'Canon EOS-1Ds Mark III')\n"
     ]
    },
    {
     "name": "stderr",
     "output_type": "stream",
     "text": [
      "\r",
      " 31%|█████████████████████████████████████████████████████████████▏                                                                                                                                        | 46/149 [11:19<26:50, 15.64s/it]"
     ]
    },
    {
     "name": "stdout",
     "output_type": "stream",
     "text": [
      "103 Canon EF 70-200mm f/2.8L IS USM Lens ('453', 'Canon EOS-1Ds Mark III')\n"
     ]
    },
    {
     "name": "stderr",
     "output_type": "stream",
     "text": [
      "\r",
      " 32%|██████████████████████████████████████████████████████████████▍                                                                                                                                       | 47/149 [11:39<28:52, 16.99s/it]"
     ]
    },
    {
     "name": "stdout",
     "output_type": "stream",
     "text": [
      "242 Canon EF 70-200mm f/2.8L USM Lens ('453', 'Canon EOS-1Ds Mark III')\n"
     ]
    },
    {
     "name": "stderr",
     "output_type": "stream",
     "text": [
      "\r",
      " 32%|███████████████████████████████████████████████████████████████▊                                                                                                                                      | 48/149 [11:41<20:53, 12.41s/it]"
     ]
    },
    {
     "name": "stdout",
     "output_type": "stream",
     "text": [
      "1529 Canon RF 70-200mm F4 L IS USM Lens ('1508', 'Canon EOS R5')\n"
     ]
    },
    {
     "name": "stderr",
     "output_type": "stream",
     "text": [
      "\r",
      " 33%|█████████████████████████████████████████████████████████████████                                                                                                                                     | 49/149 [11:52<19:42, 11.83s/it]"
     ]
    },
    {
     "name": "stdout",
     "output_type": "stream",
     "text": [
      "1198 Canon EF 70-200mm f/4L IS II USM Lens ('453', 'Canon EOS-1Ds Mark III')\n"
     ]
    },
    {
     "name": "stderr",
     "output_type": "stream",
     "text": [
      "\r",
      " 34%|██████████████████████████████████████████████████████████████████▍                                                                                                                                   | 50/149 [11:56<15:53,  9.63s/it]"
     ]
    },
    {
     "name": "stdout",
     "output_type": "stream",
     "text": [
      "404 Canon EF 70-200mm f/4L IS USM Lens ('453', 'Canon EOS-1Ds Mark III')\n",
      "687 Canon EF 70-200mm f/2.8L IS II USM Lens ('979', 'Canon EOS 5Ds R')\n",
      "116 Canon EF 28-135mm f/3.5-5.6 IS USM Lens ('963', 'Canon EOS 7D Mark II')\n",
      "103 Canon EF 70-200mm f/2.8L IS USM Lens ('9', 'Canon EOS-1Ds Mark II')\n"
     ]
    },
    {
     "name": "stderr",
     "output_type": "stream",
     "text": [
      "\r",
      " 34%|███████████████████████████████████████████████████████████████████▊                                                                                                                                  | 51/149 [12:45<34:46, 21.29s/it]"
     ]
    },
    {
     "name": "stdout",
     "output_type": "stream",
     "text": [
      "104 Canon EF 70-200mm f/4L USM Lens ('453', 'Canon EOS-1Ds Mark III')\n"
     ]
    },
    {
     "name": "stderr",
     "output_type": "stream",
     "text": [
      "\r",
      " 35%|█████████████████████████████████████████████████████████████████████                                                                                                                                 | 52/149 [12:57<30:07, 18.63s/it]"
     ]
    },
    {
     "name": "stdout",
     "output_type": "stream",
     "text": [
      "738 Canon EF 70-300mm f/4-5.6L IS USM Lens ('453', 'Canon EOS-1Ds Mark III')\n",
      "1198 Canon EF 70-200mm f/4L IS II USM Lens ('979', 'Canon EOS 5Ds R')\n",
      "404 Canon EF 70-200mm f/4L IS USM Lens ('9', 'Canon EOS-1Ds Mark II')\n",
      "242 Canon EF 70-200mm f/2.8L USM Lens ('9', 'Canon EOS-1Ds Mark II')\n",
      "1197 Canon EF 70-200mm f/2.8L IS III USM Lens ('963', 'Canon EOS 7D Mark II')\n",
      "295 Canon EF 28-300mm f/3.5-5.6L IS USM Lens ('963', 'Canon EOS 7D Mark II')\n",
      "738 Canon EF 70-300mm f/4-5.6L IS USM Lens ('979', 'Canon EOS 5Ds R')\n",
      "116 Canon EF 28-135mm f/3.5-5.6 IS USM Lens ('736', 'Canon EOS 60D')\n",
      "104 Canon EF 70-200mm f/4L USM Lens ('9', 'Canon EOS-1Ds Mark II')\n",
      "404 Canon EF 70-200mm f/4L IS USM Lens ('979', 'Canon EOS 5Ds R')\n"
     ]
    },
    {
     "name": "stderr",
     "output_type": "stream",
     "text": [
      "\r",
      " 36%|██████████████████████████████████████████████████████████████████████▍                                                                                                                               | 53/149 [14:14<57:46, 36.11s/it]"
     ]
    },
    {
     "name": "stdout",
     "output_type": "stream",
     "text": [
      "1077 Canon EF 70-300mm f/4-5.6 IS II USM Lens ('453', 'Canon EOS-1Ds Mark III')\n",
      "242 Canon EF 70-200mm f/2.8L USM Lens ('979', 'Canon EOS 5Ds R')\n",
      "687 Canon EF 70-200mm f/2.8L IS II USM Lens ('963', 'Canon EOS 7D Mark II')\n",
      "295 Canon EF 28-300mm f/3.5-5.6L IS USM Lens ('736', 'Canon EOS 60D')\n"
     ]
    },
    {
     "name": "stderr",
     "output_type": "stream",
     "text": [
      "\r",
      " 36%|███████████████████████████████████████████████████████████████████████▊                                                                                                                              | 54/149 [14:43<53:37, 33.87s/it]"
     ]
    },
    {
     "name": "stdout",
     "output_type": "stream",
     "text": [
      "358 Canon EF 70-300mm f/4-5.6 IS USM Lens ('453', 'Canon EOS-1Ds Mark III')\n",
      "1198 Canon EF 70-200mm f/4L IS II USM Lens ('963', 'Canon EOS 7D Mark II')\n",
      "1077 Canon EF 70-300mm f/4-5.6 IS II USM Lens ('979', 'Canon EOS 5Ds R')\n",
      "116 Canon EF 28-135mm f/3.5-5.6 IS USM Lens ('474', 'Canon EOS 50D')\n",
      "104 Canon EF 70-200mm f/4L USM Lens ('979', 'Canon EOS 5Ds R')\n",
      "738 Canon EF 70-300mm f/4-5.6L IS USM Lens ('963', 'Canon EOS 7D Mark II')\n",
      "358 Canon EF 70-300mm f/4-5.6 IS USM Lens ('9', 'Canon EOS-1Ds Mark II')\n",
      "687 Canon EF 70-200mm f/2.8L IS II USM Lens ('736', 'Canon EOS 60D')\n",
      "404 Canon EF 70-200mm f/4L IS USM Lens ('963', 'Canon EOS 7D Mark II')\n"
     ]
    },
    {
     "name": "stderr",
     "output_type": "stream",
     "text": [
      "\r",
      " 37%|████████████████████████████████████████████████████████████████████████▎                                                                                                                           | 55/149 [15:56<1:11:44, 45.79s/it]"
     ]
    },
    {
     "name": "stdout",
     "output_type": "stream",
     "text": [
      "243 Canon EF 70-300mm f/4.5-5.6 DO IS USM Lens ('453', 'Canon EOS-1Ds Mark III')\n"
     ]
    },
    {
     "name": "stderr",
     "output_type": "stream",
     "text": [
      "\r",
      " 38%|██████████████████████████████████████████████████████████████████████████▍                                                                                                                           | 56/149 [16:07<54:31, 35.18s/it]"
     ]
    },
    {
     "name": "stdout",
     "output_type": "stream",
     "text": [
      "776 Canon EF 75-300mm f/4-5.6 III Lens ('453', 'Canon EOS-1Ds Mark III')\n"
     ]
    },
    {
     "name": "stderr",
     "output_type": "stream",
     "text": [
      "\r",
      " 38%|███████████████████████████████████████████████████████████████████████████▋                                                                                                                          | 57/149 [16:15<41:37, 27.14s/it]"
     ]
    },
    {
     "name": "stdout",
     "output_type": "stream",
     "text": [
      "288 Canon EF 100-300mm f/4.5-5.6 USM Lens ('453', 'Canon EOS-1Ds Mark III')\n",
      "358 Canon EF 70-300mm f/4-5.6 IS USM Lens ('979', 'Canon EOS 5Ds R')\n",
      "1077 Canon EF 70-300mm f/4-5.6 IS II USM Lens ('963', 'Canon EOS 7D Mark II')\n"
     ]
    },
    {
     "name": "stderr",
     "output_type": "stream",
     "text": [
      "\r",
      " 39%|█████████████████████████████████████████████████████████████████████████████                                                                                                                         | 58/149 [16:22<31:59, 21.10s/it]"
     ]
    },
    {
     "name": "stdout",
     "output_type": "stream",
     "text": [
      "972 Canon EF 100-400mm f/4.5-5.6L IS II USM Lens ('453', 'Canon EOS-1Ds Mark III')\n",
      "243 Canon EF 70-300mm f/4.5-5.6 DO IS USM Lens ('979', 'Canon EOS 5Ds R')\n",
      "972 Canon EF 100-400mm f/4.5-5.6L IS II USM Lens ('979', 'Canon EOS 5Ds R')\n",
      "738 Canon EF 70-300mm f/4-5.6L IS USM Lens ('736', 'Canon EOS 60D')\n",
      "972 Canon EF 100-400mm f/4.5-5.6L IS II USM Lens ('963', 'Canon EOS 7D Mark II')\n",
      "404 Canon EF 70-200mm f/4L IS USM Lens ('736', 'Canon EOS 60D')\n",
      "972 Canon EF 100-400mm f/4.5-5.6L IS II USM Lens ('736', 'Canon EOS 60D')\n",
      "776 Canon EF 75-300mm f/4-5.6 III Lens ('979', 'Canon EOS 5Ds R')\n"
     ]
    },
    {
     "name": "stderr",
     "output_type": "stream",
     "text": [
      "\r",
      " 40%|██████████████████████████████████████████████████████████████████████████████▍                                                                                                                       | 59/149 [17:06<41:51, 27.91s/it]"
     ]
    },
    {
     "name": "stdout",
     "output_type": "stream",
     "text": [
      "113 Canon EF 100-400mm f/4.5-5.6L IS USM Lens ('453', 'Canon EOS-1Ds Mark III')\n"
     ]
    },
    {
     "name": "stderr",
     "output_type": "stream",
     "text": [
      "\r",
      " 40%|███████████████████████████████████████████████████████████████████████████████▋                                                                                                                      | 60/149 [17:08<30:06, 20.30s/it]"
     ]
    },
    {
     "name": "stdout",
     "output_type": "stream",
     "text": [
      "1572 Canon RF 100-400mm F5.6-8 IS USM Lens ('1508', 'Canon EOS R5')\n",
      "242 Canon EF 70-200mm f/2.8L USM Lens ('963', 'Canon EOS 7D Mark II')\n"
     ]
    },
    {
     "name": "stderr",
     "output_type": "stream",
     "text": [
      "\r",
      " 41%|█████████████████████████████████████████████████████████████████████████████████                                                                                                                     | 61/149 [17:17<24:43, 16.85s/it]"
     ]
    },
    {
     "name": "stdout",
     "output_type": "stream",
     "text": [
      "1510 Canon RF 100-500mm F4.5-7.1 L IS USM Lens ('1508', 'Canon EOS R5')\n"
     ]
    },
    {
     "name": "stderr",
     "output_type": "stream",
     "text": [
      "\r",
      " 42%|██████████████████████████████████████████████████████████████████████████████████▍                                                                                                                   | 62/149 [17:25<20:26, 14.10s/it]"
     ]
    },
    {
     "name": "stdout",
     "output_type": "stream",
     "text": [
      "764 Canon EF 200-400mm f/4L IS USM Lens ('453', 'Canon EOS-1Ds Mark III')\n",
      "113 Canon EF 100-400mm f/4.5-5.6L IS USM Lens ('9', 'Canon EOS-1Ds Mark II')\n",
      "104 Canon EF 70-200mm f/4L USM Lens ('963', 'Canon EOS 7D Mark II')\n"
     ]
    },
    {
     "name": "stderr",
     "output_type": "stream",
     "text": [
      "\r",
      " 42%|███████████████████████████████████████████████████████████████████████████████████▋                                                                                                                  | 63/149 [17:34<18:03, 12.60s/it]"
     ]
    },
    {
     "name": "stdout",
     "output_type": "stream",
     "text": [
      "454 Canon EF 14mm f/2.8L II USM Lens ('453', 'Canon EOS-1Ds Mark III')\n",
      "113 Canon EF 100-400mm f/4.5-5.6L IS USM Lens ('736', 'Canon EOS 60D')\n",
      "358 Canon EF 70-300mm f/4-5.6 IS USM Lens ('963', 'Canon EOS 7D Mark II')\n",
      "454 Canon EF 14mm f/2.8L II USM Lens ('979', 'Canon EOS 5Ds R')\n"
     ]
    },
    {
     "name": "stderr",
     "output_type": "stream",
     "text": [
      "\r",
      " 43%|█████████████████████████████████████████████████████████████████████████████████████                                                                                                                 | 64/149 [17:51<19:33, 13.81s/it]"
     ]
    },
    {
     "name": "stdout",
     "output_type": "stream",
     "text": [
      "280 Canon EF 14mm f/2.8L USM Lens ('9', 'Canon EOS-1Ds Mark II')\n",
      "243 Canon EF 70-300mm f/4.5-5.6 DO IS USM Lens ('963', 'Canon EOS 7D Mark II')\n"
     ]
    },
    {
     "name": "stderr",
     "output_type": "stream",
     "text": [
      "\r",
      " 44%|██████████████████████████████████████████████████████████████████████████████████████▍                                                                                                               | 65/149 [17:53<14:39, 10.47s/it]"
     ]
    },
    {
     "name": "stdout",
     "output_type": "stream",
     "text": [
      "1573 Canon RF 16mm F2.8 STM Lens ('1508', 'Canon EOS R5')\n"
     ]
    },
    {
     "name": "stderr",
     "output_type": "stream",
     "text": [
      "\r",
      " 44%|███████████████████████████████████████████████████████████████████████████████████████▋                                                                                                              | 66/149 [17:59<12:31,  9.05s/it]"
     ]
    },
    {
     "name": "stdout",
     "output_type": "stream",
     "text": [
      "487 Canon TS-E 17mm f/4L Tilt-Shift Lens ('453', 'Canon EOS-1Ds Mark III')\n"
     ]
    },
    {
     "name": "stderr",
     "output_type": "stream",
     "text": [
      "\r",
      " 45%|█████████████████████████████████████████████████████████████████████████████████████████                                                                                                             | 67/149 [18:05<11:05,  8.11s/it]"
     ]
    },
    {
     "name": "stdout",
     "output_type": "stream",
     "text": [
      "244 Canon EF 20mm f/2.8 USM Lens ('453', 'Canon EOS-1Ds Mark III')\n"
     ]
    },
    {
     "name": "stderr",
     "output_type": "stream",
     "text": [
      "\r",
      " 46%|██████████████████████████████████████████████████████████████████████████████████████████▎                                                                                                           | 68/149 [18:06<08:02,  5.96s/it]"
     ]
    },
    {
     "name": "stdout",
     "output_type": "stream",
     "text": [
      "814 Canon EF-M 22mm f/2 STM Lens ('812', 'Canon EOS M')\n",
      "454 Canon EF 14mm f/2.8L II USM Lens ('963', 'Canon EOS 7D Mark II')\n",
      "244 Canon EF 20mm f/2.8 USM Lens ('979', 'Canon EOS 5Ds R')\n"
     ]
    },
    {
     "name": "stderr",
     "output_type": "stream",
     "text": [
      "\r",
      " 46%|███████████████████████████████████████████████████████████████████████████████████████████▋                                                                                                          | 69/149 [18:22<11:51,  8.90s/it]"
     ]
    },
    {
     "name": "stdout",
     "output_type": "stream",
     "text": [
      "480 Canon EF 24mm f/1.4L II USM Lens ('453', 'Canon EOS-1Ds Mark III')\n",
      "454 Canon EF 14mm f/2.8L II USM Lens ('736', 'Canon EOS 60D')\n",
      "776 Canon EF 75-300mm f/4-5.6 III Lens ('963', 'Canon EOS 7D Mark II')\n",
      "358 Canon EF 70-300mm f/4-5.6 IS USM Lens ('736', 'Canon EOS 60D')\n",
      "244 Canon EF 20mm f/2.8 USM Lens ('963', 'Canon EOS 7D Mark II')\n"
     ]
    },
    {
     "name": "stderr",
     "output_type": "stream",
     "text": [
      "\r",
      " 47%|█████████████████████████████████████████████████████████████████████████████████████████████                                                                                                         | 70/149 [18:39<15:09, 11.51s/it]"
     ]
    },
    {
     "name": "stdout",
     "output_type": "stream",
     "text": [
      "247 Canon EF 24mm f/1.4L USM Lens ('453', 'Canon EOS-1Ds Mark III')\n",
      "480 Canon EF 24mm f/1.4L II USM Lens ('979', 'Canon EOS 5Ds R')\n",
      "764 Canon EF 200-400mm f/4L IS USM Lens ('979', 'Canon EOS 5Ds R')\n"
     ]
    },
    {
     "name": "stderr",
     "output_type": "stream",
     "text": [
      "\r",
      " 48%|██████████████████████████████████████████████████████████████████████████████████████████████▎                                                                                                       | 71/149 [18:45<12:45,  9.82s/it]"
     ]
    },
    {
     "name": "stdout",
     "output_type": "stream",
     "text": [
      "1625 Canon RF 24mm F1.8 Macro IS STM Lens ('1508', 'Canon EOS R5')\n",
      "244 Canon EF 20mm f/2.8 USM Lens ('736', 'Canon EOS 60D')\n",
      "104 Canon EF 70-200mm f/4L USM Lens ('736', 'Canon EOS 60D')\n"
     ]
    },
    {
     "name": "stderr",
     "output_type": "stream",
     "text": [
      "\r",
      " 48%|███████████████████████████████████████████████████████████████████████████████████████████████▋                                                                                                      | 72/149 [18:55<12:34,  9.80s/it]"
     ]
    },
    {
     "name": "stdout",
     "output_type": "stream",
     "text": [
      "788 Canon EF 24mm f/2.8 IS USM Lens ('453', 'Canon EOS-1Ds Mark III')\n"
     ]
    },
    {
     "name": "stderr",
     "output_type": "stream",
     "text": [
      "\r",
      " 49%|█████████████████████████████████████████████████████████████████████████████████████████████████                                                                                                     | 73/149 [18:59<10:09,  8.02s/it]"
     ]
    },
    {
     "name": "stdout",
     "output_type": "stream",
     "text": [
      "246 Canon EF 24mm f/2.8 Lens ('453', 'Canon EOS-1Ds Mark III')\n"
     ]
    },
    {
     "name": "stderr",
     "output_type": "stream",
     "text": [
      "\r",
      " 50%|██████████████████████████████████████████████████████████████████████████████████████████████████▎                                                                                                   | 74/149 [19:04<08:52,  7.10s/it]"
     ]
    },
    {
     "name": "stdout",
     "output_type": "stream",
     "text": [
      "960 Canon EF-S 24mm f/2.8 STM Lens ('963', 'Canon EOS 7D Mark II')\n",
      "480 Canon EF 24mm f/1.4L II USM Lens ('963', 'Canon EOS 7D Mark II')\n",
      "788 Canon EF 24mm f/2.8 IS USM Lens ('979', 'Canon EOS 5Ds R')\n",
      "487 Canon TS-E 17mm f/4L Tilt-Shift Lens ('979', 'Canon EOS 5Ds R')\n",
      "246 Canon EF 24mm f/2.8 Lens ('9', 'Canon EOS-1Ds Mark II')\n",
      "960 Canon EF-S 24mm f/2.8 STM Lens ('736', 'Canon EOS 60D')\n",
      "243 Canon EF 70-300mm f/4.5-5.6 DO IS USM Lens ('736', 'Canon EOS 60D')\n",
      "776 Canon EF 75-300mm f/4-5.6 III Lens ('474', 'Canon EOS 50D')\n"
     ]
    },
    {
     "name": "stderr",
     "output_type": "stream",
     "text": [
      "\r",
      " 50%|███████████████████████████████████████████████████████████████████████████████████████████████████▋                                                                                                  | 75/149 [19:21<12:28, 10.12s/it]"
     ]
    },
    {
     "name": "stdout",
     "output_type": "stream",
     "text": [
      "486 Canon TS-E 24mm f/3.5L II Tilt-Shift Lens ('453', 'Canon EOS-1Ds Mark III')\n",
      "246 Canon EF 24mm f/2.8 Lens ('736', 'Canon EOS 60D')\n",
      "358 Canon EF 70-300mm f/4-5.6 IS USM Lens ('452', 'Canon EOS 40D')\n",
      "788 Canon EF 24mm f/2.8 IS USM Lens ('963', 'Canon EOS 7D Mark II')\n",
      "480 Canon EF 24mm f/1.4L II USM Lens ('736', 'Canon EOS 60D')\n"
     ]
    },
    {
     "name": "stderr",
     "output_type": "stream",
     "text": [
      "\r",
      " 51%|████████████████████████████████████████████████████████████████████████████████████████████████████▉                                                                                                 | 76/149 [19:39<15:04, 12.39s/it]"
     ]
    },
    {
     "name": "stdout",
     "output_type": "stream",
     "text": [
      "347 Canon TS-E 24mm f/3.5L Tilt-Shift Lens ('453', 'Canon EOS-1Ds Mark III')\n",
      "788 Canon EF 24mm f/2.8 IS USM Lens ('736', 'Canon EOS 60D')\n"
     ]
    },
    {
     "name": "stderr",
     "output_type": "stream",
     "text": [
      "\r",
      " 52%|██████████████████████████████████████████████████████████████████████████████████████████████████████▎                                                                                               | 77/149 [19:49<14:13, 11.85s/it]"
     ]
    },
    {
     "name": "stdout",
     "output_type": "stream",
     "text": [
      "347 Canon TS-E 24mm f/3.5L Tilt-Shift Lens ('9', 'Canon EOS-1Ds Mark II')\n",
      "253 Canon EF 28mm f/1.8 USM Lens ('453', 'Canon EOS-1Ds Mark III')\n",
      "104 Canon EF 70-200mm f/4L USM Lens ('452', 'Canon EOS 40D')\n"
     ]
    },
    {
     "name": "stderr",
     "output_type": "stream",
     "text": [
      " 53%|████████████████████████████████████████████████████████████████████████████████████████████████████████▉                                                                                             | 79/149 [20:01<09:36,  8.23s/it]"
     ]
    },
    {
     "name": "stdout",
     "output_type": "stream",
     "text": [
      "789 Canon EF 28mm f/2.8 IS USM Lens ('453', 'Canon EOS-1Ds Mark III')\n",
      "254 Canon EF 28mm f/2.8 Lens ('453', 'Canon EOS-1Ds Mark III')\n",
      "253 Canon EF 28mm f/1.8 USM Lens ('979', 'Canon EOS 5Ds R')\n"
     ]
    },
    {
     "name": "stderr",
     "output_type": "stream",
     "text": [
      "\r",
      " 54%|██████████████████████████████████████████████████████████████████████████████████████████████████████████▎                                                                                           | 80/149 [20:13<10:47,  9.38s/it]"
     ]
    },
    {
     "name": "stdout",
     "output_type": "stream",
     "text": [
      "254 Canon EF 28mm f/2.8 Lens ('736', 'Canon EOS 60D')\n",
      "1189 Canon EF-M 28mm f/3.5 Macro IS STM Lens ('812', 'Canon EOS M')\n",
      "789 Canon EF 28mm f/2.8 IS USM Lens ('979', 'Canon EOS 5Ds R')\n"
     ]
    },
    {
     "name": "stderr",
     "output_type": "stream",
     "text": [
      "\r",
      " 54%|███████████████████████████████████████████████████████████████████████████████████████████████████████████▋                                                                                          | 81/149 [20:15<08:22,  7.39s/it]"
     ]
    },
    {
     "name": "stdout",
     "output_type": "stream",
     "text": [
      "1228 Canon EF-M 32mm f/1.4 STM Lens ('1078', 'Canon EOS M5')\n"
     ]
    },
    {
     "name": "stderr",
     "output_type": "stream",
     "text": [
      "\r",
      " 55%|████████████████████████████████████████████████████████████████████████████████████████████████████████████▉                                                                                         | 82/149 [20:16<06:05,  5.45s/it]"
     ]
    },
    {
     "name": "stdout",
     "output_type": "stream",
     "text": [
      "994 Canon EF 35mm f/1.4L II USM Lens ('453', 'Canon EOS-1Ds Mark III')\n"
     ]
    },
    {
     "name": "stderr",
     "output_type": "stream",
     "text": [
      "\r",
      " 56%|██████████████████████████████████████████████████████████████████████████████████████████████████████████████▎                                                                                       | 83/149 [20:23<06:29,  5.91s/it]"
     ]
    },
    {
     "name": "stdout",
     "output_type": "stream",
     "text": [
      "121 Canon EF 35mm f/1.4L USM Lens ('453', 'Canon EOS-1Ds Mark III')\n",
      "253 Canon EF 28mm f/1.8 USM Lens ('963', 'Canon EOS 7D Mark II')\n"
     ]
    },
    {
     "name": "stderr",
     "output_type": "stream",
     "text": [
      "\r",
      " 56%|███████████████████████████████████████████████████████████████████████████████████████████████████████████████▌                                                                                      | 84/149 [20:27<05:35,  5.16s/it]"
     ]
    },
    {
     "name": "stdout",
     "output_type": "stream",
     "text": [
      "1224 Canon RF 35mm F1.8 IS STM Macro Lens ('1508', 'Canon EOS R5')\n"
     ]
    },
    {
     "name": "stderr",
     "output_type": "stream",
     "text": [
      "\r",
      " 57%|████████████████████████████████████████████████████████████████████████████████████████████████████████████████▉                                                                                     | 85/149 [20:32<05:26,  5.10s/it]"
     ]
    },
    {
     "name": "stdout",
     "output_type": "stream",
     "text": [
      "824 Canon EF 35mm f/2 IS USM Lens ('453', 'Canon EOS-1Ds Mark III')\n",
      "994 Canon EF 35mm f/1.4L II USM Lens ('979', 'Canon EOS 5Ds R')\n",
      "486 Canon TS-E 24mm f/3.5L II Tilt-Shift Lens ('979', 'Canon EOS 5Ds R')\n",
      "789 Canon EF 28mm f/2.8 IS USM Lens ('963', 'Canon EOS 7D Mark II')\n",
      "121 Canon EF 35mm f/1.4L USM Lens ('9', 'Canon EOS-1Ds Mark II')\n",
      "253 Canon EF 28mm f/1.8 USM Lens ('736', 'Canon EOS 60D')\n",
      "1224 Canon RF 35mm F1.8 IS STM Macro Lens ('1221', 'Canon EOS R')\n"
     ]
    },
    {
     "name": "stderr",
     "output_type": "stream",
     "text": [
      "\r",
      " 58%|██████████████████████████████████████████████████████████████████████████████████████████████████████████████████▎                                                                                   | 86/149 [20:44<07:37,  7.26s/it]"
     ]
    },
    {
     "name": "stdout",
     "output_type": "stream",
     "text": [
      "122 Canon EF 35mm f/2 Lens ('453', 'Canon EOS-1Ds Mark III')\n",
      "824 Canon EF 35mm f/2 IS USM Lens ('979', 'Canon EOS 5Ds R')\n"
     ]
    },
    {
     "name": "stderr",
     "output_type": "stream",
     "text": [
      "\r",
      " 58%|███████████████████████████████████████████████████████████████████████████████████████████████████████████████████▌                                                                                  | 87/149 [20:49<06:55,  6.70s/it]"
     ]
    },
    {
     "name": "stdout",
     "output_type": "stream",
     "text": [
      "1133 Canon EF-S 35mm f/2.8 Macro IS STM Lens ('963', 'Canon EOS 7D Mark II')\n",
      "994 Canon EF 35mm f/1.4L II USM Lens ('963', 'Canon EOS 7D Mark II')\n",
      "121 Canon EF 35mm f/1.4L USM Lens ('736', 'Canon EOS 60D')\n",
      "253 Canon EF 28mm f/1.8 USM Lens ('396', 'Canon EOS 30D')\n",
      "122 Canon EF 35mm f/2 Lens ('9', 'Canon EOS-1Ds Mark II')\n"
     ]
    },
    {
     "name": "stderr",
     "output_type": "stream",
     "text": [
      "\r",
      " 59%|████████████████████████████████████████████████████████████████████████████████████████████████████████████████████▉                                                                                 | 88/149 [21:01<08:25,  8.29s/it]"
     ]
    },
    {
     "name": "stdout",
     "output_type": "stream",
     "text": [
      "810 Canon EF 40mm f/2.8 STM Lens ('453', 'Canon EOS-1Ds Mark III')\n",
      "348 Canon TS-E 45mm f/2.8 Tilt-Shift Lens ('453', 'Canon EOS-1Ds Mark III')\n",
      "824 Canon EF 35mm f/2 IS USM Lens ('963', 'Canon EOS 7D Mark II')\n",
      "764 Canon EF 200-400mm f/4L IS USM Lens ('963', 'Canon EOS 7D Mark II')\n"
     ]
    },
    {
     "name": "stderr",
     "output_type": "stream",
     "text": [
      "\r",
      " 60%|███████████████████████████████████████████████████████████████████████████████████████████████████████████████████████▌                                                                              | 90/149 [21:06<05:27,  5.55s/it]"
     ]
    },
    {
     "name": "stdout",
     "output_type": "stream",
     "text": [
      "1225 Canon RF 50mm F1.2 L USM Lens ('1508', 'Canon EOS R5')\n"
     ]
    },
    {
     "name": "stderr",
     "output_type": "stream",
     "text": [
      "\r",
      " 61%|████████████████████████████████████████████████████████████████████████████████████████████████████████████████████████▉                                                                             | 91/149 [21:11<05:08,  5.33s/it]"
     ]
    },
    {
     "name": "stdout",
     "output_type": "stream",
     "text": [
      "121 Canon EF 35mm f/1.4L USM Lens ('396', 'Canon EOS 30D')\n",
      "403 Canon EF 50mm f/1.2L USM Lens ('453', 'Canon EOS-1Ds Mark III')\n",
      "122 Canon EF 35mm f/2 Lens ('736', 'Canon EOS 60D')\n"
     ]
    },
    {
     "name": "stderr",
     "output_type": "stream",
     "text": [
      "\r",
      " 62%|██████████████████████████████████████████████████████████████████████████████████████████████████████████████████████████▎                                                                           | 92/149 [21:13<04:17,  4.52s/it]"
     ]
    },
    {
     "name": "stdout",
     "output_type": "stream",
     "text": [
      "115 Canon EF 50mm f/1.4 USM Lens ('453', 'Canon EOS-1Ds Mark III')\n",
      "1225 Canon RF 50mm F1.2 L USM Lens ('1221', 'Canon EOS R')\n",
      "810 Canon EF 40mm f/2.8 STM Lens ('979', 'Canon EOS 5Ds R')\n",
      "824 Canon EF 35mm f/2 IS USM Lens ('736', 'Canon EOS 60D')\n",
      "487 Canon TS-E 17mm f/4L Tilt-Shift Lens ('963', 'Canon EOS 7D Mark II')\n"
     ]
    },
    {
     "name": "stderr",
     "output_type": "stream",
     "text": [
      "\r",
      " 62%|███████████████████████████████████████████████████████████████████████████████████████████████████████████████████████████▌                                                                          | 93/149 [21:27<06:38,  7.12s/it]"
     ]
    },
    {
     "name": "stdout",
     "output_type": "stream",
     "text": [
      "1528 Canon RF 50mm F1.8 STM Lens ('1508', 'Canon EOS R5')\n",
      "989 Canon EF 50mm f/1.8 STM Lens ('453', 'Canon EOS-1Ds Mark III')\n",
      "115 Canon EF 50mm f/1.4 USM Lens ('9', 'Canon EOS-1Ds Mark II')\n",
      "403 Canon EF 50mm f/1.2L USM Lens ('9', 'Canon EOS-1Ds Mark II')\n"
     ]
    },
    {
     "name": "stderr",
     "output_type": "stream",
     "text": [
      "\r",
      " 64%|██████████████████████████████████████████████████████████████████████████████████████████████████████████████████████████████▏                                                                       | 95/149 [21:33<04:41,  5.22s/it]"
     ]
    },
    {
     "name": "stdout",
     "output_type": "stream",
     "text": [
      "105 Canon EF 50mm f/1.8 II Lens ('453', 'Canon EOS-1Ds Mark III')\n",
      "348 Canon TS-E 45mm f/2.8 Tilt-Shift Lens ('9', 'Canon EOS-1Ds Mark II')\n",
      "989 Canon EF 50mm f/1.8 STM Lens ('979', 'Canon EOS 5Ds R')\n",
      "810 Canon EF 40mm f/2.8 STM Lens ('963', 'Canon EOS 7D Mark II')\n"
     ]
    },
    {
     "name": "stderr",
     "output_type": "stream",
     "text": [
      "\r",
      " 64%|███████████████████████████████████████████████████████████████████████████████████████████████████████████████████████████████▌                                                                      | 96/149 [21:40<04:58,  5.62s/it]"
     ]
    },
    {
     "name": "stdout",
     "output_type": "stream",
     "text": [
      "1165 Canon TS-E 50mm f/2.8L Tilt-Shift Macro Lens ('453', 'Canon EOS-1Ds Mark III')\n"
     ]
    },
    {
     "name": "stderr",
     "output_type": "stream",
     "text": [
      "\r",
      " 65%|████████████████████████████████████████████████████████████████████████████████████████████████████████████████████████████████▉                                                                     | 97/149 [21:42<04:14,  4.90s/it]"
     ]
    },
    {
     "name": "stdout",
     "output_type": "stream",
     "text": [
      "287 Canon EF 50mm f/2.5 Macro Lens ('453', 'Canon EOS-1Ds Mark III')\n",
      "115 Canon EF 50mm f/1.4 USM Lens ('979', 'Canon EOS 5Ds R')\n",
      "105 Canon EF 50mm f/1.8 II Lens ('9', 'Canon EOS-1Ds Mark II')\n",
      "403 Canon EF 50mm f/1.2L USM Lens ('979', 'Canon EOS 5Ds R')\n",
      "348 Canon TS-E 45mm f/2.8 Tilt-Shift Lens ('736', 'Canon EOS 60D')\n",
      "810 Canon EF 40mm f/2.8 STM Lens ('736', 'Canon EOS 60D')\n",
      "989 Canon EF 50mm f/1.8 STM Lens ('963', 'Canon EOS 7D Mark II')\n",
      "287 Canon EF 50mm f/2.5 Macro Lens ('9', 'Canon EOS-1Ds Mark II')\n",
      "487 Canon TS-E 17mm f/4L Tilt-Shift Lens ('736', 'Canon EOS 60D')\n",
      "105 Canon EF 50mm f/1.8 II Lens ('979', 'Canon EOS 5Ds R')\n"
     ]
    },
    {
     "name": "stderr",
     "output_type": "stream",
     "text": [
      "\r",
      " 66%|██████████████████████████████████████████████████████████████████████████████████████████████████████████████████████████████████▏                                                                   | 98/149 [22:02<07:36,  8.96s/it]"
     ]
    },
    {
     "name": "stdout",
     "output_type": "stream",
     "text": [
      "335 Canon EF-S 60mm f/2.8 Macro USM Lens ('736', 'Canon EOS 60D')\n"
     ]
    },
    {
     "name": "stderr",
     "output_type": "stream",
     "text": [
      "\r",
      " 66%|███████████████████████████████████████████████████████████████████████████████████████████████████████████████████████████████████▌                                                                  | 99/149 [22:05<05:56,  7.13s/it]"
     ]
    },
    {
     "name": "stdout",
     "output_type": "stream",
     "text": [
      "1418 Canon RF 85mm F1.2 L USM Lens ('1508', 'Canon EOS R5')\n",
      "287 Canon EF 50mm f/2.5 Macro Lens ('736', 'Canon EOS 60D')\n",
      "115 Canon EF 50mm f/1.4 USM Lens ('963', 'Canon EOS 7D Mark II')\n"
     ]
    },
    {
     "name": "stderr",
     "output_type": "stream",
     "text": [
      "\r",
      " 67%|████████████████████████████████████████████████████████████████████████████████████████████████████████████████████████████████████▏                                                                | 100/149 [22:08<04:52,  5.96s/it]"
     ]
    },
    {
     "name": "stdout",
     "output_type": "stream",
     "text": [
      "1419 Canon RF 85mm F1.2 L USM DS Lens ('1221', 'Canon EOS R')\n",
      "1418 Canon RF 85mm F1.2 L USM Lens ('1633', 'Canon EOS R6 Mark II')\n"
     ]
    },
    {
     "name": "stderr",
     "output_type": "stream",
     "text": [
      "\r",
      " 68%|█████████████████████████████████████████████████████████████████████████████████████████████████████████████████████████████████████▌                                                               | 101/149 [22:09<03:45,  4.70s/it]"
     ]
    },
    {
     "name": "stdout",
     "output_type": "stream",
     "text": [
      "397 Canon EF 85mm f/1.2L II USM Lens ('453', 'Canon EOS-1Ds Mark III')\n",
      "403 Canon EF 50mm f/1.2L USM Lens ('963', 'Canon EOS 7D Mark II')\n",
      "1165 Canon TS-E 50mm f/2.8L Tilt-Shift Macro Lens ('979', 'Canon EOS 5Ds R')\n",
      "335 Canon EF-S 60mm f/2.8 Macro USM Lens ('474', 'Canon EOS 50D')\n"
     ]
    },
    {
     "name": "stderr",
     "output_type": "stream",
     "text": [
      "\r",
      " 68%|██████████████████████████████████████████████████████████████████████████████████████████████████████████████████████████████████████▊                                                              | 102/149 [22:20<05:01,  6.41s/it]"
     ]
    },
    {
     "name": "stdout",
     "output_type": "stream",
     "text": [
      "120 Canon EF 85mm f/1.2L USM Lens ('9', 'Canon EOS-1Ds Mark II')\n",
      "105 Canon EF 50mm f/1.8 II Lens ('963', 'Canon EOS 7D Mark II')\n",
      "115 Canon EF 50mm f/1.4 USM Lens ('736', 'Canon EOS 60D')\n",
      "397 Canon EF 85mm f/1.2L II USM Lens ('9', 'Canon EOS-1Ds Mark II')\n",
      "1418 Canon RF 85mm F1.2 L USM Lens ('1619', 'Canon EOS R7')\n",
      "335 Canon EF-S 60mm f/2.8 Macro USM Lens ('396', 'Canon EOS 30D')\n",
      "403 Canon EF 50mm f/1.2L USM Lens ('736', 'Canon EOS 60D')\n"
     ]
    },
    {
     "name": "stderr",
     "output_type": "stream",
     "text": [
      "\r",
      " 69%|████████████████████████████████████████████████████████████████████████████████████████████████████████████████████████████████████████▏                                                            | 103/149 [22:30<05:48,  7.59s/it]"
     ]
    },
    {
     "name": "stdout",
     "output_type": "stream",
     "text": [
      "1168 Canon EF 85mm f/1.4L IS USM Lens ('453', 'Canon EOS-1Ds Mark III')\n"
     ]
    },
    {
     "name": "stderr",
     "output_type": "stream",
     "text": [
      " 70%|██████████████████████████████████████████████████████████████████████████████████████████████████████████████████████████████████████████▊                                                          | 105/149 [22:33<03:10,  4.32s/it]"
     ]
    },
    {
     "name": "stdout",
     "output_type": "stream",
     "text": [
      "106 Canon EF 85mm f/1.8 USM Lens ('453', 'Canon EOS-1Ds Mark III')\n",
      "1514 Canon RF 85mm F2 Macro IS STM Lens ('1508', 'Canon EOS R5')\n"
     ]
    },
    {
     "name": "stderr",
     "output_type": "stream",
     "text": [
      "\r",
      " 71%|████████████████████████████████████████████████████████████████████████████████████████████████████████████████████████████████████████████▏                                                        | 106/149 [22:43<04:21,  6.09s/it]"
     ]
    },
    {
     "name": "stdout",
     "output_type": "stream",
     "text": [
      "1166 Canon TS-E 90mm f/2.8L Tilt-Shift Macro Lens ('453', 'Canon EOS-1Ds Mark III')\n",
      "335 Canon EF-S 60mm f/2.8 Macro USM Lens ('402', 'Canon EOS Rebel XTi / 400D')\n",
      "106 Canon EF 85mm f/1.8 USM Lens ('9', 'Canon EOS-1Ds Mark II')\n",
      "397 Canon EF 85mm f/1.2L II USM Lens ('979', 'Canon EOS 5Ds R')\n",
      "1168 Canon EF 85mm f/1.4L IS USM Lens ('979', 'Canon EOS 5Ds R')\n"
     ]
    },
    {
     "name": "stderr",
     "output_type": "stream",
     "text": [
      "\r",
      " 72%|█████████████████████████████████████████████████████████████████████████████████████████████████████████████████████████████████████████████▍                                                       | 107/149 [22:49<04:07,  5.89s/it]"
     ]
    },
    {
     "name": "stdout",
     "output_type": "stream",
     "text": [
      "349 Canon TS-E 90mm f/2.8 Tilt-Shift Lens ('453', 'Canon EOS-1Ds Mark III')\n"
     ]
    },
    {
     "name": "stderr",
     "output_type": "stream",
     "text": [
      "\r",
      " 72%|██████████████████████████████████████████████████████████████████████████████████████████████████████████████████████████████████████████████▊                                                      | 108/149 [22:50<03:09,  4.61s/it]"
     ]
    },
    {
     "name": "stdout",
     "output_type": "stream",
     "text": [
      "118 Canon EF 100mm f/2 USM Lens ('453', 'Canon EOS-1Ds Mark III')\n",
      "118 Canon EF 100mm f/2 USM Lens ('9', 'Canon EOS-1Ds Mark II')\n",
      "118 Canon EF 100mm f/2 USM Lens ('979', 'Canon EOS 5Ds R')\n",
      "486 Canon TS-E 24mm f/3.5L II Tilt-Shift Lens ('963', 'Canon EOS 7D Mark II')\n"
     ]
    },
    {
     "name": "stderr",
     "output_type": "stream",
     "text": [
      "\r",
      " 73%|████████████████████████████████████████████████████████████████████████████████████████████████████████████████████████████████████████████████                                                     | 109/149 [22:56<03:22,  5.06s/it]"
     ]
    },
    {
     "name": "stdout",
     "output_type": "stream",
     "text": [
      "1554 Canon RF 100mm F2.8 L Macro IS USM Lens ('1508', 'Canon EOS R5')\n",
      "118 Canon EF 100mm f/2 USM Lens ('963', 'Canon EOS 7D Mark II')\n",
      "106 Canon EF 85mm f/1.8 USM Lens ('979', 'Canon EOS 5Ds R')\n",
      "1418 Canon RF 85mm F1.2 L USM Lens ('1640', 'Canon EOS R8')\n",
      "118 Canon EF 100mm f/2 USM Lens ('736', 'Canon EOS 60D')\n"
     ]
    },
    {
     "name": "stderr",
     "output_type": "stream",
     "text": [
      "\r",
      " 74%|█████████████████████████████████████████████████████████████████████████████████████████████████████████████████████████████████████████████████▍                                                   | 110/149 [23:03<03:37,  5.58s/it]"
     ]
    },
    {
     "name": "stdout",
     "output_type": "stream",
     "text": [
      "674 Canon EF 100mm f/2.8L IS USM Macro Lens ('453', 'Canon EOS-1Ds Mark III')\n",
      "1418 Canon RF 85mm F1.2 L USM Lens ('1620', 'Canon EOS R10')\n",
      "674 Canon EF 100mm f/2.8L IS USM Macro Lens ('979', 'Canon EOS 5Ds R')\n",
      "674 Canon EF 100mm f/2.8L IS USM Macro Lens ('963', 'Canon EOS 7D Mark II')\n",
      "674 Canon EF 100mm f/2.8L IS USM Macro Lens ('736', 'Canon EOS 60D')\n",
      "397 Canon EF 85mm f/1.2L II USM Lens ('963', 'Canon EOS 7D Mark II')\n"
     ]
    },
    {
     "name": "stderr",
     "output_type": "stream",
     "text": [
      "\r",
      " 74%|██████████████████████████████████████████████████████████████████████████████████████████████████████████████████████████████████████████████████▊                                                  | 111/149 [23:13<04:16,  6.74s/it]"
     ]
    },
    {
     "name": "stdout",
     "output_type": "stream",
     "text": [
      "107 Canon EF 100mm f/2.8 USM Macro Lens ('453', 'Canon EOS-1Ds Mark III')\n"
     ]
    },
    {
     "name": "stderr",
     "output_type": "stream",
     "text": [
      "\r",
      " 75%|████████████████████████████████████████████████████████████████████████████████████████████████████████████████████████████████████████████████████                                                 | 112/149 [23:15<03:18,  5.36s/it]"
     ]
    },
    {
     "name": "stdout",
     "output_type": "stream",
     "text": [
      "1168 Canon EF 85mm f/1.4L IS USM Lens ('963', 'Canon EOS 7D Mark II')\n",
      "107 Canon EF 100mm f/2.8 USM Macro Lens ('9', 'Canon EOS-1Ds Mark II')\n",
      "108 Canon EF 135mm f/2L USM Lens ('453', 'Canon EOS-1Ds Mark III')\n",
      "107 Canon EF 100mm f/2.8 USM Macro Lens ('979', 'Canon EOS 5Ds R')\n",
      "106 Canon EF 85mm f/1.8 USM Lens ('963', 'Canon EOS 7D Mark II')\n",
      "107 Canon EF 100mm f/2.8 USM Macro Lens ('963', 'Canon EOS 7D Mark II')\n",
      "1166 Canon TS-E 90mm f/2.8L Tilt-Shift Macro Lens ('979', 'Canon EOS 5Ds R')\n",
      "107 Canon EF 100mm f/2.8 USM Macro Lens ('736', 'Canon EOS 60D')\n"
     ]
    },
    {
     "name": "stderr",
     "output_type": "stream",
     "text": [
      "\r",
      " 76%|█████████████████████████████████████████████████████████████████████████████████████████████████████████████████████████████████████████████████████▍                                               | 113/149 [23:24<03:55,  6.54s/it]"
     ]
    },
    {
     "name": "stdout",
     "output_type": "stream",
     "text": [
      "1167 Canon TS-E 135mm f/4L Tilt-Shift Macro Lens ('453', 'Canon EOS-1Ds Mark III')\n",
      "486 Canon TS-E 24mm f/3.5L II Tilt-Shift Lens ('736', 'Canon EOS 60D')\n",
      "397 Canon EF 85mm f/1.2L II USM Lens ('736', 'Canon EOS 60D')\n"
     ]
    },
    {
     "name": "stderr",
     "output_type": "stream",
     "text": [
      "\r",
      " 77%|██████████████████████████████████████████████████████████████████████████████████████████████████████████████████████████████████████████████████████▋                                              | 114/149 [23:31<03:55,  6.73s/it]"
     ]
    },
    {
     "name": "stdout",
     "output_type": "stream",
     "text": [
      "306 Canon EF 135mm f/2.8 with Softfocus Lens ('453', 'Canon EOS-1Ds Mark III')\n",
      "1418 Canon RF 85mm F1.2 L USM Lens ('1641', 'Canon EOS R50')\n",
      "106 Canon EF 85mm f/1.8 USM Lens ('736', 'Canon EOS 60D')\n"
     ]
    },
    {
     "name": "stderr",
     "output_type": "stream",
     "text": [
      "\r",
      " 77%|████████████████████████████████████████████████████████████████████████████████████████████████████████████████████████████████████████████████████████                                             | 115/149 [23:39<03:57,  6.98s/it]"
     ]
    },
    {
     "name": "stdout",
     "output_type": "stream",
     "text": [
      "109 Canon EF 180mm f/3.5L USM Macro Lens ('453', 'Canon EOS-1Ds Mark III')\n",
      "1418 Canon RF 85mm F1.2 L USM Lens ('1221', 'Canon EOS R')\n"
     ]
    },
    {
     "name": "stderr",
     "output_type": "stream",
     "text": [
      "\r",
      " 78%|█████████████████████████████████████████████████████████████████████████████████████████████████████████████████████████████████████████████████████████▎                                           | 116/149 [23:47<04:01,  7.32s/it]"
     ]
    },
    {
     "name": "stdout",
     "output_type": "stream",
     "text": [
      "432 Canon EF 200mm f/1.8 L USM Lens ('9', 'Canon EOS-1Ds Mark II')\n"
     ]
    },
    {
     "name": "stderr",
     "output_type": "stream",
     "text": [
      "\r",
      " 79%|██████████████████████████████████████████████████████████████████████████████████████████████████████████████████████████████████████████████████████████▋                                          | 117/149 [23:51<03:22,  6.32s/it]"
     ]
    },
    {
     "name": "stdout",
     "output_type": "stream",
     "text": [
      "458 Canon EF 200mm f/2L IS USM Lens ('1455', 'Canon EOS-1D X Mark III')\n",
      "108 Canon EF 135mm f/2L USM Lens ('9', 'Canon EOS-1Ds Mark II')\n",
      "1167 Canon TS-E 135mm f/4L Tilt-Shift Macro Lens ('979', 'Canon EOS 5Ds R')\n",
      "458 Canon EF 200mm f/2L IS USM Lens ('1041', 'Canon EOS-1D X Mark II')\n"
     ]
    },
    {
     "name": "stderr",
     "output_type": "stream",
     "text": [
      "\r",
      " 79%|████████████████████████████████████████████████████████████████████████████████████████████████████████████████████████████████████████████████████████████                                         | 118/149 [24:10<05:16, 10.20s/it]"
     ]
    },
    {
     "name": "stdout",
     "output_type": "stream",
     "text": [
      "109 Canon EF 180mm f/3.5L USM Macro Lens ('979', 'Canon EOS 5Ds R')\n",
      "245 Canon EF 200mm f/2.8L II USM Lens ('453', 'Canon EOS-1Ds Mark III')\n",
      "306 Canon EF 135mm f/2.8 with Softfocus Lens ('9', 'Canon EOS-1Ds Mark II')\n",
      "349 Canon TS-E 90mm f/2.8 Tilt-Shift Lens ('9', 'Canon EOS-1Ds Mark II')\n",
      "458 Canon EF 200mm f/2L IS USM Lens ('779', 'Canon EOS-1D X')\n"
     ]
    },
    {
     "name": "stderr",
     "output_type": "stream",
     "text": [
      "\r",
      " 80%|█████████████████████████████████████████████████████████████████████████████████████████████████████████████████████████████████████████████████████████████▎                                       | 119/149 [24:27<06:03, 12.12s/it]"
     ]
    },
    {
     "name": "stdout",
     "output_type": "stream",
     "text": [
      "739 Canon EF 300mm f/2.8L IS II USM Lens ('453', 'Canon EOS-1Ds Mark III')\n",
      "108 Canon EF 135mm f/2L USM Lens ('979', 'Canon EOS 5Ds R')\n",
      "349 Canon TS-E 90mm f/2.8 Tilt-Shift Lens ('736', 'Canon EOS 60D')\n",
      "245 Canon EF 200mm f/2.8L II USM Lens ('9', 'Canon EOS-1Ds Mark II')\n",
      "458 Canon EF 200mm f/2L IS USM Lens ('453', 'Canon EOS-1Ds Mark III')\n",
      "109 Canon EF 180mm f/3.5L USM Macro Lens ('963', 'Canon EOS 7D Mark II')\n",
      "306 Canon EF 135mm f/2.8 with Softfocus Lens ('736', 'Canon EOS 60D')\n"
     ]
    },
    {
     "name": "stderr",
     "output_type": "stream",
     "text": [
      "\r",
      " 81%|██████████████████████████████████████████████████████████████████████████████████████████████████████████████████████████████████████████████████████████████▋                                      | 120/149 [24:51<07:36, 15.74s/it]"
     ]
    },
    {
     "name": "stdout",
     "output_type": "stream",
     "text": [
      "249 Canon EF 300mm f/2.8L IS USM Lens ('453', 'Canon EOS-1Ds Mark III')\n",
      "739 Canon EF 300mm f/2.8L IS II USM Lens ('979', 'Canon EOS 5Ds R')\n",
      "1165 Canon TS-E 50mm f/2.8L Tilt-Shift Macro Lens ('963', 'Canon EOS 7D Mark II')\n",
      "245 Canon EF 200mm f/2.8L II USM Lens ('411', 'Canon EOS-1D Mark III')\n",
      "109 Canon EF 180mm f/3.5L USM Macro Lens ('736', 'Canon EOS 60D')\n",
      "458 Canon EF 200mm f/2L IS USM Lens ('684', 'Canon EOS-1D Mark IV')\n",
      "245 Canon EF 200mm f/2.8L II USM Lens ('979', 'Canon EOS 5Ds R')\n",
      "249 Canon EF 300mm f/2.8L IS USM Lens ('9', 'Canon EOS-1Ds Mark II')\n"
     ]
    },
    {
     "name": "stderr",
     "output_type": "stream",
     "text": [
      "\r",
      " 81%|███████████████████████████████████████████████████████████████████████████████████████████████████████████████████████████████████████████████████████████████▉                                     | 121/149 [25:25<09:51, 21.13s/it]"
     ]
    },
    {
     "name": "stdout",
     "output_type": "stream",
     "text": [
      "111 Canon EF 300mm f/4L IS USM Lens ('453', 'Canon EOS-1Ds Mark III')\n",
      "108 Canon EF 135mm f/2L USM Lens ('963', 'Canon EOS 7D Mark II')\n",
      "458 Canon EF 200mm f/2L IS USM Lens ('411', 'Canon EOS-1D Mark III')\n"
     ]
    },
    {
     "name": "stderr",
     "output_type": "stream",
     "text": [
      "\r",
      " 82%|█████████████████████████████████████████████████████████████████████████████████████████████████████████████████████████████████████████████████████████████████▎                                   | 122/149 [25:44<09:19, 20.74s/it]"
     ]
    },
    {
     "name": "stdout",
     "output_type": "stream",
     "text": [
      "1555 Canon RF 400mm F2.8 L IS USM Lens ('1508', 'Canon EOS R5')\n"
     ]
    },
    {
     "name": "stderr",
     "output_type": "stream",
     "text": [
      "\r",
      " 83%|██████████████████████████████████████████████████████████████████████████████████████████████████████████████████████████████████████████████████████████████████▌                                  | 123/149 [25:48<06:41, 15.45s/it]"
     ]
    },
    {
     "name": "stdout",
     "output_type": "stream",
     "text": [
      "1226 Canon EF 400mm f/2.8L IS III USM Lens ('979', 'Canon EOS 5Ds R')\n",
      "249 Canon EF 300mm f/2.8L IS USM Lens ('411', 'Canon EOS-1D Mark III')\n",
      "111 Canon EF 300mm f/4L IS USM Lens ('9', 'Canon EOS-1Ds Mark II')\n",
      "739 Canon EF 300mm f/2.8L IS II USM Lens ('963', 'Canon EOS 7D Mark II')\n",
      "458 Canon EF 200mm f/2L IS USM Lens ('1074', 'Canon EOS 5D Mark IV')\n"
     ]
    },
    {
     "name": "stderr",
     "output_type": "stream",
     "text": [
      "\r",
      " 83%|███████████████████████████████████████████████████████████████████████████████████████████████████████████████████████████████████████████████████████████████████▉                                 | 124/149 [26:03<06:22, 15.31s/it]"
     ]
    },
    {
     "name": "stdout",
     "output_type": "stream",
     "text": [
      "741 Canon EF 400mm f/2.8L IS II USM Lens ('453', 'Canon EOS-1Ds Mark III')\n",
      "458 Canon EF 200mm f/2L IS USM Lens ('980', 'Canon EOS 5Ds')\n",
      "111 Canon EF 300mm f/4L IS USM Lens ('979', 'Canon EOS 5Ds R')\n",
      "1166 Canon TS-E 90mm f/2.8L Tilt-Shift Macro Lens ('963', 'Canon EOS 7D Mark II')\n",
      "108 Canon EF 135mm f/2L USM Lens ('736', 'Canon EOS 60D')\n",
      "1167 Canon TS-E 135mm f/4L Tilt-Shift Macro Lens ('963', 'Canon EOS 7D Mark II')\n",
      "245 Canon EF 200mm f/2.8L II USM Lens ('356', 'Canon EOS 5D')\n",
      "739 Canon EF 300mm f/2.8L IS II USM Lens ('736', 'Canon EOS 60D')\n",
      "741 Canon EF 400mm f/2.8L IS II USM Lens ('979', 'Canon EOS 5Ds R')\n",
      "245 Canon EF 200mm f/2.8L II USM Lens ('963', 'Canon EOS 7D Mark II')\n",
      "458 Canon EF 200mm f/2L IS USM Lens ('979', 'Canon EOS 5Ds R')\n"
     ]
    },
    {
     "name": "stderr",
     "output_type": "stream",
     "text": [
      "\r",
      " 84%|█████████████████████████████████████████████████████████████████████████████████████████████████████████████████████████████████████████████████████████████████████▎                               | 125/149 [26:46<09:32, 23.85s/it]"
     ]
    },
    {
     "name": "stdout",
     "output_type": "stream",
     "text": [
      "327 Canon EF 400mm f/2.8L IS USM Lens ('453', 'Canon EOS-1Ds Mark III')\n",
      "1226 Canon EF 400mm f/2.8L IS III USM Lens ('963', 'Canon EOS 7D Mark II')\n"
     ]
    },
    {
     "name": "stderr",
     "output_type": "stream",
     "text": [
      "\r",
      " 85%|██████████████████████████████████████████████████████████████████████████████████████████████████████████████████████████████████████████████████████████████████████▌                              | 126/149 [26:52<07:01, 18.32s/it]"
     ]
    },
    {
     "name": "stdout",
     "output_type": "stream",
     "text": [
      "962 Canon EF 400mm f/4 DO IS II USM Lens ('453', 'Canon EOS-1Ds Mark III')\n"
     ]
    },
    {
     "name": "stderr",
     "output_type": "stream",
     "text": [
      "\r",
      " 85%|███████████████████████████████████████████████████████████████████████████████████████████████████████████████████████████████████████████████████████████████████████▉                             | 127/149 [26:53<04:51, 13.24s/it]"
     ]
    },
    {
     "name": "stdout",
     "output_type": "stream",
     "text": [
      "338 Canon EF 400mm f/4 DO IS USM Lens ('453', 'Canon EOS-1Ds Mark III')\n",
      "111 Canon EF 300mm f/4L IS USM Lens ('963', 'Canon EOS 7D Mark II')\n"
     ]
    },
    {
     "name": "stderr",
     "output_type": "stream",
     "text": [
      "\r",
      " 86%|█████████████████████████████████████████████████████████████████████████████████████████████████████████████████████████████████████████████████████████████████████████▏                           | 128/149 [26:54<03:19,  9.48s/it]"
     ]
    },
    {
     "name": "stdout",
     "output_type": "stream",
     "text": [
      "278 Canon EF 400mm f/5.6L USM Lens ('453', 'Canon EOS-1Ds Mark III')\n"
     ]
    },
    {
     "name": "stderr",
     "output_type": "stream",
     "text": [
      "\r",
      " 87%|██████████████████████████████████████████████████████████████████████████████████████████████████████████████████████████████████████████████████████████████████████████▌                          | 129/149 [26:57<02:32,  7.64s/it]"
     ]
    },
    {
     "name": "stdout",
     "output_type": "stream",
     "text": [
      "745 Canon EF 500mm f/4L IS II USM Lens ('453', 'Canon EOS-1Ds Mark III')\n"
     ]
    },
    {
     "name": "stderr",
     "output_type": "stream",
     "text": [
      "\r",
      " 87%|███████████████████████████████████████████████████████████████████████████████████████████████████████████████████████████████████████████████████████████████████████████▉                         | 130/149 [27:03<02:17,  7.22s/it]"
     ]
    },
    {
     "name": "stdout",
     "output_type": "stream",
     "text": [
      "117 Canon EF 500mm f/4L IS USM Lens ('453', 'Canon EOS-1Ds Mark III')\n",
      "741 Canon EF 400mm f/2.8L IS II USM Lens ('963', 'Canon EOS 7D Mark II')\n",
      "245 Canon EF 200mm f/2.8L II USM Lens ('736', 'Canon EOS 60D')\n",
      "278 Canon EF 400mm f/5.6L USM Lens ('9', 'Canon EOS-1Ds Mark II')\n",
      "962 Canon EF 400mm f/4 DO IS II USM Lens ('979', 'Canon EOS 5Ds R')\n",
      "327 Canon EF 400mm f/2.8L IS USM Lens ('9', 'Canon EOS-1Ds Mark II')\n",
      "338 Canon EF 400mm f/4 DO IS USM Lens ('9', 'Canon EOS-1Ds Mark II')\n",
      "745 Canon EF 500mm f/4L IS II USM Lens ('979', 'Canon EOS 5Ds R')\n"
     ]
    },
    {
     "name": "stderr",
     "output_type": "stream",
     "text": [
      " 89%|██████████████████████████████████████████████████████████████████████████████████████████████████████████████████████████████████████████████████████████████████████████████▌                      | 132/149 [27:26<02:21,  8.30s/it]"
     ]
    },
    {
     "name": "stdout",
     "output_type": "stream",
     "text": [
      "1556 Canon RF 600mm F4 L IS USM Lens ('1508', 'Canon EOS R5')\n",
      "1227 Canon EF 600mm f/4L IS III USM Lens ('979', 'Canon EOS 5Ds R')\n",
      "278 Canon EF 400mm f/5.6L USM Lens ('979', 'Canon EOS 5Ds R')\n"
     ]
    },
    {
     "name": "stderr",
     "output_type": "stream",
     "text": [
      " 90%|█████████████████████████████████████████████████████████████████████████████████████████████████████████████████████████████████████████████████████████████████████████████████▏                   | 134/149 [27:33<01:23,  5.57s/it]"
     ]
    },
    {
     "name": "stdout",
     "output_type": "stream",
     "text": [
      "748 Canon EF 600mm f/4L IS II USM Lens ('453', 'Canon EOS-1Ds Mark III')\n",
      "336 Canon EF 600mm f/4L IS USM Lens ('453', 'Canon EOS-1Ds Mark III')\n"
     ]
    },
    {
     "name": "stderr",
     "output_type": "stream",
     "text": [
      "\r",
      " 91%|██████████████████████████████████████████████████████████████████████████████████████████████████████████████████████████████████████████████████████████████████████████████████▍                  | 135/149 [27:37<01:10,  5.02s/it]"
     ]
    },
    {
     "name": "stdout",
     "output_type": "stream",
     "text": [
      "1511 Canon RF 600mm F11 IS STM Lens ('1508', 'Canon EOS R5')\n"
     ]
    },
    {
     "name": "stderr",
     "output_type": "stream",
     "text": [
      "\r",
      " 91%|███████████████████████████████████████████████████████████████████████████████████████████████████████████████████████████████████████████████████████████████████████████████████▊                 | 136/149 [27:38<00:51,  3.93s/it]"
     ]
    },
    {
     "name": "stdout",
     "output_type": "stream",
     "text": [
      "1597 Canon RF 800mm F5.6 L IS USM Lens ('1508', 'Canon EOS R5')\n",
      "741 Canon EF 400mm f/2.8L IS II USM Lens ('736', 'Canon EOS 60D')\n",
      "245 Canon EF 200mm f/2.8L II USM Lens ('474', 'Canon EOS 50D')\n",
      "458 Canon EF 200mm f/2L IS USM Lens ('792', 'Canon EOS 5D Mark III')\n",
      "745 Canon EF 500mm f/4L IS II USM Lens ('963', 'Canon EOS 7D Mark II')\n"
     ]
    },
    {
     "name": "stderr",
     "output_type": "stream",
     "text": [
      "\r",
      " 92%|█████████████████████████████████████████████████████████████████████████████████████████████████████████████████████████████████████████████████████████████████████████████████████▏               | 137/149 [28:02<01:58,  9.84s/it]"
     ]
    },
    {
     "name": "stdout",
     "output_type": "stream",
     "text": [
      "459 Canon EF 800mm f/5.6L IS USM Lens ('453', 'Canon EOS-1Ds Mark III')\n",
      "748 Canon EF 600mm f/4L IS II USM Lens ('979', 'Canon EOS 5Ds R')\n",
      "245 Canon EF 200mm f/2.8L II USM Lens ('452', 'Canon EOS 40D')\n",
      "962 Canon EF 400mm f/4 DO IS II USM Lens ('963', 'Canon EOS 7D Mark II')\n",
      "458 Canon EF 200mm f/2L IS USM Lens ('479', 'Canon EOS 5D Mark II')\n",
      "278 Canon EF 400mm f/5.6L USM Lens ('963', 'Canon EOS 7D Mark II')\n"
     ]
    },
    {
     "name": "stderr",
     "output_type": "stream",
     "text": [
      "\r",
      " 93%|██████████████████████████████████████████████████████████████████████████████████████████████████████████████████████████████████████████████████████████████████████████████████████▍              | 138/149 [28:09<01:39,  9.06s/it]"
     ]
    },
    {
     "name": "stdout",
     "output_type": "stream",
     "text": [
      "1513 Canon RF 800mm F11 IS STM Lens ('1508', 'Canon EOS R5')\n"
     ]
    },
    {
     "name": "stderr",
     "output_type": "stream",
     "text": [
      "\r",
      " 93%|███████████████████████████████████████████████████████████████████████████████████████████████████████████████████████████████████████████████████████████████████████████████████████▊             | 139/149 [28:10<01:06,  6.65s/it]"
     ]
    },
    {
     "name": "stdout",
     "output_type": "stream",
     "text": [
      "1599 Canon RF 1200mm F8 L IS USM Lens ('1508', 'Canon EOS R5')\n"
     ]
    },
    {
     "name": "stderr",
     "output_type": "stream",
     "text": [
      "\r",
      " 94%|█████████████████████████████████████████████████████████████████████████████████████████████████████████████████████████████████████████████████████████████████████████████████████████            | 140/149 [28:14<00:52,  5.80s/it]"
     ]
    },
    {
     "name": "stdout",
     "output_type": "stream",
     "text": [
      "1227 Canon EF 600mm f/4L IS III USM Lens ('963', 'Canon EOS 7D Mark II')\n"
     ]
    },
    {
     "name": "stderr",
     "output_type": "stream",
     "text": [
      "\r",
      " 95%|██████████████████████████████████████████████████████████████████████████████████████████████████████████████████████████████████████████████████████████████████████████████████████████▍          | 141/149 [28:18<00:41,  5.20s/it]"
     ]
    },
    {
     "name": "stdout",
     "output_type": "stream",
     "text": [
      "245 Canon EF 200mm f/2.8L II USM Lens ('396', 'Canon EOS 30D')\n",
      "458 Canon EF 200mm f/2L IS USM Lens ('1140', 'Canon EOS 6D Mark II')\n"
     ]
    },
    {
     "name": "stderr",
     "output_type": "stream",
     "text": [
      "\r",
      " 95%|███████████████████████████████████████████████████████████████████████████████████████████████████████████████████████████████████████████████████████████████████████████████████████████▋         | 142/149 [28:23<00:36,  5.22s/it]"
     ]
    },
    {
     "name": "stdout",
     "output_type": "stream",
     "text": [
      "278 Canon EF 400mm f/5.6L USM Lens ('736', 'Canon EOS 60D')\n",
      "745 Canon EF 500mm f/4L IS II USM Lens ('736', 'Canon EOS 60D')\n",
      "245 Canon EF 200mm f/2.8L II USM Lens ('460', 'Canon EOS Rebel XSi / 450D')\n"
     ]
    },
    {
     "name": "stderr",
     "output_type": "stream",
     "text": [
      "\r",
      " 96%|█████████████████████████████████████████████████████████████████████████████████████████████████████████████████████████████████████████████████████████████████████████████████████████████        | 143/149 [28:34<00:42,  7.10s/it]"
     ]
    },
    {
     "name": "stdout",
     "output_type": "stream",
     "text": [
      "458 Canon EF 200mm f/2L IS USM Lens ('819', 'Canon EOS 6D')\n",
      "245 Canon EF 200mm f/2.8L II USM Lens ('465', 'Canon EOS Rebel XS / 1000D')\n"
     ]
    },
    {
     "name": "stderr",
     "output_type": "stream",
     "text": [
      "\r",
      " 97%|██████████████████████████████████████████████████████████████████████████████████████████████████████████████████████████████████████████████████████████████████████████████████████████████▍      | 144/149 [28:48<00:45,  9.13s/it]"
     ]
    },
    {
     "name": "stdout",
     "output_type": "stream",
     "text": [
      "458 Canon EF 200mm f/2L IS USM Lens ('963', 'Canon EOS 7D Mark II')\n"
     ]
    },
    {
     "name": "stderr",
     "output_type": "stream",
     "text": [
      "\r",
      " 97%|███████████████████████████████████████████████████████████████████████████████████████████████████████████████████████████████████████████████████████████████████████████████████████████████▋     | 145/149 [28:53<00:31,  7.78s/it]"
     ]
    },
    {
     "name": "stdout",
     "output_type": "stream",
     "text": [
      "748 Canon EF 600mm f/4L IS II USM Lens ('963', 'Canon EOS 7D Mark II')\n",
      "245 Canon EF 200mm f/2.8L II USM Lens ('402', 'Canon EOS Rebel XTi / 400D')\n"
     ]
    },
    {
     "name": "stderr",
     "output_type": "stream",
     "text": [
      "\r",
      " 98%|█████████████████████████████████████████████████████████████████████████████████████████████████████████████████████████████████████████████████████████████████████████████████████████████████    | 146/149 [28:59<00:21,  7.30s/it]"
     ]
    },
    {
     "name": "stdout",
     "output_type": "stream",
     "text": [
      "458 Canon EF 200mm f/2L IS USM Lens ('673', 'Canon EOS 7D')\n"
     ]
    },
    {
     "name": "stderr",
     "output_type": "stream",
     "text": [
      "\r",
      " 99%|██████████████████████████████████████████████████████████████████████████████████████████████████████████████████████████████████████████████████████████████████████████████████████████████████▎  | 147/149 [29:12<00:17,  8.87s/it]"
     ]
    },
    {
     "name": "stdout",
     "output_type": "stream",
     "text": [
      "458 Canon EF 200mm f/2L IS USM Lens ('1443', 'Canon EOS 90D')\n",
      "748 Canon EF 600mm f/4L IS II USM Lens ('736', 'Canon EOS 60D')\n",
      "458 Canon EF 200mm f/2L IS USM Lens ('1044', 'Canon EOS 80D')\n",
      "458 Canon EF 200mm f/2L IS USM Lens ('845', 'Canon EOS 70D')\n"
     ]
    },
    {
     "name": "stderr",
     "output_type": "stream",
     "text": [
      "\r",
      " 99%|███████████████████████████████████████████████████████████████████████████████████████████████████████████████████████████████████████████████████████████████████████████████████████████████████▋ | 148/149 [29:55<00:19, 19.25s/it]"
     ]
    },
    {
     "name": "stdout",
     "output_type": "stream",
     "text": [
      "458 Canon EF 200mm f/2L IS USM Lens ('736', 'Canon EOS 60D')\n",
      "458 Canon EF 200mm f/2L IS USM Lens ('474', 'Canon EOS 50D')\n",
      "458 Canon EF 200mm f/2L IS USM Lens ('1110', 'Canon EOS 77D')\n",
      "458 Canon EF 200mm f/2L IS USM Lens ('982', 'Canon EOS Rebel T6s / 760D')\n",
      "458 Canon EF 200mm f/2L IS USM Lens ('1111', 'Canon EOS Rebel T7i / 800D')\n",
      "458 Canon EF 200mm f/2L IS USM Lens ('981', 'Canon EOS Rebel T6i / 750D')\n",
      "458 Canon EF 200mm f/2L IS USM Lens ('834', 'Canon EOS Rebel T5i / 700D')\n",
      "458 Canon EF 200mm f/2L IS USM Lens ('808', 'Canon EOS Rebel T4i / 650D')\n",
      "458 Canon EF 200mm f/2L IS USM Lens ('759', 'Canon EOS Rebel T3i / 600D')\n",
      "458 Canon EF 200mm f/2L IS USM Lens ('688', 'Canon EOS Rebel T2i / 550D')\n",
      "458 Canon EF 200mm f/2L IS USM Lens ('488', 'Canon EOS Rebel T1i / 500D')\n",
      "458 Canon EF 200mm f/2L IS USM Lens ('1049', 'Canon EOS Rebel T6 / 1300D')\n",
      "458 Canon EF 200mm f/2L IS USM Lens ('932', 'Canon EOS Rebel T5 / 1200D')\n",
      "458 Canon EF 200mm f/2L IS USM Lens ('760', 'Canon EOS Rebel T3 / 1100D')\n",
      "458 Canon EF 200mm f/2L IS USM Lens ('460', 'Canon EOS Rebel XSi / 450D')\n",
      "458 Canon EF 200mm f/2L IS USM Lens ('465', 'Canon EOS Rebel XS / 1000D')\n",
      "458 Canon EF 200mm f/2L IS USM Lens ('1141', 'Canon EOS Rebel SL2 / 200D')\n",
      "458 Canon EF 200mm f/2L IS USM Lens ('835', 'Canon EOS Rebel SL1 / 100D')\n",
      "458 Canon EF 200mm f/2L IS USM Lens ('1508', 'Canon EOS R5')\n",
      "458 Canon EF 200mm f/2L IS USM Lens ('1509', 'Canon EOS R6')\n",
      "458 Canon EF 200mm f/2L IS USM Lens ('1221', 'Canon EOS R')\n",
      "458 Canon EF 200mm f/2L IS USM Lens ('1412', 'Canon EOS RP')\n",
      "458 Canon EF 200mm f/2L IS USM Lens ('1078', 'Canon EOS M5')\n",
      "458 Canon EF 200mm f/2L IS USM Lens ('1446', 'Canon EOS M6 Mark II')\n",
      "458 Canon EF 200mm f/2L IS USM Lens ('1109', 'Canon EOS M6')\n",
      "458 Canon EF 200mm f/2L IS USM Lens ('995', 'Canon EOS M3')\n",
      "458 Canon EF 200mm f/2L IS USM Lens ('1186', 'Canon EOS M50')\n",
      "458 Canon EF 200mm f/2L IS USM Lens ('812', 'Canon EOS M')\n",
      "458 Canon EF 200mm f/2L IS USM Lens ('1538', 'Sony Alpha 1')\n",
      "458 Canon EF 200mm f/2L IS USM Lens ('1442', 'Sony Alpha 7R IV, IVA')\n",
      "458 Canon EF 200mm f/2L IS USM Lens ('1175', 'Sony Alpha 7R III, IIIA')\n",
      "458 Canon EF 200mm f/2L IS USM Lens ('1106', 'Sony Alpha 7R II')\n",
      "458 Canon EF 200mm f/2L IS USM Lens ('1194', 'Sony Alpha 7 III')\n"
     ]
    },
    {
     "name": "stderr",
     "output_type": "stream",
     "text": [
      "100%|█████████████████████████████████████████████████████████████████████████████████████████████████████████████████████████████████████████████████████████████████████████████████████████████████████| 149/149 [39:58<00:00, 16.10s/it]\n"
     ]
    }
   ],
   "source": [
    "import os\n",
    "from tqdm import tqdm\n",
    "import threading\n",
    "\n",
    "img_path = \"lenses\"\n",
    "\n",
    "all_images = []\n",
    "_lock = threading.RLock()\n",
    "\n",
    "def clean(s):\n",
    "    return s.replace(\"/\", \"\").replace(\" \", \"\").strip().replace(\"LensImageQuality\", \"\")\n",
    "\n",
    "def add_from(lens, aperture, focal, camera):\n",
    "    u = f\"https://www.the-digital-picture.com/Reviews/ISO-12233-Sample-Crops.aspx?Lens={lens}&FLI={focal[0]}&API={aperture[0]}&Camera={camera[0]}\"\n",
    "    res = fetch(u)\n",
    "    title = res.find(\"h1\").get_text().strip()\n",
    "    images = [i for i in res.find(\"div\", {\"id\": \"Main\"}).find_all(\"img\") if i.get(\"id\", None) is not None]\n",
    "    \n",
    "    ap_name = clean(aperture[1])\n",
    "    f_name = clean(focal[1])\n",
    "    c_title = clean(title)\n",
    "    cam_name = clean(camera[1])\n",
    "    \n",
    "    img_p = f\"{img_path}/{lens}-{c_title}/{cam_name}/{f_name}/{ap_name}\"\n",
    "    \n",
    "    with _lock:\n",
    "        os.makedirs(img_p, exist_ok=True)\n",
    "        \n",
    "    for img in images:\n",
    "        src = img[\"src\"]\n",
    "        ix = src.split(\"/\")[-2]\n",
    "        img_pp = f\"{img_p}/{ix}.jpg\"\n",
    "        with _lock:\n",
    "            all_images.append({\n",
    "                \"lens\": lens,\n",
    "                \"title\": c_title,\n",
    "                \"aperture\": ap_name,\n",
    "                \"focal_length\": f_name,\n",
    "                \"img_location\": img_pp,\n",
    "                \"img_url\": src,\n",
    "                \"crop_name\": ix,\n",
    "                \"camera\": cam_name,\n",
    "            })\n",
    "        \n",
    "        with _lock:\n",
    "            if os.path.exists(img_pp):\n",
    "                continue\n",
    "                \n",
    "        b_data = download(src)\n",
    "        if len(b_data) < 1000:\n",
    "            print(\"!!!Check\", src)\n",
    "            \n",
    "        with _lock:\n",
    "            with open(img_pp, \"wb\") as f:\n",
    "                f.write(b_data)\n",
    "\n",
    "from concurrent.futures import ThreadPoolExecutor, as_completed\n",
    "\n",
    "\n",
    "def one_lens(args):\n",
    "    lens_id, name = args\n",
    "    res = fetch(f\"https://www.the-digital-picture.com/Reviews/ISO-12233-Sample-Crops.aspx?Lens={lens_id}&FLI=0&API=0&Camera=0\")\n",
    "\n",
    "    available_fli = [(o[\"value\"], o.text) for o in res.find(\"select\", {\"name\": \"FLI\"}).find_all(\"option\")]\n",
    "    available_cam = [(o[\"value\"], o.text) for o in res.find(\"select\", {\"name\": \"Camera\"}).find_all(\"option\")]\n",
    "    for cam in available_cam:\n",
    "        with _lock:\n",
    "            print(lens_id, name, cam)\n",
    "        for focal in available_fli:\n",
    "            res3 = fetch(f\"https://www.the-digital-picture.com/Reviews/ISO-12233-Sample-Crops.aspx?Lens={lens_id}&FLI={focal[0]}&API=0&Camera={cam[0]}\")\n",
    "            available_api = [(o[\"value\"], o.text) for o in res3.find(\"select\", {\"name\": \"API\"}).find_all(\"option\")]\n",
    "\n",
    "            for aperture in available_api:\n",
    "                add_from(lens_id, aperture, focal, cam)\n",
    "                \n",
    "with ThreadPoolExecutor(10) as tpe:\n",
    "    futures = []\n",
    "    for l in available_lenses:\n",
    "        futures.append(tpe.submit(one_lens, l))\n",
    "    \n",
    "    for res in tqdm(as_completed(futures), total=len(futures)):\n",
    "        pass"
   ]
  },
  {
   "cell_type": "markdown",
   "id": "0cec4223",
   "metadata": {},
   "source": [
    "# Interesting Code Begins Here"
   ]
  },
  {
   "cell_type": "code",
   "execution_count": 168,
   "id": "ae3589e1",
   "metadata": {},
   "outputs": [],
   "source": [
    "import pandas as pd\n",
    "img_data = pd.DataFrame(all_images)\n",
    "img_data = img_data.loc[img_data.focal_length.str.contains(\"^\\d+mm$\", regex=True)]\n",
    "img_data.loc[:, \"focal_length_int\"] = img_data.focal_length.str.replace(\"mm\", \"\").astype(int)\n",
    "img_data.loc[:, \"aperture_float\"] = img_data.aperture.str.replace(\"f\", \"\").astype(float)\n",
    "dt = img_data.img_url.str.split(\"/\").str[-1].str.replace(\"_1_1.jpg\", \"\", regex=False).str.replace(\"_1.jpg\", \"\", regex=False).str.replace(\".jpg\", \"\", regex=False).str.replace(\"b\", \"\", regex=False).str.replace(\"-B\", \"\", regex=False).str.replace(\"-\", \" \", regex=False).str.replace(\":\", \" \", regex=False).str.replace(\"_\", \" \", regex=False)\n",
    "\n",
    "img_data.loc[:, \"upload_date\"] = pd.to_datetime(dt, format=\"%Y %m %d %H %M %S\", errors=\"coerce\")\n",
    "img_data.to_pickle(f\"{img_path}/lenses.pkl\")"
   ]
  },
  {
   "cell_type": "code",
   "execution_count": 169,
   "id": "806173db",
   "metadata": {},
   "outputs": [
    {
     "data": {
      "text/plain": [
       "camera\n",
       "CanonEOS30D             6\n",
       "CanonEOSM               8\n",
       "CanonEOS50D            16\n",
       "CanonEOSR              16\n",
       "CanonEOSR5             28\n",
       "CanonEOS-1DsMarkII     35\n",
       "CanonEOS5DsR           62\n",
       "CanonEOS60D            64\n",
       "CanonEOS7DMarkII       74\n",
       "CanonEOS-1DsMarkIII    83\n",
       "Name: title, dtype: int64"
      ]
     },
     "execution_count": 169,
     "metadata": {},
     "output_type": "execute_result"
    }
   ],
   "source": [
    "# most used camera bodies wrt their lens coverage\n",
    "img_data.groupby(\"camera\").title.nunique().sort_values().tail(10)"
   ]
  },
  {
   "cell_type": "code",
   "execution_count": 170,
   "id": "4775522d",
   "metadata": {
    "scrolled": false
   },
   "outputs": [],
   "source": [
    "from matplotlib import pyplot as plt\n",
    "\n",
    "def hide_ax(ax):\n",
    "    ax.set_xticks([])\n",
    "    ax.set_yticks([])\n",
    "    ax.spines['top'].set_visible(False)\n",
    "    ax.spines['right'].set_visible(False)\n",
    "    ax.spines['bottom'].set_visible(False)\n",
    "    ax.spines['left'].set_visible(False)\n",
    "            \n",
    "def compare(rows=\"crop_name\", columns=\"title\", query=\"focal_length_int.isin([14, 15]) & aperture_float==4 & title.str.contains('35') & crop_name.str.contains('[123]', regex=True)\"):\n",
    "    data = img_data.query(query)\n",
    "    cnt = data.groupby([rows, columns]).size().unstack().fillna(0).astype(int)\n",
    "    display(cnt)\n",
    "    assert cnt.max().max() < 2\n",
    "    \n",
    "    src = data.groupby([rows, columns]).img_location.first().unstack()\n",
    "    \n",
    "    f, axes = plt.subplots(nrows=cnt.shape[0], ncols=cnt.shape[1], figsize=(7*cnt.shape[1], 2.5*cnt.shape[0]))\n",
    "    \n",
    "    for j, axis_row in enumerate(axes):\n",
    "        for k, ax in enumerate(axis_row):\n",
    "            if j == 0:\n",
    "                ax.set_title(src.columns[k])\n",
    "            if k == 0:\n",
    "                ax.set_ylabel(src.index[j])\n",
    "            i_p = src.iloc[j, k]\n",
    "            hide_ax(ax)\n",
    "            if pd.isna(i_p):\n",
    "                continue\n",
    "            img = cv2.imread(i_p)\n",
    "            ax.imshow(img, interpolation=None)\n",
    "            \n",
    "    plt.suptitle(query)\n",
    "    plt.tight_layout()   \n",
    "    plt.savefig(\"compare.png\")\n",
    "    plt.show()\n",
    "    plt.close(f)\n"
   ]
  },
  {
   "cell_type": "code",
   "execution_count": 184,
   "id": "a95729c0",
   "metadata": {},
   "outputs": [
    {
     "data": {
      "text/plain": [
       "((19819, 4), (34064, 11))"
      ]
     },
     "execution_count": 184,
     "metadata": {},
     "output_type": "execute_result"
    }
   ],
   "source": [
    "# we dont select all old camera models with small lens coverage, only the major players with around 95% total lens coverage\n",
    "selected = [\"CanonEOS-1DsMarkIII\", \"CanonEOS-1DsMarkII\", \"CanonEOSR7\", \"CanonEOS7DMarkII\", \"CanonEOS60D\", \"CanonEOSR5\", \"CanonEOSM\"]\n",
    "img_data_s = img_data.query('camera.isin(@selected)').set_index([\"title\", \"camera\", \"aperture\", \"aperture_float\", \"focal_length\", \"focal_length_int\", \"crop_name\"]).sort_index()\n",
    "img_data_s.shape, img_data.shape"
   ]
  },
  {
   "cell_type": "code",
   "execution_count": 185,
   "id": "15ee6240",
   "metadata": {},
   "outputs": [
    {
     "data": {
      "text/html": [
       "<div>\n",
       "<style scoped>\n",
       "    .dataframe tbody tr th:only-of-type {\n",
       "        vertical-align: middle;\n",
       "    }\n",
       "\n",
       "    .dataframe tbody tr th {\n",
       "        vertical-align: top;\n",
       "    }\n",
       "\n",
       "    .dataframe thead th {\n",
       "        text-align: right;\n",
       "    }\n",
       "</style>\n",
       "<table border=\"1\" class=\"dataframe\">\n",
       "  <thead>\n",
       "    <tr style=\"text-align: right;\">\n",
       "      <th></th>\n",
       "      <th></th>\n",
       "      <th></th>\n",
       "      <th></th>\n",
       "      <th></th>\n",
       "      <th></th>\n",
       "      <th></th>\n",
       "      <th>lens</th>\n",
       "      <th>img_location</th>\n",
       "      <th>img_url</th>\n",
       "      <th>upload_date</th>\n",
       "    </tr>\n",
       "    <tr>\n",
       "      <th>title</th>\n",
       "      <th>camera</th>\n",
       "      <th>aperture</th>\n",
       "      <th>aperture_float</th>\n",
       "      <th>focal_length</th>\n",
       "      <th>focal_length_int</th>\n",
       "      <th>crop_name</th>\n",
       "      <th></th>\n",
       "      <th></th>\n",
       "      <th></th>\n",
       "      <th></th>\n",
       "    </tr>\n",
       "  </thead>\n",
       "  <tbody>\n",
       "    <tr>\n",
       "      <th rowspan=\"5\" valign=\"top\">CanonEF70-300mmf4-5.6ISUSM</th>\n",
       "      <th rowspan=\"5\" valign=\"top\">CanonEOS-1DsMarkII</th>\n",
       "      <th rowspan=\"3\" valign=\"top\">f4.5</th>\n",
       "      <th rowspan=\"3\" valign=\"top\">4.5</th>\n",
       "      <th rowspan=\"3\" valign=\"top\">70mm</th>\n",
       "      <th rowspan=\"3\" valign=\"top\">70</th>\n",
       "      <th>Crop3</th>\n",
       "      <td>358</td>\n",
       "      <td>lenses/358-CanonEF70-300mmf4-5.6ISUSM/CanonEOS...</td>\n",
       "      <td>https://media.the-digital-picture.com/Images/L...</td>\n",
       "      <td>2006-03-18 18:17:29</td>\n",
       "    </tr>\n",
       "    <tr>\n",
       "      <th>Crop2</th>\n",
       "      <td>358</td>\n",
       "      <td>lenses/358-CanonEF70-300mmf4-5.6ISUSM/CanonEOS...</td>\n",
       "      <td>https://media.the-digital-picture.com/Images/L...</td>\n",
       "      <td>2006-03-18 18:17:29</td>\n",
       "    </tr>\n",
       "    <tr>\n",
       "      <th>Crop1</th>\n",
       "      <td>358</td>\n",
       "      <td>lenses/358-CanonEF70-300mmf4-5.6ISUSM/CanonEOS...</td>\n",
       "      <td>https://media.the-digital-picture.com/Images/L...</td>\n",
       "      <td>2006-03-18 18:17:29</td>\n",
       "    </tr>\n",
       "    <tr>\n",
       "      <th rowspan=\"2\" valign=\"top\">f5.6</th>\n",
       "      <th rowspan=\"2\" valign=\"top\">5.6</th>\n",
       "      <th rowspan=\"2\" valign=\"top\">70mm</th>\n",
       "      <th rowspan=\"2\" valign=\"top\">70</th>\n",
       "      <th>Crop1</th>\n",
       "      <td>358</td>\n",
       "      <td>lenses/358-CanonEF70-300mmf4-5.6ISUSM/CanonEOS...</td>\n",
       "      <td>https://media.the-digital-picture.com/Images/L...</td>\n",
       "      <td>2006-03-18 18:17:56</td>\n",
       "    </tr>\n",
       "    <tr>\n",
       "      <th>Crop2</th>\n",
       "      <td>358</td>\n",
       "      <td>lenses/358-CanonEF70-300mmf4-5.6ISUSM/CanonEOS...</td>\n",
       "      <td>https://media.the-digital-picture.com/Images/L...</td>\n",
       "      <td>2006-03-18 18:17:56</td>\n",
       "    </tr>\n",
       "    <tr>\n",
       "      <th>...</th>\n",
       "      <th>...</th>\n",
       "      <th>...</th>\n",
       "      <th>...</th>\n",
       "      <th>...</th>\n",
       "      <th>...</th>\n",
       "      <th>...</th>\n",
       "      <td>...</td>\n",
       "      <td>...</td>\n",
       "      <td>...</td>\n",
       "      <td>...</td>\n",
       "    </tr>\n",
       "    <tr>\n",
       "      <th rowspan=\"5\" valign=\"top\">CanonRF-S55-210mmF5-7.1ISSTM</th>\n",
       "      <th rowspan=\"5\" valign=\"top\">CanonEOSR7</th>\n",
       "      <th rowspan=\"5\" valign=\"top\">f16.0</th>\n",
       "      <th rowspan=\"5\" valign=\"top\">16.0</th>\n",
       "      <th rowspan=\"5\" valign=\"top\">210mm</th>\n",
       "      <th rowspan=\"5\" valign=\"top\">210</th>\n",
       "      <th>Crop1</th>\n",
       "      <td>1643</td>\n",
       "      <td>lenses/1643-CanonRF-S55-210mmF5-7.1ISSTM/Canon...</td>\n",
       "      <td>https://media.the-digital-picture.com/Images/L...</td>\n",
       "      <td>2023-03-23 12:10:59</td>\n",
       "    </tr>\n",
       "    <tr>\n",
       "      <th>Crop3</th>\n",
       "      <td>1643</td>\n",
       "      <td>lenses/1643-CanonRF-S55-210mmF5-7.1ISSTM/Canon...</td>\n",
       "      <td>https://media.the-digital-picture.com/Images/L...</td>\n",
       "      <td>2023-03-23 12:10:59</td>\n",
       "    </tr>\n",
       "    <tr>\n",
       "      <th>Crop2</th>\n",
       "      <td>1643</td>\n",
       "      <td>lenses/1643-CanonRF-S55-210mmF5-7.1ISSTM/Canon...</td>\n",
       "      <td>https://media.the-digital-picture.com/Images/L...</td>\n",
       "      <td>2023-03-23 12:10:59</td>\n",
       "    </tr>\n",
       "    <tr>\n",
       "      <th>Crop5</th>\n",
       "      <td>1643</td>\n",
       "      <td>lenses/1643-CanonRF-S55-210mmF5-7.1ISSTM/Canon...</td>\n",
       "      <td>https://media.the-digital-picture.com/Images/L...</td>\n",
       "      <td>2023-03-23 12:10:59</td>\n",
       "    </tr>\n",
       "    <tr>\n",
       "      <th>Crop4</th>\n",
       "      <td>1643</td>\n",
       "      <td>lenses/1643-CanonRF-S55-210mmF5-7.1ISSTM/Canon...</td>\n",
       "      <td>https://media.the-digital-picture.com/Images/L...</td>\n",
       "      <td>2023-03-23 12:10:59</td>\n",
       "    </tr>\n",
       "  </tbody>\n",
       "</table>\n",
       "<p>19582 rows × 4 columns</p>\n",
       "</div>"
      ],
      "text/plain": [
       "                                                                                                                 lens  \\\n",
       "title                        camera             aperture aperture_float focal_length focal_length_int crop_name         \n",
       "CanonEF70-300mmf4-5.6ISUSM   CanonEOS-1DsMarkII f4.5     4.5            70mm         70               Crop3       358   \n",
       "                                                                                                      Crop2       358   \n",
       "                                                                                                      Crop1       358   \n",
       "                                                f5.6     5.6            70mm         70               Crop1       358   \n",
       "                                                                                                      Crop2       358   \n",
       "...                                                                                                               ...   \n",
       "CanonRF-S55-210mmF5-7.1ISSTM CanonEOSR7         f16.0    16.0           210mm        210              Crop1      1643   \n",
       "                                                                                                      Crop3      1643   \n",
       "                                                                                                      Crop2      1643   \n",
       "                                                                                                      Crop5      1643   \n",
       "                                                                                                      Crop4      1643   \n",
       "\n",
       "                                                                                                                                                      img_location  \\\n",
       "title                        camera             aperture aperture_float focal_length focal_length_int crop_name                                                      \n",
       "CanonEF70-300mmf4-5.6ISUSM   CanonEOS-1DsMarkII f4.5     4.5            70mm         70               Crop3      lenses/358-CanonEF70-300mmf4-5.6ISUSM/CanonEOS...   \n",
       "                                                                                                      Crop2      lenses/358-CanonEF70-300mmf4-5.6ISUSM/CanonEOS...   \n",
       "                                                                                                      Crop1      lenses/358-CanonEF70-300mmf4-5.6ISUSM/CanonEOS...   \n",
       "                                                f5.6     5.6            70mm         70               Crop1      lenses/358-CanonEF70-300mmf4-5.6ISUSM/CanonEOS...   \n",
       "                                                                                                      Crop2      lenses/358-CanonEF70-300mmf4-5.6ISUSM/CanonEOS...   \n",
       "...                                                                                                                                                            ...   \n",
       "CanonRF-S55-210mmF5-7.1ISSTM CanonEOSR7         f16.0    16.0           210mm        210              Crop1      lenses/1643-CanonRF-S55-210mmF5-7.1ISSTM/Canon...   \n",
       "                                                                                                      Crop3      lenses/1643-CanonRF-S55-210mmF5-7.1ISSTM/Canon...   \n",
       "                                                                                                      Crop2      lenses/1643-CanonRF-S55-210mmF5-7.1ISSTM/Canon...   \n",
       "                                                                                                      Crop5      lenses/1643-CanonRF-S55-210mmF5-7.1ISSTM/Canon...   \n",
       "                                                                                                      Crop4      lenses/1643-CanonRF-S55-210mmF5-7.1ISSTM/Canon...   \n",
       "\n",
       "                                                                                                                                                           img_url  \\\n",
       "title                        camera             aperture aperture_float focal_length focal_length_int crop_name                                                      \n",
       "CanonEF70-300mmf4-5.6ISUSM   CanonEOS-1DsMarkII f4.5     4.5            70mm         70               Crop3      https://media.the-digital-picture.com/Images/L...   \n",
       "                                                                                                      Crop2      https://media.the-digital-picture.com/Images/L...   \n",
       "                                                                                                      Crop1      https://media.the-digital-picture.com/Images/L...   \n",
       "                                                f5.6     5.6            70mm         70               Crop1      https://media.the-digital-picture.com/Images/L...   \n",
       "                                                                                                      Crop2      https://media.the-digital-picture.com/Images/L...   \n",
       "...                                                                                                                                                            ...   \n",
       "CanonRF-S55-210mmF5-7.1ISSTM CanonEOSR7         f16.0    16.0           210mm        210              Crop1      https://media.the-digital-picture.com/Images/L...   \n",
       "                                                                                                      Crop3      https://media.the-digital-picture.com/Images/L...   \n",
       "                                                                                                      Crop2      https://media.the-digital-picture.com/Images/L...   \n",
       "                                                                                                      Crop5      https://media.the-digital-picture.com/Images/L...   \n",
       "                                                                                                      Crop4      https://media.the-digital-picture.com/Images/L...   \n",
       "\n",
       "                                                                                                                        upload_date  \n",
       "title                        camera             aperture aperture_float focal_length focal_length_int crop_name                      \n",
       "CanonEF70-300mmf4-5.6ISUSM   CanonEOS-1DsMarkII f4.5     4.5            70mm         70               Crop3     2006-03-18 18:17:29  \n",
       "                                                                                                      Crop2     2006-03-18 18:17:29  \n",
       "                                                                                                      Crop1     2006-03-18 18:17:29  \n",
       "                                                f5.6     5.6            70mm         70               Crop1     2006-03-18 18:17:56  \n",
       "                                                                                                      Crop2     2006-03-18 18:17:56  \n",
       "...                                                                                                                             ...  \n",
       "CanonRF-S55-210mmF5-7.1ISSTM CanonEOSR7         f16.0    16.0           210mm        210              Crop1     2023-03-23 12:10:59  \n",
       "                                                                                                      Crop3     2023-03-23 12:10:59  \n",
       "                                                                                                      Crop2     2023-03-23 12:10:59  \n",
       "                                                                                                      Crop5     2023-03-23 12:10:59  \n",
       "                                                                                                      Crop4     2023-03-23 12:10:59  \n",
       "\n",
       "[19582 rows x 4 columns]"
      ]
     },
     "execution_count": 185,
     "metadata": {},
     "output_type": "execute_result"
    }
   ],
   "source": [
    "# if duplicates exist, use most recent image\n",
    "img_data_s2 = img_data_s.sort_values(\"upload_date\")\n",
    "img_data_s2 = img_data_s2[~img_data_s2.index.duplicated(keep=\"last\")]\n",
    "img_data_s2"
   ]
  },
  {
   "cell_type": "code",
   "execution_count": 187,
   "id": "303b24a1",
   "metadata": {
    "scrolled": false
   },
   "outputs": [
    {
     "name": "stderr",
     "output_type": "stream",
     "text": [
      "100%|████████████████████████████████████████████████████████████████████████████████████████████████████████████████████████████████████████████████████████████████████████████████████████████████| 19582/19582 [01:51<00:00, 175.16it/s]\n"
     ]
    }
   ],
   "source": [
    "import numpy as np\n",
    "import cv2\n",
    "from matplotlib import pyplot as plt\n",
    "import time\n",
    "from tqdm import tqdm\n",
    "\n",
    "def mft(dd, plot=False):\n",
    "    info = []\n",
    "    \n",
    "    if plot:\n",
    "        N = dd.shape[0]\n",
    "        f, ax = plt.subplots(nrows=N+1, ncols=1, figsize=(9, 3*(N+1)))\n",
    "        \n",
    "    for k, (_, i) in tqdm(enumerate(dd.iterrows()), total=dd.shape[0]):\n",
    "        data = cv2.imread(i.img_location)\n",
    "        \n",
    "        # simple methods first, we take a horizontal slice towards right side of the crops (all of them have the stripe pattern there)\n",
    "        chan_data = data[:, -30, :].mean(axis=-1)\n",
    "        \n",
    "        # calculate the average pixel-wise difference in grascale in this slice (high value = good contrast)\n",
    "        cd = np.abs(np.diff(chan_data))\n",
    "        \n",
    "        # in addition to sum we also report quantiles, this gives us a tendency if the image quality has larger or smaller jumps in greyscale at once\n",
    "        # basic idea -> bad lens means we have a smooth transition from black to white and back, so the average \"step\" size is smaller\n",
    "        q = np.quantile(cd,q=0.95)\n",
    "        \n",
    "        # this is a bit similar to the above approach, but it uses ALL pixels against their surrounding pixels, so includes 2D contrast\n",
    "        sharpness = cv2.Laplacian(data, cv2.CV_64F).var()\n",
    "        # we then take the variance - the laplacian gives us the \"intensity\" of all pixels wrt them being an edge or not, \n",
    "        # and the variance thus measures if there is a clear separation between edge- and non-edge pixels\n",
    "        cd = cd.sum()\n",
    "        # print(f\"{i.img_location:35s} - SP: {sharpness:.1f} - QQ: {q:.1f} - CD: {cd:.2f}\")\n",
    "        if plot:\n",
    "            ax[0].plot(chan_data, lw=0.5, drawstyle=\"steps\", label=i.img_location)  \n",
    "            ax[0].set_ylim(bottom=0, top=255)\n",
    "            ax[0].grid(True)\n",
    "            ax[0].legend()\n",
    "            ax[k+1].imshow(data)\n",
    "            ax[k+1].set_title(i.img_location)\n",
    "            hide_ax(ax[k+1])\n",
    "        info.append((q,cd,sharpness))\n",
    "        \n",
    "    if plot:\n",
    "        plt.tight_layout()\n",
    "        plt.grid()\n",
    "        plt.show()\n",
    "    \n",
    "    cp2 = pd.DataFrame(info, columns=[\"QQ\", \"CD\", \"SP\"], index=dd.index)\n",
    "    return dd.join(cp2)\n",
    "    \n",
    "data = mft(img_data_s2, plot=False)"
   ]
  },
  {
   "cell_type": "code",
   "execution_count": 188,
   "id": "32e9ddb1",
   "metadata": {},
   "outputs": [
    {
     "name": "stderr",
     "output_type": "stream",
     "text": [
      "C:\\Users\\nikla\\anaconda3\\lib\\site-packages\\pandas\\plotting\\_matplotlib\\core.py:1114: UserWarning: No data for colormapping provided via 'c'. Parameters 'cmap' will be ignored\n",
      "  scatter = ax.scatter(\n"
     ]
    },
    {
     "data": {
      "text/plain": [
       "<AxesSubplot: xlabel='QQ', ylabel='SP'>"
      ]
     },
     "execution_count": 188,
     "metadata": {},
     "output_type": "execute_result"
    },
    {
     "data": {
      "image/png": "[encoded data removed]",
      "text/plain": [
       "<Figure size 640x480 with 1 Axes>"
      ]
     },
     "metadata": {},
     "output_type": "display_data"
    },
    {
     "data": {
      "image/png": "[encoded data removed]",
      "text/plain": [
       "<Figure size 640x480 with 1 Axes>"
      ]
     },
     "metadata": {},
     "output_type": "display_data"
    }
   ],
   "source": [
    "# plot how high the agreement between different methods is\n",
    "data.plot.scatter(x=\"CD\", y=\"SP\", s=1, grid=True)\n",
    "data.plot.scatter(x=\"QQ\", y=\"SP\", s=1, grid=True)"
   ]
  },
  {
   "cell_type": "code",
   "execution_count": 191,
   "id": "79e58320",
   "metadata": {},
   "outputs": [],
   "source": [
    "data.to_csv(\"lens_results.csv\")"
   ]
  },
  {
   "cell_type": "code",
   "execution_count": 189,
   "id": "98bb1728",
   "metadata": {
    "scrolled": false
   },
   "outputs": [
    {
     "data": {
      "text/html": [
       "<style type=\"text/css\">\n",
       "#T_e19ea_row0_col0, #T_e19ea_row0_col1, #T_e19ea_row0_col2, #T_e19ea_row0_col19, #T_e19ea_row1_col0, #T_e19ea_row1_col1, #T_e19ea_row1_col2, #T_e19ea_row1_col3, #T_e19ea_row1_col4, #T_e19ea_row1_col5, #T_e19ea_row1_col6, #T_e19ea_row1_col7, #T_e19ea_row1_col8, #T_e19ea_row1_col9, #T_e19ea_row1_col19, #T_e19ea_row2_col0, #T_e19ea_row2_col1, #T_e19ea_row2_col2, #T_e19ea_row2_col3, #T_e19ea_row2_col4, #T_e19ea_row2_col5, #T_e19ea_row2_col6, #T_e19ea_row2_col7, #T_e19ea_row2_col8, #T_e19ea_row2_col9, #T_e19ea_row2_col10, #T_e19ea_row2_col19, #T_e19ea_row3_col0, #T_e19ea_row3_col1, #T_e19ea_row3_col2, #T_e19ea_row3_col3, #T_e19ea_row3_col4, #T_e19ea_row3_col5, #T_e19ea_row3_col6, #T_e19ea_row3_col7, #T_e19ea_row3_col8, #T_e19ea_row3_col9, #T_e19ea_row3_col10, #T_e19ea_row3_col11, #T_e19ea_row3_col19, #T_e19ea_row4_col0, #T_e19ea_row4_col1, #T_e19ea_row4_col2, #T_e19ea_row4_col3, #T_e19ea_row4_col4, #T_e19ea_row4_col5, #T_e19ea_row4_col6, #T_e19ea_row4_col7, #T_e19ea_row4_col8, #T_e19ea_row4_col9, #T_e19ea_row4_col10, #T_e19ea_row4_col11, #T_e19ea_row4_col12, #T_e19ea_row4_col19, #T_e19ea_row5_col0, #T_e19ea_row5_col1, #T_e19ea_row5_col2, #T_e19ea_row5_col3, #T_e19ea_row5_col4, #T_e19ea_row5_col5, #T_e19ea_row5_col6, #T_e19ea_row5_col7, #T_e19ea_row5_col8, #T_e19ea_row5_col9, #T_e19ea_row5_col10, #T_e19ea_row5_col11, #T_e19ea_row5_col12, #T_e19ea_row5_col19, #T_e19ea_row6_col0, #T_e19ea_row6_col1, #T_e19ea_row6_col2, #T_e19ea_row6_col3, #T_e19ea_row6_col4, #T_e19ea_row6_col5, #T_e19ea_row6_col6, #T_e19ea_row6_col7, #T_e19ea_row6_col19, #T_e19ea_row7_col0, #T_e19ea_row7_col1, #T_e19ea_row7_col2, #T_e19ea_row7_col3, #T_e19ea_row7_col4, #T_e19ea_row7_col5, #T_e19ea_row7_col6, #T_e19ea_row7_col7, #T_e19ea_row7_col8, #T_e19ea_row7_col19, #T_e19ea_row8_col0, #T_e19ea_row8_col1, #T_e19ea_row8_col2, #T_e19ea_row8_col3, #T_e19ea_row8_col4, #T_e19ea_row8_col5, #T_e19ea_row8_col6, #T_e19ea_row8_col7, #T_e19ea_row8_col8, #T_e19ea_row8_col9, #T_e19ea_row8_col19, #T_e19ea_row9_col0, #T_e19ea_row9_col1, #T_e19ea_row9_col2, #T_e19ea_row9_col3, #T_e19ea_row9_col4, #T_e19ea_row9_col5, #T_e19ea_row9_col6, #T_e19ea_row9_col7, #T_e19ea_row9_col8, #T_e19ea_row9_col9, #T_e19ea_row9_col10, #T_e19ea_row9_col19, #T_e19ea_row10_col0, #T_e19ea_row10_col1, #T_e19ea_row10_col2, #T_e19ea_row10_col3, #T_e19ea_row10_col4, #T_e19ea_row10_col5, #T_e19ea_row10_col6, #T_e19ea_row10_col7, #T_e19ea_row10_col8, #T_e19ea_row10_col9, #T_e19ea_row10_col10, #T_e19ea_row10_col11, #T_e19ea_row10_col19, #T_e19ea_row11_col0, #T_e19ea_row11_col1, #T_e19ea_row11_col2, #T_e19ea_row11_col3, #T_e19ea_row11_col4, #T_e19ea_row11_col5, #T_e19ea_row11_col6, #T_e19ea_row11_col7, #T_e19ea_row11_col8, #T_e19ea_row11_col9, #T_e19ea_row11_col10, #T_e19ea_row11_col11, #T_e19ea_row11_col12, #T_e19ea_row11_col13, #T_e19ea_row11_col14, #T_e19ea_row11_col19, #T_e19ea_row12_col0, #T_e19ea_row12_col1, #T_e19ea_row12_col2, #T_e19ea_row12_col3, #T_e19ea_row12_col4, #T_e19ea_row12_col5, #T_e19ea_row12_col6, #T_e19ea_row12_col7, #T_e19ea_row12_col8, #T_e19ea_row12_col9, #T_e19ea_row12_col10, #T_e19ea_row12_col11, #T_e19ea_row12_col12, #T_e19ea_row12_col13, #T_e19ea_row12_col14, #T_e19ea_row12_col15, #T_e19ea_row12_col16, #T_e19ea_row12_col19, #T_e19ea_row13_col0, #T_e19ea_row13_col1, #T_e19ea_row13_col2, #T_e19ea_row13_col3, #T_e19ea_row13_col4, #T_e19ea_row13_col19, #T_e19ea_row14_col0, #T_e19ea_row14_col1, #T_e19ea_row14_col2, #T_e19ea_row14_col3, #T_e19ea_row14_col4, #T_e19ea_row14_col5, #T_e19ea_row14_col6, #T_e19ea_row14_col7, #T_e19ea_row14_col8, #T_e19ea_row14_col9, #T_e19ea_row14_col10, #T_e19ea_row14_col11, #T_e19ea_row14_col12, #T_e19ea_row14_col19, #T_e19ea_row15_col0, #T_e19ea_row15_col1, #T_e19ea_row15_col2, #T_e19ea_row15_col3, #T_e19ea_row15_col4, #T_e19ea_row15_col5, #T_e19ea_row15_col6, #T_e19ea_row15_col19, #T_e19ea_row16_col0, #T_e19ea_row16_col1, #T_e19ea_row16_col2, #T_e19ea_row16_col3, #T_e19ea_row16_col4, #T_e19ea_row16_col5, #T_e19ea_row16_col6, #T_e19ea_row16_col19, #T_e19ea_row17_col0, #T_e19ea_row17_col1, #T_e19ea_row17_col2, #T_e19ea_row17_col3, #T_e19ea_row17_col4, #T_e19ea_row17_col5, #T_e19ea_row17_col6, #T_e19ea_row17_col19, #T_e19ea_row18_col0, #T_e19ea_row18_col1, #T_e19ea_row18_col2, #T_e19ea_row18_col3, #T_e19ea_row18_col4, #T_e19ea_row18_col5, #T_e19ea_row18_col6, #T_e19ea_row18_col19, #T_e19ea_row19_col0, #T_e19ea_row19_col1, #T_e19ea_row19_col2, #T_e19ea_row19_col3, #T_e19ea_row19_col4, #T_e19ea_row19_col5, #T_e19ea_row19_col6, #T_e19ea_row19_col19, #T_e19ea_row20_col0, #T_e19ea_row20_col1, #T_e19ea_row20_col2, #T_e19ea_row20_col3, #T_e19ea_row20_col4, #T_e19ea_row20_col5, #T_e19ea_row20_col6, #T_e19ea_row20_col19, #T_e19ea_row21_col0, #T_e19ea_row21_col1, #T_e19ea_row21_col2, #T_e19ea_row21_col3, #T_e19ea_row21_col4, #T_e19ea_row21_col5, #T_e19ea_row21_col6, #T_e19ea_row21_col7, #T_e19ea_row21_col19, #T_e19ea_row22_col0, #T_e19ea_row22_col1, #T_e19ea_row22_col2, #T_e19ea_row22_col3, #T_e19ea_row22_col4, #T_e19ea_row22_col5, #T_e19ea_row22_col6, #T_e19ea_row22_col7, #T_e19ea_row22_col8, #T_e19ea_row22_col19, #T_e19ea_row23_col0, #T_e19ea_row23_col1, #T_e19ea_row23_col2, #T_e19ea_row23_col3, #T_e19ea_row23_col4, #T_e19ea_row23_col5, #T_e19ea_row23_col6, #T_e19ea_row23_col7, #T_e19ea_row23_col8, #T_e19ea_row23_col9, #T_e19ea_row23_col19, #T_e19ea_row24_col0, #T_e19ea_row24_col1, #T_e19ea_row24_col2, #T_e19ea_row24_col3, #T_e19ea_row24_col4, #T_e19ea_row24_col5, #T_e19ea_row24_col6, #T_e19ea_row24_col7, #T_e19ea_row24_col8, #T_e19ea_row24_col9, #T_e19ea_row24_col10, #T_e19ea_row24_col19, #T_e19ea_row25_col0, #T_e19ea_row25_col1, #T_e19ea_row25_col2, #T_e19ea_row25_col3, #T_e19ea_row25_col4, #T_e19ea_row25_col19, #T_e19ea_row26_col0, #T_e19ea_row26_col1, #T_e19ea_row26_col2, #T_e19ea_row26_col3, #T_e19ea_row26_col4, #T_e19ea_row26_col19, #T_e19ea_row27_col0, #T_e19ea_row27_col1, #T_e19ea_row27_col2, #T_e19ea_row27_col3, #T_e19ea_row27_col4, #T_e19ea_row27_col19, #T_e19ea_row28_col0, #T_e19ea_row28_col1, #T_e19ea_row28_col2, #T_e19ea_row28_col3, #T_e19ea_row28_col4, #T_e19ea_row28_col19, #T_e19ea_row29_col0, #T_e19ea_row29_col1, #T_e19ea_row29_col2, #T_e19ea_row29_col3, #T_e19ea_row29_col4, #T_e19ea_row29_col19, #T_e19ea_row30_col0, #T_e19ea_row30_col1, #T_e19ea_row30_col2, #T_e19ea_row30_col3, #T_e19ea_row30_col4, #T_e19ea_row30_col19, #T_e19ea_row31_col0, #T_e19ea_row31_col1, #T_e19ea_row31_col2, #T_e19ea_row31_col3, #T_e19ea_row31_col4, #T_e19ea_row31_col5, #T_e19ea_row31_col6, #T_e19ea_row31_col19, #T_e19ea_row32_col0, #T_e19ea_row32_col1, #T_e19ea_row32_col2, #T_e19ea_row32_col3, #T_e19ea_row32_col4, #T_e19ea_row32_col5, #T_e19ea_row32_col6, #T_e19ea_row32_col7, #T_e19ea_row32_col19, #T_e19ea_row33_col0, #T_e19ea_row33_col1, #T_e19ea_row33_col2, #T_e19ea_row33_col3, #T_e19ea_row33_col4, #T_e19ea_row33_col5, #T_e19ea_row33_col6, #T_e19ea_row33_col7, #T_e19ea_row33_col8, #T_e19ea_row33_col19, #T_e19ea_row34_col0, #T_e19ea_row34_col1, #T_e19ea_row34_col2, #T_e19ea_row34_col3, #T_e19ea_row34_col4, #T_e19ea_row34_col5, #T_e19ea_row34_col6, #T_e19ea_row34_col7, #T_e19ea_row34_col8, #T_e19ea_row34_col9, #T_e19ea_row34_col10, #T_e19ea_row34_col19, #T_e19ea_row35_col0, #T_e19ea_row35_col1, #T_e19ea_row35_col2, #T_e19ea_row35_col3, #T_e19ea_row35_col4, #T_e19ea_row35_col5, #T_e19ea_row35_col6, #T_e19ea_row35_col7, #T_e19ea_row35_col8, #T_e19ea_row35_col9, #T_e19ea_row35_col10, #T_e19ea_row35_col11, #T_e19ea_row35_col19, #T_e19ea_row36_col0, #T_e19ea_row36_col1, #T_e19ea_row36_col2, #T_e19ea_row36_col3, #T_e19ea_row36_col4, #T_e19ea_row36_col5, #T_e19ea_row36_col6, #T_e19ea_row36_col19, #T_e19ea_row37_col0, #T_e19ea_row37_col1, #T_e19ea_row37_col2, #T_e19ea_row37_col3, #T_e19ea_row37_col4, #T_e19ea_row37_col5, #T_e19ea_row37_col6, #T_e19ea_row37_col19, #T_e19ea_row38_col0, #T_e19ea_row38_col1, #T_e19ea_row38_col2, #T_e19ea_row38_col3, #T_e19ea_row38_col4, #T_e19ea_row38_col5, #T_e19ea_row38_col6, #T_e19ea_row38_col19, #T_e19ea_row39_col0, #T_e19ea_row39_col1, #T_e19ea_row39_col2, #T_e19ea_row39_col3, #T_e19ea_row39_col4, #T_e19ea_row39_col5, #T_e19ea_row39_col6, #T_e19ea_row39_col19, #T_e19ea_row40_col0, #T_e19ea_row40_col1, #T_e19ea_row40_col2, #T_e19ea_row40_col3, #T_e19ea_row40_col4, #T_e19ea_row40_col5, #T_e19ea_row40_col6, #T_e19ea_row40_col19, #T_e19ea_row41_col0, #T_e19ea_row41_col1, #T_e19ea_row41_col2, #T_e19ea_row41_col3, #T_e19ea_row41_col4, #T_e19ea_row41_col5, #T_e19ea_row41_col6, #T_e19ea_row41_col19, #T_e19ea_row42_col0, #T_e19ea_row42_col1, #T_e19ea_row42_col2, #T_e19ea_row42_col3, #T_e19ea_row42_col4, #T_e19ea_row42_col5, #T_e19ea_row42_col6, #T_e19ea_row42_col19, #T_e19ea_row43_col0, #T_e19ea_row43_col1, #T_e19ea_row43_col2, #T_e19ea_row43_col3, #T_e19ea_row43_col4, #T_e19ea_row43_col5, #T_e19ea_row43_col6, #T_e19ea_row43_col7, #T_e19ea_row43_col8, #T_e19ea_row43_col19, #T_e19ea_row44_col0, #T_e19ea_row44_col1, #T_e19ea_row44_col2, #T_e19ea_row44_col3, #T_e19ea_row44_col4, #T_e19ea_row44_col5, #T_e19ea_row44_col6, #T_e19ea_row44_col7, #T_e19ea_row44_col8, #T_e19ea_row44_col9, #T_e19ea_row44_col19, #T_e19ea_row45_col0, #T_e19ea_row45_col1, #T_e19ea_row45_col2, #T_e19ea_row45_col3, #T_e19ea_row45_col4, #T_e19ea_row45_col5, #T_e19ea_row45_col6, #T_e19ea_row45_col7, #T_e19ea_row45_col8, #T_e19ea_row45_col9, #T_e19ea_row45_col10, #T_e19ea_row45_col19, #T_e19ea_row46_col0, #T_e19ea_row46_col1, #T_e19ea_row46_col2, #T_e19ea_row46_col3, #T_e19ea_row46_col4, #T_e19ea_row46_col5, #T_e19ea_row46_col6, #T_e19ea_row46_col7, #T_e19ea_row46_col19, #T_e19ea_row47_col0, #T_e19ea_row47_col1, #T_e19ea_row47_col2, #T_e19ea_row47_col3, #T_e19ea_row47_col4, #T_e19ea_row47_col5, #T_e19ea_row47_col6, #T_e19ea_row47_col7, #T_e19ea_row47_col8, #T_e19ea_row47_col19, #T_e19ea_row48_col0, #T_e19ea_row48_col1, #T_e19ea_row48_col2, #T_e19ea_row48_col3, #T_e19ea_row48_col4, #T_e19ea_row48_col5, #T_e19ea_row48_col6, #T_e19ea_row48_col7, #T_e19ea_row48_col8, #T_e19ea_row48_col9, #T_e19ea_row48_col19, #T_e19ea_row49_col0, #T_e19ea_row49_col1, #T_e19ea_row49_col2, #T_e19ea_row49_col3, #T_e19ea_row49_col4, #T_e19ea_row49_col5, #T_e19ea_row49_col6, #T_e19ea_row49_col7, #T_e19ea_row49_col8, #T_e19ea_row49_col9, #T_e19ea_row49_col10, #T_e19ea_row49_col19, #T_e19ea_row50_col0, #T_e19ea_row50_col1, #T_e19ea_row50_col2, #T_e19ea_row50_col3, #T_e19ea_row50_col4, #T_e19ea_row50_col19, #T_e19ea_row51_col0, #T_e19ea_row51_col1, #T_e19ea_row51_col2, #T_e19ea_row51_col3, #T_e19ea_row51_col4, #T_e19ea_row51_col19, #T_e19ea_row52_col0, #T_e19ea_row52_col1, #T_e19ea_row52_col2, #T_e19ea_row52_col3, #T_e19ea_row52_col4, #T_e19ea_row52_col19, #T_e19ea_row53_col0, #T_e19ea_row53_col1, #T_e19ea_row53_col2, #T_e19ea_row53_col3, #T_e19ea_row53_col4, #T_e19ea_row53_col19, #T_e19ea_row54_col0, #T_e19ea_row54_col1, #T_e19ea_row54_col19, #T_e19ea_row55_col0, #T_e19ea_row55_col1, #T_e19ea_row55_col2, #T_e19ea_row55_col19, #T_e19ea_row56_col0, #T_e19ea_row56_col1, #T_e19ea_row56_col2, #T_e19ea_row56_col19, #T_e19ea_row57_col0, #T_e19ea_row57_col1, #T_e19ea_row57_col2, #T_e19ea_row57_col19, #T_e19ea_row58_col0, #T_e19ea_row58_col1, #T_e19ea_row58_col2, #T_e19ea_row58_col19, #T_e19ea_row59_col0, #T_e19ea_row59_col1, #T_e19ea_row59_col19, #T_e19ea_row60_col0, #T_e19ea_row60_col1, #T_e19ea_row60_col2, #T_e19ea_row60_col3, #T_e19ea_row60_col4, #T_e19ea_row60_col19, #T_e19ea_row61_col0, #T_e19ea_row61_col1, #T_e19ea_row61_col2, #T_e19ea_row61_col3, #T_e19ea_row61_col4, #T_e19ea_row61_col5, #T_e19ea_row61_col6, #T_e19ea_row61_col19, #T_e19ea_row62_col0, #T_e19ea_row62_col1, #T_e19ea_row62_col2, #T_e19ea_row62_col3, #T_e19ea_row62_col4, #T_e19ea_row62_col5, #T_e19ea_row62_col6, #T_e19ea_row62_col7, #T_e19ea_row62_col8, #T_e19ea_row62_col9, #T_e19ea_row62_col19, #T_e19ea_row63_col19, #T_e19ea_row64_col0, #T_e19ea_row64_col1, #T_e19ea_row64_col19, #T_e19ea_row65_col0, #T_e19ea_row65_col1, #T_e19ea_row65_col2, #T_e19ea_row65_col3, #T_e19ea_row65_col4, #T_e19ea_row65_col5, #T_e19ea_row65_col6, #T_e19ea_row65_col7, #T_e19ea_row65_col8, #T_e19ea_row65_col9, #T_e19ea_row65_col10, #T_e19ea_row65_col11, #T_e19ea_row65_col12, #T_e19ea_row65_col13, #T_e19ea_row65_col14, #T_e19ea_row65_col15, #T_e19ea_row65_col17, #T_e19ea_row65_col18, #T_e19ea_row65_col19, #T_e19ea_row66_col0, #T_e19ea_row66_col1, #T_e19ea_row66_col2, #T_e19ea_row66_col3, #T_e19ea_row66_col4, #T_e19ea_row66_col5, #T_e19ea_row66_col6, #T_e19ea_row66_col7, #T_e19ea_row66_col8, #T_e19ea_row66_col9, #T_e19ea_row66_col10, #T_e19ea_row66_col11, #T_e19ea_row66_col12, #T_e19ea_row66_col13, #T_e19ea_row66_col14, #T_e19ea_row66_col15, #T_e19ea_row66_col16, #T_e19ea_row66_col17, #T_e19ea_row66_col19, #T_e19ea_row67_col0, #T_e19ea_row67_col1, #T_e19ea_row67_col2, #T_e19ea_row67_col3, #T_e19ea_row67_col4, #T_e19ea_row67_col5, #T_e19ea_row67_col6, #T_e19ea_row67_col7, #T_e19ea_row67_col8, #T_e19ea_row67_col9, #T_e19ea_row67_col10, #T_e19ea_row67_col11, #T_e19ea_row67_col12, #T_e19ea_row67_col13, #T_e19ea_row67_col14, #T_e19ea_row67_col15, #T_e19ea_row67_col16, #T_e19ea_row67_col17, #T_e19ea_row67_col18, #T_e19ea_row68_col0, #T_e19ea_row68_col1, #T_e19ea_row68_col2, #T_e19ea_row68_col3, #T_e19ea_row68_col4, #T_e19ea_row68_col5, #T_e19ea_row68_col6, #T_e19ea_row68_col19, #T_e19ea_row69_col0, #T_e19ea_row69_col1, #T_e19ea_row69_col2, #T_e19ea_row69_col3, #T_e19ea_row69_col4, #T_e19ea_row69_col5, #T_e19ea_row69_col6, #T_e19ea_row69_col7, #T_e19ea_row69_col8, #T_e19ea_row69_col9, #T_e19ea_row69_col19, #T_e19ea_row70_col0, #T_e19ea_row70_col1, #T_e19ea_row70_col2, #T_e19ea_row70_col3, #T_e19ea_row70_col4, #T_e19ea_row70_col5, #T_e19ea_row70_col6, #T_e19ea_row70_col7, #T_e19ea_row70_col8, #T_e19ea_row70_col9, #T_e19ea_row70_col10, #T_e19ea_row70_col11, #T_e19ea_row70_col12, #T_e19ea_row70_col19, #T_e19ea_row71_col0, #T_e19ea_row71_col1, #T_e19ea_row71_col2, #T_e19ea_row71_col3, #T_e19ea_row71_col4, #T_e19ea_row71_col19, #T_e19ea_row72_col0, #T_e19ea_row72_col1, #T_e19ea_row72_col2, #T_e19ea_row72_col3, #T_e19ea_row72_col4, #T_e19ea_row72_col19, #T_e19ea_row73_col0, #T_e19ea_row73_col1, #T_e19ea_row73_col2, #T_e19ea_row73_col3, #T_e19ea_row73_col4, #T_e19ea_row73_col19, #T_e19ea_row74_col0, #T_e19ea_row74_col1, #T_e19ea_row74_col2, #T_e19ea_row74_col3, #T_e19ea_row74_col4, #T_e19ea_row74_col19, #T_e19ea_row75_col0, #T_e19ea_row75_col1, #T_e19ea_row75_col2, #T_e19ea_row75_col3, #T_e19ea_row75_col4, #T_e19ea_row75_col5, #T_e19ea_row75_col6, #T_e19ea_row75_col19, #T_e19ea_row76_col0, #T_e19ea_row76_col1, #T_e19ea_row76_col2, #T_e19ea_row76_col3, #T_e19ea_row76_col4, #T_e19ea_row76_col5, #T_e19ea_row76_col6, #T_e19ea_row76_col19, #T_e19ea_row77_col0, #T_e19ea_row77_col1, #T_e19ea_row77_col2, #T_e19ea_row77_col3, #T_e19ea_row77_col4, #T_e19ea_row77_col5, #T_e19ea_row77_col6, #T_e19ea_row77_col19, #T_e19ea_row78_col0, #T_e19ea_row78_col1, #T_e19ea_row78_col2, #T_e19ea_row78_col3, #T_e19ea_row78_col4, #T_e19ea_row78_col5, #T_e19ea_row78_col6, #T_e19ea_row78_col19, #T_e19ea_row79_col0, #T_e19ea_row79_col1, #T_e19ea_row79_col2, #T_e19ea_row79_col3, #T_e19ea_row79_col4, #T_e19ea_row79_col5, #T_e19ea_row79_col6, #T_e19ea_row79_col7, #T_e19ea_row79_col8, #T_e19ea_row79_col9, #T_e19ea_row79_col10, #T_e19ea_row79_col11, #T_e19ea_row79_col12, #T_e19ea_row79_col13, #T_e19ea_row79_col14, #T_e19ea_row79_col15, #T_e19ea_row79_col17, #T_e19ea_row79_col18, #T_e19ea_row79_col19, #T_e19ea_row80_col0, #T_e19ea_row80_col1, #T_e19ea_row80_col2, #T_e19ea_row80_col3, #T_e19ea_row80_col4, #T_e19ea_row80_col5, #T_e19ea_row80_col6, #T_e19ea_row80_col7, #T_e19ea_row80_col8, #T_e19ea_row80_col9, #T_e19ea_row80_col10, #T_e19ea_row80_col11, #T_e19ea_row80_col12, #T_e19ea_row80_col13, #T_e19ea_row80_col14, #T_e19ea_row80_col15, #T_e19ea_row80_col16, #T_e19ea_row80_col17, #T_e19ea_row80_col19, #T_e19ea_row81_col0, #T_e19ea_row81_col1, #T_e19ea_row81_col2, #T_e19ea_row81_col3, #T_e19ea_row81_col4, #T_e19ea_row81_col5, #T_e19ea_row81_col6, #T_e19ea_row81_col7, #T_e19ea_row81_col8, #T_e19ea_row81_col9, #T_e19ea_row81_col10, #T_e19ea_row81_col11, #T_e19ea_row81_col12, #T_e19ea_row81_col13, #T_e19ea_row81_col14, #T_e19ea_row81_col15, #T_e19ea_row81_col16, #T_e19ea_row81_col17, #T_e19ea_row81_col18, #T_e19ea_row82_col0, #T_e19ea_row82_col1, #T_e19ea_row82_col2, #T_e19ea_row82_col3, #T_e19ea_row82_col4, #T_e19ea_row82_col5, #T_e19ea_row82_col6, #T_e19ea_row82_col7, #T_e19ea_row82_col8, #T_e19ea_row82_col9, #T_e19ea_row82_col19, #T_e19ea_row83_col0, #T_e19ea_row83_col1, #T_e19ea_row83_col2, #T_e19ea_row83_col3, #T_e19ea_row83_col4, #T_e19ea_row83_col5, #T_e19ea_row83_col6, #T_e19ea_row83_col7, #T_e19ea_row83_col8, #T_e19ea_row83_col9, #T_e19ea_row83_col10, #T_e19ea_row83_col11, #T_e19ea_row83_col12, #T_e19ea_row83_col19, #T_e19ea_row84_col19, #T_e19ea_row85_col0, #T_e19ea_row85_col1, #T_e19ea_row85_col2, #T_e19ea_row85_col19 {\n",
       "  background-color: #440154;\n",
       "}\n",
       "#T_e19ea_row0_col3, #T_e19ea_row7_col11, #T_e19ea_row29_col8, #T_e19ea_row58_col8, #T_e19ea_row68_col8 {\n",
       "  background-color: #2eb37c;\n",
       "}\n",
       "#T_e19ea_row0_col4, #T_e19ea_row0_col5, #T_e19ea_row0_col6, #T_e19ea_row0_col7, #T_e19ea_row0_col8, #T_e19ea_row0_col9, #T_e19ea_row50_col6, #T_e19ea_row63_col3, #T_e19ea_row71_col6, #T_e19ea_row71_col7, #T_e19ea_row72_col6, #T_e19ea_row72_col7, #T_e19ea_row84_col1, #T_e19ea_row84_col2, #T_e19ea_row84_col3, #T_e19ea_row84_col4, #T_e19ea_row84_col5, #T_e19ea_row84_col6, #T_e19ea_row84_col7 {\n",
       "  background-color: #fde725;\n",
       "}\n",
       "#T_e19ea_row0_col10 {\n",
       "  background-color: #d0e11c;\n",
       "}\n",
       "#T_e19ea_row0_col11, #T_e19ea_row52_col9, #T_e19ea_row60_col9, #T_e19ea_row71_col5 {\n",
       "  background-color: #7cd250;\n",
       "}\n",
       "#T_e19ea_row0_col12, #T_e19ea_row28_col8, #T_e19ea_row39_col7 {\n",
       "  background-color: #3bbb75;\n",
       "}\n",
       "#T_e19ea_row0_col13, #T_e19ea_row6_col12, #T_e19ea_row30_col5 {\n",
       "  background-color: #1f9e89;\n",
       "}\n",
       "#T_e19ea_row0_col14, #T_e19ea_row10_col12, #T_e19ea_row55_col5, #T_e19ea_row57_col3, #T_e19ea_row61_col10 {\n",
       "  background-color: #23888e;\n",
       "}\n",
       "#T_e19ea_row0_col15, #T_e19ea_row6_col15, #T_e19ea_row7_col15, #T_e19ea_row13_col10, #T_e19ea_row18_col13, #T_e19ea_row20_col10, #T_e19ea_row43_col10, #T_e19ea_row55_col11, #T_e19ea_row57_col14 {\n",
       "  background-color: #2c718e;\n",
       "}\n",
       "#T_e19ea_row0_col16, #T_e19ea_row25_col16, #T_e19ea_row56_col15, #T_e19ea_row62_col13, #T_e19ea_row64_col5, #T_e19ea_row78_col16 {\n",
       "  background-color: #375a8c;\n",
       "}\n",
       "#T_e19ea_row0_col17, #T_e19ea_row14_col16, #T_e19ea_row21_col16, #T_e19ea_row24_col17, #T_e19ea_row44_col15, #T_e19ea_row45_col12, #T_e19ea_row49_col14, #T_e19ea_row85_col17 {\n",
       "  background-color: #424086;\n",
       "}\n",
       "#T_e19ea_row0_col18, #T_e19ea_row1_col18, #T_e19ea_row3_col18, #T_e19ea_row17_col18, #T_e19ea_row18_col18, #T_e19ea_row39_col18, #T_e19ea_row40_col18, #T_e19ea_row42_col18 {\n",
       "  background-color: #482475;\n",
       "}\n",
       "#T_e19ea_row1_col10, #T_e19ea_row1_col11, #T_e19ea_row18_col12, #T_e19ea_row19_col13, #T_e19ea_row26_col11, #T_e19ea_row41_col11, #T_e19ea_row76_col12 {\n",
       "  background-color: #2a788e;\n",
       "}\n",
       "#T_e19ea_row1_col12, #T_e19ea_row9_col15, #T_e19ea_row31_col9, #T_e19ea_row36_col13 {\n",
       "  background-color: #2e6d8e;\n",
       "}\n",
       "#T_e19ea_row1_col13, #T_e19ea_row20_col9, #T_e19ea_row33_col13, #T_e19ea_row34_col13, #T_e19ea_row36_col14, #T_e19ea_row40_col15, #T_e19ea_row43_col12, #T_e19ea_row58_col15 {\n",
       "  background-color: #34618d;\n",
       "}\n",
       "#T_e19ea_row1_col14, #T_e19ea_row3_col15, #T_e19ea_row18_col15, #T_e19ea_row27_col14, #T_e19ea_row30_col15, #T_e19ea_row42_col15, #T_e19ea_row50_col16, #T_e19ea_row68_col15, #T_e19ea_row69_col12 {\n",
       "  background-color: #38598c;\n",
       "}\n",
       "#T_e19ea_row1_col15, #T_e19ea_row24_col16, #T_e19ea_row44_col13, #T_e19ea_row84_col16 {\n",
       "  background-color: #3c508b;\n",
       "}\n",
       "#T_e19ea_row1_col16, #T_e19ea_row33_col15 {\n",
       "  background-color: #404688;\n",
       "}\n",
       "#T_e19ea_row1_col17, #T_e19ea_row11_col17, #T_e19ea_row13_col17, #T_e19ea_row20_col7, #T_e19ea_row23_col15, #T_e19ea_row41_col17, #T_e19ea_row45_col16, #T_e19ea_row61_col17 {\n",
       "  background-color: #453581;\n",
       "}\n",
       "#T_e19ea_row2_col11, #T_e19ea_row13_col5, #T_e19ea_row19_col12, #T_e19ea_row72_col14 {\n",
       "  background-color: #287c8e;\n",
       "}\n",
       "#T_e19ea_row2_col12, #T_e19ea_row13_col7, #T_e19ea_row32_col10, #T_e19ea_row55_col3, #T_e19ea_row55_col6, #T_e19ea_row59_col3, #T_e19ea_row71_col14, #T_e19ea_row75_col12 {\n",
       "  background-color: #297a8e;\n",
       "}\n",
       "#T_e19ea_row2_col13, #T_e19ea_row54_col2, #T_e19ea_row56_col10, #T_e19ea_row60_col14, #T_e19ea_row73_col15, #T_e19ea_row77_col9 {\n",
       "  background-color: #29798e;\n",
       "}\n",
       "#T_e19ea_row2_col14, #T_e19ea_row10_col15, #T_e19ea_row39_col14, #T_e19ea_row43_col11 {\n",
       "  background-color: #30698e;\n",
       "}\n",
       "#T_e19ea_row2_col15, #T_e19ea_row20_col15, #T_e19ea_row27_col5, #T_e19ea_row43_col13, #T_e19ea_row53_col16, #T_e19ea_row77_col15, #T_e19ea_row85_col16 {\n",
       "  background-color: #38588c;\n",
       "}\n",
       "#T_e19ea_row2_col16, #T_e19ea_row8_col17, #T_e19ea_row10_col17, #T_e19ea_row13_col16, #T_e19ea_row69_col16, #T_e19ea_row82_col15 {\n",
       "  background-color: #414487;\n",
       "}\n",
       "#T_e19ea_row2_col17, #T_e19ea_row4_col17, #T_e19ea_row45_col11, #T_e19ea_row46_col16, #T_e19ea_row47_col9, #T_e19ea_row47_col15, #T_e19ea_row54_col17, #T_e19ea_row68_col17 {\n",
       "  background-color: #46337f;\n",
       "}\n",
       "#T_e19ea_row2_col18, #T_e19ea_row16_col18, #T_e19ea_row27_col18, #T_e19ea_row70_col13 {\n",
       "  background-color: #482374;\n",
       "}\n",
       "#T_e19ea_row3_col12, #T_e19ea_row39_col13, #T_e19ea_row68_col13, #T_e19ea_row74_col15 {\n",
       "  background-color: #2a768e;\n",
       "}\n",
       "#T_e19ea_row3_col13, #T_e19ea_row10_col14, #T_e19ea_row13_col9, #T_e19ea_row32_col9, #T_e19ea_row38_col14, #T_e19ea_row42_col13, #T_e19ea_row56_col9, #T_e19ea_row56_col11 {\n",
       "  background-color: #2b748e;\n",
       "}\n",
       "#T_e19ea_row3_col14, #T_e19ea_row22_col10, #T_e19ea_row34_col12, #T_e19ea_row42_col14, #T_e19ea_row77_col13 {\n",
       "  background-color: #31678e;\n",
       "}\n",
       "#T_e19ea_row3_col16, #T_e19ea_row14_col15, #T_e19ea_row15_col16, #T_e19ea_row42_col16, #T_e19ea_row44_col10, #T_e19ea_row60_col16, #T_e19ea_row82_col12, #T_e19ea_row82_col14 {\n",
       "  background-color: #3e4989;\n",
       "}\n",
       "#T_e19ea_row3_col17, #T_e19ea_row16_col17, #T_e19ea_row17_col17, #T_e19ea_row18_col17, #T_e19ea_row22_col16, #T_e19ea_row31_col15, #T_e19ea_row36_col17, #T_e19ea_row42_col17, #T_e19ea_row43_col16, #T_e19ea_row45_col15, #T_e19ea_row47_col14, #T_e19ea_row65_col16 {\n",
       "  background-color: #453882;\n",
       "}\n",
       "#T_e19ea_row4_col13, #T_e19ea_row20_col11, #T_e19ea_row28_col14, #T_e19ea_row29_col14, #T_e19ea_row40_col14, #T_e19ea_row58_col14, #T_e19ea_row59_col2, #T_e19ea_row61_col14, #T_e19ea_row64_col13, #T_e19ea_row77_col11 {\n",
       "  background-color: #2d708e;\n",
       "}\n",
       "#T_e19ea_row4_col14, #T_e19ea_row13_col12, #T_e19ea_row20_col14, #T_e19ea_row21_col11, #T_e19ea_row26_col14, #T_e19ea_row31_col11, #T_e19ea_row32_col13, #T_e19ea_row37_col15, #T_e19ea_row38_col15, #T_e19ea_row53_col5, #T_e19ea_row55_col14, #T_e19ea_row57_col15 {\n",
       "  background-color: #33628d;\n",
       "}\n",
       "#T_e19ea_row4_col15, #T_e19ea_row13_col14, #T_e19ea_row14_col14, #T_e19ea_row24_col13, #T_e19ea_row31_col12, #T_e19ea_row64_col8 {\n",
       "  background-color: #3a538b;\n",
       "}\n",
       "#T_e19ea_row4_col16, #T_e19ea_row7_col17, #T_e19ea_row43_col15, #T_e19ea_row46_col11, #T_e19ea_row51_col17, #T_e19ea_row69_col10, #T_e19ea_row74_col17, #T_e19ea_row78_col17 {\n",
       "  background-color: #414287;\n",
       "}\n",
       "#T_e19ea_row4_col18, #T_e19ea_row15_col18, #T_e19ea_row34_col18, #T_e19ea_row63_col18 {\n",
       "  background-color: #482173;\n",
       "}\n",
       "#T_e19ea_row5_col13, #T_e19ea_row32_col17, #T_e19ea_row75_col18, #T_e19ea_row83_col14, #T_e19ea_row83_col17 {\n",
       "  background-color: #472c7a;\n",
       "}\n",
       "#T_e19ea_row5_col14, #T_e19ea_row15_col17, #T_e19ea_row33_col16, #T_e19ea_row44_col16, #T_e19ea_row46_col15, #T_e19ea_row48_col15, #T_e19ea_row49_col16 {\n",
       "  background-color: #453781;\n",
       "}\n",
       "#T_e19ea_row5_col15, #T_e19ea_row23_col16, #T_e19ea_row24_col18, #T_e19ea_row47_col16, #T_e19ea_row48_col16, #T_e19ea_row82_col17 {\n",
       "  background-color: #472e7c;\n",
       "}\n",
       "#T_e19ea_row5_col16, #T_e19ea_row13_col18, #T_e19ea_row19_col18, #T_e19ea_row20_col18, #T_e19ea_row23_col17, #T_e19ea_row28_col18, #T_e19ea_row29_col18, #T_e19ea_row41_col18, #T_e19ea_row47_col17, #T_e19ea_row48_col17, #T_e19ea_row56_col18, #T_e19ea_row57_col18, #T_e19ea_row58_col18, #T_e19ea_row64_col18, #T_e19ea_row74_col18, #T_e19ea_row85_col18 {\n",
       "  background-color: #482576;\n",
       "}\n",
       "#T_e19ea_row5_col17, #T_e19ea_row12_col17, #T_e19ea_row32_col18, #T_e19ea_row46_col18, #T_e19ea_row61_col18 {\n",
       "  background-color: #481f70;\n",
       "}\n",
       "#T_e19ea_row5_col18 {\n",
       "  background-color: #48186a;\n",
       "}\n",
       "#T_e19ea_row6_col8, #T_e19ea_row54_col8 {\n",
       "  background-color: #29af7f;\n",
       "}\n",
       "#T_e19ea_row6_col9, #T_e19ea_row25_col6, #T_e19ea_row53_col7, #T_e19ea_row53_col8, #T_e19ea_row53_col9, #T_e19ea_row53_col10 {\n",
       "  background-color: #48c16e;\n",
       "}\n",
       "#T_e19ea_row6_col10, #T_e19ea_row30_col6, #T_e19ea_row63_col10 {\n",
       "  background-color: #25ab82;\n",
       "}\n",
       "#T_e19ea_row6_col11, #T_e19ea_row30_col9, #T_e19ea_row39_col10, #T_e19ea_row58_col9, #T_e19ea_row60_col12, #T_e19ea_row73_col13 {\n",
       "  background-color: #20a486;\n",
       "}\n",
       "#T_e19ea_row6_col13, #T_e19ea_row18_col8, #T_e19ea_row25_col13, #T_e19ea_row36_col10, #T_e19ea_row59_col13, #T_e19ea_row76_col8, #T_e19ea_row85_col13 {\n",
       "  background-color: #1f978b;\n",
       "}\n",
       "#T_e19ea_row6_col14, #T_e19ea_row9_col14, #T_e19ea_row18_col10, #T_e19ea_row41_col7, #T_e19ea_row53_col14, #T_e19ea_row59_col14 {\n",
       "  background-color: #25848e;\n",
       "}\n",
       "#T_e19ea_row6_col16, #T_e19ea_row16_col15, #T_e19ea_row22_col11, #T_e19ea_row28_col15, #T_e19ea_row41_col13 {\n",
       "  background-color: #355f8d;\n",
       "}\n",
       "#T_e19ea_row6_col17, #T_e19ea_row23_col13, #T_e19ea_row25_col17, #T_e19ea_row31_col13, #T_e19ea_row41_col16, #T_e19ea_row46_col10, #T_e19ea_row49_col12, #T_e19ea_row49_col13, #T_e19ea_row54_col16, #T_e19ea_row59_col17, #T_e19ea_row82_col11 {\n",
       "  background-color: #404588;\n",
       "}\n",
       "#T_e19ea_row6_col18, #T_e19ea_row43_col17, #T_e19ea_row44_col17, #T_e19ea_row45_col17, #T_e19ea_row46_col17, #T_e19ea_row50_col18, #T_e19ea_row71_col18, #T_e19ea_row72_col18, #T_e19ea_row73_col18, #T_e19ea_row78_col18 {\n",
       "  background-color: #482979;\n",
       "}\n",
       "#T_e19ea_row7_col9, #T_e19ea_row38_col7, #T_e19ea_row40_col9, #T_e19ea_row59_col10, #T_e19ea_row63_col6 {\n",
       "  background-color: #52c569;\n",
       "}\n",
       "#T_e19ea_row7_col10 {\n",
       "  background-color: #44bf70;\n",
       "}\n",
       "#T_e19ea_row7_col12, #T_e19ea_row8_col12, #T_e19ea_row28_col6, #T_e19ea_row29_col6, #T_e19ea_row50_col12, #T_e19ea_row54_col9, #T_e19ea_row84_col12 {\n",
       "  background-color: #21a685;\n",
       "}\n",
       "#T_e19ea_row7_col13, #T_e19ea_row30_col10, #T_e19ea_row51_col13, #T_e19ea_row53_col13, #T_e19ea_row56_col5 {\n",
       "  background-color: #1f9a8a;\n",
       "}\n",
       "#T_e19ea_row7_col14, #T_e19ea_row26_col9, #T_e19ea_row39_col12, #T_e19ea_row41_col10, #T_e19ea_row51_col14, #T_e19ea_row61_col9, #T_e19ea_row61_col11 {\n",
       "  background-color: #25858e;\n",
       "}\n",
       "#T_e19ea_row7_col16, #T_e19ea_row8_col16, #T_e19ea_row15_col15, #T_e19ea_row17_col15, #T_e19ea_row19_col15, #T_e19ea_row32_col8, #T_e19ea_row59_col16, #T_e19ea_row61_col7 {\n",
       "  background-color: #365d8d;\n",
       "}\n",
       "#T_e19ea_row7_col18, #T_e19ea_row9_col18, #T_e19ea_row26_col18, #T_e19ea_row31_col17, #T_e19ea_row37_col18, #T_e19ea_row38_col18, #T_e19ea_row55_col18, #T_e19ea_row70_col17, #T_e19ea_row84_col18 {\n",
       "  background-color: #482677;\n",
       "}\n",
       "#T_e19ea_row8_col10, #T_e19ea_row16_col11, #T_e19ea_row29_col10, #T_e19ea_row74_col13, #T_e19ea_row75_col9 {\n",
       "  background-color: #21a585;\n",
       "}\n",
       "#T_e19ea_row8_col11, #T_e19ea_row50_col11, #T_e19ea_row73_col11, #T_e19ea_row74_col12 {\n",
       "  background-color: #3dbc74;\n",
       "}\n",
       "#T_e19ea_row8_col13, #T_e19ea_row76_col7 {\n",
       "  background-color: #21908d;\n",
       "}\n",
       "#T_e19ea_row8_col14, #T_e19ea_row18_col11, #T_e19ea_row19_col7, #T_e19ea_row28_col13, #T_e19ea_row58_col13 {\n",
       "  background-color: #277f8e;\n",
       "}\n",
       "#T_e19ea_row8_col15, #T_e19ea_row17_col14, #T_e19ea_row20_col12, #T_e19ea_row21_col9, #T_e19ea_row26_col13, #T_e19ea_row33_col11, #T_e19ea_row55_col12, #T_e19ea_row74_col5, #T_e19ea_row76_col13, #T_e19ea_row85_col15 {\n",
       "  background-color: #2e6e8e;\n",
       "}\n",
       "#T_e19ea_row8_col18, #T_e19ea_row10_col18, #T_e19ea_row36_col18, #T_e19ea_row51_col18, #T_e19ea_row52_col18, #T_e19ea_row53_col18, #T_e19ea_row77_col18 {\n",
       "  background-color: #482878;\n",
       "}\n",
       "#T_e19ea_row9_col11, #T_e19ea_row19_col9, #T_e19ea_row27_col8, #T_e19ea_row42_col11 {\n",
       "  background-color: #24878e;\n",
       "}\n",
       "#T_e19ea_row9_col12, #T_e19ea_row29_col5, #T_e19ea_row30_col11, #T_e19ea_row60_col13, #T_e19ea_row73_col14, #T_e19ea_row75_col11, #T_e19ea_row84_col13 {\n",
       "  background-color: #218f8d;\n",
       "}\n",
       "#T_e19ea_row9_col13, #T_e19ea_row17_col11 {\n",
       "  background-color: #1e9d89;\n",
       "}\n",
       "#T_e19ea_row9_col16, #T_e19ea_row24_col14, #T_e19ea_row55_col16, #T_e19ea_row62_col12, #T_e19ea_row62_col14, #T_e19ea_row64_col3, #T_e19ea_row64_col6 {\n",
       "  background-color: #3b528b;\n",
       "}\n",
       "#T_e19ea_row9_col17, #T_e19ea_row11_col15, #T_e19ea_row23_col14, #T_e19ea_row31_col14, #T_e19ea_row47_col10, #T_e19ea_row47_col11, #T_e19ea_row55_col17 {\n",
       "  background-color: #433e85;\n",
       "}\n",
       "#T_e19ea_row10_col13, #T_e19ea_row15_col13, #T_e19ea_row16_col13, #T_e19ea_row54_col12, #T_e19ea_row56_col3, #T_e19ea_row57_col13, #T_e19ea_row61_col13 {\n",
       "  background-color: #26818e;\n",
       "}\n",
       "#T_e19ea_row10_col16, #T_e19ea_row21_col12, #T_e19ea_row35_col12, #T_e19ea_row64_col9, #T_e19ea_row69_col13 {\n",
       "  background-color: #365c8d;\n",
       "}\n",
       "#T_e19ea_row11_col16, #T_e19ea_row24_col15, #T_e19ea_row35_col14, #T_e19ea_row37_col16, #T_e19ea_row40_col16, #T_e19ea_row56_col16, #T_e19ea_row57_col16, #T_e19ea_row58_col16, #T_e19ea_row76_col16 {\n",
       "  background-color: #3b518b;\n",
       "}\n",
       "#T_e19ea_row11_col18 {\n",
       "  background-color: #481769;\n",
       "}\n",
       "#T_e19ea_row12_col18, #T_e19ea_row22_col18, #T_e19ea_row23_col18, #T_e19ea_row45_col18, #T_e19ea_row48_col18, #T_e19ea_row60_col18, #T_e19ea_row62_col18, #T_e19ea_row66_col18, #T_e19ea_row83_col18 {\n",
       "  background-color: #481c6e;\n",
       "}\n",
       "#T_e19ea_row13_col6, #T_e19ea_row29_col11 {\n",
       "  background-color: #1f998a;\n",
       "}\n",
       "#T_e19ea_row13_col8, #T_e19ea_row28_col5, #T_e19ea_row30_col13 {\n",
       "  background-color: #2a778e;\n",
       "}\n",
       "#T_e19ea_row13_col11, #T_e19ea_row32_col12, #T_e19ea_row55_col13, #T_e19ea_row72_col15 {\n",
       "  background-color: #306a8e;\n",
       "}\n",
       "#T_e19ea_row13_col13, #T_e19ea_row22_col9, #T_e19ea_row35_col13, #T_e19ea_row39_col15, #T_e19ea_row43_col9, #T_e19ea_row51_col16, #T_e19ea_row55_col15, #T_e19ea_row63_col16, #T_e19ea_row64_col15, #T_e19ea_row75_col15, #T_e19ea_row76_col15 {\n",
       "  background-color: #375b8d;\n",
       "}\n",
       "#T_e19ea_row13_col15, #T_e19ea_row17_col16, #T_e19ea_row27_col15, #T_e19ea_row33_col9, #T_e19ea_row39_col16, #T_e19ea_row64_col7 {\n",
       "  background-color: #3e4c8a;\n",
       "}\n",
       "#T_e19ea_row14_col13, #T_e19ea_row19_col16, #T_e19ea_row28_col16, #T_e19ea_row29_col16, #T_e19ea_row41_col15, #T_e19ea_row43_col14, #T_e19ea_row82_col13 {\n",
       "  background-color: #3d4e8a;\n",
       "}\n",
       "#T_e19ea_row14_col17, #T_e19ea_row25_col18, #T_e19ea_row70_col14 {\n",
       "  background-color: #472d7b;\n",
       "}\n",
       "#T_e19ea_row14_col18, #T_e19ea_row80_col18 {\n",
       "  background-color: #481a6c;\n",
       "}\n",
       "#T_e19ea_row15_col7, #T_e19ea_row16_col7, #T_e19ea_row16_col8, #T_e19ea_row71_col9 {\n",
       "  background-color: #a2da37;\n",
       "}\n",
       "#T_e19ea_row15_col8 {\n",
       "  background-color: #8ed645;\n",
       "}\n",
       "#T_e19ea_row15_col9, #T_e19ea_row37_col7, #T_e19ea_row51_col5 {\n",
       "  background-color: #63cb5f;\n",
       "}\n",
       "#T_e19ea_row15_col10, #T_e19ea_row54_col6, #T_e19ea_row57_col7, #T_e19ea_row84_col11 {\n",
       "  background-color: #3fbc73;\n",
       "}\n",
       "#T_e19ea_row15_col11, #T_e19ea_row85_col12 {\n",
       "  background-color: #23a983;\n",
       "}\n",
       "#T_e19ea_row15_col12, #T_e19ea_row37_col12, #T_e19ea_row63_col13 {\n",
       "  background-color: #1f948c;\n",
       "}\n",
       "#T_e19ea_row15_col14, #T_e19ea_row25_col15, #T_e19ea_row27_col10, #T_e19ea_row31_col10, #T_e19ea_row53_col15, #T_e19ea_row55_col8, #T_e19ea_row63_col15, #T_e19ea_row77_col7 {\n",
       "  background-color: #2e6f8e;\n",
       "}\n",
       "#T_e19ea_row16_col9, #T_e19ea_row51_col8, #T_e19ea_row60_col10, #T_e19ea_row71_col10, #T_e19ea_row73_col8 {\n",
       "  background-color: #65cb5e;\n",
       "}\n",
       "#T_e19ea_row16_col10, #T_e19ea_row17_col8, #T_e19ea_row59_col11, #T_e19ea_row78_col11 {\n",
       "  background-color: #34b679;\n",
       "}\n",
       "#T_e19ea_row16_col12, #T_e19ea_row41_col8, #T_e19ea_row42_col10, #T_e19ea_row55_col4, #T_e19ea_row76_col9 {\n",
       "  background-color: #20928c;\n",
       "}\n",
       "#T_e19ea_row16_col14, #T_e19ea_row37_col14, #T_e19ea_row51_col15, #T_e19ea_row56_col8, #T_e19ea_row56_col12, #T_e19ea_row59_col15 {\n",
       "  background-color: #2d718e;\n",
       "}\n",
       "#T_e19ea_row16_col16, #T_e19ea_row20_col16, #T_e19ea_row23_col12, #T_e19ea_row34_col11, #T_e19ea_row34_col15, #T_e19ea_row38_col16, #T_e19ea_row69_col15 {\n",
       "  background-color: #3d4d8a;\n",
       "}\n",
       "#T_e19ea_row17_col7, #T_e19ea_row72_col10 {\n",
       "  background-color: #42be71;\n",
       "}\n",
       "#T_e19ea_row17_col9 {\n",
       "  background-color: #2cb17e;\n",
       "}\n",
       "#T_e19ea_row17_col10 {\n",
       "  background-color: #25ac82;\n",
       "}\n",
       "#T_e19ea_row17_col12, #T_e19ea_row26_col5, #T_e19ea_row26_col8, #T_e19ea_row52_col13 {\n",
       "  background-color: #228d8d;\n",
       "}\n",
       "#T_e19ea_row17_col13, #T_e19ea_row26_col10, #T_e19ea_row42_col7, #T_e19ea_row42_col12, #T_e19ea_row50_col14, #T_e19ea_row63_col1, #T_e19ea_row77_col8 {\n",
       "  background-color: #277e8e;\n",
       "}\n",
       "#T_e19ea_row18_col7, #T_e19ea_row27_col6, #T_e19ea_row28_col11 {\n",
       "  background-color: #1f968b;\n",
       "}\n",
       "#T_e19ea_row18_col9, #T_e19ea_row54_col11, #T_e19ea_row58_col11, #T_e19ea_row72_col13, #T_e19ea_row74_col14, #T_e19ea_row78_col13 {\n",
       "  background-color: #218e8d;\n",
       "}\n",
       "#T_e19ea_row18_col14, #T_e19ea_row54_col14 {\n",
       "  background-color: #32658e;\n",
       "}\n",
       "#T_e19ea_row18_col16, #T_e19ea_row26_col16, #T_e19ea_row61_col16, #T_e19ea_row62_col11, #T_e19ea_row62_col15 {\n",
       "  background-color: #3e4a89;\n",
       "}\n",
       "#T_e19ea_row19_col8, #T_e19ea_row29_col12, #T_e19ea_row71_col13, #T_e19ea_row76_col10 {\n",
       "  background-color: #228c8d;\n",
       "}\n",
       "#T_e19ea_row19_col10, #T_e19ea_row25_col14, #T_e19ea_row58_col4 {\n",
       "  background-color: #25838e;\n",
       "}\n",
       "#T_e19ea_row19_col11, #T_e19ea_row29_col13, #T_e19ea_row37_col13 {\n",
       "  background-color: #27808e;\n",
       "}\n",
       "#T_e19ea_row19_col14, #T_e19ea_row31_col8 {\n",
       "  background-color: #2f6b8e;\n",
       "}\n",
       "#T_e19ea_row19_col17, #T_e19ea_row28_col17, #T_e19ea_row29_col17, #T_e19ea_row38_col17, #T_e19ea_row46_col9, #T_e19ea_row48_col10, #T_e19ea_row49_col11, #T_e19ea_row62_col10, #T_e19ea_row64_col17, #T_e19ea_row79_col16 {\n",
       "  background-color: #443a83;\n",
       "}\n",
       "#T_e19ea_row20_col8, #T_e19ea_row21_col14, #T_e19ea_row22_col13, #T_e19ea_row44_col11, #T_e19ea_row44_col12, #T_e19ea_row64_col16, #T_e19ea_row77_col16 {\n",
       "  background-color: #3c4f8a;\n",
       "}\n",
       "#T_e19ea_row20_col13, #T_e19ea_row27_col11, #T_e19ea_row41_col12, #T_e19ea_row50_col15, #T_e19ea_row55_col7, #T_e19ea_row56_col7, #T_e19ea_row56_col13, #T_e19ea_row64_col12, #T_e19ea_row77_col12, #T_e19ea_row78_col15 {\n",
       "  background-color: #2f6c8e;\n",
       "}\n",
       "#T_e19ea_row20_col17, #T_e19ea_row26_col17, #T_e19ea_row32_col16, #T_e19ea_row39_col17, #T_e19ea_row46_col14, #T_e19ea_row83_col16 {\n",
       "  background-color: #443983;\n",
       "}\n",
       "#T_e19ea_row21_col8, #T_e19ea_row64_col14, #T_e19ea_row75_col13, #T_e19ea_row84_col15 {\n",
       "  background-color: #31668e;\n",
       "}\n",
       "#T_e19ea_row21_col10, #T_e19ea_row27_col12, #T_e19ea_row30_col14, #T_e19ea_row33_col12, #T_e19ea_row52_col15, #T_e19ea_row58_col3, #T_e19ea_row64_col11, #T_e19ea_row68_col14, #T_e19ea_row71_col15 {\n",
       "  background-color: #31688e;\n",
       "}\n",
       "#T_e19ea_row21_col13, #T_e19ea_row36_col15, #T_e19ea_row54_col15, #T_e19ea_row64_col4, #T_e19ea_row69_col11 {\n",
       "  background-color: #39558c;\n",
       "}\n",
       "#T_e19ea_row21_col15, #T_e19ea_row22_col14, #T_e19ea_row30_col16, #T_e19ea_row32_col15, #T_e19ea_row48_col12, #T_e19ea_row48_col13, #T_e19ea_row73_col17 {\n",
       "  background-color: #3f4788;\n",
       "}\n",
       "#T_e19ea_row21_col17, #T_e19ea_row27_col17, #T_e19ea_row31_col16, #T_e19ea_row69_col17 {\n",
       "  background-color: #46307e;\n",
       "}\n",
       "#T_e19ea_row21_col18, #T_e19ea_row30_col18, #T_e19ea_row35_col18, #T_e19ea_row54_col18 {\n",
       "  background-color: #482071;\n",
       "}\n",
       "#T_e19ea_row22_col12, #T_e19ea_row26_col15, #T_e19ea_row31_col7, #T_e19ea_row34_col14, #T_e19ea_row41_col14, #T_e19ea_row72_col16 {\n",
       "  background-color: #39568c;\n",
       "}\n",
       "#T_e19ea_row22_col15, #T_e19ea_row27_col16, #T_e19ea_row35_col16, #T_e19ea_row45_col13, #T_e19ea_row46_col12, #T_e19ea_row48_col14, #T_e19ea_row52_col17, #T_e19ea_row63_col17, #T_e19ea_row71_col17, #T_e19ea_row76_col17, #T_e19ea_row82_col16 {\n",
       "  background-color: #423f85;\n",
       "}\n",
       "#T_e19ea_row22_col17, #T_e19ea_row33_col17, #T_e19ea_row49_col17, #T_e19ea_row59_col18, #T_e19ea_row76_col18 {\n",
       "  background-color: #472a7a;\n",
       "}\n",
       "#T_e19ea_row23_col10, #T_e19ea_row24_col12, #T_e19ea_row35_col15, #T_e19ea_row36_col16, #T_e19ea_row44_col14, #T_e19ea_row48_col11, #T_e19ea_row63_col0, #T_e19ea_row64_col2, #T_e19ea_row68_col16 {\n",
       "  background-color: #3f4889;\n",
       "}\n",
       "#T_e19ea_row23_col11, #T_e19ea_row32_col14, #T_e19ea_row33_col14, #T_e19ea_row52_col16, #T_e19ea_row69_col14, #T_e19ea_row71_col16, #T_e19ea_row75_col16 {\n",
       "  background-color: #3a548c;\n",
       "}\n",
       "#T_e19ea_row24_col11, #T_e19ea_row37_col17, #T_e19ea_row46_col13, #T_e19ea_row47_col12, #T_e19ea_row47_col13, #T_e19ea_row57_col17, #T_e19ea_row77_col17, #T_e19ea_row84_col17 {\n",
       "  background-color: #433d84;\n",
       "}\n",
       "#T_e19ea_row25_col5, #T_e19ea_row60_col5 {\n",
       "  background-color: #1fa188;\n",
       "}\n",
       "#T_e19ea_row25_col7, #T_e19ea_row74_col10, #T_e19ea_row85_col8 {\n",
       "  background-color: #b2dd2d;\n",
       "}\n",
       "#T_e19ea_row25_col8 {\n",
       "  background-color: #a0da39;\n",
       "}\n",
       "#T_e19ea_row25_col9 {\n",
       "  background-color: #90d743;\n",
       "}\n",
       "#T_e19ea_row25_col10, #T_e19ea_row72_col9 {\n",
       "  background-color: #7fd34e;\n",
       "}\n",
       "#T_e19ea_row25_col11, #T_e19ea_row38_col10 {\n",
       "  background-color: #4ac16d;\n",
       "}\n",
       "#T_e19ea_row25_col12, #T_e19ea_row36_col7, #T_e19ea_row36_col9, #T_e19ea_row51_col12, #T_e19ea_row54_col4, #T_e19ea_row68_col10 {\n",
       "  background-color: #27ad81;\n",
       "}\n",
       "#T_e19ea_row26_col6, #T_e19ea_row57_col12 {\n",
       "  background-color: #238a8d;\n",
       "}\n",
       "#T_e19ea_row26_col7, #T_e19ea_row39_col11, #T_e19ea_row42_col8, #T_e19ea_row58_col10 {\n",
       "  background-color: #1f958b;\n",
       "}\n",
       "#T_e19ea_row26_col12, #T_e19ea_row32_col11, #T_e19ea_row55_col9 {\n",
       "  background-color: #2c728e;\n",
       "}\n",
       "#T_e19ea_row27_col7, #T_e19ea_row42_col9, #T_e19ea_row57_col11, #T_e19ea_row68_col7 {\n",
       "  background-color: #20938c;\n",
       "}\n",
       "#T_e19ea_row27_col9, #T_e19ea_row36_col12, #T_e19ea_row52_col14, #T_e19ea_row53_col6, #T_e19ea_row84_col14 {\n",
       "  background-color: #297b8e;\n",
       "}\n",
       "#T_e19ea_row27_col13, #T_e19ea_row76_col14 {\n",
       "  background-color: #32648e;\n",
       "}\n",
       "#T_e19ea_row28_col7, #T_e19ea_row78_col9 {\n",
       "  background-color: #54c568;\n",
       "}\n",
       "#T_e19ea_row28_col9, #T_e19ea_row30_col8, #T_e19ea_row38_col11, #T_e19ea_row72_col11, #T_e19ea_row85_col3 {\n",
       "  background-color: #28ae80;\n",
       "}\n",
       "#T_e19ea_row28_col10, #T_e19ea_row52_col12, #T_e19ea_row71_col12, #T_e19ea_row75_col10, #T_e19ea_row78_col12 {\n",
       "  background-color: #1fa287;\n",
       "}\n",
       "#T_e19ea_row28_col12, #T_e19ea_row41_col9, #T_e19ea_row52_col5, #T_e19ea_row78_col7 {\n",
       "  background-color: #228b8d;\n",
       "}\n",
       "#T_e19ea_row29_col7, #T_e19ea_row39_col9, #T_e19ea_row85_col4, #T_e19ea_row85_col11 {\n",
       "  background-color: #3aba76;\n",
       "}\n",
       "#T_e19ea_row29_col9, #T_e19ea_row59_col4, #T_e19ea_row75_col7 {\n",
       "  background-color: #26ad81;\n",
       "}\n",
       "#T_e19ea_row29_col15, #T_e19ea_row75_col14, #T_e19ea_row77_col14 {\n",
       "  background-color: #34608d;\n",
       "}\n",
       "#T_e19ea_row30_col7, #T_e19ea_row51_col6, #T_e19ea_row71_col11 {\n",
       "  background-color: #37b878;\n",
       "}\n",
       "#T_e19ea_row30_col12, #T_e19ea_row56_col6, #T_e19ea_row61_col8, #T_e19ea_row61_col12, #T_e19ea_row63_col14, #T_e19ea_row76_col11, #T_e19ea_row85_col14 {\n",
       "  background-color: #26828e;\n",
       "}\n",
       "#T_e19ea_row30_col17, #T_e19ea_row60_col17 {\n",
       "  background-color: #463480;\n",
       "}\n",
       "#T_e19ea_row31_col18, #T_e19ea_row33_col18, #T_e19ea_row47_col18, #T_e19ea_row49_col18, #T_e19ea_row69_col18, #T_e19ea_row83_col13 {\n",
       "  background-color: #481d6f;\n",
       "}\n",
       "#T_e19ea_row33_col10, #T_e19ea_row54_col13, #T_e19ea_row77_col10 {\n",
       "  background-color: #2c738e;\n",
       "}\n",
       "#T_e19ea_row34_col16, #T_e19ea_row50_col17, #T_e19ea_row53_col17, #T_e19ea_row62_col16, #T_e19ea_row72_col17, #T_e19ea_row75_col17 {\n",
       "  background-color: #424186;\n",
       "}\n",
       "#T_e19ea_row34_col17, #T_e19ea_row70_col16, #T_e19ea_row83_col15 {\n",
       "  background-color: #46327e;\n",
       "}\n",
       "#T_e19ea_row35_col17, #T_e19ea_row46_col8, #T_e19ea_row62_col17, #T_e19ea_row70_col15, #T_e19ea_row82_col10 {\n",
       "  background-color: #472f7d;\n",
       "}\n",
       "#T_e19ea_row36_col8, #T_e19ea_row78_col8 {\n",
       "  background-color: #4ec36b;\n",
       "}\n",
       "#T_e19ea_row36_col11, #T_e19ea_row68_col12 {\n",
       "  background-color: #23898e;\n",
       "}\n",
       "#T_e19ea_row37_col8, #T_e19ea_row40_col8 {\n",
       "  background-color: #77d153;\n",
       "}\n",
       "#T_e19ea_row37_col9 {\n",
       "  background-color: #5ac864;\n",
       "}\n",
       "#T_e19ea_row37_col10 {\n",
       "  background-color: #40bd72;\n",
       "}\n",
       "#T_e19ea_row37_col11 {\n",
       "  background-color: #24aa83;\n",
       "}\n",
       "#T_e19ea_row38_col8, #T_e19ea_row59_col6 {\n",
       "  background-color: #9bd93c;\n",
       "}\n",
       "#T_e19ea_row38_col9, #T_e19ea_row73_col7 {\n",
       "  background-color: #6ece58;\n",
       "}\n",
       "#T_e19ea_row38_col12, #T_e19ea_row54_col3 {\n",
       "  background-color: #1e9b8a;\n",
       "}\n",
       "#T_e19ea_row38_col13, #T_e19ea_row58_col12 {\n",
       "  background-color: #24868e;\n",
       "}\n",
       "#T_e19ea_row39_col8, #T_e19ea_row40_col7 {\n",
       "  background-color: #69cd5b;\n",
       "}\n",
       "#T_e19ea_row40_col10, #T_e19ea_row74_col6 {\n",
       "  background-color: #32b67a;\n",
       "}\n",
       "#T_e19ea_row40_col11, #T_e19ea_row63_col8, #T_e19ea_row63_col11 {\n",
       "  background-color: #20a386;\n",
       "}\n",
       "#T_e19ea_row40_col12, #T_e19ea_row50_col13 {\n",
       "  background-color: #21918c;\n",
       "}\n",
       "#T_e19ea_row40_col13, #T_e19ea_row78_col14 {\n",
       "  background-color: #287d8e;\n",
       "}\n",
       "#T_e19ea_row40_col17, #T_e19ea_row45_col14, #T_e19ea_row49_col15, #T_e19ea_row56_col17, #T_e19ea_row58_col17 {\n",
       "  background-color: #443b84;\n",
       "}\n",
       "#T_e19ea_row43_col18, #T_e19ea_row44_col18, #T_e19ea_row68_col18, #T_e19ea_row70_col18, #T_e19ea_row82_col18 {\n",
       "  background-color: #481b6d;\n",
       "}\n",
       "#T_e19ea_row50_col5, #T_e19ea_row50_col7 {\n",
       "  background-color: #ece51b;\n",
       "}\n",
       "#T_e19ea_row50_col8 {\n",
       "  background-color: #c2df23;\n",
       "}\n",
       "#T_e19ea_row50_col9 {\n",
       "  background-color: #95d840;\n",
       "}\n",
       "#T_e19ea_row50_col10, #T_e19ea_row51_col9, #T_e19ea_row59_col9 {\n",
       "  background-color: #6ccd5a;\n",
       "}\n",
       "#T_e19ea_row51_col7, #T_e19ea_row60_col6 {\n",
       "  background-color: #60ca60;\n",
       "}\n",
       "#T_e19ea_row51_col10, #T_e19ea_row57_col5 {\n",
       "  background-color: #73d056;\n",
       "}\n",
       "#T_e19ea_row51_col11, #T_e19ea_row54_col5, #T_e19ea_row58_col7 {\n",
       "  background-color: #46c06f;\n",
       "}\n",
       "#T_e19ea_row52_col6 {\n",
       "  background-color: #4cc26c;\n",
       "}\n",
       "#T_e19ea_row52_col7 {\n",
       "  background-color: #c0df25;\n",
       "}\n",
       "#T_e19ea_row52_col8, #T_e19ea_row85_col6 {\n",
       "  background-color: #9dd93b;\n",
       "}\n",
       "#T_e19ea_row52_col10, #T_e19ea_row73_col9, #T_e19ea_row85_col5, #T_e19ea_row85_col10 {\n",
       "  background-color: #5ec962;\n",
       "}\n",
       "#T_e19ea_row52_col11 {\n",
       "  background-color: #35b779;\n",
       "}\n",
       "#T_e19ea_row53_col11 {\n",
       "  background-color: #31b57b;\n",
       "}\n",
       "#T_e19ea_row53_col12, #T_e19ea_row57_col9, #T_e19ea_row59_col12, #T_e19ea_row63_col9 {\n",
       "  background-color: #22a785;\n",
       "}\n",
       "#T_e19ea_row54_col7, #T_e19ea_row60_col11 {\n",
       "  background-color: #38b977;\n",
       "}\n",
       "#T_e19ea_row54_col10, #T_e19ea_row56_col4, #T_e19ea_row57_col10, #T_e19ea_row63_col12, #T_e19ea_row68_col11 {\n",
       "  background-color: #1e9c89;\n",
       "}\n",
       "#T_e19ea_row55_col10 {\n",
       "  background-color: #2b758e;\n",
       "}\n",
       "#T_e19ea_row56_col14, #T_e19ea_row60_col15, #T_e19ea_row64_col10, #T_e19ea_row73_col16 {\n",
       "  background-color: #33638d;\n",
       "}\n",
       "#T_e19ea_row57_col4, #T_e19ea_row68_col9, #T_e19ea_row73_col12 {\n",
       "  background-color: #2ab07f;\n",
       "}\n",
       "#T_e19ea_row57_col6, #T_e19ea_row63_col2, #T_e19ea_row73_col10 {\n",
       "  background-color: #58c765;\n",
       "}\n",
       "#T_e19ea_row57_col8 {\n",
       "  background-color: #2db27d;\n",
       "}\n",
       "#T_e19ea_row58_col5 {\n",
       "  background-color: #67cc5c;\n",
       "}\n",
       "#T_e19ea_row58_col6 {\n",
       "  background-color: #56c667;\n",
       "}\n",
       "#T_e19ea_row59_col5, #T_e19ea_row72_col5 {\n",
       "  background-color: #8bd646;\n",
       "}\n",
       "#T_e19ea_row59_col7, #T_e19ea_row84_col9 {\n",
       "  background-color: #a8db34;\n",
       "}\n",
       "#T_e19ea_row59_col8 {\n",
       "  background-color: #89d548;\n",
       "}\n",
       "#T_e19ea_row60_col7 {\n",
       "  background-color: #aadc32;\n",
       "}\n",
       "#T_e19ea_row60_col8 {\n",
       "  background-color: #93d741;\n",
       "}\n",
       "#T_e19ea_row61_col15, #T_e19ea_row74_col16 {\n",
       "  background-color: #355e8d;\n",
       "}\n",
       "#T_e19ea_row63_col4, #T_e19ea_row73_col6, #T_e19ea_row74_col7 {\n",
       "  background-color: #efe51c;\n",
       "}\n",
       "#T_e19ea_row63_col5 {\n",
       "  background-color: #b8de29;\n",
       "}\n",
       "#T_e19ea_row63_col7, #T_e19ea_row72_col12 {\n",
       "  background-color: #1f9f88;\n",
       "}\n",
       "#T_e19ea_row67_col19, #T_e19ea_row81_col19 {\n",
       "  background-color: #460a5d;\n",
       "}\n",
       "#T_e19ea_row71_col8 {\n",
       "  background-color: #e5e419;\n",
       "}\n",
       "#T_e19ea_row72_col8, #T_e19ea_row74_col9 {\n",
       "  background-color: #c5e021;\n",
       "}\n",
       "#T_e19ea_row73_col5 {\n",
       "  background-color: #fbe723;\n",
       "}\n",
       "#T_e19ea_row74_col8 {\n",
       "  background-color: #dae319;\n",
       "}\n",
       "#T_e19ea_row74_col11 {\n",
       "  background-color: #70cf57;\n",
       "}\n",
       "#T_e19ea_row75_col8 {\n",
       "  background-color: #22a884;\n",
       "}\n",
       "#T_e19ea_row78_col10 {\n",
       "  background-color: #5cc863;\n",
       "}\n",
       "#T_e19ea_row84_col0 {\n",
       "  background-color: #f8e621;\n",
       "}\n",
       "#T_e19ea_row84_col8 {\n",
       "  background-color: #dde318;\n",
       "}\n",
       "#T_e19ea_row84_col10 {\n",
       "  background-color: #75d054;\n",
       "}\n",
       "#T_e19ea_row85_col7 {\n",
       "  background-color: #dfe318;\n",
       "}\n",
       "#T_e19ea_row85_col9 {\n",
       "  background-color: #86d549;\n",
       "}\n",
       "</style>\n",
       "<table id=\"T_e19ea\">\n",
       "  <thead>\n",
       "    <tr>\n",
       "      <th class=\"blank\" >&nbsp;</th>\n",
       "      <th class=\"index_name level0\" >aperture_float</th>\n",
       "      <th id=\"T_e19ea_level0_col0\" class=\"col_heading level0 col0\" >1.2</th>\n",
       "      <th id=\"T_e19ea_level0_col1\" class=\"col_heading level0 col1\" >1.4</th>\n",
       "      <th id=\"T_e19ea_level0_col2\" class=\"col_heading level0 col2\" >1.8</th>\n",
       "      <th id=\"T_e19ea_level0_col3\" class=\"col_heading level0 col3\" >2.0</th>\n",
       "      <th id=\"T_e19ea_level0_col4\" class=\"col_heading level0 col4\" >2.2</th>\n",
       "      <th id=\"T_e19ea_level0_col5\" class=\"col_heading level0 col5\" >2.8</th>\n",
       "      <th id=\"T_e19ea_level0_col6\" class=\"col_heading level0 col6\" >3.2</th>\n",
       "      <th id=\"T_e19ea_level0_col7\" class=\"col_heading level0 col7\" >4.0</th>\n",
       "      <th id=\"T_e19ea_level0_col8\" class=\"col_heading level0 col8\" >4.5</th>\n",
       "      <th id=\"T_e19ea_level0_col9\" class=\"col_heading level0 col9\" >5.0</th>\n",
       "      <th id=\"T_e19ea_level0_col10\" class=\"col_heading level0 col10\" >5.6</th>\n",
       "      <th id=\"T_e19ea_level0_col11\" class=\"col_heading level0 col11\" >6.3</th>\n",
       "      <th id=\"T_e19ea_level0_col12\" class=\"col_heading level0 col12\" >7.1</th>\n",
       "      <th id=\"T_e19ea_level0_col13\" class=\"col_heading level0 col13\" >8.0</th>\n",
       "      <th id=\"T_e19ea_level0_col14\" class=\"col_heading level0 col14\" >9.0</th>\n",
       "      <th id=\"T_e19ea_level0_col15\" class=\"col_heading level0 col15\" >10.0</th>\n",
       "      <th id=\"T_e19ea_level0_col16\" class=\"col_heading level0 col16\" >11.0</th>\n",
       "      <th id=\"T_e19ea_level0_col17\" class=\"col_heading level0 col17\" >14.0</th>\n",
       "      <th id=\"T_e19ea_level0_col18\" class=\"col_heading level0 col18\" >16.0</th>\n",
       "      <th id=\"T_e19ea_level0_col19\" class=\"col_heading level0 col19\" >22.0</th>\n",
       "    </tr>\n",
       "    <tr>\n",
       "      <th class=\"index_name level0\" >title</th>\n",
       "      <th class=\"index_name level1\" >focal_length_int</th>\n",
       "      <th class=\"blank col0\" >&nbsp;</th>\n",
       "      <th class=\"blank col1\" >&nbsp;</th>\n",
       "      <th class=\"blank col2\" >&nbsp;</th>\n",
       "      <th class=\"blank col3\" >&nbsp;</th>\n",
       "      <th class=\"blank col4\" >&nbsp;</th>\n",
       "      <th class=\"blank col5\" >&nbsp;</th>\n",
       "      <th class=\"blank col6\" >&nbsp;</th>\n",
       "      <th class=\"blank col7\" >&nbsp;</th>\n",
       "      <th class=\"blank col8\" >&nbsp;</th>\n",
       "      <th class=\"blank col9\" >&nbsp;</th>\n",
       "      <th class=\"blank col10\" >&nbsp;</th>\n",
       "      <th class=\"blank col11\" >&nbsp;</th>\n",
       "      <th class=\"blank col12\" >&nbsp;</th>\n",
       "      <th class=\"blank col13\" >&nbsp;</th>\n",
       "      <th class=\"blank col14\" >&nbsp;</th>\n",
       "      <th class=\"blank col15\" >&nbsp;</th>\n",
       "      <th class=\"blank col16\" >&nbsp;</th>\n",
       "      <th class=\"blank col17\" >&nbsp;</th>\n",
       "      <th class=\"blank col18\" >&nbsp;</th>\n",
       "      <th class=\"blank col19\" >&nbsp;</th>\n",
       "    </tr>\n",
       "  </thead>\n",
       "  <tbody>\n",
       "    <tr>\n",
       "      <th id=\"T_e19ea_level0_row0\" class=\"row_heading level0 row0\" >CanonEF200mmf2LISUSM</th>\n",
       "      <th id=\"T_e19ea_level1_row0\" class=\"row_heading level1 row0\" >200</th>\n",
       "      <td id=\"T_e19ea_row0_col0\" class=\"data row0 col0\" >-</td>\n",
       "      <td id=\"T_e19ea_row0_col1\" class=\"data row0 col1\" >-</td>\n",
       "      <td id=\"T_e19ea_row0_col2\" class=\"data row0 col2\" >-</td>\n",
       "      <td id=\"T_e19ea_row0_col3\" class=\"data row0 col3\" >2586</td>\n",
       "      <td id=\"T_e19ea_row0_col4\" class=\"data row0 col4\" >4782</td>\n",
       "      <td id=\"T_e19ea_row0_col5\" class=\"data row0 col5\" >5099</td>\n",
       "      <td id=\"T_e19ea_row0_col6\" class=\"data row0 col6\" >4953</td>\n",
       "      <td id=\"T_e19ea_row0_col7\" class=\"data row0 col7\" >4807</td>\n",
       "      <td id=\"T_e19ea_row0_col8\" class=\"data row0 col8\" >4441</td>\n",
       "      <td id=\"T_e19ea_row0_col9\" class=\"data row0 col9\" >4076</td>\n",
       "      <td id=\"T_e19ea_row0_col10\" class=\"data row0 col10\" >3711</td>\n",
       "      <td id=\"T_e19ea_row0_col11\" class=\"data row0 col11\" >3218</td>\n",
       "      <td id=\"T_e19ea_row0_col12\" class=\"data row0 col12\" >2726</td>\n",
       "      <td id=\"T_e19ea_row0_col13\" class=\"data row0 col13\" >2234</td>\n",
       "      <td id=\"T_e19ea_row0_col14\" class=\"data row0 col14\" >1860</td>\n",
       "      <td id=\"T_e19ea_row0_col15\" class=\"data row0 col15\" >1486</td>\n",
       "      <td id=\"T_e19ea_row0_col16\" class=\"data row0 col16\" >1112</td>\n",
       "      <td id=\"T_e19ea_row0_col17\" class=\"data row0 col17\" >752</td>\n",
       "      <td id=\"T_e19ea_row0_col18\" class=\"data row0 col18\" >391</td>\n",
       "      <td id=\"T_e19ea_row0_col19\" class=\"data row0 col19\" >-</td>\n",
       "    </tr>\n",
       "    <tr>\n",
       "      <th id=\"T_e19ea_level0_row1\" class=\"row_heading level0 row1\" rowspan=\"5\">CanonRF100-400mmF5.6-8ISUSM</th>\n",
       "      <th id=\"T_e19ea_level1_row1\" class=\"row_heading level1 row1\" >100</th>\n",
       "      <td id=\"T_e19ea_row1_col0\" class=\"data row1 col0\" >-</td>\n",
       "      <td id=\"T_e19ea_row1_col1\" class=\"data row1 col1\" >-</td>\n",
       "      <td id=\"T_e19ea_row1_col2\" class=\"data row1 col2\" >-</td>\n",
       "      <td id=\"T_e19ea_row1_col3\" class=\"data row1 col3\" >-</td>\n",
       "      <td id=\"T_e19ea_row1_col4\" class=\"data row1 col4\" >-</td>\n",
       "      <td id=\"T_e19ea_row1_col5\" class=\"data row1 col5\" >-</td>\n",
       "      <td id=\"T_e19ea_row1_col6\" class=\"data row1 col6\" >-</td>\n",
       "      <td id=\"T_e19ea_row1_col7\" class=\"data row1 col7\" >-</td>\n",
       "      <td id=\"T_e19ea_row1_col8\" class=\"data row1 col8\" >-</td>\n",
       "      <td id=\"T_e19ea_row1_col9\" class=\"data row1 col9\" >-</td>\n",
       "      <td id=\"T_e19ea_row1_col10\" class=\"data row1 col10\" >1599</td>\n",
       "      <td id=\"T_e19ea_row1_col11\" class=\"data row1 col11\" >1606</td>\n",
       "      <td id=\"T_e19ea_row1_col12\" class=\"data row1 col12\" >1420</td>\n",
       "      <td id=\"T_e19ea_row1_col13\" class=\"data row1 col13\" >1233</td>\n",
       "      <td id=\"T_e19ea_row1_col14\" class=\"data row1 col14\" >1102</td>\n",
       "      <td id=\"T_e19ea_row1_col15\" class=\"data row1 col15\" >972</td>\n",
       "      <td id=\"T_e19ea_row1_col16\" class=\"data row1 col16\" >841</td>\n",
       "      <td id=\"T_e19ea_row1_col17\" class=\"data row1 col17\" >619</td>\n",
       "      <td id=\"T_e19ea_row1_col18\" class=\"data row1 col18\" >396</td>\n",
       "      <td id=\"T_e19ea_row1_col19\" class=\"data row1 col19\" >-</td>\n",
       "    </tr>\n",
       "    <tr>\n",
       "      <th id=\"T_e19ea_level1_row2\" class=\"row_heading level1 row2\" >135</th>\n",
       "      <td id=\"T_e19ea_row2_col0\" class=\"data row2 col0\" >-</td>\n",
       "      <td id=\"T_e19ea_row2_col1\" class=\"data row2 col1\" >-</td>\n",
       "      <td id=\"T_e19ea_row2_col2\" class=\"data row2 col2\" >-</td>\n",
       "      <td id=\"T_e19ea_row2_col3\" class=\"data row2 col3\" >-</td>\n",
       "      <td id=\"T_e19ea_row2_col4\" class=\"data row2 col4\" >-</td>\n",
       "      <td id=\"T_e19ea_row2_col5\" class=\"data row2 col5\" >-</td>\n",
       "      <td id=\"T_e19ea_row2_col6\" class=\"data row2 col6\" >-</td>\n",
       "      <td id=\"T_e19ea_row2_col7\" class=\"data row2 col7\" >-</td>\n",
       "      <td id=\"T_e19ea_row2_col8\" class=\"data row2 col8\" >-</td>\n",
       "      <td id=\"T_e19ea_row2_col9\" class=\"data row2 col9\" >-</td>\n",
       "      <td id=\"T_e19ea_row2_col10\" class=\"data row2 col10\" >-</td>\n",
       "      <td id=\"T_e19ea_row2_col11\" class=\"data row2 col11\" >1666</td>\n",
       "      <td id=\"T_e19ea_row2_col12\" class=\"data row2 col12\" >1637</td>\n",
       "      <td id=\"T_e19ea_row2_col13\" class=\"data row2 col13\" >1614</td>\n",
       "      <td id=\"T_e19ea_row2_col14\" class=\"data row2 col14\" >1346</td>\n",
       "      <td id=\"T_e19ea_row2_col15\" class=\"data row2 col15\" >1078</td>\n",
       "      <td id=\"T_e19ea_row2_col16\" class=\"data row2 col16\" >810</td>\n",
       "      <td id=\"T_e19ea_row2_col17\" class=\"data row2 col17\" >594</td>\n",
       "      <td id=\"T_e19ea_row2_col18\" class=\"data row2 col18\" >377</td>\n",
       "      <td id=\"T_e19ea_row2_col19\" class=\"data row2 col19\" >-</td>\n",
       "    </tr>\n",
       "    <tr>\n",
       "      <th id=\"T_e19ea_level1_row3\" class=\"row_heading level1 row3\" >200</th>\n",
       "      <td id=\"T_e19ea_row3_col0\" class=\"data row3 col0\" >-</td>\n",
       "      <td id=\"T_e19ea_row3_col1\" class=\"data row3 col1\" >-</td>\n",
       "      <td id=\"T_e19ea_row3_col2\" class=\"data row3 col2\" >-</td>\n",
       "      <td id=\"T_e19ea_row3_col3\" class=\"data row3 col3\" >-</td>\n",
       "      <td id=\"T_e19ea_row3_col4\" class=\"data row3 col4\" >-</td>\n",
       "      <td id=\"T_e19ea_row3_col5\" class=\"data row3 col5\" >-</td>\n",
       "      <td id=\"T_e19ea_row3_col6\" class=\"data row3 col6\" >-</td>\n",
       "      <td id=\"T_e19ea_row3_col7\" class=\"data row3 col7\" >-</td>\n",
       "      <td id=\"T_e19ea_row3_col8\" class=\"data row3 col8\" >-</td>\n",
       "      <td id=\"T_e19ea_row3_col9\" class=\"data row3 col9\" >-</td>\n",
       "      <td id=\"T_e19ea_row3_col10\" class=\"data row3 col10\" >-</td>\n",
       "      <td id=\"T_e19ea_row3_col11\" class=\"data row3 col11\" >-</td>\n",
       "      <td id=\"T_e19ea_row3_col12\" class=\"data row3 col12\" >1566</td>\n",
       "      <td id=\"T_e19ea_row3_col13\" class=\"data row3 col13\" >1533</td>\n",
       "      <td id=\"T_e19ea_row3_col14\" class=\"data row3 col14\" >1314</td>\n",
       "      <td id=\"T_e19ea_row3_col15\" class=\"data row3 col15\" >1095</td>\n",
       "      <td id=\"T_e19ea_row3_col16\" class=\"data row3 col16\" >877</td>\n",
       "      <td id=\"T_e19ea_row3_col17\" class=\"data row3 col17\" >641</td>\n",
       "      <td id=\"T_e19ea_row3_col18\" class=\"data row3 col18\" >406</td>\n",
       "      <td id=\"T_e19ea_row3_col19\" class=\"data row3 col19\" >-</td>\n",
       "    </tr>\n",
       "    <tr>\n",
       "      <th id=\"T_e19ea_level1_row4\" class=\"row_heading level1 row4\" >300</th>\n",
       "      <td id=\"T_e19ea_row4_col0\" class=\"data row4 col0\" >-</td>\n",
       "      <td id=\"T_e19ea_row4_col1\" class=\"data row4 col1\" >-</td>\n",
       "      <td id=\"T_e19ea_row4_col2\" class=\"data row4 col2\" >-</td>\n",
       "      <td id=\"T_e19ea_row4_col3\" class=\"data row4 col3\" >-</td>\n",
       "      <td id=\"T_e19ea_row4_col4\" class=\"data row4 col4\" >-</td>\n",
       "      <td id=\"T_e19ea_row4_col5\" class=\"data row4 col5\" >-</td>\n",
       "      <td id=\"T_e19ea_row4_col6\" class=\"data row4 col6\" >-</td>\n",
       "      <td id=\"T_e19ea_row4_col7\" class=\"data row4 col7\" >-</td>\n",
       "      <td id=\"T_e19ea_row4_col8\" class=\"data row4 col8\" >-</td>\n",
       "      <td id=\"T_e19ea_row4_col9\" class=\"data row4 col9\" >-</td>\n",
       "      <td id=\"T_e19ea_row4_col10\" class=\"data row4 col10\" >-</td>\n",
       "      <td id=\"T_e19ea_row4_col11\" class=\"data row4 col11\" >-</td>\n",
       "      <td id=\"T_e19ea_row4_col12\" class=\"data row4 col12\" >-</td>\n",
       "      <td id=\"T_e19ea_row4_col13\" class=\"data row4 col13\" >1458</td>\n",
       "      <td id=\"T_e19ea_row4_col14\" class=\"data row4 col14\" >1250</td>\n",
       "      <td id=\"T_e19ea_row4_col15\" class=\"data row4 col15\" >1021</td>\n",
       "      <td id=\"T_e19ea_row4_col16\" class=\"data row4 col16\" >793</td>\n",
       "      <td id=\"T_e19ea_row4_col17\" class=\"data row4 col17\" >582</td>\n",
       "      <td id=\"T_e19ea_row4_col18\" class=\"data row4 col18\" >371</td>\n",
       "      <td id=\"T_e19ea_row4_col19\" class=\"data row4 col19\" >-</td>\n",
       "    </tr>\n",
       "    <tr>\n",
       "      <th id=\"T_e19ea_level1_row5\" class=\"row_heading level1 row5\" >400</th>\n",
       "      <td id=\"T_e19ea_row5_col0\" class=\"data row5 col0\" >-</td>\n",
       "      <td id=\"T_e19ea_row5_col1\" class=\"data row5 col1\" >-</td>\n",
       "      <td id=\"T_e19ea_row5_col2\" class=\"data row5 col2\" >-</td>\n",
       "      <td id=\"T_e19ea_row5_col3\" class=\"data row5 col3\" >-</td>\n",
       "      <td id=\"T_e19ea_row5_col4\" class=\"data row5 col4\" >-</td>\n",
       "      <td id=\"T_e19ea_row5_col5\" class=\"data row5 col5\" >-</td>\n",
       "      <td id=\"T_e19ea_row5_col6\" class=\"data row5 col6\" >-</td>\n",
       "      <td id=\"T_e19ea_row5_col7\" class=\"data row5 col7\" >-</td>\n",
       "      <td id=\"T_e19ea_row5_col8\" class=\"data row5 col8\" >-</td>\n",
       "      <td id=\"T_e19ea_row5_col9\" class=\"data row5 col9\" >-</td>\n",
       "      <td id=\"T_e19ea_row5_col10\" class=\"data row5 col10\" >-</td>\n",
       "      <td id=\"T_e19ea_row5_col11\" class=\"data row5 col11\" >-</td>\n",
       "      <td id=\"T_e19ea_row5_col12\" class=\"data row5 col12\" >-</td>\n",
       "      <td id=\"T_e19ea_row5_col13\" class=\"data row5 col13\" >486</td>\n",
       "      <td id=\"T_e19ea_row5_col14\" class=\"data row5 col14\" >636</td>\n",
       "      <td id=\"T_e19ea_row5_col15\" class=\"data row5 col15\" >525</td>\n",
       "      <td id=\"T_e19ea_row5_col16\" class=\"data row5 col16\" >415</td>\n",
       "      <td id=\"T_e19ea_row5_col17\" class=\"data row5 col17\" >339</td>\n",
       "      <td id=\"T_e19ea_row5_col18\" class=\"data row5 col18\" >263</td>\n",
       "      <td id=\"T_e19ea_row5_col19\" class=\"data row5 col19\" >-</td>\n",
       "    </tr>\n",
       "    <tr>\n",
       "      <th id=\"T_e19ea_level0_row6\" class=\"row_heading level0 row6\" rowspan=\"7\">CanonRF100-500mmF4.5-7.1LISUSM</th>\n",
       "      <th id=\"T_e19ea_level1_row6\" class=\"row_heading level1 row6\" >100</th>\n",
       "      <td id=\"T_e19ea_row6_col0\" class=\"data row6 col0\" >-</td>\n",
       "      <td id=\"T_e19ea_row6_col1\" class=\"data row6 col1\" >-</td>\n",
       "      <td id=\"T_e19ea_row6_col2\" class=\"data row6 col2\" >-</td>\n",
       "      <td id=\"T_e19ea_row6_col3\" class=\"data row6 col3\" >-</td>\n",
       "      <td id=\"T_e19ea_row6_col4\" class=\"data row6 col4\" >-</td>\n",
       "      <td id=\"T_e19ea_row6_col5\" class=\"data row6 col5\" >-</td>\n",
       "      <td id=\"T_e19ea_row6_col6\" class=\"data row6 col6\" >-</td>\n",
       "      <td id=\"T_e19ea_row6_col7\" class=\"data row6 col7\" >-</td>\n",
       "      <td id=\"T_e19ea_row6_col8\" class=\"data row6 col8\" >2530</td>\n",
       "      <td id=\"T_e19ea_row6_col9\" class=\"data row6 col9\" >2837</td>\n",
       "      <td id=\"T_e19ea_row6_col10\" class=\"data row6 col10\" >2444</td>\n",
       "      <td id=\"T_e19ea_row6_col11\" class=\"data row6 col11\" >2336</td>\n",
       "      <td id=\"T_e19ea_row6_col12\" class=\"data row6 col12\" >2227</td>\n",
       "      <td id=\"T_e19ea_row6_col13\" class=\"data row6 col13\" >2119</td>\n",
       "      <td id=\"T_e19ea_row6_col14\" class=\"data row6 col14\" >1809</td>\n",
       "      <td id=\"T_e19ea_row6_col15\" class=\"data row6 col15\" >1500</td>\n",
       "      <td id=\"T_e19ea_row6_col16\" class=\"data row6 col16\" >1190</td>\n",
       "      <td id=\"T_e19ea_row6_col17\" class=\"data row6 col17\" >825</td>\n",
       "      <td id=\"T_e19ea_row6_col18\" class=\"data row6 col18\" >459</td>\n",
       "      <td id=\"T_e19ea_row6_col19\" class=\"data row6 col19\" >-</td>\n",
       "    </tr>\n",
       "    <tr>\n",
       "      <th id=\"T_e19ea_level1_row7\" class=\"row_heading level1 row7\" >200</th>\n",
       "      <td id=\"T_e19ea_row7_col0\" class=\"data row7 col0\" >-</td>\n",
       "      <td id=\"T_e19ea_row7_col1\" class=\"data row7 col1\" >-</td>\n",
       "      <td id=\"T_e19ea_row7_col2\" class=\"data row7 col2\" >-</td>\n",
       "      <td id=\"T_e19ea_row7_col3\" class=\"data row7 col3\" >-</td>\n",
       "      <td id=\"T_e19ea_row7_col4\" class=\"data row7 col4\" >-</td>\n",
       "      <td id=\"T_e19ea_row7_col5\" class=\"data row7 col5\" >-</td>\n",
       "      <td id=\"T_e19ea_row7_col6\" class=\"data row7 col6\" >-</td>\n",
       "      <td id=\"T_e19ea_row7_col7\" class=\"data row7 col7\" >-</td>\n",
       "      <td id=\"T_e19ea_row7_col8\" class=\"data row7 col8\" >-</td>\n",
       "      <td id=\"T_e19ea_row7_col9\" class=\"data row7 col9\" >2908</td>\n",
       "      <td id=\"T_e19ea_row7_col10\" class=\"data row7 col10\" >2803</td>\n",
       "      <td id=\"T_e19ea_row7_col11\" class=\"data row7 col11\" >2589</td>\n",
       "      <td id=\"T_e19ea_row7_col12\" class=\"data row7 col12\" >2374</td>\n",
       "      <td id=\"T_e19ea_row7_col13\" class=\"data row7 col13\" >2160</td>\n",
       "      <td id=\"T_e19ea_row7_col14\" class=\"data row7 col14\" >1826</td>\n",
       "      <td id=\"T_e19ea_row7_col15\" class=\"data row7 col15\" >1492</td>\n",
       "      <td id=\"T_e19ea_row7_col16\" class=\"data row7 col16\" >1158</td>\n",
       "      <td id=\"T_e19ea_row7_col17\" class=\"data row7 col17\" >796</td>\n",
       "      <td id=\"T_e19ea_row7_col18\" class=\"data row7 col18\" >434</td>\n",
       "      <td id=\"T_e19ea_row7_col19\" class=\"data row7 col19\" >-</td>\n",
       "    </tr>\n",
       "    <tr>\n",
       "      <th id=\"T_e19ea_level1_row8\" class=\"row_heading level1 row8\" >300</th>\n",
       "      <td id=\"T_e19ea_row8_col0\" class=\"data row8 col0\" >-</td>\n",
       "      <td id=\"T_e19ea_row8_col1\" class=\"data row8 col1\" >-</td>\n",
       "      <td id=\"T_e19ea_row8_col2\" class=\"data row8 col2\" >-</td>\n",
       "      <td id=\"T_e19ea_row8_col3\" class=\"data row8 col3\" >-</td>\n",
       "      <td id=\"T_e19ea_row8_col4\" class=\"data row8 col4\" >-</td>\n",
       "      <td id=\"T_e19ea_row8_col5\" class=\"data row8 col5\" >-</td>\n",
       "      <td id=\"T_e19ea_row8_col6\" class=\"data row8 col6\" >-</td>\n",
       "      <td id=\"T_e19ea_row8_col7\" class=\"data row8 col7\" >-</td>\n",
       "      <td id=\"T_e19ea_row8_col8\" class=\"data row8 col8\" >-</td>\n",
       "      <td id=\"T_e19ea_row8_col9\" class=\"data row8 col9\" >-</td>\n",
       "      <td id=\"T_e19ea_row8_col10\" class=\"data row8 col10\" >2350</td>\n",
       "      <td id=\"T_e19ea_row8_col11\" class=\"data row8 col11\" >2735</td>\n",
       "      <td id=\"T_e19ea_row8_col12\" class=\"data row8 col12\" >2361</td>\n",
       "      <td id=\"T_e19ea_row8_col13\" class=\"data row8 col13\" >1987</td>\n",
       "      <td id=\"T_e19ea_row8_col14\" class=\"data row8 col14\" >1711</td>\n",
       "      <td id=\"T_e19ea_row8_col15\" class=\"data row8 col15\" >1436</td>\n",
       "      <td id=\"T_e19ea_row8_col16\" class=\"data row8 col16\" >1160</td>\n",
       "      <td id=\"T_e19ea_row8_col17\" class=\"data row8 col17\" >803</td>\n",
       "      <td id=\"T_e19ea_row8_col18\" class=\"data row8 col18\" >446</td>\n",
       "      <td id=\"T_e19ea_row8_col19\" class=\"data row8 col19\" >-</td>\n",
       "    </tr>\n",
       "    <tr>\n",
       "      <th id=\"T_e19ea_level1_row9\" class=\"row_heading level1 row9\" >400</th>\n",
       "      <td id=\"T_e19ea_row9_col0\" class=\"data row9 col0\" >-</td>\n",
       "      <td id=\"T_e19ea_row9_col1\" class=\"data row9 col1\" >-</td>\n",
       "      <td id=\"T_e19ea_row9_col2\" class=\"data row9 col2\" >-</td>\n",
       "      <td id=\"T_e19ea_row9_col3\" class=\"data row9 col3\" >-</td>\n",
       "      <td id=\"T_e19ea_row9_col4\" class=\"data row9 col4\" >-</td>\n",
       "      <td id=\"T_e19ea_row9_col5\" class=\"data row9 col5\" >-</td>\n",
       "      <td id=\"T_e19ea_row9_col6\" class=\"data row9 col6\" >-</td>\n",
       "      <td id=\"T_e19ea_row9_col7\" class=\"data row9 col7\" >-</td>\n",
       "      <td id=\"T_e19ea_row9_col8\" class=\"data row9 col8\" >-</td>\n",
       "      <td id=\"T_e19ea_row9_col9\" class=\"data row9 col9\" >-</td>\n",
       "      <td id=\"T_e19ea_row9_col10\" class=\"data row9 col10\" >-</td>\n",
       "      <td id=\"T_e19ea_row9_col11\" class=\"data row9 col11\" >1856</td>\n",
       "      <td id=\"T_e19ea_row9_col12\" class=\"data row9 col12\" >1973</td>\n",
       "      <td id=\"T_e19ea_row9_col13\" class=\"data row9 col13\" >2213</td>\n",
       "      <td id=\"T_e19ea_row9_col14\" class=\"data row9 col14\" >1812</td>\n",
       "      <td id=\"T_e19ea_row9_col15\" class=\"data row9 col15\" >1412</td>\n",
       "      <td id=\"T_e19ea_row9_col16\" class=\"data row9 col16\" >1011</td>\n",
       "      <td id=\"T_e19ea_row9_col17\" class=\"data row9 col17\" >722</td>\n",
       "      <td id=\"T_e19ea_row9_col18\" class=\"data row9 col18\" >432</td>\n",
       "      <td id=\"T_e19ea_row9_col19\" class=\"data row9 col19\" >-</td>\n",
       "    </tr>\n",
       "    <tr>\n",
       "      <th id=\"T_e19ea_level1_row10\" class=\"row_heading level1 row10\" >500</th>\n",
       "      <td id=\"T_e19ea_row10_col0\" class=\"data row10 col0\" >-</td>\n",
       "      <td id=\"T_e19ea_row10_col1\" class=\"data row10 col1\" >-</td>\n",
       "      <td id=\"T_e19ea_row10_col2\" class=\"data row10 col2\" >-</td>\n",
       "      <td id=\"T_e19ea_row10_col3\" class=\"data row10 col3\" >-</td>\n",
       "      <td id=\"T_e19ea_row10_col4\" class=\"data row10 col4\" >-</td>\n",
       "      <td id=\"T_e19ea_row10_col5\" class=\"data row10 col5\" >-</td>\n",
       "      <td id=\"T_e19ea_row10_col6\" class=\"data row10 col6\" >-</td>\n",
       "      <td id=\"T_e19ea_row10_col7\" class=\"data row10 col7\" >-</td>\n",
       "      <td id=\"T_e19ea_row10_col8\" class=\"data row10 col8\" >-</td>\n",
       "      <td id=\"T_e19ea_row10_col9\" class=\"data row10 col9\" >-</td>\n",
       "      <td id=\"T_e19ea_row10_col10\" class=\"data row10 col10\" >-</td>\n",
       "      <td id=\"T_e19ea_row10_col11\" class=\"data row10 col11\" >-</td>\n",
       "      <td id=\"T_e19ea_row10_col12\" class=\"data row10 col12\" >1868</td>\n",
       "      <td id=\"T_e19ea_row10_col13\" class=\"data row10 col13\" >1741</td>\n",
       "      <td id=\"T_e19ea_row10_col14\" class=\"data row10 col14\" >1543</td>\n",
       "      <td id=\"T_e19ea_row10_col15\" class=\"data row10 col15\" >1345</td>\n",
       "      <td id=\"T_e19ea_row10_col16\" class=\"data row10 col16\" >1148</td>\n",
       "      <td id=\"T_e19ea_row10_col17\" class=\"data row10 col17\" >799</td>\n",
       "      <td id=\"T_e19ea_row10_col18\" class=\"data row10 col18\" >451</td>\n",
       "      <td id=\"T_e19ea_row10_col19\" class=\"data row10 col19\" >-</td>\n",
       "    </tr>\n",
       "    <tr>\n",
       "      <th id=\"T_e19ea_level1_row11\" class=\"row_heading level1 row11\" >700</th>\n",
       "      <td id=\"T_e19ea_row11_col0\" class=\"data row11 col0\" >-</td>\n",
       "      <td id=\"T_e19ea_row11_col1\" class=\"data row11 col1\" >-</td>\n",
       "      <td id=\"T_e19ea_row11_col2\" class=\"data row11 col2\" >-</td>\n",
       "      <td id=\"T_e19ea_row11_col3\" class=\"data row11 col3\" >-</td>\n",
       "      <td id=\"T_e19ea_row11_col4\" class=\"data row11 col4\" >-</td>\n",
       "      <td id=\"T_e19ea_row11_col5\" class=\"data row11 col5\" >-</td>\n",
       "      <td id=\"T_e19ea_row11_col6\" class=\"data row11 col6\" >-</td>\n",
       "      <td id=\"T_e19ea_row11_col7\" class=\"data row11 col7\" >-</td>\n",
       "      <td id=\"T_e19ea_row11_col8\" class=\"data row11 col8\" >-</td>\n",
       "      <td id=\"T_e19ea_row11_col9\" class=\"data row11 col9\" >-</td>\n",
       "      <td id=\"T_e19ea_row11_col10\" class=\"data row11 col10\" >-</td>\n",
       "      <td id=\"T_e19ea_row11_col11\" class=\"data row11 col11\" >-</td>\n",
       "      <td id=\"T_e19ea_row11_col12\" class=\"data row11 col12\" >-</td>\n",
       "      <td id=\"T_e19ea_row11_col13\" class=\"data row11 col13\" >-</td>\n",
       "      <td id=\"T_e19ea_row11_col14\" class=\"data row11 col14\" >-</td>\n",
       "      <td id=\"T_e19ea_row11_col15\" class=\"data row11 col15\" >732</td>\n",
       "      <td id=\"T_e19ea_row11_col16\" class=\"data row11 col16\" >996</td>\n",
       "      <td id=\"T_e19ea_row11_col17\" class=\"data row11 col17\" >619</td>\n",
       "      <td id=\"T_e19ea_row11_col18\" class=\"data row11 col18\" >243</td>\n",
       "      <td id=\"T_e19ea_row11_col19\" class=\"data row11 col19\" >-</td>\n",
       "    </tr>\n",
       "    <tr>\n",
       "      <th id=\"T_e19ea_level1_row12\" class=\"row_heading level1 row12\" >1000</th>\n",
       "      <td id=\"T_e19ea_row12_col0\" class=\"data row12 col0\" >-</td>\n",
       "      <td id=\"T_e19ea_row12_col1\" class=\"data row12 col1\" >-</td>\n",
       "      <td id=\"T_e19ea_row12_col2\" class=\"data row12 col2\" >-</td>\n",
       "      <td id=\"T_e19ea_row12_col3\" class=\"data row12 col3\" >-</td>\n",
       "      <td id=\"T_e19ea_row12_col4\" class=\"data row12 col4\" >-</td>\n",
       "      <td id=\"T_e19ea_row12_col5\" class=\"data row12 col5\" >-</td>\n",
       "      <td id=\"T_e19ea_row12_col6\" class=\"data row12 col6\" >-</td>\n",
       "      <td id=\"T_e19ea_row12_col7\" class=\"data row12 col7\" >-</td>\n",
       "      <td id=\"T_e19ea_row12_col8\" class=\"data row12 col8\" >-</td>\n",
       "      <td id=\"T_e19ea_row12_col9\" class=\"data row12 col9\" >-</td>\n",
       "      <td id=\"T_e19ea_row12_col10\" class=\"data row12 col10\" >-</td>\n",
       "      <td id=\"T_e19ea_row12_col11\" class=\"data row12 col11\" >-</td>\n",
       "      <td id=\"T_e19ea_row12_col12\" class=\"data row12 col12\" >-</td>\n",
       "      <td id=\"T_e19ea_row12_col13\" class=\"data row12 col13\" >-</td>\n",
       "      <td id=\"T_e19ea_row12_col14\" class=\"data row12 col14\" >-</td>\n",
       "      <td id=\"T_e19ea_row12_col15\" class=\"data row12 col15\" >-</td>\n",
       "      <td id=\"T_e19ea_row12_col16\" class=\"data row12 col16\" >-</td>\n",
       "      <td id=\"T_e19ea_row12_col17\" class=\"data row12 col17\" >332</td>\n",
       "      <td id=\"T_e19ea_row12_col18\" class=\"data row12 col18\" >308</td>\n",
       "      <td id=\"T_e19ea_row12_col19\" class=\"data row12 col19\" >-</td>\n",
       "    </tr>\n",
       "    <tr>\n",
       "      <th id=\"T_e19ea_level0_row13\" class=\"row_heading level0 row13\" >CanonRF100mmF2.8LMacroISUSM</th>\n",
       "      <th id=\"T_e19ea_level1_row13\" class=\"row_heading level1 row13\" >100</th>\n",
       "      <td id=\"T_e19ea_row13_col0\" class=\"data row13 col0\" >-</td>\n",
       "      <td id=\"T_e19ea_row13_col1\" class=\"data row13 col1\" >-</td>\n",
       "      <td id=\"T_e19ea_row13_col2\" class=\"data row13 col2\" >-</td>\n",
       "      <td id=\"T_e19ea_row13_col3\" class=\"data row13 col3\" >-</td>\n",
       "      <td id=\"T_e19ea_row13_col4\" class=\"data row13 col4\" >-</td>\n",
       "      <td id=\"T_e19ea_row13_col5\" class=\"data row13 col5\" >1664</td>\n",
       "      <td id=\"T_e19ea_row13_col6\" class=\"data row13 col6\" >2148</td>\n",
       "      <td id=\"T_e19ea_row13_col7\" class=\"data row13 col7\" >1627</td>\n",
       "      <td id=\"T_e19ea_row13_col8\" class=\"data row13 col8\" >1581</td>\n",
       "      <td id=\"T_e19ea_row13_col9\" class=\"data row13 col9\" >1535</td>\n",
       "      <td id=\"T_e19ea_row13_col10\" class=\"data row13 col10\" >1488</td>\n",
       "      <td id=\"T_e19ea_row13_col11\" class=\"data row13 col11\" >1369</td>\n",
       "      <td id=\"T_e19ea_row13_col12\" class=\"data row13 col12\" >1249</td>\n",
       "      <td id=\"T_e19ea_row13_col13\" class=\"data row13 col13\" >1129</td>\n",
       "      <td id=\"T_e19ea_row13_col14\" class=\"data row13 col14\" >1023</td>\n",
       "      <td id=\"T_e19ea_row13_col15\" class=\"data row13 col15\" >918</td>\n",
       "      <td id=\"T_e19ea_row13_col16\" class=\"data row13 col16\" >812</td>\n",
       "      <td id=\"T_e19ea_row13_col17\" class=\"data row13 col17\" >615</td>\n",
       "      <td id=\"T_e19ea_row13_col18\" class=\"data row13 col18\" >418</td>\n",
       "      <td id=\"T_e19ea_row13_col19\" class=\"data row13 col19\" >-</td>\n",
       "    </tr>\n",
       "    <tr>\n",
       "      <th id=\"T_e19ea_level0_row14\" class=\"row_heading level0 row14\" >CanonRF1200mmF8LISUSM</th>\n",
       "      <th id=\"T_e19ea_level1_row14\" class=\"row_heading level1 row14\" >1200</th>\n",
       "      <td id=\"T_e19ea_row14_col0\" class=\"data row14 col0\" >-</td>\n",
       "      <td id=\"T_e19ea_row14_col1\" class=\"data row14 col1\" >-</td>\n",
       "      <td id=\"T_e19ea_row14_col2\" class=\"data row14 col2\" >-</td>\n",
       "      <td id=\"T_e19ea_row14_col3\" class=\"data row14 col3\" >-</td>\n",
       "      <td id=\"T_e19ea_row14_col4\" class=\"data row14 col4\" >-</td>\n",
       "      <td id=\"T_e19ea_row14_col5\" class=\"data row14 col5\" >-</td>\n",
       "      <td id=\"T_e19ea_row14_col6\" class=\"data row14 col6\" >-</td>\n",
       "      <td id=\"T_e19ea_row14_col7\" class=\"data row14 col7\" >-</td>\n",
       "      <td id=\"T_e19ea_row14_col8\" class=\"data row14 col8\" >-</td>\n",
       "      <td id=\"T_e19ea_row14_col9\" class=\"data row14 col9\" >-</td>\n",
       "      <td id=\"T_e19ea_row14_col10\" class=\"data row14 col10\" >-</td>\n",
       "      <td id=\"T_e19ea_row14_col11\" class=\"data row14 col11\" >-</td>\n",
       "      <td id=\"T_e19ea_row14_col12\" class=\"data row14 col12\" >-</td>\n",
       "      <td id=\"T_e19ea_row14_col13\" class=\"data row14 col13\" >942</td>\n",
       "      <td id=\"T_e19ea_row14_col14\" class=\"data row14 col14\" >1023</td>\n",
       "      <td id=\"T_e19ea_row14_col15\" class=\"data row14 col15\" >890</td>\n",
       "      <td id=\"T_e19ea_row14_col16\" class=\"data row14 col16\" >757</td>\n",
       "      <td id=\"T_e19ea_row14_col17\" class=\"data row14 col17\" >515</td>\n",
       "      <td id=\"T_e19ea_row14_col18\" class=\"data row14 col18\" >274</td>\n",
       "      <td id=\"T_e19ea_row14_col19\" class=\"data row14 col19\" >-</td>\n",
       "    </tr>\n",
       "    <tr>\n",
       "      <th id=\"T_e19ea_level0_row15\" class=\"row_heading level0 row15\" rowspan=\"6\">CanonRF14-35mmF4LISUSM</th>\n",
       "      <th id=\"T_e19ea_level1_row15\" class=\"row_heading level1 row15\" >14</th>\n",
       "      <td id=\"T_e19ea_row15_col0\" class=\"data row15 col0\" >-</td>\n",
       "      <td id=\"T_e19ea_row15_col1\" class=\"data row15 col1\" >-</td>\n",
       "      <td id=\"T_e19ea_row15_col2\" class=\"data row15 col2\" >-</td>\n",
       "      <td id=\"T_e19ea_row15_col3\" class=\"data row15 col3\" >-</td>\n",
       "      <td id=\"T_e19ea_row15_col4\" class=\"data row15 col4\" >-</td>\n",
       "      <td id=\"T_e19ea_row15_col5\" class=\"data row15 col5\" >-</td>\n",
       "      <td id=\"T_e19ea_row15_col6\" class=\"data row15 col6\" >-</td>\n",
       "      <td id=\"T_e19ea_row15_col7\" class=\"data row15 col7\" >3447</td>\n",
       "      <td id=\"T_e19ea_row15_col8\" class=\"data row15 col8\" >3326</td>\n",
       "      <td id=\"T_e19ea_row15_col9\" class=\"data row15 col9\" >3041</td>\n",
       "      <td id=\"T_e19ea_row15_col10\" class=\"data row15 col10\" >2756</td>\n",
       "      <td id=\"T_e19ea_row15_col11\" class=\"data row15 col11\" >2416</td>\n",
       "      <td id=\"T_e19ea_row15_col12\" class=\"data row15 col12\" >2076</td>\n",
       "      <td id=\"T_e19ea_row15_col13\" class=\"data row15 col13\" >1736</td>\n",
       "      <td id=\"T_e19ea_row15_col14\" class=\"data row15 col14\" >1450</td>\n",
       "      <td id=\"T_e19ea_row15_col15\" class=\"data row15 col15\" >1165</td>\n",
       "      <td id=\"T_e19ea_row15_col16\" class=\"data row15 col16\" >879</td>\n",
       "      <td id=\"T_e19ea_row15_col17\" class=\"data row15 col17\" >626</td>\n",
       "      <td id=\"T_e19ea_row15_col18\" class=\"data row15 col18\" >372</td>\n",
       "      <td id=\"T_e19ea_row15_col19\" class=\"data row15 col19\" >-</td>\n",
       "    </tr>\n",
       "    <tr>\n",
       "      <th id=\"T_e19ea_level1_row16\" class=\"row_heading level1 row16\" >16</th>\n",
       "      <td id=\"T_e19ea_row16_col0\" class=\"data row16 col0\" >-</td>\n",
       "      <td id=\"T_e19ea_row16_col1\" class=\"data row16 col1\" >-</td>\n",
       "      <td id=\"T_e19ea_row16_col2\" class=\"data row16 col2\" >-</td>\n",
       "      <td id=\"T_e19ea_row16_col3\" class=\"data row16 col3\" >-</td>\n",
       "      <td id=\"T_e19ea_row16_col4\" class=\"data row16 col4\" >-</td>\n",
       "      <td id=\"T_e19ea_row16_col5\" class=\"data row16 col5\" >-</td>\n",
       "      <td id=\"T_e19ea_row16_col6\" class=\"data row16 col6\" >-</td>\n",
       "      <td id=\"T_e19ea_row16_col7\" class=\"data row16 col7\" >3449</td>\n",
       "      <td id=\"T_e19ea_row16_col8\" class=\"data row16 col8\" >3446</td>\n",
       "      <td id=\"T_e19ea_row16_col9\" class=\"data row16 col9\" >3048</td>\n",
       "      <td id=\"T_e19ea_row16_col10\" class=\"data row16 col10\" >2651</td>\n",
       "      <td id=\"T_e19ea_row16_col11\" class=\"data row16 col11\" >2348</td>\n",
       "      <td id=\"T_e19ea_row16_col12\" class=\"data row16 col12\" >2044</td>\n",
       "      <td id=\"T_e19ea_row16_col13\" class=\"data row16 col13\" >1741</td>\n",
       "      <td id=\"T_e19ea_row16_col14\" class=\"data row16 col14\" >1469</td>\n",
       "      <td id=\"T_e19ea_row16_col15\" class=\"data row16 col15\" >1196</td>\n",
       "      <td id=\"T_e19ea_row16_col16\" class=\"data row16 col16\" >924</td>\n",
       "      <td id=\"T_e19ea_row16_col17\" class=\"data row16 col17\" >652</td>\n",
       "      <td id=\"T_e19ea_row16_col18\" class=\"data row16 col18\" >380</td>\n",
       "      <td id=\"T_e19ea_row16_col19\" class=\"data row16 col19\" >-</td>\n",
       "    </tr>\n",
       "    <tr>\n",
       "      <th id=\"T_e19ea_level1_row17\" class=\"row_heading level1 row17\" >20</th>\n",
       "      <td id=\"T_e19ea_row17_col0\" class=\"data row17 col0\" >-</td>\n",
       "      <td id=\"T_e19ea_row17_col1\" class=\"data row17 col1\" >-</td>\n",
       "      <td id=\"T_e19ea_row17_col2\" class=\"data row17 col2\" >-</td>\n",
       "      <td id=\"T_e19ea_row17_col3\" class=\"data row17 col3\" >-</td>\n",
       "      <td id=\"T_e19ea_row17_col4\" class=\"data row17 col4\" >-</td>\n",
       "      <td id=\"T_e19ea_row17_col5\" class=\"data row17 col5\" >-</td>\n",
       "      <td id=\"T_e19ea_row17_col6\" class=\"data row17 col6\" >-</td>\n",
       "      <td id=\"T_e19ea_row17_col7\" class=\"data row17 col7\" >2792</td>\n",
       "      <td id=\"T_e19ea_row17_col8\" class=\"data row17 col8\" >2646</td>\n",
       "      <td id=\"T_e19ea_row17_col9\" class=\"data row17 col9\" >2557</td>\n",
       "      <td id=\"T_e19ea_row17_col10\" class=\"data row17 col10\" >2467</td>\n",
       "      <td id=\"T_e19ea_row17_col11\" class=\"data row17 col11\" >2208</td>\n",
       "      <td id=\"T_e19ea_row17_col12\" class=\"data row17 col12\" >1949</td>\n",
       "      <td id=\"T_e19ea_row17_col13\" class=\"data row17 col13\" >1690</td>\n",
       "      <td id=\"T_e19ea_row17_col14\" class=\"data row17 col14\" >1429</td>\n",
       "      <td id=\"T_e19ea_row17_col15\" class=\"data row17 col15\" >1169</td>\n",
       "      <td id=\"T_e19ea_row17_col16\" class=\"data row17 col16\" >909</td>\n",
       "      <td id=\"T_e19ea_row17_col17\" class=\"data row17 col17\" >651</td>\n",
       "      <td id=\"T_e19ea_row17_col18\" class=\"data row17 col18\" >393</td>\n",
       "      <td id=\"T_e19ea_row17_col19\" class=\"data row17 col19\" >-</td>\n",
       "    </tr>\n",
       "    <tr>\n",
       "      <th id=\"T_e19ea_level1_row18\" class=\"row_heading level1 row18\" >24</th>\n",
       "      <td id=\"T_e19ea_row18_col0\" class=\"data row18 col0\" >-</td>\n",
       "      <td id=\"T_e19ea_row18_col1\" class=\"data row18 col1\" >-</td>\n",
       "      <td id=\"T_e19ea_row18_col2\" class=\"data row18 col2\" >-</td>\n",
       "      <td id=\"T_e19ea_row18_col3\" class=\"data row18 col3\" >-</td>\n",
       "      <td id=\"T_e19ea_row18_col4\" class=\"data row18 col4\" >-</td>\n",
       "      <td id=\"T_e19ea_row18_col5\" class=\"data row18 col5\" >-</td>\n",
       "      <td id=\"T_e19ea_row18_col6\" class=\"data row18 col6\" >-</td>\n",
       "      <td id=\"T_e19ea_row18_col7\" class=\"data row18 col7\" >2100</td>\n",
       "      <td id=\"T_e19ea_row18_col8\" class=\"data row18 col8\" >2115</td>\n",
       "      <td id=\"T_e19ea_row18_col9\" class=\"data row18 col9\" >1962</td>\n",
       "      <td id=\"T_e19ea_row18_col10\" class=\"data row18 col10\" >1809</td>\n",
       "      <td id=\"T_e19ea_row18_col11\" class=\"data row18 col11\" >1705</td>\n",
       "      <td id=\"T_e19ea_row18_col12\" class=\"data row18 col12\" >1600</td>\n",
       "      <td id=\"T_e19ea_row18_col13\" class=\"data row18 col13\" >1495</td>\n",
       "      <td id=\"T_e19ea_row18_col14\" class=\"data row18 col14\" >1296</td>\n",
       "      <td id=\"T_e19ea_row18_col15\" class=\"data row18 col15\" >1097</td>\n",
       "      <td id=\"T_e19ea_row18_col16\" class=\"data row18 col16\" >898</td>\n",
       "      <td id=\"T_e19ea_row18_col17\" class=\"data row18 col17\" >648</td>\n",
       "      <td id=\"T_e19ea_row18_col18\" class=\"data row18 col18\" >398</td>\n",
       "      <td id=\"T_e19ea_row18_col19\" class=\"data row18 col19\" >-</td>\n",
       "    </tr>\n",
       "    <tr>\n",
       "      <th id=\"T_e19ea_level1_row19\" class=\"row_heading level1 row19\" >28</th>\n",
       "      <td id=\"T_e19ea_row19_col0\" class=\"data row19 col0\" >-</td>\n",
       "      <td id=\"T_e19ea_row19_col1\" class=\"data row19 col1\" >-</td>\n",
       "      <td id=\"T_e19ea_row19_col2\" class=\"data row19 col2\" >-</td>\n",
       "      <td id=\"T_e19ea_row19_col3\" class=\"data row19 col3\" >-</td>\n",
       "      <td id=\"T_e19ea_row19_col4\" class=\"data row19 col4\" >-</td>\n",
       "      <td id=\"T_e19ea_row19_col5\" class=\"data row19 col5\" >-</td>\n",
       "      <td id=\"T_e19ea_row19_col6\" class=\"data row19 col6\" >-</td>\n",
       "      <td id=\"T_e19ea_row19_col7\" class=\"data row19 col7\" >1711</td>\n",
       "      <td id=\"T_e19ea_row19_col8\" class=\"data row19 col8\" >1923</td>\n",
       "      <td id=\"T_e19ea_row19_col9\" class=\"data row19 col9\" >1856</td>\n",
       "      <td id=\"T_e19ea_row19_col10\" class=\"data row19 col10\" >1788</td>\n",
       "      <td id=\"T_e19ea_row19_col11\" class=\"data row19 col11\" >1726</td>\n",
       "      <td id=\"T_e19ea_row19_col12\" class=\"data row19 col12\" >1664</td>\n",
       "      <td id=\"T_e19ea_row19_col13\" class=\"data row19 col13\" >1602</td>\n",
       "      <td id=\"T_e19ea_row19_col14\" class=\"data row19 col14\" >1382</td>\n",
       "      <td id=\"T_e19ea_row19_col15\" class=\"data row19 col15\" >1162</td>\n",
       "      <td id=\"T_e19ea_row19_col16\" class=\"data row19 col16\" >942</td>\n",
       "      <td id=\"T_e19ea_row19_col17\" class=\"data row19 col17\" >675</td>\n",
       "      <td id=\"T_e19ea_row19_col18\" class=\"data row19 col18\" >409</td>\n",
       "      <td id=\"T_e19ea_row19_col19\" class=\"data row19 col19\" >-</td>\n",
       "    </tr>\n",
       "    <tr>\n",
       "      <th id=\"T_e19ea_level1_row20\" class=\"row_heading level1 row20\" >35</th>\n",
       "      <td id=\"T_e19ea_row20_col0\" class=\"data row20 col0\" >-</td>\n",
       "      <td id=\"T_e19ea_row20_col1\" class=\"data row20 col1\" >-</td>\n",
       "      <td id=\"T_e19ea_row20_col2\" class=\"data row20 col2\" >-</td>\n",
       "      <td id=\"T_e19ea_row20_col3\" class=\"data row20 col3\" >-</td>\n",
       "      <td id=\"T_e19ea_row20_col4\" class=\"data row20 col4\" >-</td>\n",
       "      <td id=\"T_e19ea_row20_col5\" class=\"data row20 col5\" >-</td>\n",
       "      <td id=\"T_e19ea_row20_col6\" class=\"data row20 col6\" >-</td>\n",
       "      <td id=\"T_e19ea_row20_col7\" class=\"data row20 col7\" >620</td>\n",
       "      <td id=\"T_e19ea_row20_col8\" class=\"data row20 col8\" >969</td>\n",
       "      <td id=\"T_e19ea_row20_col9\" class=\"data row20 col9\" >1228</td>\n",
       "      <td id=\"T_e19ea_row20_col10\" class=\"data row20 col10\" >1487</td>\n",
       "      <td id=\"T_e19ea_row20_col11\" class=\"data row20 col11\" >1460</td>\n",
       "      <td id=\"T_e19ea_row20_col12\" class=\"data row20 col12\" >1432</td>\n",
       "      <td id=\"T_e19ea_row20_col13\" class=\"data row20 col13\" >1405</td>\n",
       "      <td id=\"T_e19ea_row20_col14\" class=\"data row20 col14\" >1246</td>\n",
       "      <td id=\"T_e19ea_row20_col15\" class=\"data row20 col15\" >1086</td>\n",
       "      <td id=\"T_e19ea_row20_col16\" class=\"data row20 col16\" >927</td>\n",
       "      <td id=\"T_e19ea_row20_col17\" class=\"data row20 col17\" >671</td>\n",
       "      <td id=\"T_e19ea_row20_col18\" class=\"data row20 col18\" >414</td>\n",
       "      <td id=\"T_e19ea_row20_col19\" class=\"data row20 col19\" >-</td>\n",
       "    </tr>\n",
       "    <tr>\n",
       "      <th id=\"T_e19ea_level0_row21\" class=\"row_heading level0 row21\" rowspan=\"4\">CanonRF15-30mmF4.5-6.3ISSTM</th>\n",
       "      <th id=\"T_e19ea_level1_row21\" class=\"row_heading level1 row21\" >15</th>\n",
       "      <td id=\"T_e19ea_row21_col0\" class=\"data row21 col0\" >-</td>\n",
       "      <td id=\"T_e19ea_row21_col1\" class=\"data row21 col1\" >-</td>\n",
       "      <td id=\"T_e19ea_row21_col2\" class=\"data row21 col2\" >-</td>\n",
       "      <td id=\"T_e19ea_row21_col3\" class=\"data row21 col3\" >-</td>\n",
       "      <td id=\"T_e19ea_row21_col4\" class=\"data row21 col4\" >-</td>\n",
       "      <td id=\"T_e19ea_row21_col5\" class=\"data row21 col5\" >-</td>\n",
       "      <td id=\"T_e19ea_row21_col6\" class=\"data row21 col6\" >-</td>\n",
       "      <td id=\"T_e19ea_row21_col7\" class=\"data row21 col7\" >-</td>\n",
       "      <td id=\"T_e19ea_row21_col8\" class=\"data row21 col8\" >1310</td>\n",
       "      <td id=\"T_e19ea_row21_col9\" class=\"data row21 col9\" >1437</td>\n",
       "      <td id=\"T_e19ea_row21_col10\" class=\"data row21 col10\" >1343</td>\n",
       "      <td id=\"T_e19ea_row21_col11\" class=\"data row21 col11\" >1248</td>\n",
       "      <td id=\"T_e19ea_row21_col12\" class=\"data row21 col12\" >1152</td>\n",
       "      <td id=\"T_e19ea_row21_col13\" class=\"data row21 col13\" >1057</td>\n",
       "      <td id=\"T_e19ea_row21_col14\" class=\"data row21 col14\" >957</td>\n",
       "      <td id=\"T_e19ea_row21_col15\" class=\"data row21 col15\" >857</td>\n",
       "      <td id=\"T_e19ea_row21_col16\" class=\"data row21 col16\" >757</td>\n",
       "      <td id=\"T_e19ea_row21_col17\" class=\"data row21 col17\" >553</td>\n",
       "      <td id=\"T_e19ea_row21_col18\" class=\"data row21 col18\" >350</td>\n",
       "      <td id=\"T_e19ea_row21_col19\" class=\"data row21 col19\" >-</td>\n",
       "    </tr>\n",
       "    <tr>\n",
       "      <th id=\"T_e19ea_level1_row22\" class=\"row_heading level1 row22\" >20</th>\n",
       "      <td id=\"T_e19ea_row22_col0\" class=\"data row22 col0\" >-</td>\n",
       "      <td id=\"T_e19ea_row22_col1\" class=\"data row22 col1\" >-</td>\n",
       "      <td id=\"T_e19ea_row22_col2\" class=\"data row22 col2\" >-</td>\n",
       "      <td id=\"T_e19ea_row22_col3\" class=\"data row22 col3\" >-</td>\n",
       "      <td id=\"T_e19ea_row22_col4\" class=\"data row22 col4\" >-</td>\n",
       "      <td id=\"T_e19ea_row22_col5\" class=\"data row22 col5\" >-</td>\n",
       "      <td id=\"T_e19ea_row22_col6\" class=\"data row22 col6\" >-</td>\n",
       "      <td id=\"T_e19ea_row22_col7\" class=\"data row22 col7\" >-</td>\n",
       "      <td id=\"T_e19ea_row22_col8\" class=\"data row22 col8\" >-</td>\n",
       "      <td id=\"T_e19ea_row22_col9\" class=\"data row22 col9\" >1130</td>\n",
       "      <td id=\"T_e19ea_row22_col10\" class=\"data row22 col10\" >1321</td>\n",
       "      <td id=\"T_e19ea_row22_col11\" class=\"data row22 col11\" >1199</td>\n",
       "      <td id=\"T_e19ea_row22_col12\" class=\"data row22 col12\" >1077</td>\n",
       "      <td id=\"T_e19ea_row22_col13\" class=\"data row22 col13\" >955</td>\n",
       "      <td id=\"T_e19ea_row22_col14\" class=\"data row22 col14\" >852</td>\n",
       "      <td id=\"T_e19ea_row22_col15\" class=\"data row22 col15\" >749</td>\n",
       "      <td id=\"T_e19ea_row22_col16\" class=\"data row22 col16\" >646</td>\n",
       "      <td id=\"T_e19ea_row22_col17\" class=\"data row22 col17\" >478</td>\n",
       "      <td id=\"T_e19ea_row22_col18\" class=\"data row22 col18\" >310</td>\n",
       "      <td id=\"T_e19ea_row22_col19\" class=\"data row22 col19\" >-</td>\n",
       "    </tr>\n",
       "    <tr>\n",
       "      <th id=\"T_e19ea_level1_row23\" class=\"row_heading level1 row23\" >24</th>\n",
       "      <td id=\"T_e19ea_row23_col0\" class=\"data row23 col0\" >-</td>\n",
       "      <td id=\"T_e19ea_row23_col1\" class=\"data row23 col1\" >-</td>\n",
       "      <td id=\"T_e19ea_row23_col2\" class=\"data row23 col2\" >-</td>\n",
       "      <td id=\"T_e19ea_row23_col3\" class=\"data row23 col3\" >-</td>\n",
       "      <td id=\"T_e19ea_row23_col4\" class=\"data row23 col4\" >-</td>\n",
       "      <td id=\"T_e19ea_row23_col5\" class=\"data row23 col5\" >-</td>\n",
       "      <td id=\"T_e19ea_row23_col6\" class=\"data row23 col6\" >-</td>\n",
       "      <td id=\"T_e19ea_row23_col7\" class=\"data row23 col7\" >-</td>\n",
       "      <td id=\"T_e19ea_row23_col8\" class=\"data row23 col8\" >-</td>\n",
       "      <td id=\"T_e19ea_row23_col9\" class=\"data row23 col9\" >-</td>\n",
       "      <td id=\"T_e19ea_row23_col10\" class=\"data row23 col10\" >869</td>\n",
       "      <td id=\"T_e19ea_row23_col11\" class=\"data row23 col11\" >1042</td>\n",
       "      <td id=\"T_e19ea_row23_col12\" class=\"data row23 col12\" >933</td>\n",
       "      <td id=\"T_e19ea_row23_col13\" class=\"data row23 col13\" >823</td>\n",
       "      <td id=\"T_e19ea_row23_col14\" class=\"data row23 col14\" >721</td>\n",
       "      <td id=\"T_e19ea_row23_col15\" class=\"data row23 col15\" >620</td>\n",
       "      <td id=\"T_e19ea_row23_col16\" class=\"data row23 col16\" >518</td>\n",
       "      <td id=\"T_e19ea_row23_col17\" class=\"data row23 col17\" >411</td>\n",
       "      <td id=\"T_e19ea_row23_col18\" class=\"data row23 col18\" >304</td>\n",
       "      <td id=\"T_e19ea_row23_col19\" class=\"data row23 col19\" >-</td>\n",
       "    </tr>\n",
       "    <tr>\n",
       "      <th id=\"T_e19ea_level1_row24\" class=\"row_heading level1 row24\" >30</th>\n",
       "      <td id=\"T_e19ea_row24_col0\" class=\"data row24 col0\" >-</td>\n",
       "      <td id=\"T_e19ea_row24_col1\" class=\"data row24 col1\" >-</td>\n",
       "      <td id=\"T_e19ea_row24_col2\" class=\"data row24 col2\" >-</td>\n",
       "      <td id=\"T_e19ea_row24_col3\" class=\"data row24 col3\" >-</td>\n",
       "      <td id=\"T_e19ea_row24_col4\" class=\"data row24 col4\" >-</td>\n",
       "      <td id=\"T_e19ea_row24_col5\" class=\"data row24 col5\" >-</td>\n",
       "      <td id=\"T_e19ea_row24_col6\" class=\"data row24 col6\" >-</td>\n",
       "      <td id=\"T_e19ea_row24_col7\" class=\"data row24 col7\" >-</td>\n",
       "      <td id=\"T_e19ea_row24_col8\" class=\"data row24 col8\" >-</td>\n",
       "      <td id=\"T_e19ea_row24_col9\" class=\"data row24 col9\" >-</td>\n",
       "      <td id=\"T_e19ea_row24_col10\" class=\"data row24 col10\" >-</td>\n",
       "      <td id=\"T_e19ea_row24_col11\" class=\"data row24 col11\" >716</td>\n",
       "      <td id=\"T_e19ea_row24_col12\" class=\"data row24 col12\" >870</td>\n",
       "      <td id=\"T_e19ea_row24_col13\" class=\"data row24 col13\" >1024</td>\n",
       "      <td id=\"T_e19ea_row24_col14\" class=\"data row24 col14\" >1010</td>\n",
       "      <td id=\"T_e19ea_row24_col15\" class=\"data row24 col15\" >997</td>\n",
       "      <td id=\"T_e19ea_row24_col16\" class=\"data row24 col16\" >983</td>\n",
       "      <td id=\"T_e19ea_row24_col17\" class=\"data row24 col17\" >753</td>\n",
       "      <td id=\"T_e19ea_row24_col18\" class=\"data row24 col18\" >523</td>\n",
       "      <td id=\"T_e19ea_row24_col19\" class=\"data row24 col19\" >-</td>\n",
       "    </tr>\n",
       "    <tr>\n",
       "      <th id=\"T_e19ea_level0_row25\" class=\"row_heading level0 row25\" rowspan=\"5\">CanonRF15-35mmF2.8LISUSM</th>\n",
       "      <th id=\"T_e19ea_level1_row25\" class=\"row_heading level1 row25\" >15</th>\n",
       "      <td id=\"T_e19ea_row25_col0\" class=\"data row25 col0\" >-</td>\n",
       "      <td id=\"T_e19ea_row25_col1\" class=\"data row25 col1\" >-</td>\n",
       "      <td id=\"T_e19ea_row25_col2\" class=\"data row25 col2\" >-</td>\n",
       "      <td id=\"T_e19ea_row25_col3\" class=\"data row25 col3\" >-</td>\n",
       "      <td id=\"T_e19ea_row25_col4\" class=\"data row25 col4\" >-</td>\n",
       "      <td id=\"T_e19ea_row25_col5\" class=\"data row25 col5\" >2281</td>\n",
       "      <td id=\"T_e19ea_row25_col6\" class=\"data row25 col6\" >2832</td>\n",
       "      <td id=\"T_e19ea_row25_col7\" class=\"data row25 col7\" >3536</td>\n",
       "      <td id=\"T_e19ea_row25_col8\" class=\"data row25 col8\" >3432</td>\n",
       "      <td id=\"T_e19ea_row25_col9\" class=\"data row25 col9\" >3328</td>\n",
       "      <td id=\"T_e19ea_row25_col10\" class=\"data row25 col10\" >3224</td>\n",
       "      <td id=\"T_e19ea_row25_col11\" class=\"data row25 col11\" >2855</td>\n",
       "      <td id=\"T_e19ea_row25_col12\" class=\"data row25 col12\" >2486</td>\n",
       "      <td id=\"T_e19ea_row25_col13\" class=\"data row25 col13\" >2117</td>\n",
       "      <td id=\"T_e19ea_row25_col14\" class=\"data row25 col14\" >1783</td>\n",
       "      <td id=\"T_e19ea_row25_col15\" class=\"data row25 col15\" >1448</td>\n",
       "      <td id=\"T_e19ea_row25_col16\" class=\"data row25 col16\" >1114</td>\n",
       "      <td id=\"T_e19ea_row25_col17\" class=\"data row25 col17\" >813</td>\n",
       "      <td id=\"T_e19ea_row25_col18\" class=\"data row25 col18\" >511</td>\n",
       "      <td id=\"T_e19ea_row25_col19\" class=\"data row25 col19\" >-</td>\n",
       "    </tr>\n",
       "    <tr>\n",
       "      <th id=\"T_e19ea_level1_row26\" class=\"row_heading level1 row26\" >20</th>\n",
       "      <td id=\"T_e19ea_row26_col0\" class=\"data row26 col0\" >-</td>\n",
       "      <td id=\"T_e19ea_row26_col1\" class=\"data row26 col1\" >-</td>\n",
       "      <td id=\"T_e19ea_row26_col2\" class=\"data row26 col2\" >-</td>\n",
       "      <td id=\"T_e19ea_row26_col3\" class=\"data row26 col3\" >-</td>\n",
       "      <td id=\"T_e19ea_row26_col4\" class=\"data row26 col4\" >-</td>\n",
       "      <td id=\"T_e19ea_row26_col5\" class=\"data row26 col5\" >1939</td>\n",
       "      <td id=\"T_e19ea_row26_col6\" class=\"data row26 col6\" >1900</td>\n",
       "      <td id=\"T_e19ea_row26_col7\" class=\"data row26 col7\" >2080</td>\n",
       "      <td id=\"T_e19ea_row26_col8\" class=\"data row26 col8\" >1951</td>\n",
       "      <td id=\"T_e19ea_row26_col9\" class=\"data row26 col9\" >1821</td>\n",
       "      <td id=\"T_e19ea_row26_col10\" class=\"data row26 col10\" >1692</td>\n",
       "      <td id=\"T_e19ea_row26_col11\" class=\"data row26 col11\" >1603</td>\n",
       "      <td id=\"T_e19ea_row26_col12\" class=\"data row26 col12\" >1513</td>\n",
       "      <td id=\"T_e19ea_row26_col13\" class=\"data row26 col13\" >1424</td>\n",
       "      <td id=\"T_e19ea_row26_col14\" class=\"data row26 col14\" >1247</td>\n",
       "      <td id=\"T_e19ea_row26_col15\" class=\"data row26 col15\" >1070</td>\n",
       "      <td id=\"T_e19ea_row26_col16\" class=\"data row26 col16\" >893</td>\n",
       "      <td id=\"T_e19ea_row26_col17\" class=\"data row26 col17\" >664</td>\n",
       "      <td id=\"T_e19ea_row26_col18\" class=\"data row26 col18\" >435</td>\n",
       "      <td id=\"T_e19ea_row26_col19\" class=\"data row26 col19\" >-</td>\n",
       "    </tr>\n",
       "    <tr>\n",
       "      <th id=\"T_e19ea_level1_row27\" class=\"row_heading level1 row27\" >24</th>\n",
       "      <td id=\"T_e19ea_row27_col0\" class=\"data row27 col0\" >-</td>\n",
       "      <td id=\"T_e19ea_row27_col1\" class=\"data row27 col1\" >-</td>\n",
       "      <td id=\"T_e19ea_row27_col2\" class=\"data row27 col2\" >-</td>\n",
       "      <td id=\"T_e19ea_row27_col3\" class=\"data row27 col3\" >-</td>\n",
       "      <td id=\"T_e19ea_row27_col4\" class=\"data row27 col4\" >-</td>\n",
       "      <td id=\"T_e19ea_row27_col5\" class=\"data row27 col5\" >1088</td>\n",
       "      <td id=\"T_e19ea_row27_col6\" class=\"data row27 col6\" >2106</td>\n",
       "      <td id=\"T_e19ea_row27_col7\" class=\"data row27 col7\" >2062</td>\n",
       "      <td id=\"T_e19ea_row27_col8\" class=\"data row27 col8\" >1859</td>\n",
       "      <td id=\"T_e19ea_row27_col9\" class=\"data row27 col9\" >1655</td>\n",
       "      <td id=\"T_e19ea_row27_col10\" class=\"data row27 col10\" >1452</td>\n",
       "      <td id=\"T_e19ea_row27_col11\" class=\"data row27 col11\" >1392</td>\n",
       "      <td id=\"T_e19ea_row27_col12\" class=\"data row27 col12\" >1333</td>\n",
       "      <td id=\"T_e19ea_row27_col13\" class=\"data row27 col13\" >1274</td>\n",
       "      <td id=\"T_e19ea_row27_col14\" class=\"data row27 col14\" >1096</td>\n",
       "      <td id=\"T_e19ea_row27_col15\" class=\"data row27 col15\" >919</td>\n",
       "      <td id=\"T_e19ea_row27_col16\" class=\"data row27 col16\" >742</td>\n",
       "      <td id=\"T_e19ea_row27_col17\" class=\"data row27 col17\" >562</td>\n",
       "      <td id=\"T_e19ea_row27_col18\" class=\"data row27 col18\" >382</td>\n",
       "      <td id=\"T_e19ea_row27_col19\" class=\"data row27 col19\" >-</td>\n",
       "    </tr>\n",
       "    <tr>\n",
       "      <th id=\"T_e19ea_level1_row28\" class=\"row_heading level1 row28\" >28</th>\n",
       "      <td id=\"T_e19ea_row28_col0\" class=\"data row28 col0\" >-</td>\n",
       "      <td id=\"T_e19ea_row28_col1\" class=\"data row28 col1\" >-</td>\n",
       "      <td id=\"T_e19ea_row28_col2\" class=\"data row28 col2\" >-</td>\n",
       "      <td id=\"T_e19ea_row28_col3\" class=\"data row28 col3\" >-</td>\n",
       "      <td id=\"T_e19ea_row28_col4\" class=\"data row28 col4\" >-</td>\n",
       "      <td id=\"T_e19ea_row28_col5\" class=\"data row28 col5\" >1579</td>\n",
       "      <td id=\"T_e19ea_row28_col6\" class=\"data row28 col6\" >2366</td>\n",
       "      <td id=\"T_e19ea_row28_col7\" class=\"data row28 col7\" >2932</td>\n",
       "      <td id=\"T_e19ea_row28_col8\" class=\"data row28 col8\" >2721</td>\n",
       "      <td id=\"T_e19ea_row28_col9\" class=\"data row28 col9\" >2511</td>\n",
       "      <td id=\"T_e19ea_row28_col10\" class=\"data row28 col10\" >2300</td>\n",
       "      <td id=\"T_e19ea_row28_col11\" class=\"data row28 col11\" >2104</td>\n",
       "      <td id=\"T_e19ea_row28_col12\" class=\"data row28 col12\" >1908</td>\n",
       "      <td id=\"T_e19ea_row28_col13\" class=\"data row28 col13\" >1712</td>\n",
       "      <td id=\"T_e19ea_row28_col14\" class=\"data row28 col14\" >1455</td>\n",
       "      <td id=\"T_e19ea_row28_col15\" class=\"data row28 col15\" >1198</td>\n",
       "      <td id=\"T_e19ea_row28_col16\" class=\"data row28 col16\" >941</td>\n",
       "      <td id=\"T_e19ea_row28_col17\" class=\"data row28 col17\" >674</td>\n",
       "      <td id=\"T_e19ea_row28_col18\" class=\"data row28 col18\" >407</td>\n",
       "      <td id=\"T_e19ea_row28_col19\" class=\"data row28 col19\" >-</td>\n",
       "    </tr>\n",
       "    <tr>\n",
       "      <th id=\"T_e19ea_level1_row29\" class=\"row_heading level1 row29\" >35</th>\n",
       "      <td id=\"T_e19ea_row29_col0\" class=\"data row29 col0\" >-</td>\n",
       "      <td id=\"T_e19ea_row29_col1\" class=\"data row29 col1\" >-</td>\n",
       "      <td id=\"T_e19ea_row29_col2\" class=\"data row29 col2\" >-</td>\n",
       "      <td id=\"T_e19ea_row29_col3\" class=\"data row29 col3\" >-</td>\n",
       "      <td id=\"T_e19ea_row29_col4\" class=\"data row29 col4\" >-</td>\n",
       "      <td id=\"T_e19ea_row29_col5\" class=\"data row29 col5\" >1979</td>\n",
       "      <td id=\"T_e19ea_row29_col6\" class=\"data row29 col6\" >2375</td>\n",
       "      <td id=\"T_e19ea_row29_col7\" class=\"data row29 col7\" >2706</td>\n",
       "      <td id=\"T_e19ea_row29_col8\" class=\"data row29 col8\" >2590</td>\n",
       "      <td id=\"T_e19ea_row29_col9\" class=\"data row29 col9\" >2474</td>\n",
       "      <td id=\"T_e19ea_row29_col10\" class=\"data row29 col10\" >2358</td>\n",
       "      <td id=\"T_e19ea_row29_col11\" class=\"data row29 col11\" >2147</td>\n",
       "      <td id=\"T_e19ea_row29_col12\" class=\"data row29 col12\" >1937</td>\n",
       "      <td id=\"T_e19ea_row29_col13\" class=\"data row29 col13\" >1727</td>\n",
       "      <td id=\"T_e19ea_row29_col14\" class=\"data row29 col14\" >1465</td>\n",
       "      <td id=\"T_e19ea_row29_col15\" class=\"data row29 col15\" >1204</td>\n",
       "      <td id=\"T_e19ea_row29_col16\" class=\"data row29 col16\" >943</td>\n",
       "      <td id=\"T_e19ea_row29_col17\" class=\"data row29 col17\" >682</td>\n",
       "      <td id=\"T_e19ea_row29_col18\" class=\"data row29 col18\" >420</td>\n",
       "      <td id=\"T_e19ea_row29_col19\" class=\"data row29 col19\" >-</td>\n",
       "    </tr>\n",
       "    <tr>\n",
       "      <th id=\"T_e19ea_level0_row30\" class=\"row_heading level0 row30\" >CanonRF16mmF2.8STM</th>\n",
       "      <th id=\"T_e19ea_level1_row30\" class=\"row_heading level1 row30\" >16</th>\n",
       "      <td id=\"T_e19ea_row30_col0\" class=\"data row30 col0\" >-</td>\n",
       "      <td id=\"T_e19ea_row30_col1\" class=\"data row30 col1\" >-</td>\n",
       "      <td id=\"T_e19ea_row30_col2\" class=\"data row30 col2\" >-</td>\n",
       "      <td id=\"T_e19ea_row30_col3\" class=\"data row30 col3\" >-</td>\n",
       "      <td id=\"T_e19ea_row30_col4\" class=\"data row30 col4\" >-</td>\n",
       "      <td id=\"T_e19ea_row30_col5\" class=\"data row30 col5\" >2219</td>\n",
       "      <td id=\"T_e19ea_row30_col6\" class=\"data row30 col6\" >2448</td>\n",
       "      <td id=\"T_e19ea_row30_col7\" class=\"data row30 col7\" >2677</td>\n",
       "      <td id=\"T_e19ea_row30_col8\" class=\"data row30 col8\" >2508</td>\n",
       "      <td id=\"T_e19ea_row30_col9\" class=\"data row30 col9\" >2338</td>\n",
       "      <td id=\"T_e19ea_row30_col10\" class=\"data row30 col10\" >2169</td>\n",
       "      <td id=\"T_e19ea_row30_col11\" class=\"data row30 col11\" >1974</td>\n",
       "      <td id=\"T_e19ea_row30_col12\" class=\"data row30 col12\" >1778</td>\n",
       "      <td id=\"T_e19ea_row30_col13\" class=\"data row30 col13\" >1583</td>\n",
       "      <td id=\"T_e19ea_row30_col14\" class=\"data row30 col14\" >1341</td>\n",
       "      <td id=\"T_e19ea_row30_col15\" class=\"data row30 col15\" >1100</td>\n",
       "      <td id=\"T_e19ea_row30_col16\" class=\"data row30 col16\" >858</td>\n",
       "      <td id=\"T_e19ea_row30_col17\" class=\"data row30 col17\" >605</td>\n",
       "      <td id=\"T_e19ea_row30_col18\" class=\"data row30 col18\" >352</td>\n",
       "      <td id=\"T_e19ea_row30_col19\" class=\"data row30 col19\" >-</td>\n",
       "    </tr>\n",
       "    <tr>\n",
       "      <th id=\"T_e19ea_level0_row31\" class=\"row_heading level0 row31\" rowspan=\"5\">CanonRF24-105mmF4-7.1ISSTM</th>\n",
       "      <th id=\"T_e19ea_level1_row31\" class=\"row_heading level1 row31\" >24</th>\n",
       "      <td id=\"T_e19ea_row31_col0\" class=\"data row31 col0\" >-</td>\n",
       "      <td id=\"T_e19ea_row31_col1\" class=\"data row31 col1\" >-</td>\n",
       "      <td id=\"T_e19ea_row31_col2\" class=\"data row31 col2\" >-</td>\n",
       "      <td id=\"T_e19ea_row31_col3\" class=\"data row31 col3\" >-</td>\n",
       "      <td id=\"T_e19ea_row31_col4\" class=\"data row31 col4\" >-</td>\n",
       "      <td id=\"T_e19ea_row31_col5\" class=\"data row31 col5\" >-</td>\n",
       "      <td id=\"T_e19ea_row31_col6\" class=\"data row31 col6\" >-</td>\n",
       "      <td id=\"T_e19ea_row31_col7\" class=\"data row31 col7\" >1077</td>\n",
       "      <td id=\"T_e19ea_row31_col8\" class=\"data row31 col8\" >1375</td>\n",
       "      <td id=\"T_e19ea_row31_col9\" class=\"data row31 col9\" >1410</td>\n",
       "      <td id=\"T_e19ea_row31_col10\" class=\"data row31 col10\" >1445</td>\n",
       "      <td id=\"T_e19ea_row31_col11\" class=\"data row31 col11\" >1236</td>\n",
       "      <td id=\"T_e19ea_row31_col12\" class=\"data row31 col12\" >1027</td>\n",
       "      <td id=\"T_e19ea_row31_col13\" class=\"data row31 col13\" >817</td>\n",
       "      <td id=\"T_e19ea_row31_col14\" class=\"data row31 col14\" >730</td>\n",
       "      <td id=\"T_e19ea_row31_col15\" class=\"data row31 col15\" >643</td>\n",
       "      <td id=\"T_e19ea_row31_col16\" class=\"data row31 col16\" >556</td>\n",
       "      <td id=\"T_e19ea_row31_col17\" class=\"data row31 col17\" >435</td>\n",
       "      <td id=\"T_e19ea_row31_col18\" class=\"data row31 col18\" >314</td>\n",
       "      <td id=\"T_e19ea_row31_col19\" class=\"data row31 col19\" >-</td>\n",
       "    </tr>\n",
       "    <tr>\n",
       "      <th id=\"T_e19ea_level1_row32\" class=\"row_heading level1 row32\" >35</th>\n",
       "      <td id=\"T_e19ea_row32_col0\" class=\"data row32 col0\" >-</td>\n",
       "      <td id=\"T_e19ea_row32_col1\" class=\"data row32 col1\" >-</td>\n",
       "      <td id=\"T_e19ea_row32_col2\" class=\"data row32 col2\" >-</td>\n",
       "      <td id=\"T_e19ea_row32_col3\" class=\"data row32 col3\" >-</td>\n",
       "      <td id=\"T_e19ea_row32_col4\" class=\"data row32 col4\" >-</td>\n",
       "      <td id=\"T_e19ea_row32_col5\" class=\"data row32 col5\" >-</td>\n",
       "      <td id=\"T_e19ea_row32_col6\" class=\"data row32 col6\" >-</td>\n",
       "      <td id=\"T_e19ea_row32_col7\" class=\"data row32 col7\" >-</td>\n",
       "      <td id=\"T_e19ea_row32_col8\" class=\"data row32 col8\" >1172</td>\n",
       "      <td id=\"T_e19ea_row32_col9\" class=\"data row32 col9\" >1545</td>\n",
       "      <td id=\"T_e19ea_row32_col10\" class=\"data row32 col10\" >1640</td>\n",
       "      <td id=\"T_e19ea_row32_col11\" class=\"data row32 col11\" >1506</td>\n",
       "      <td id=\"T_e19ea_row32_col12\" class=\"data row32 col12\" >1372</td>\n",
       "      <td id=\"T_e19ea_row32_col13\" class=\"data row32 col13\" >1238</td>\n",
       "      <td id=\"T_e19ea_row32_col14\" class=\"data row32 col14\" >1045</td>\n",
       "      <td id=\"T_e19ea_row32_col15\" class=\"data row32 col15\" >852</td>\n",
       "      <td id=\"T_e19ea_row32_col16\" class=\"data row32 col16\" >659</td>\n",
       "      <td id=\"T_e19ea_row32_col17\" class=\"data row32 col17\" >496</td>\n",
       "      <td id=\"T_e19ea_row32_col18\" class=\"data row32 col18\" >332</td>\n",
       "      <td id=\"T_e19ea_row32_col19\" class=\"data row32 col19\" >-</td>\n",
       "    </tr>\n",
       "    <tr>\n",
       "      <th id=\"T_e19ea_level1_row33\" class=\"row_heading level1 row33\" >50</th>\n",
       "      <td id=\"T_e19ea_row33_col0\" class=\"data row33 col0\" >-</td>\n",
       "      <td id=\"T_e19ea_row33_col1\" class=\"data row33 col1\" >-</td>\n",
       "      <td id=\"T_e19ea_row33_col2\" class=\"data row33 col2\" >-</td>\n",
       "      <td id=\"T_e19ea_row33_col3\" class=\"data row33 col3\" >-</td>\n",
       "      <td id=\"T_e19ea_row33_col4\" class=\"data row33 col4\" >-</td>\n",
       "      <td id=\"T_e19ea_row33_col5\" class=\"data row33 col5\" >-</td>\n",
       "      <td id=\"T_e19ea_row33_col6\" class=\"data row33 col6\" >-</td>\n",
       "      <td id=\"T_e19ea_row33_col7\" class=\"data row33 col7\" >-</td>\n",
       "      <td id=\"T_e19ea_row33_col8\" class=\"data row33 col8\" >-</td>\n",
       "      <td id=\"T_e19ea_row33_col9\" class=\"data row33 col9\" >909</td>\n",
       "      <td id=\"T_e19ea_row33_col10\" class=\"data row33 col10\" >1519</td>\n",
       "      <td id=\"T_e19ea_row33_col11\" class=\"data row33 col11\" >1424</td>\n",
       "      <td id=\"T_e19ea_row33_col12\" class=\"data row33 col12\" >1329</td>\n",
       "      <td id=\"T_e19ea_row33_col13\" class=\"data row33 col13\" >1234</td>\n",
       "      <td id=\"T_e19ea_row33_col14\" class=\"data row33 col14\" >1036</td>\n",
       "      <td id=\"T_e19ea_row33_col15\" class=\"data row33 col15\" >838</td>\n",
       "      <td id=\"T_e19ea_row33_col16\" class=\"data row33 col16\" >641</td>\n",
       "      <td id=\"T_e19ea_row33_col17\" class=\"data row33 col17\" >479</td>\n",
       "      <td id=\"T_e19ea_row33_col18\" class=\"data row33 col18\" >317</td>\n",
       "      <td id=\"T_e19ea_row33_col19\" class=\"data row33 col19\" >-</td>\n",
       "    </tr>\n",
       "    <tr>\n",
       "      <th id=\"T_e19ea_level1_row34\" class=\"row_heading level1 row34\" >70</th>\n",
       "      <td id=\"T_e19ea_row34_col0\" class=\"data row34 col0\" >-</td>\n",
       "      <td id=\"T_e19ea_row34_col1\" class=\"data row34 col1\" >-</td>\n",
       "      <td id=\"T_e19ea_row34_col2\" class=\"data row34 col2\" >-</td>\n",
       "      <td id=\"T_e19ea_row34_col3\" class=\"data row34 col3\" >-</td>\n",
       "      <td id=\"T_e19ea_row34_col4\" class=\"data row34 col4\" >-</td>\n",
       "      <td id=\"T_e19ea_row34_col5\" class=\"data row34 col5\" >-</td>\n",
       "      <td id=\"T_e19ea_row34_col6\" class=\"data row34 col6\" >-</td>\n",
       "      <td id=\"T_e19ea_row34_col7\" class=\"data row34 col7\" >-</td>\n",
       "      <td id=\"T_e19ea_row34_col8\" class=\"data row34 col8\" >-</td>\n",
       "      <td id=\"T_e19ea_row34_col9\" class=\"data row34 col9\" >-</td>\n",
       "      <td id=\"T_e19ea_row34_col10\" class=\"data row34 col10\" >-</td>\n",
       "      <td id=\"T_e19ea_row34_col11\" class=\"data row34 col11\" >936</td>\n",
       "      <td id=\"T_e19ea_row34_col12\" class=\"data row34 col12\" >1326</td>\n",
       "      <td id=\"T_e19ea_row34_col13\" class=\"data row34 col13\" >1220</td>\n",
       "      <td id=\"T_e19ea_row34_col14\" class=\"data row34 col14\" >1074</td>\n",
       "      <td id=\"T_e19ea_row34_col15\" class=\"data row34 col15\" >927</td>\n",
       "      <td id=\"T_e19ea_row34_col16\" class=\"data row34 col16\" >781</td>\n",
       "      <td id=\"T_e19ea_row34_col17\" class=\"data row34 col17\" >577</td>\n",
       "      <td id=\"T_e19ea_row34_col18\" class=\"data row34 col18\" >373</td>\n",
       "      <td id=\"T_e19ea_row34_col19\" class=\"data row34 col19\" >-</td>\n",
       "    </tr>\n",
       "    <tr>\n",
       "      <th id=\"T_e19ea_level1_row35\" class=\"row_heading level1 row35\" >105</th>\n",
       "      <td id=\"T_e19ea_row35_col0\" class=\"data row35 col0\" >-</td>\n",
       "      <td id=\"T_e19ea_row35_col1\" class=\"data row35 col1\" >-</td>\n",
       "      <td id=\"T_e19ea_row35_col2\" class=\"data row35 col2\" >-</td>\n",
       "      <td id=\"T_e19ea_row35_col3\" class=\"data row35 col3\" >-</td>\n",
       "      <td id=\"T_e19ea_row35_col4\" class=\"data row35 col4\" >-</td>\n",
       "      <td id=\"T_e19ea_row35_col5\" class=\"data row35 col5\" >-</td>\n",
       "      <td id=\"T_e19ea_row35_col6\" class=\"data row35 col6\" >-</td>\n",
       "      <td id=\"T_e19ea_row35_col7\" class=\"data row35 col7\" >-</td>\n",
       "      <td id=\"T_e19ea_row35_col8\" class=\"data row35 col8\" >-</td>\n",
       "      <td id=\"T_e19ea_row35_col9\" class=\"data row35 col9\" >-</td>\n",
       "      <td id=\"T_e19ea_row35_col10\" class=\"data row35 col10\" >-</td>\n",
       "      <td id=\"T_e19ea_row35_col11\" class=\"data row35 col11\" >-</td>\n",
       "      <td id=\"T_e19ea_row35_col12\" class=\"data row35 col12\" >1150</td>\n",
       "      <td id=\"T_e19ea_row35_col13\" class=\"data row35 col13\" >1130</td>\n",
       "      <td id=\"T_e19ea_row35_col14\" class=\"data row35 col14\" >998</td>\n",
       "      <td id=\"T_e19ea_row35_col15\" class=\"data row35 col15\" >866</td>\n",
       "      <td id=\"T_e19ea_row35_col16\" class=\"data row35 col16\" >735</td>\n",
       "      <td id=\"T_e19ea_row35_col17\" class=\"data row35 col17\" >542</td>\n",
       "      <td id=\"T_e19ea_row35_col18\" class=\"data row35 col18\" >349</td>\n",
       "      <td id=\"T_e19ea_row35_col19\" class=\"data row35 col19\" >-</td>\n",
       "    </tr>\n",
       "    <tr>\n",
       "      <th id=\"T_e19ea_level0_row36\" class=\"row_heading level0 row36\" rowspan=\"6\">CanonRF24-105mmF4LISUSM</th>\n",
       "      <th id=\"T_e19ea_level1_row36\" class=\"row_heading level1 row36\" >24</th>\n",
       "      <td id=\"T_e19ea_row36_col0\" class=\"data row36 col0\" >-</td>\n",
       "      <td id=\"T_e19ea_row36_col1\" class=\"data row36 col1\" >-</td>\n",
       "      <td id=\"T_e19ea_row36_col2\" class=\"data row36 col2\" >-</td>\n",
       "      <td id=\"T_e19ea_row36_col3\" class=\"data row36 col3\" >-</td>\n",
       "      <td id=\"T_e19ea_row36_col4\" class=\"data row36 col4\" >-</td>\n",
       "      <td id=\"T_e19ea_row36_col5\" class=\"data row36 col5\" >-</td>\n",
       "      <td id=\"T_e19ea_row36_col6\" class=\"data row36 col6\" >-</td>\n",
       "      <td id=\"T_e19ea_row36_col7\" class=\"data row36 col7\" >2495</td>\n",
       "      <td id=\"T_e19ea_row36_col8\" class=\"data row36 col8\" >2875</td>\n",
       "      <td id=\"T_e19ea_row36_col9\" class=\"data row36 col9\" >2496</td>\n",
       "      <td id=\"T_e19ea_row36_col10\" class=\"data row36 col10\" >2118</td>\n",
       "      <td id=\"T_e19ea_row36_col11\" class=\"data row36 col11\" >1885</td>\n",
       "      <td id=\"T_e19ea_row36_col12\" class=\"data row36 col12\" >1652</td>\n",
       "      <td id=\"T_e19ea_row36_col13\" class=\"data row36 col13\" >1419</td>\n",
       "      <td id=\"T_e19ea_row36_col14\" class=\"data row36 col14\" >1233</td>\n",
       "      <td id=\"T_e19ea_row36_col15\" class=\"data row36 col15\" >1047</td>\n",
       "      <td id=\"T_e19ea_row36_col16\" class=\"data row36 col16\" >862</td>\n",
       "      <td id=\"T_e19ea_row36_col17\" class=\"data row36 col17\" >651</td>\n",
       "      <td id=\"T_e19ea_row36_col18\" class=\"data row36 col18\" >439</td>\n",
       "      <td id=\"T_e19ea_row36_col19\" class=\"data row36 col19\" >-</td>\n",
       "    </tr>\n",
       "    <tr>\n",
       "      <th id=\"T_e19ea_level1_row37\" class=\"row_heading level1 row37\" >35</th>\n",
       "      <td id=\"T_e19ea_row37_col0\" class=\"data row37 col0\" >-</td>\n",
       "      <td id=\"T_e19ea_row37_col1\" class=\"data row37 col1\" >-</td>\n",
       "      <td id=\"T_e19ea_row37_col2\" class=\"data row37 col2\" >-</td>\n",
       "      <td id=\"T_e19ea_row37_col3\" class=\"data row37 col3\" >-</td>\n",
       "      <td id=\"T_e19ea_row37_col4\" class=\"data row37 col4\" >-</td>\n",
       "      <td id=\"T_e19ea_row37_col5\" class=\"data row37 col5\" >-</td>\n",
       "      <td id=\"T_e19ea_row37_col6\" class=\"data row37 col6\" >-</td>\n",
       "      <td id=\"T_e19ea_row37_col7\" class=\"data row37 col7\" >3036</td>\n",
       "      <td id=\"T_e19ea_row37_col8\" class=\"data row37 col8\" >3174</td>\n",
       "      <td id=\"T_e19ea_row37_col9\" class=\"data row37 col9\" >2971</td>\n",
       "      <td id=\"T_e19ea_row37_col10\" class=\"data row37 col10\" >2768</td>\n",
       "      <td id=\"T_e19ea_row37_col11\" class=\"data row37 col11\" >2423</td>\n",
       "      <td id=\"T_e19ea_row37_col12\" class=\"data row37 col12\" >2077</td>\n",
       "      <td id=\"T_e19ea_row37_col13\" class=\"data row37 col13\" >1731</td>\n",
       "      <td id=\"T_e19ea_row37_col14\" class=\"data row37 col14\" >1483</td>\n",
       "      <td id=\"T_e19ea_row37_col15\" class=\"data row37 col15\" >1236</td>\n",
       "      <td id=\"T_e19ea_row37_col16\" class=\"data row37 col16\" >988</td>\n",
       "      <td id=\"T_e19ea_row37_col17\" class=\"data row37 col17\" >707</td>\n",
       "      <td id=\"T_e19ea_row37_col18\" class=\"data row37 col18\" >425</td>\n",
       "      <td id=\"T_e19ea_row37_col19\" class=\"data row37 col19\" >-</td>\n",
       "    </tr>\n",
       "    <tr>\n",
       "      <th id=\"T_e19ea_level1_row38\" class=\"row_heading level1 row38\" >50</th>\n",
       "      <td id=\"T_e19ea_row38_col0\" class=\"data row38 col0\" >-</td>\n",
       "      <td id=\"T_e19ea_row38_col1\" class=\"data row38 col1\" >-</td>\n",
       "      <td id=\"T_e19ea_row38_col2\" class=\"data row38 col2\" >-</td>\n",
       "      <td id=\"T_e19ea_row38_col3\" class=\"data row38 col3\" >-</td>\n",
       "      <td id=\"T_e19ea_row38_col4\" class=\"data row38 col4\" >-</td>\n",
       "      <td id=\"T_e19ea_row38_col5\" class=\"data row38 col5\" >-</td>\n",
       "      <td id=\"T_e19ea_row38_col6\" class=\"data row38 col6\" >-</td>\n",
       "      <td id=\"T_e19ea_row38_col7\" class=\"data row38 col7\" >2910</td>\n",
       "      <td id=\"T_e19ea_row38_col8\" class=\"data row38 col8\" >3395</td>\n",
       "      <td id=\"T_e19ea_row38_col9\" class=\"data row38 col9\" >3123</td>\n",
       "      <td id=\"T_e19ea_row38_col10\" class=\"data row38 col10\" >2851</td>\n",
       "      <td id=\"T_e19ea_row38_col11\" class=\"data row38 col11\" >2514</td>\n",
       "      <td id=\"T_e19ea_row38_col12\" class=\"data row38 col12\" >2178</td>\n",
       "      <td id=\"T_e19ea_row38_col13\" class=\"data row38 col13\" >1842</td>\n",
       "      <td id=\"T_e19ea_row38_col14\" class=\"data row38 col14\" >1540</td>\n",
       "      <td id=\"T_e19ea_row38_col15\" class=\"data row38 col15\" >1237</td>\n",
       "      <td id=\"T_e19ea_row38_col16\" class=\"data row38 col16\" >935</td>\n",
       "      <td id=\"T_e19ea_row38_col17\" class=\"data row38 col17\" >681</td>\n",
       "      <td id=\"T_e19ea_row38_col18\" class=\"data row38 col18\" >426</td>\n",
       "      <td id=\"T_e19ea_row38_col19\" class=\"data row38 col19\" >-</td>\n",
       "    </tr>\n",
       "    <tr>\n",
       "      <th id=\"T_e19ea_level1_row39\" class=\"row_heading level1 row39\" >70</th>\n",
       "      <td id=\"T_e19ea_row39_col0\" class=\"data row39 col0\" >-</td>\n",
       "      <td id=\"T_e19ea_row39_col1\" class=\"data row39 col1\" >-</td>\n",
       "      <td id=\"T_e19ea_row39_col2\" class=\"data row39 col2\" >-</td>\n",
       "      <td id=\"T_e19ea_row39_col3\" class=\"data row39 col3\" >-</td>\n",
       "      <td id=\"T_e19ea_row39_col4\" class=\"data row39 col4\" >-</td>\n",
       "      <td id=\"T_e19ea_row39_col5\" class=\"data row39 col5\" >-</td>\n",
       "      <td id=\"T_e19ea_row39_col6\" class=\"data row39 col6\" >-</td>\n",
       "      <td id=\"T_e19ea_row39_col7\" class=\"data row39 col7\" >2719</td>\n",
       "      <td id=\"T_e19ea_row39_col8\" class=\"data row39 col8\" >3085</td>\n",
       "      <td id=\"T_e19ea_row39_col9\" class=\"data row39 col9\" >2711</td>\n",
       "      <td id=\"T_e19ea_row39_col10\" class=\"data row39 col10\" >2337</td>\n",
       "      <td id=\"T_e19ea_row39_col11\" class=\"data row39 col11\" >2081</td>\n",
       "      <td id=\"T_e19ea_row39_col12\" class=\"data row39 col12\" >1825</td>\n",
       "      <td id=\"T_e19ea_row39_col13\" class=\"data row39 col13\" >1569</td>\n",
       "      <td id=\"T_e19ea_row39_col14\" class=\"data row39 col14\" >1350</td>\n",
       "      <td id=\"T_e19ea_row39_col15\" class=\"data row39 col15\" >1131</td>\n",
       "      <td id=\"T_e19ea_row39_col16\" class=\"data row39 col16\" >912</td>\n",
       "      <td id=\"T_e19ea_row39_col17\" class=\"data row39 col17\" >657</td>\n",
       "      <td id=\"T_e19ea_row39_col18\" class=\"data row39 col18\" >402</td>\n",
       "      <td id=\"T_e19ea_row39_col19\" class=\"data row39 col19\" >-</td>\n",
       "    </tr>\n",
       "    <tr>\n",
       "      <th id=\"T_e19ea_level1_row40\" class=\"row_heading level1 row40\" >85</th>\n",
       "      <td id=\"T_e19ea_row40_col0\" class=\"data row40 col0\" >-</td>\n",
       "      <td id=\"T_e19ea_row40_col1\" class=\"data row40 col1\" >-</td>\n",
       "      <td id=\"T_e19ea_row40_col2\" class=\"data row40 col2\" >-</td>\n",
       "      <td id=\"T_e19ea_row40_col3\" class=\"data row40 col3\" >-</td>\n",
       "      <td id=\"T_e19ea_row40_col4\" class=\"data row40 col4\" >-</td>\n",
       "      <td id=\"T_e19ea_row40_col5\" class=\"data row40 col5\" >-</td>\n",
       "      <td id=\"T_e19ea_row40_col6\" class=\"data row40 col6\" >-</td>\n",
       "      <td id=\"T_e19ea_row40_col7\" class=\"data row40 col7\" >3082</td>\n",
       "      <td id=\"T_e19ea_row40_col8\" class=\"data row40 col8\" >3185</td>\n",
       "      <td id=\"T_e19ea_row40_col9\" class=\"data row40 col9\" >2909</td>\n",
       "      <td id=\"T_e19ea_row40_col10\" class=\"data row40 col10\" >2633</td>\n",
       "      <td id=\"T_e19ea_row40_col11\" class=\"data row40 col11\" >2317</td>\n",
       "      <td id=\"T_e19ea_row40_col12\" class=\"data row40 col12\" >2000</td>\n",
       "      <td id=\"T_e19ea_row40_col13\" class=\"data row40 col13\" >1684</td>\n",
       "      <td id=\"T_e19ea_row40_col14\" class=\"data row40 col14\" >1454</td>\n",
       "      <td id=\"T_e19ea_row40_col15\" class=\"data row40 col15\" >1224</td>\n",
       "      <td id=\"T_e19ea_row40_col16\" class=\"data row40 col16\" >995</td>\n",
       "      <td id=\"T_e19ea_row40_col17\" class=\"data row40 col17\" >697</td>\n",
       "      <td id=\"T_e19ea_row40_col18\" class=\"data row40 col18\" >400</td>\n",
       "      <td id=\"T_e19ea_row40_col19\" class=\"data row40 col19\" >-</td>\n",
       "    </tr>\n",
       "    <tr>\n",
       "      <th id=\"T_e19ea_level1_row41\" class=\"row_heading level1 row41\" >105</th>\n",
       "      <td id=\"T_e19ea_row41_col0\" class=\"data row41 col0\" >-</td>\n",
       "      <td id=\"T_e19ea_row41_col1\" class=\"data row41 col1\" >-</td>\n",
       "      <td id=\"T_e19ea_row41_col2\" class=\"data row41 col2\" >-</td>\n",
       "      <td id=\"T_e19ea_row41_col3\" class=\"data row41 col3\" >-</td>\n",
       "      <td id=\"T_e19ea_row41_col4\" class=\"data row41 col4\" >-</td>\n",
       "      <td id=\"T_e19ea_row41_col5\" class=\"data row41 col5\" >-</td>\n",
       "      <td id=\"T_e19ea_row41_col6\" class=\"data row41 col6\" >-</td>\n",
       "      <td id=\"T_e19ea_row41_col7\" class=\"data row41 col7\" >1809</td>\n",
       "      <td id=\"T_e19ea_row41_col8\" class=\"data row41 col8\" >2026</td>\n",
       "      <td id=\"T_e19ea_row41_col9\" class=\"data row41 col9\" >1919</td>\n",
       "      <td id=\"T_e19ea_row41_col10\" class=\"data row41 col10\" >1813</td>\n",
       "      <td id=\"T_e19ea_row41_col11\" class=\"data row41 col11\" >1605</td>\n",
       "      <td id=\"T_e19ea_row41_col12\" class=\"data row41 col12\" >1398</td>\n",
       "      <td id=\"T_e19ea_row41_col13\" class=\"data row41 col13\" >1190</td>\n",
       "      <td id=\"T_e19ea_row41_col14\" class=\"data row41 col14\" >1066</td>\n",
       "      <td id=\"T_e19ea_row41_col15\" class=\"data row41 col15\" >942</td>\n",
       "      <td id=\"T_e19ea_row41_col16\" class=\"data row41 col16\" >818</td>\n",
       "      <td id=\"T_e19ea_row41_col17\" class=\"data row41 col17\" >614</td>\n",
       "      <td id=\"T_e19ea_row41_col18\" class=\"data row41 col18\" >409</td>\n",
       "      <td id=\"T_e19ea_row41_col19\" class=\"data row41 col19\" >-</td>\n",
       "    </tr>\n",
       "    <tr>\n",
       "      <th id=\"T_e19ea_level0_row42\" class=\"row_heading level0 row42\" rowspan=\"4\">CanonRF24-240mmF4-6.3ISUSM</th>\n",
       "      <th id=\"T_e19ea_level1_row42\" class=\"row_heading level1 row42\" >24</th>\n",
       "      <td id=\"T_e19ea_row42_col0\" class=\"data row42 col0\" >-</td>\n",
       "      <td id=\"T_e19ea_row42_col1\" class=\"data row42 col1\" >-</td>\n",
       "      <td id=\"T_e19ea_row42_col2\" class=\"data row42 col2\" >-</td>\n",
       "      <td id=\"T_e19ea_row42_col3\" class=\"data row42 col3\" >-</td>\n",
       "      <td id=\"T_e19ea_row42_col4\" class=\"data row42 col4\" >-</td>\n",
       "      <td id=\"T_e19ea_row42_col5\" class=\"data row42 col5\" >-</td>\n",
       "      <td id=\"T_e19ea_row42_col6\" class=\"data row42 col6\" >-</td>\n",
       "      <td id=\"T_e19ea_row42_col7\" class=\"data row42 col7\" >1689</td>\n",
       "      <td id=\"T_e19ea_row42_col8\" class=\"data row42 col8\" >2078</td>\n",
       "      <td id=\"T_e19ea_row42_col9\" class=\"data row42 col9\" >2048</td>\n",
       "      <td id=\"T_e19ea_row42_col10\" class=\"data row42 col10\" >2019</td>\n",
       "      <td id=\"T_e19ea_row42_col11\" class=\"data row42 col11\" >1859</td>\n",
       "      <td id=\"T_e19ea_row42_col12\" class=\"data row42 col12\" >1700</td>\n",
       "      <td id=\"T_e19ea_row42_col13\" class=\"data row42 col13\" >1540</td>\n",
       "      <td id=\"T_e19ea_row42_col14\" class=\"data row42 col14\" >1323</td>\n",
       "      <td id=\"T_e19ea_row42_col15\" class=\"data row42 col15\" >1106</td>\n",
       "      <td id=\"T_e19ea_row42_col16\" class=\"data row42 col16\" >888</td>\n",
       "      <td id=\"T_e19ea_row42_col17\" class=\"data row42 col17\" >643</td>\n",
       "      <td id=\"T_e19ea_row42_col18\" class=\"data row42 col18\" >397</td>\n",
       "      <td id=\"T_e19ea_row42_col19\" class=\"data row42 col19\" >-</td>\n",
       "    </tr>\n",
       "    <tr>\n",
       "      <th id=\"T_e19ea_level1_row43\" class=\"row_heading level1 row43\" >50</th>\n",
       "      <td id=\"T_e19ea_row43_col0\" class=\"data row43 col0\" >-</td>\n",
       "      <td id=\"T_e19ea_row43_col1\" class=\"data row43 col1\" >-</td>\n",
       "      <td id=\"T_e19ea_row43_col2\" class=\"data row43 col2\" >-</td>\n",
       "      <td id=\"T_e19ea_row43_col3\" class=\"data row43 col3\" >-</td>\n",
       "      <td id=\"T_e19ea_row43_col4\" class=\"data row43 col4\" >-</td>\n",
       "      <td id=\"T_e19ea_row43_col5\" class=\"data row43 col5\" >-</td>\n",
       "      <td id=\"T_e19ea_row43_col6\" class=\"data row43 col6\" >-</td>\n",
       "      <td id=\"T_e19ea_row43_col7\" class=\"data row43 col7\" >-</td>\n",
       "      <td id=\"T_e19ea_row43_col8\" class=\"data row43 col8\" >-</td>\n",
       "      <td id=\"T_e19ea_row43_col9\" class=\"data row43 col9\" >1127</td>\n",
       "      <td id=\"T_e19ea_row43_col10\" class=\"data row43 col10\" >1489</td>\n",
       "      <td id=\"T_e19ea_row43_col11\" class=\"data row43 col11\" >1354</td>\n",
       "      <td id=\"T_e19ea_row43_col12\" class=\"data row43 col12\" >1219</td>\n",
       "      <td id=\"T_e19ea_row43_col13\" class=\"data row43 col13\" >1085</td>\n",
       "      <td id=\"T_e19ea_row43_col14\" class=\"data row43 col14\" >938</td>\n",
       "      <td id=\"T_e19ea_row43_col15\" class=\"data row43 col15\" >791</td>\n",
       "      <td id=\"T_e19ea_row43_col16\" class=\"data row43 col16\" >644</td>\n",
       "      <td id=\"T_e19ea_row43_col17\" class=\"data row43 col17\" >465</td>\n",
       "      <td id=\"T_e19ea_row43_col18\" class=\"data row43 col18\" >287</td>\n",
       "      <td id=\"T_e19ea_row43_col19\" class=\"data row43 col19\" >-</td>\n",
       "    </tr>\n",
       "    <tr>\n",
       "      <th id=\"T_e19ea_level1_row44\" class=\"row_heading level1 row44\" >100</th>\n",
       "      <td id=\"T_e19ea_row44_col0\" class=\"data row44 col0\" >-</td>\n",
       "      <td id=\"T_e19ea_row44_col1\" class=\"data row44 col1\" >-</td>\n",
       "      <td id=\"T_e19ea_row44_col2\" class=\"data row44 col2\" >-</td>\n",
       "      <td id=\"T_e19ea_row44_col3\" class=\"data row44 col3\" >-</td>\n",
       "      <td id=\"T_e19ea_row44_col4\" class=\"data row44 col4\" >-</td>\n",
       "      <td id=\"T_e19ea_row44_col5\" class=\"data row44 col5\" >-</td>\n",
       "      <td id=\"T_e19ea_row44_col6\" class=\"data row44 col6\" >-</td>\n",
       "      <td id=\"T_e19ea_row44_col7\" class=\"data row44 col7\" >-</td>\n",
       "      <td id=\"T_e19ea_row44_col8\" class=\"data row44 col8\" >-</td>\n",
       "      <td id=\"T_e19ea_row44_col9\" class=\"data row44 col9\" >-</td>\n",
       "      <td id=\"T_e19ea_row44_col10\" class=\"data row44 col10\" >886</td>\n",
       "      <td id=\"T_e19ea_row44_col11\" class=\"data row44 col11\" >955</td>\n",
       "      <td id=\"T_e19ea_row44_col12\" class=\"data row44 col12\" >964</td>\n",
       "      <td id=\"T_e19ea_row44_col13\" class=\"data row44 col13\" >972</td>\n",
       "      <td id=\"T_e19ea_row44_col14\" class=\"data row44 col14\" >861</td>\n",
       "      <td id=\"T_e19ea_row44_col15\" class=\"data row44 col15\" >750</td>\n",
       "      <td id=\"T_e19ea_row44_col16\" class=\"data row44 col16\" >639</td>\n",
       "      <td id=\"T_e19ea_row44_col17\" class=\"data row44 col17\" >466</td>\n",
       "      <td id=\"T_e19ea_row44_col18\" class=\"data row44 col18\" >292</td>\n",
       "      <td id=\"T_e19ea_row44_col19\" class=\"data row44 col19\" >-</td>\n",
       "    </tr>\n",
       "    <tr>\n",
       "      <th id=\"T_e19ea_level1_row45\" class=\"row_heading level1 row45\" >240</th>\n",
       "      <td id=\"T_e19ea_row45_col0\" class=\"data row45 col0\" >-</td>\n",
       "      <td id=\"T_e19ea_row45_col1\" class=\"data row45 col1\" >-</td>\n",
       "      <td id=\"T_e19ea_row45_col2\" class=\"data row45 col2\" >-</td>\n",
       "      <td id=\"T_e19ea_row45_col3\" class=\"data row45 col3\" >-</td>\n",
       "      <td id=\"T_e19ea_row45_col4\" class=\"data row45 col4\" >-</td>\n",
       "      <td id=\"T_e19ea_row45_col5\" class=\"data row45 col5\" >-</td>\n",
       "      <td id=\"T_e19ea_row45_col6\" class=\"data row45 col6\" >-</td>\n",
       "      <td id=\"T_e19ea_row45_col7\" class=\"data row45 col7\" >-</td>\n",
       "      <td id=\"T_e19ea_row45_col8\" class=\"data row45 col8\" >-</td>\n",
       "      <td id=\"T_e19ea_row45_col9\" class=\"data row45 col9\" >-</td>\n",
       "      <td id=\"T_e19ea_row45_col10\" class=\"data row45 col10\" >-</td>\n",
       "      <td id=\"T_e19ea_row45_col11\" class=\"data row45 col11\" >581</td>\n",
       "      <td id=\"T_e19ea_row45_col12\" class=\"data row45 col12\" >763</td>\n",
       "      <td id=\"T_e19ea_row45_col13\" class=\"data row45 col13\" >744</td>\n",
       "      <td id=\"T_e19ea_row45_col14\" class=\"data row45 col14\" >700</td>\n",
       "      <td id=\"T_e19ea_row45_col15\" class=\"data row45 col15\" >656</td>\n",
       "      <td id=\"T_e19ea_row45_col16\" class=\"data row45 col16\" >611</td>\n",
       "      <td id=\"T_e19ea_row45_col17\" class=\"data row45 col17\" >458</td>\n",
       "      <td id=\"T_e19ea_row45_col18\" class=\"data row45 col18\" >304</td>\n",
       "      <td id=\"T_e19ea_row45_col19\" class=\"data row45 col19\" >-</td>\n",
       "    </tr>\n",
       "    <tr>\n",
       "      <th id=\"T_e19ea_level0_row46\" class=\"row_heading level0 row46\" rowspan=\"4\">CanonRF24-50mmF4.5-6.3ISSTM</th>\n",
       "      <th id=\"T_e19ea_level1_row46\" class=\"row_heading level1 row46\" >24</th>\n",
       "      <td id=\"T_e19ea_row46_col0\" class=\"data row46 col0\" >-</td>\n",
       "      <td id=\"T_e19ea_row46_col1\" class=\"data row46 col1\" >-</td>\n",
       "      <td id=\"T_e19ea_row46_col2\" class=\"data row46 col2\" >-</td>\n",
       "      <td id=\"T_e19ea_row46_col3\" class=\"data row46 col3\" >-</td>\n",
       "      <td id=\"T_e19ea_row46_col4\" class=\"data row46 col4\" >-</td>\n",
       "      <td id=\"T_e19ea_row46_col5\" class=\"data row46 col5\" >-</td>\n",
       "      <td id=\"T_e19ea_row46_col6\" class=\"data row46 col6\" >-</td>\n",
       "      <td id=\"T_e19ea_row46_col7\" class=\"data row46 col7\" >-</td>\n",
       "      <td id=\"T_e19ea_row46_col8\" class=\"data row46 col8\" >546</td>\n",
       "      <td id=\"T_e19ea_row46_col9\" class=\"data row46 col9\" >685</td>\n",
       "      <td id=\"T_e19ea_row46_col10\" class=\"data row46 col10\" >825</td>\n",
       "      <td id=\"T_e19ea_row46_col11\" class=\"data row46 col11\" >785</td>\n",
       "      <td id=\"T_e19ea_row46_col12\" class=\"data row46 col12\" >745</td>\n",
       "      <td id=\"T_e19ea_row46_col13\" class=\"data row46 col13\" >704</td>\n",
       "      <td id=\"T_e19ea_row46_col14\" class=\"data row46 col14\" >666</td>\n",
       "      <td id=\"T_e19ea_row46_col15\" class=\"data row46 col15\" >628</td>\n",
       "      <td id=\"T_e19ea_row46_col16\" class=\"data row46 col16\" >590</td>\n",
       "      <td id=\"T_e19ea_row46_col17\" class=\"data row46 col17\" >463</td>\n",
       "      <td id=\"T_e19ea_row46_col18\" class=\"data row46 col18\" >337</td>\n",
       "      <td id=\"T_e19ea_row46_col19\" class=\"data row46 col19\" >-</td>\n",
       "    </tr>\n",
       "    <tr>\n",
       "      <th id=\"T_e19ea_level1_row47\" class=\"row_heading level1 row47\" >28</th>\n",
       "      <td id=\"T_e19ea_row47_col0\" class=\"data row47 col0\" >-</td>\n",
       "      <td id=\"T_e19ea_row47_col1\" class=\"data row47 col1\" >-</td>\n",
       "      <td id=\"T_e19ea_row47_col2\" class=\"data row47 col2\" >-</td>\n",
       "      <td id=\"T_e19ea_row47_col3\" class=\"data row47 col3\" >-</td>\n",
       "      <td id=\"T_e19ea_row47_col4\" class=\"data row47 col4\" >-</td>\n",
       "      <td id=\"T_e19ea_row47_col5\" class=\"data row47 col5\" >-</td>\n",
       "      <td id=\"T_e19ea_row47_col6\" class=\"data row47 col6\" >-</td>\n",
       "      <td id=\"T_e19ea_row47_col7\" class=\"data row47 col7\" >-</td>\n",
       "      <td id=\"T_e19ea_row47_col8\" class=\"data row47 col8\" >-</td>\n",
       "      <td id=\"T_e19ea_row47_col9\" class=\"data row47 col9\" >580</td>\n",
       "      <td id=\"T_e19ea_row47_col10\" class=\"data row47 col10\" >728</td>\n",
       "      <td id=\"T_e19ea_row47_col11\" class=\"data row47 col11\" >722</td>\n",
       "      <td id=\"T_e19ea_row47_col12\" class=\"data row47 col12\" >716</td>\n",
       "      <td id=\"T_e19ea_row47_col13\" class=\"data row47 col13\" >710</td>\n",
       "      <td id=\"T_e19ea_row47_col14\" class=\"data row47 col14\" >648</td>\n",
       "      <td id=\"T_e19ea_row47_col15\" class=\"data row47 col15\" >585</td>\n",
       "      <td id=\"T_e19ea_row47_col16\" class=\"data row47 col16\" >522</td>\n",
       "      <td id=\"T_e19ea_row47_col17\" class=\"data row47 col17\" >420</td>\n",
       "      <td id=\"T_e19ea_row47_col18\" class=\"data row47 col18\" >317</td>\n",
       "      <td id=\"T_e19ea_row47_col19\" class=\"data row47 col19\" >-</td>\n",
       "    </tr>\n",
       "    <tr>\n",
       "      <th id=\"T_e19ea_level1_row48\" class=\"row_heading level1 row48\" >35</th>\n",
       "      <td id=\"T_e19ea_row48_col0\" class=\"data row48 col0\" >-</td>\n",
       "      <td id=\"T_e19ea_row48_col1\" class=\"data row48 col1\" >-</td>\n",
       "      <td id=\"T_e19ea_row48_col2\" class=\"data row48 col2\" >-</td>\n",
       "      <td id=\"T_e19ea_row48_col3\" class=\"data row48 col3\" >-</td>\n",
       "      <td id=\"T_e19ea_row48_col4\" class=\"data row48 col4\" >-</td>\n",
       "      <td id=\"T_e19ea_row48_col5\" class=\"data row48 col5\" >-</td>\n",
       "      <td id=\"T_e19ea_row48_col6\" class=\"data row48 col6\" >-</td>\n",
       "      <td id=\"T_e19ea_row48_col7\" class=\"data row48 col7\" >-</td>\n",
       "      <td id=\"T_e19ea_row48_col8\" class=\"data row48 col8\" >-</td>\n",
       "      <td id=\"T_e19ea_row48_col9\" class=\"data row48 col9\" >-</td>\n",
       "      <td id=\"T_e19ea_row48_col10\" class=\"data row48 col10\" >677</td>\n",
       "      <td id=\"T_e19ea_row48_col11\" class=\"data row48 col11\" >870</td>\n",
       "      <td id=\"T_e19ea_row48_col12\" class=\"data row48 col12\" >857</td>\n",
       "      <td id=\"T_e19ea_row48_col13\" class=\"data row48 col13\" >844</td>\n",
       "      <td id=\"T_e19ea_row48_col14\" class=\"data row48 col14\" >736</td>\n",
       "      <td id=\"T_e19ea_row48_col15\" class=\"data row48 col15\" >628</td>\n",
       "      <td id=\"T_e19ea_row48_col16\" class=\"data row48 col16\" >520</td>\n",
       "      <td id=\"T_e19ea_row48_col17\" class=\"data row48 col17\" >410</td>\n",
       "      <td id=\"T_e19ea_row48_col18\" class=\"data row48 col18\" >299</td>\n",
       "      <td id=\"T_e19ea_row48_col19\" class=\"data row48 col19\" >-</td>\n",
       "    </tr>\n",
       "    <tr>\n",
       "      <th id=\"T_e19ea_level1_row49\" class=\"row_heading level1 row49\" >50</th>\n",
       "      <td id=\"T_e19ea_row49_col0\" class=\"data row49 col0\" >-</td>\n",
       "      <td id=\"T_e19ea_row49_col1\" class=\"data row49 col1\" >-</td>\n",
       "      <td id=\"T_e19ea_row49_col2\" class=\"data row49 col2\" >-</td>\n",
       "      <td id=\"T_e19ea_row49_col3\" class=\"data row49 col3\" >-</td>\n",
       "      <td id=\"T_e19ea_row49_col4\" class=\"data row49 col4\" >-</td>\n",
       "      <td id=\"T_e19ea_row49_col5\" class=\"data row49 col5\" >-</td>\n",
       "      <td id=\"T_e19ea_row49_col6\" class=\"data row49 col6\" >-</td>\n",
       "      <td id=\"T_e19ea_row49_col7\" class=\"data row49 col7\" >-</td>\n",
       "      <td id=\"T_e19ea_row49_col8\" class=\"data row49 col8\" >-</td>\n",
       "      <td id=\"T_e19ea_row49_col9\" class=\"data row49 col9\" >-</td>\n",
       "      <td id=\"T_e19ea_row49_col10\" class=\"data row49 col10\" >-</td>\n",
       "      <td id=\"T_e19ea_row49_col11\" class=\"data row49 col11\" >675</td>\n",
       "      <td id=\"T_e19ea_row49_col12\" class=\"data row49 col12\" >822</td>\n",
       "      <td id=\"T_e19ea_row49_col13\" class=\"data row49 col13\" >826</td>\n",
       "      <td id=\"T_e19ea_row49_col14\" class=\"data row49 col14\" >762</td>\n",
       "      <td id=\"T_e19ea_row49_col15\" class=\"data row49 col15\" >698</td>\n",
       "      <td id=\"T_e19ea_row49_col16\" class=\"data row49 col16\" >634</td>\n",
       "      <td id=\"T_e19ea_row49_col17\" class=\"data row49 col17\" >476</td>\n",
       "      <td id=\"T_e19ea_row49_col18\" class=\"data row49 col18\" >318</td>\n",
       "      <td id=\"T_e19ea_row49_col19\" class=\"data row49 col19\" >-</td>\n",
       "    </tr>\n",
       "    <tr>\n",
       "      <th id=\"T_e19ea_level0_row50\" class=\"row_heading level0 row50\" rowspan=\"4\">CanonRF24-70mmF2.8LISUSM</th>\n",
       "      <th id=\"T_e19ea_level1_row50\" class=\"row_heading level1 row50\" >24</th>\n",
       "      <td id=\"T_e19ea_row50_col0\" class=\"data row50 col0\" >-</td>\n",
       "      <td id=\"T_e19ea_row50_col1\" class=\"data row50 col1\" >-</td>\n",
       "      <td id=\"T_e19ea_row50_col2\" class=\"data row50 col2\" >-</td>\n",
       "      <td id=\"T_e19ea_row50_col3\" class=\"data row50 col3\" >-</td>\n",
       "      <td id=\"T_e19ea_row50_col4\" class=\"data row50 col4\" >-</td>\n",
       "      <td id=\"T_e19ea_row50_col5\" class=\"data row50 col5\" >3882</td>\n",
       "      <td id=\"T_e19ea_row50_col6\" class=\"data row50 col6\" >4226</td>\n",
       "      <td id=\"T_e19ea_row50_col7\" class=\"data row50 col7\" >3889</td>\n",
       "      <td id=\"T_e19ea_row50_col8\" class=\"data row50 col8\" >3628</td>\n",
       "      <td id=\"T_e19ea_row50_col9\" class=\"data row50 col9\" >3367</td>\n",
       "      <td id=\"T_e19ea_row50_col10\" class=\"data row50 col10\" >3107</td>\n",
       "      <td id=\"T_e19ea_row50_col11\" class=\"data row50 col11\" >2738</td>\n",
       "      <td id=\"T_e19ea_row50_col12\" class=\"data row50 col12\" >2370</td>\n",
       "      <td id=\"T_e19ea_row50_col13\" class=\"data row50 col13\" >2002</td>\n",
       "      <td id=\"T_e19ea_row50_col14\" class=\"data row50 col14\" >1701</td>\n",
       "      <td id=\"T_e19ea_row50_col15\" class=\"data row50 col15\" >1400</td>\n",
       "      <td id=\"T_e19ea_row50_col16\" class=\"data row50 col16\" >1098</td>\n",
       "      <td id=\"T_e19ea_row50_col17\" class=\"data row50 col17\" >778</td>\n",
       "      <td id=\"T_e19ea_row50_col18\" class=\"data row50 col18\" >457</td>\n",
       "      <td id=\"T_e19ea_row50_col19\" class=\"data row50 col19\" >-</td>\n",
       "    </tr>\n",
       "    <tr>\n",
       "      <th id=\"T_e19ea_level1_row51\" class=\"row_heading level1 row51\" >35</th>\n",
       "      <td id=\"T_e19ea_row51_col0\" class=\"data row51 col0\" >-</td>\n",
       "      <td id=\"T_e19ea_row51_col1\" class=\"data row51 col1\" >-</td>\n",
       "      <td id=\"T_e19ea_row51_col2\" class=\"data row51 col2\" >-</td>\n",
       "      <td id=\"T_e19ea_row51_col3\" class=\"data row51 col3\" >-</td>\n",
       "      <td id=\"T_e19ea_row51_col4\" class=\"data row51 col4\" >-</td>\n",
       "      <td id=\"T_e19ea_row51_col5\" class=\"data row51 col5\" >3036</td>\n",
       "      <td id=\"T_e19ea_row51_col6\" class=\"data row51 col6\" >2675</td>\n",
       "      <td id=\"T_e19ea_row51_col7\" class=\"data row51 col7\" >3016</td>\n",
       "      <td id=\"T_e19ea_row51_col8\" class=\"data row51 col8\" >3061</td>\n",
       "      <td id=\"T_e19ea_row51_col9\" class=\"data row51 col9\" >3106</td>\n",
       "      <td id=\"T_e19ea_row51_col10\" class=\"data row51 col10\" >3151</td>\n",
       "      <td id=\"T_e19ea_row51_col11\" class=\"data row51 col11\" >2819</td>\n",
       "      <td id=\"T_e19ea_row51_col12\" class=\"data row51 col12\" >2488</td>\n",
       "      <td id=\"T_e19ea_row51_col13\" class=\"data row51 col13\" >2157</td>\n",
       "      <td id=\"T_e19ea_row51_col14\" class=\"data row51 col14\" >1813</td>\n",
       "      <td id=\"T_e19ea_row51_col15\" class=\"data row51 col15\" >1469</td>\n",
       "      <td id=\"T_e19ea_row51_col16\" class=\"data row51 col16\" >1126</td>\n",
       "      <td id=\"T_e19ea_row51_col17\" class=\"data row51 col17\" >788</td>\n",
       "      <td id=\"T_e19ea_row51_col18\" class=\"data row51 col18\" >450</td>\n",
       "      <td id=\"T_e19ea_row51_col19\" class=\"data row51 col19\" >-</td>\n",
       "    </tr>\n",
       "    <tr>\n",
       "      <th id=\"T_e19ea_level1_row52\" class=\"row_heading level1 row52\" >50</th>\n",
       "      <td id=\"T_e19ea_row52_col0\" class=\"data row52 col0\" >-</td>\n",
       "      <td id=\"T_e19ea_row52_col1\" class=\"data row52 col1\" >-</td>\n",
       "      <td id=\"T_e19ea_row52_col2\" class=\"data row52 col2\" >-</td>\n",
       "      <td id=\"T_e19ea_row52_col3\" class=\"data row52 col3\" >-</td>\n",
       "      <td id=\"T_e19ea_row52_col4\" class=\"data row52 col4\" >-</td>\n",
       "      <td id=\"T_e19ea_row52_col5\" class=\"data row52 col5\" >1914</td>\n",
       "      <td id=\"T_e19ea_row52_col6\" class=\"data row52 col6\" >2869</td>\n",
       "      <td id=\"T_e19ea_row52_col7\" class=\"data row52 col7\" >3623</td>\n",
       "      <td id=\"T_e19ea_row52_col8\" class=\"data row52 col8\" >3419</td>\n",
       "      <td id=\"T_e19ea_row52_col9\" class=\"data row52 col9\" >3216</td>\n",
       "      <td id=\"T_e19ea_row52_col10\" class=\"data row52 col10\" >3013</td>\n",
       "      <td id=\"T_e19ea_row52_col11\" class=\"data row52 col11\" >2657</td>\n",
       "      <td id=\"T_e19ea_row52_col12\" class=\"data row52 col12\" >2301</td>\n",
       "      <td id=\"T_e19ea_row52_col13\" class=\"data row52 col13\" >1945</td>\n",
       "      <td id=\"T_e19ea_row52_col14\" class=\"data row52 col14\" >1642</td>\n",
       "      <td id=\"T_e19ea_row52_col15\" class=\"data row52 col15\" >1340</td>\n",
       "      <td id=\"T_e19ea_row52_col16\" class=\"data row52 col16\" >1038</td>\n",
       "      <td id=\"T_e19ea_row52_col17\" class=\"data row52 col17\" >738</td>\n",
       "      <td id=\"T_e19ea_row52_col18\" class=\"data row52 col18\" >438</td>\n",
       "      <td id=\"T_e19ea_row52_col19\" class=\"data row52 col19\" >-</td>\n",
       "    </tr>\n",
       "    <tr>\n",
       "      <th id=\"T_e19ea_level1_row53\" class=\"row_heading level1 row53\" >70</th>\n",
       "      <td id=\"T_e19ea_row53_col0\" class=\"data row53 col0\" >-</td>\n",
       "      <td id=\"T_e19ea_row53_col1\" class=\"data row53 col1\" >-</td>\n",
       "      <td id=\"T_e19ea_row53_col2\" class=\"data row53 col2\" >-</td>\n",
       "      <td id=\"T_e19ea_row53_col3\" class=\"data row53 col3\" >-</td>\n",
       "      <td id=\"T_e19ea_row53_col4\" class=\"data row53 col4\" >-</td>\n",
       "      <td id=\"T_e19ea_row53_col5\" class=\"data row53 col5\" >1235</td>\n",
       "      <td id=\"T_e19ea_row53_col6\" class=\"data row53 col6\" >1644</td>\n",
       "      <td id=\"T_e19ea_row53_col7\" class=\"data row53 col7\" >2843</td>\n",
       "      <td id=\"T_e19ea_row53_col8\" class=\"data row53 col8\" >2841</td>\n",
       "      <td id=\"T_e19ea_row53_col9\" class=\"data row53 col9\" >2839</td>\n",
       "      <td id=\"T_e19ea_row53_col10\" class=\"data row53 col10\" >2837</td>\n",
       "      <td id=\"T_e19ea_row53_col11\" class=\"data row53 col11\" >2611</td>\n",
       "      <td id=\"T_e19ea_row53_col12\" class=\"data row53 col12\" >2385</td>\n",
       "      <td id=\"T_e19ea_row53_col13\" class=\"data row53 col13\" >2159</td>\n",
       "      <td id=\"T_e19ea_row53_col14\" class=\"data row53 col14\" >1803</td>\n",
       "      <td id=\"T_e19ea_row53_col15\" class=\"data row53 col15\" >1447</td>\n",
       "      <td id=\"T_e19ea_row53_col16\" class=\"data row53 col16\" >1091</td>\n",
       "      <td id=\"T_e19ea_row53_col17\" class=\"data row53 col17\" >771</td>\n",
       "      <td id=\"T_e19ea_row53_col18\" class=\"data row53 col18\" >451</td>\n",
       "      <td id=\"T_e19ea_row53_col19\" class=\"data row53 col19\" >-</td>\n",
       "    </tr>\n",
       "    <tr>\n",
       "      <th id=\"T_e19ea_level0_row54\" class=\"row_heading level0 row54\" >CanonRF24mmF1.8MacroISSTM</th>\n",
       "      <th id=\"T_e19ea_level1_row54\" class=\"row_heading level1 row54\" >24</th>\n",
       "      <td id=\"T_e19ea_row54_col0\" class=\"data row54 col0\" >-</td>\n",
       "      <td id=\"T_e19ea_row54_col1\" class=\"data row54 col1\" >-</td>\n",
       "      <td id=\"T_e19ea_row54_col2\" class=\"data row54 col2\" >1619</td>\n",
       "      <td id=\"T_e19ea_row54_col3\" class=\"data row54 col3\" >2179</td>\n",
       "      <td id=\"T_e19ea_row54_col4\" class=\"data row54 col4\" >2498</td>\n",
       "      <td id=\"T_e19ea_row54_col5\" class=\"data row54 col5\" >2817</td>\n",
       "      <td id=\"T_e19ea_row54_col6\" class=\"data row54 col6\" >2757</td>\n",
       "      <td id=\"T_e19ea_row54_col7\" class=\"data row54 col7\" >2697</td>\n",
       "      <td id=\"T_e19ea_row54_col8\" class=\"data row54 col8\" >2529</td>\n",
       "      <td id=\"T_e19ea_row54_col9\" class=\"data row54 col9\" >2361</td>\n",
       "      <td id=\"T_e19ea_row54_col10\" class=\"data row54 col10\" >2193</td>\n",
       "      <td id=\"T_e19ea_row54_col11\" class=\"data row54 col11\" >1968</td>\n",
       "      <td id=\"T_e19ea_row54_col12\" class=\"data row54 col12\" >1742</td>\n",
       "      <td id=\"T_e19ea_row54_col13\" class=\"data row54 col13\" >1516</td>\n",
       "      <td id=\"T_e19ea_row54_col14\" class=\"data row54 col14\" >1284</td>\n",
       "      <td id=\"T_e19ea_row54_col15\" class=\"data row54 col15\" >1053</td>\n",
       "      <td id=\"T_e19ea_row54_col16\" class=\"data row54 col16\" >821</td>\n",
       "      <td id=\"T_e19ea_row54_col17\" class=\"data row54 col17\" >586</td>\n",
       "      <td id=\"T_e19ea_row54_col18\" class=\"data row54 col18\" >351</td>\n",
       "      <td id=\"T_e19ea_row54_col19\" class=\"data row54 col19\" >-</td>\n",
       "    </tr>\n",
       "    <tr>\n",
       "      <th id=\"T_e19ea_level0_row55\" class=\"row_heading level0 row55\" rowspan=\"4\">CanonRF28-70mmF2LUSM</th>\n",
       "      <th id=\"T_e19ea_level1_row55\" class=\"row_heading level1 row55\" >28</th>\n",
       "      <td id=\"T_e19ea_row55_col0\" class=\"data row55 col0\" >-</td>\n",
       "      <td id=\"T_e19ea_row55_col1\" class=\"data row55 col1\" >-</td>\n",
       "      <td id=\"T_e19ea_row55_col2\" class=\"data row55 col2\" >-</td>\n",
       "      <td id=\"T_e19ea_row55_col3\" class=\"data row55 col3\" >1628</td>\n",
       "      <td id=\"T_e19ea_row55_col4\" class=\"data row55 col4\" >2047</td>\n",
       "      <td id=\"T_e19ea_row55_col5\" class=\"data row55 col5\" >1871</td>\n",
       "      <td id=\"T_e19ea_row55_col6\" class=\"data row55 col6\" >1632</td>\n",
       "      <td id=\"T_e19ea_row55_col7\" class=\"data row55 col7\" >1392</td>\n",
       "      <td id=\"T_e19ea_row55_col8\" class=\"data row55 col8\" >1449</td>\n",
       "      <td id=\"T_e19ea_row55_col9\" class=\"data row55 col9\" >1505</td>\n",
       "      <td id=\"T_e19ea_row55_col10\" class=\"data row55 col10\" >1562</td>\n",
       "      <td id=\"T_e19ea_row55_col11\" class=\"data row55 col11\" >1497</td>\n",
       "      <td id=\"T_e19ea_row55_col12\" class=\"data row55 col12\" >1431</td>\n",
       "      <td id=\"T_e19ea_row55_col13\" class=\"data row55 col13\" >1365</td>\n",
       "      <td id=\"T_e19ea_row55_col14\" class=\"data row55 col14\" >1248</td>\n",
       "      <td id=\"T_e19ea_row55_col15\" class=\"data row55 col15\" >1130</td>\n",
       "      <td id=\"T_e19ea_row55_col16\" class=\"data row55 col16\" >1012</td>\n",
       "      <td id=\"T_e19ea_row55_col17\" class=\"data row55 col17\" >721</td>\n",
       "      <td id=\"T_e19ea_row55_col18\" class=\"data row55 col18\" >430</td>\n",
       "      <td id=\"T_e19ea_row55_col19\" class=\"data row55 col19\" >-</td>\n",
       "    </tr>\n",
       "    <tr>\n",
       "      <th id=\"T_e19ea_level1_row56\" class=\"row_heading level1 row56\" >35</th>\n",
       "      <td id=\"T_e19ea_row56_col0\" class=\"data row56 col0\" >-</td>\n",
       "      <td id=\"T_e19ea_row56_col1\" class=\"data row56 col1\" >-</td>\n",
       "      <td id=\"T_e19ea_row56_col2\" class=\"data row56 col2\" >-</td>\n",
       "      <td id=\"T_e19ea_row56_col3\" class=\"data row56 col3\" >1748</td>\n",
       "      <td id=\"T_e19ea_row56_col4\" class=\"data row56 col4\" >2190</td>\n",
       "      <td id=\"T_e19ea_row56_col5\" class=\"data row56 col5\" >2159</td>\n",
       "      <td id=\"T_e19ea_row56_col6\" class=\"data row56 col6\" >1776</td>\n",
       "      <td id=\"T_e19ea_row56_col7\" class=\"data row56 col7\" >1392</td>\n",
       "      <td id=\"T_e19ea_row56_col8\" class=\"data row56 col8\" >1469</td>\n",
       "      <td id=\"T_e19ea_row56_col9\" class=\"data row56 col9\" >1546</td>\n",
       "      <td id=\"T_e19ea_row56_col10\" class=\"data row56 col10\" >1623</td>\n",
       "      <td id=\"T_e19ea_row56_col11\" class=\"data row56 col11\" >1547</td>\n",
       "      <td id=\"T_e19ea_row56_col12\" class=\"data row56 col12\" >1470</td>\n",
       "      <td id=\"T_e19ea_row56_col13\" class=\"data row56 col13\" >1393</td>\n",
       "      <td id=\"T_e19ea_row56_col14\" class=\"data row56 col14\" >1258</td>\n",
       "      <td id=\"T_e19ea_row56_col15\" class=\"data row56 col15\" >1123</td>\n",
       "      <td id=\"T_e19ea_row56_col16\" class=\"data row56 col16\" >988</td>\n",
       "      <td id=\"T_e19ea_row56_col17\" class=\"data row56 col17\" >703</td>\n",
       "      <td id=\"T_e19ea_row56_col18\" class=\"data row56 col18\" >417</td>\n",
       "      <td id=\"T_e19ea_row56_col19\" class=\"data row56 col19\" >-</td>\n",
       "    </tr>\n",
       "    <tr>\n",
       "      <th id=\"T_e19ea_level1_row57\" class=\"row_heading level1 row57\" >50</th>\n",
       "      <td id=\"T_e19ea_row57_col0\" class=\"data row57 col0\" >-</td>\n",
       "      <td id=\"T_e19ea_row57_col1\" class=\"data row57 col1\" >-</td>\n",
       "      <td id=\"T_e19ea_row57_col2\" class=\"data row57 col2\" >-</td>\n",
       "      <td id=\"T_e19ea_row57_col3\" class=\"data row57 col3\" >1874</td>\n",
       "      <td id=\"T_e19ea_row57_col4\" class=\"data row57 col4\" >2545</td>\n",
       "      <td id=\"T_e19ea_row57_col5\" class=\"data row57 col5\" >3153</td>\n",
       "      <td id=\"T_e19ea_row57_col6\" class=\"data row57 col6\" >2957</td>\n",
       "      <td id=\"T_e19ea_row57_col7\" class=\"data row57 col7\" >2761</td>\n",
       "      <td id=\"T_e19ea_row57_col8\" class=\"data row57 col8\" >2574</td>\n",
       "      <td id=\"T_e19ea_row57_col9\" class=\"data row57 col9\" >2387</td>\n",
       "      <td id=\"T_e19ea_row57_col10\" class=\"data row57 col10\" >2201</td>\n",
       "      <td id=\"T_e19ea_row57_col11\" class=\"data row57 col11\" >2047</td>\n",
       "      <td id=\"T_e19ea_row57_col12\" class=\"data row57 col12\" >1894</td>\n",
       "      <td id=\"T_e19ea_row57_col13\" class=\"data row57 col13\" >1740</td>\n",
       "      <td id=\"T_e19ea_row57_col14\" class=\"data row57 col14\" >1493</td>\n",
       "      <td id=\"T_e19ea_row57_col15\" class=\"data row57 col15\" >1245</td>\n",
       "      <td id=\"T_e19ea_row57_col16\" class=\"data row57 col16\" >997</td>\n",
       "      <td id=\"T_e19ea_row57_col17\" class=\"data row57 col17\" >705</td>\n",
       "      <td id=\"T_e19ea_row57_col18\" class=\"data row57 col18\" >414</td>\n",
       "      <td id=\"T_e19ea_row57_col19\" class=\"data row57 col19\" >-</td>\n",
       "    </tr>\n",
       "    <tr>\n",
       "      <th id=\"T_e19ea_level1_row58\" class=\"row_heading level1 row58\" >70</th>\n",
       "      <td id=\"T_e19ea_row58_col0\" class=\"data row58 col0\" >-</td>\n",
       "      <td id=\"T_e19ea_row58_col1\" class=\"data row58 col1\" >-</td>\n",
       "      <td id=\"T_e19ea_row58_col2\" class=\"data row58 col2\" >-</td>\n",
       "      <td id=\"T_e19ea_row58_col3\" class=\"data row58 col3\" >1339</td>\n",
       "      <td id=\"T_e19ea_row58_col4\" class=\"data row58 col4\" >1782</td>\n",
       "      <td id=\"T_e19ea_row58_col5\" class=\"data row58 col5\" >3073</td>\n",
       "      <td id=\"T_e19ea_row58_col6\" class=\"data row58 col6\" >2950</td>\n",
       "      <td id=\"T_e19ea_row58_col7\" class=\"data row58 col7\" >2827</td>\n",
       "      <td id=\"T_e19ea_row58_col8\" class=\"data row58 col8\" >2580</td>\n",
       "      <td id=\"T_e19ea_row58_col9\" class=\"data row58 col9\" >2334</td>\n",
       "      <td id=\"T_e19ea_row58_col10\" class=\"data row58 col10\" >2087</td>\n",
       "      <td id=\"T_e19ea_row58_col11\" class=\"data row58 col11\" >1961</td>\n",
       "      <td id=\"T_e19ea_row58_col12\" class=\"data row58 col12\" >1836</td>\n",
       "      <td id=\"T_e19ea_row58_col13\" class=\"data row58 col13\" >1711</td>\n",
       "      <td id=\"T_e19ea_row58_col14\" class=\"data row58 col14\" >1469</td>\n",
       "      <td id=\"T_e19ea_row58_col15\" class=\"data row58 col15\" >1227</td>\n",
       "      <td id=\"T_e19ea_row58_col16\" class=\"data row58 col16\" >985</td>\n",
       "      <td id=\"T_e19ea_row58_col17\" class=\"data row58 col17\" >699</td>\n",
       "      <td id=\"T_e19ea_row58_col18\" class=\"data row58 col18\" >414</td>\n",
       "      <td id=\"T_e19ea_row58_col19\" class=\"data row58 col19\" >-</td>\n",
       "    </tr>\n",
       "    <tr>\n",
       "      <th id=\"T_e19ea_level0_row59\" class=\"row_heading level0 row59\" >CanonRF35mmF1.8ISSTMMacro</th>\n",
       "      <th id=\"T_e19ea_level1_row59\" class=\"row_heading level1 row59\" >35</th>\n",
       "      <td id=\"T_e19ea_row59_col0\" class=\"data row59 col0\" >-</td>\n",
       "      <td id=\"T_e19ea_row59_col1\" class=\"data row59 col1\" >-</td>\n",
       "      <td id=\"T_e19ea_row59_col2\" class=\"data row59 col2\" >1456</td>\n",
       "      <td id=\"T_e19ea_row59_col3\" class=\"data row59 col3\" >1632</td>\n",
       "      <td id=\"T_e19ea_row59_col4\" class=\"data row59 col4\" >2469</td>\n",
       "      <td id=\"T_e19ea_row59_col5\" class=\"data row59 col5\" >3307</td>\n",
       "      <td id=\"T_e19ea_row59_col6\" class=\"data row59 col6\" >3394</td>\n",
       "      <td id=\"T_e19ea_row59_col7\" class=\"data row59 col7\" >3480</td>\n",
       "      <td id=\"T_e19ea_row59_col8\" class=\"data row59 col8\" >3294</td>\n",
       "      <td id=\"T_e19ea_row59_col9\" class=\"data row59 col9\" >3108</td>\n",
       "      <td id=\"T_e19ea_row59_col10\" class=\"data row59 col10\" >2922</td>\n",
       "      <td id=\"T_e19ea_row59_col11\" class=\"data row59 col11\" >2656</td>\n",
       "      <td id=\"T_e19ea_row59_col12\" class=\"data row59 col12\" >2390</td>\n",
       "      <td id=\"T_e19ea_row59_col13\" class=\"data row59 col13\" >2124</td>\n",
       "      <td id=\"T_e19ea_row59_col14\" class=\"data row59 col14\" >1802</td>\n",
       "      <td id=\"T_e19ea_row59_col15\" class=\"data row59 col15\" >1481</td>\n",
       "      <td id=\"T_e19ea_row59_col16\" class=\"data row59 col16\" >1159</td>\n",
       "      <td id=\"T_e19ea_row59_col17\" class=\"data row59 col17\" >819</td>\n",
       "      <td id=\"T_e19ea_row59_col18\" class=\"data row59 col18\" >479</td>\n",
       "      <td id=\"T_e19ea_row59_col19\" class=\"data row59 col19\" >-</td>\n",
       "    </tr>\n",
       "    <tr>\n",
       "      <th id=\"T_e19ea_level0_row60\" class=\"row_heading level0 row60\" rowspan=\"3\">CanonRF400mmF2.8LISUSM</th>\n",
       "      <th id=\"T_e19ea_level1_row60\" class=\"row_heading level1 row60\" >400</th>\n",
       "      <td id=\"T_e19ea_row60_col0\" class=\"data row60 col0\" >-</td>\n",
       "      <td id=\"T_e19ea_row60_col1\" class=\"data row60 col1\" >-</td>\n",
       "      <td id=\"T_e19ea_row60_col2\" class=\"data row60 col2\" >-</td>\n",
       "      <td id=\"T_e19ea_row60_col3\" class=\"data row60 col3\" >-</td>\n",
       "      <td id=\"T_e19ea_row60_col4\" class=\"data row60 col4\" >-</td>\n",
       "      <td id=\"T_e19ea_row60_col5\" class=\"data row60 col5\" >2269</td>\n",
       "      <td id=\"T_e19ea_row60_col6\" class=\"data row60 col6\" >3023</td>\n",
       "      <td id=\"T_e19ea_row60_col7\" class=\"data row60 col7\" >3495</td>\n",
       "      <td id=\"T_e19ea_row60_col8\" class=\"data row60 col8\" >3349</td>\n",
       "      <td id=\"T_e19ea_row60_col9\" class=\"data row60 col9\" >3204</td>\n",
       "      <td id=\"T_e19ea_row60_col10\" class=\"data row60 col10\" >3058</td>\n",
       "      <td id=\"T_e19ea_row60_col11\" class=\"data row60 col11\" >2700</td>\n",
       "      <td id=\"T_e19ea_row60_col12\" class=\"data row60 col12\" >2341</td>\n",
       "      <td id=\"T_e19ea_row60_col13\" class=\"data row60 col13\" >1982</td>\n",
       "      <td id=\"T_e19ea_row60_col14\" class=\"data row60 col14\" >1618</td>\n",
       "      <td id=\"T_e19ea_row60_col15\" class=\"data row60 col15\" >1253</td>\n",
       "      <td id=\"T_e19ea_row60_col16\" class=\"data row60 col16\" >888</td>\n",
       "      <td id=\"T_e19ea_row60_col17\" class=\"data row60 col17\" >599</td>\n",
       "      <td id=\"T_e19ea_row60_col18\" class=\"data row60 col18\" >311</td>\n",
       "      <td id=\"T_e19ea_row60_col19\" class=\"data row60 col19\" >-</td>\n",
       "    </tr>\n",
       "    <tr>\n",
       "      <th id=\"T_e19ea_level1_row61\" class=\"row_heading level1 row61\" >560</th>\n",
       "      <td id=\"T_e19ea_row61_col0\" class=\"data row61 col0\" >-</td>\n",
       "      <td id=\"T_e19ea_row61_col1\" class=\"data row61 col1\" >-</td>\n",
       "      <td id=\"T_e19ea_row61_col2\" class=\"data row61 col2\" >-</td>\n",
       "      <td id=\"T_e19ea_row61_col3\" class=\"data row61 col3\" >-</td>\n",
       "      <td id=\"T_e19ea_row61_col4\" class=\"data row61 col4\" >-</td>\n",
       "      <td id=\"T_e19ea_row61_col5\" class=\"data row61 col5\" >-</td>\n",
       "      <td id=\"T_e19ea_row61_col6\" class=\"data row61 col6\" >-</td>\n",
       "      <td id=\"T_e19ea_row61_col7\" class=\"data row61 col7\" >1162</td>\n",
       "      <td id=\"T_e19ea_row61_col8\" class=\"data row61 col8\" >1771</td>\n",
       "      <td id=\"T_e19ea_row61_col9\" class=\"data row61 col9\" >1821</td>\n",
       "      <td id=\"T_e19ea_row61_col10\" class=\"data row61 col10\" >1872</td>\n",
       "      <td id=\"T_e19ea_row61_col11\" class=\"data row61 col11\" >1826</td>\n",
       "      <td id=\"T_e19ea_row61_col12\" class=\"data row61 col12\" >1781</td>\n",
       "      <td id=\"T_e19ea_row61_col13\" class=\"data row61 col13\" >1735</td>\n",
       "      <td id=\"T_e19ea_row61_col14\" class=\"data row61 col14\" >1456</td>\n",
       "      <td id=\"T_e19ea_row61_col15\" class=\"data row61 col15\" >1177</td>\n",
       "      <td id=\"T_e19ea_row61_col16\" class=\"data row61 col16\" >897</td>\n",
       "      <td id=\"T_e19ea_row61_col17\" class=\"data row61 col17\" >613</td>\n",
       "      <td id=\"T_e19ea_row61_col18\" class=\"data row61 col18\" >329</td>\n",
       "      <td id=\"T_e19ea_row61_col19\" class=\"data row61 col19\" >-</td>\n",
       "    </tr>\n",
       "    <tr>\n",
       "      <th id=\"T_e19ea_level1_row62\" class=\"row_heading level1 row62\" >800</th>\n",
       "      <td id=\"T_e19ea_row62_col0\" class=\"data row62 col0\" >-</td>\n",
       "      <td id=\"T_e19ea_row62_col1\" class=\"data row62 col1\" >-</td>\n",
       "      <td id=\"T_e19ea_row62_col2\" class=\"data row62 col2\" >-</td>\n",
       "      <td id=\"T_e19ea_row62_col3\" class=\"data row62 col3\" >-</td>\n",
       "      <td id=\"T_e19ea_row62_col4\" class=\"data row62 col4\" >-</td>\n",
       "      <td id=\"T_e19ea_row62_col5\" class=\"data row62 col5\" >-</td>\n",
       "      <td id=\"T_e19ea_row62_col6\" class=\"data row62 col6\" >-</td>\n",
       "      <td id=\"T_e19ea_row62_col7\" class=\"data row62 col7\" >-</td>\n",
       "      <td id=\"T_e19ea_row62_col8\" class=\"data row62 col8\" >-</td>\n",
       "      <td id=\"T_e19ea_row62_col9\" class=\"data row62 col9\" >-</td>\n",
       "      <td id=\"T_e19ea_row62_col10\" class=\"data row62 col10\" >674</td>\n",
       "      <td id=\"T_e19ea_row62_col11\" class=\"data row62 col11\" >893</td>\n",
       "      <td id=\"T_e19ea_row62_col12\" class=\"data row62 col12\" >1005</td>\n",
       "      <td id=\"T_e19ea_row62_col13\" class=\"data row62 col13\" >1116</td>\n",
       "      <td id=\"T_e19ea_row62_col14\" class=\"data row62 col14\" >1004</td>\n",
       "      <td id=\"T_e19ea_row62_col15\" class=\"data row62 col15\" >892</td>\n",
       "      <td id=\"T_e19ea_row62_col16\" class=\"data row62 col16\" >780</td>\n",
       "      <td id=\"T_e19ea_row62_col17\" class=\"data row62 col17\" >542</td>\n",
       "      <td id=\"T_e19ea_row62_col18\" class=\"data row62 col18\" >303</td>\n",
       "      <td id=\"T_e19ea_row62_col19\" class=\"data row62 col19\" >-</td>\n",
       "    </tr>\n",
       "    <tr>\n",
       "      <th id=\"T_e19ea_level0_row63\" class=\"row_heading level0 row63\" >CanonRF50mmF1.2LUSM</th>\n",
       "      <th id=\"T_e19ea_level1_row63\" class=\"row_heading level1 row63\" >50</th>\n",
       "      <td id=\"T_e19ea_row63_col0\" class=\"data row63 col0\" >862</td>\n",
       "      <td id=\"T_e19ea_row63_col1\" class=\"data row63 col1\" >1694</td>\n",
       "      <td id=\"T_e19ea_row63_col2\" class=\"data row63 col2\" >2960</td>\n",
       "      <td id=\"T_e19ea_row63_col3\" class=\"data row63 col3\" >4227</td>\n",
       "      <td id=\"T_e19ea_row63_col4\" class=\"data row63 col4\" >3902</td>\n",
       "      <td id=\"T_e19ea_row63_col5\" class=\"data row63 col5\" >3578</td>\n",
       "      <td id=\"T_e19ea_row63_col6\" class=\"data row63 col6\" >2912</td>\n",
       "      <td id=\"T_e19ea_row63_col7\" class=\"data row63 col7\" >2247</td>\n",
       "      <td id=\"T_e19ea_row63_col8\" class=\"data row63 col8\" >2313</td>\n",
       "      <td id=\"T_e19ea_row63_col9\" class=\"data row63 col9\" >2378</td>\n",
       "      <td id=\"T_e19ea_row63_col10\" class=\"data row63 col10\" >2444</td>\n",
       "      <td id=\"T_e19ea_row63_col11\" class=\"data row63 col11\" >2319</td>\n",
       "      <td id=\"T_e19ea_row63_col12\" class=\"data row63 col12\" >2194</td>\n",
       "      <td id=\"T_e19ea_row63_col13\" class=\"data row63 col13\" >2069</td>\n",
       "      <td id=\"T_e19ea_row63_col14\" class=\"data row63 col14\" >1755</td>\n",
       "      <td id=\"T_e19ea_row63_col15\" class=\"data row63 col15\" >1441</td>\n",
       "      <td id=\"T_e19ea_row63_col16\" class=\"data row63 col16\" >1127</td>\n",
       "      <td id=\"T_e19ea_row63_col17\" class=\"data row63 col17\" >749</td>\n",
       "      <td id=\"T_e19ea_row63_col18\" class=\"data row63 col18\" >370</td>\n",
       "      <td id=\"T_e19ea_row63_col19\" class=\"data row63 col19\" >-</td>\n",
       "    </tr>\n",
       "    <tr>\n",
       "      <th id=\"T_e19ea_level0_row64\" class=\"row_heading level0 row64\" >CanonRF50mmF1.8STM</th>\n",
       "      <th id=\"T_e19ea_level1_row64\" class=\"row_heading level1 row64\" >50</th>\n",
       "      <td id=\"T_e19ea_row64_col0\" class=\"data row64 col0\" >-</td>\n",
       "      <td id=\"T_e19ea_row64_col1\" class=\"data row64 col1\" >-</td>\n",
       "      <td id=\"T_e19ea_row64_col2\" class=\"data row64 col2\" >865</td>\n",
       "      <td id=\"T_e19ea_row64_col3\" class=\"data row64 col3\" >1001</td>\n",
       "      <td id=\"T_e19ea_row64_col4\" class=\"data row64 col4\" >1061</td>\n",
       "      <td id=\"T_e19ea_row64_col5\" class=\"data row64 col5\" >1120</td>\n",
       "      <td id=\"T_e19ea_row64_col6\" class=\"data row64 col6\" >1014</td>\n",
       "      <td id=\"T_e19ea_row64_col7\" class=\"data row64 col7\" >907</td>\n",
       "      <td id=\"T_e19ea_row64_col8\" class=\"data row64 col8\" >1025</td>\n",
       "      <td id=\"T_e19ea_row64_col9\" class=\"data row64 col9\" >1142</td>\n",
       "      <td id=\"T_e19ea_row64_col10\" class=\"data row64 col10\" >1259</td>\n",
       "      <td id=\"T_e19ea_row64_col11\" class=\"data row64 col11\" >1329</td>\n",
       "      <td id=\"T_e19ea_row64_col12\" class=\"data row64 col12\" >1399</td>\n",
       "      <td id=\"T_e19ea_row64_col13\" class=\"data row64 col13\" >1469</td>\n",
       "      <td id=\"T_e19ea_row64_col14\" class=\"data row64 col14\" >1297</td>\n",
       "      <td id=\"T_e19ea_row64_col15\" class=\"data row64 col15\" >1125</td>\n",
       "      <td id=\"T_e19ea_row64_col16\" class=\"data row64 col16\" >954</td>\n",
       "      <td id=\"T_e19ea_row64_col17\" class=\"data row64 col17\" >682</td>\n",
       "      <td id=\"T_e19ea_row64_col18\" class=\"data row64 col18\" >411</td>\n",
       "      <td id=\"T_e19ea_row64_col19\" class=\"data row64 col19\" >-</td>\n",
       "    </tr>\n",
       "    <tr>\n",
       "      <th id=\"T_e19ea_level0_row65\" class=\"row_heading level0 row65\" rowspan=\"3\">CanonRF600mmF11ISSTM</th>\n",
       "      <th id=\"T_e19ea_level1_row65\" class=\"row_heading level1 row65\" >600</th>\n",
       "      <td id=\"T_e19ea_row65_col0\" class=\"data row65 col0\" >-</td>\n",
       "      <td id=\"T_e19ea_row65_col1\" class=\"data row65 col1\" >-</td>\n",
       "      <td id=\"T_e19ea_row65_col2\" class=\"data row65 col2\" >-</td>\n",
       "      <td id=\"T_e19ea_row65_col3\" class=\"data row65 col3\" >-</td>\n",
       "      <td id=\"T_e19ea_row65_col4\" class=\"data row65 col4\" >-</td>\n",
       "      <td id=\"T_e19ea_row65_col5\" class=\"data row65 col5\" >-</td>\n",
       "      <td id=\"T_e19ea_row65_col6\" class=\"data row65 col6\" >-</td>\n",
       "      <td id=\"T_e19ea_row65_col7\" class=\"data row65 col7\" >-</td>\n",
       "      <td id=\"T_e19ea_row65_col8\" class=\"data row65 col8\" >-</td>\n",
       "      <td id=\"T_e19ea_row65_col9\" class=\"data row65 col9\" >-</td>\n",
       "      <td id=\"T_e19ea_row65_col10\" class=\"data row65 col10\" >-</td>\n",
       "      <td id=\"T_e19ea_row65_col11\" class=\"data row65 col11\" >-</td>\n",
       "      <td id=\"T_e19ea_row65_col12\" class=\"data row65 col12\" >-</td>\n",
       "      <td id=\"T_e19ea_row65_col13\" class=\"data row65 col13\" >-</td>\n",
       "      <td id=\"T_e19ea_row65_col14\" class=\"data row65 col14\" >-</td>\n",
       "      <td id=\"T_e19ea_row65_col15\" class=\"data row65 col15\" >-</td>\n",
       "      <td id=\"T_e19ea_row65_col16\" class=\"data row65 col16\" >650</td>\n",
       "      <td id=\"T_e19ea_row65_col17\" class=\"data row65 col17\" >-</td>\n",
       "      <td id=\"T_e19ea_row65_col18\" class=\"data row65 col18\" >-</td>\n",
       "      <td id=\"T_e19ea_row65_col19\" class=\"data row65 col19\" >-</td>\n",
       "    </tr>\n",
       "    <tr>\n",
       "      <th id=\"T_e19ea_level1_row66\" class=\"row_heading level1 row66\" >840</th>\n",
       "      <td id=\"T_e19ea_row66_col0\" class=\"data row66 col0\" >-</td>\n",
       "      <td id=\"T_e19ea_row66_col1\" class=\"data row66 col1\" >-</td>\n",
       "      <td id=\"T_e19ea_row66_col2\" class=\"data row66 col2\" >-</td>\n",
       "      <td id=\"T_e19ea_row66_col3\" class=\"data row66 col3\" >-</td>\n",
       "      <td id=\"T_e19ea_row66_col4\" class=\"data row66 col4\" >-</td>\n",
       "      <td id=\"T_e19ea_row66_col5\" class=\"data row66 col5\" >-</td>\n",
       "      <td id=\"T_e19ea_row66_col6\" class=\"data row66 col6\" >-</td>\n",
       "      <td id=\"T_e19ea_row66_col7\" class=\"data row66 col7\" >-</td>\n",
       "      <td id=\"T_e19ea_row66_col8\" class=\"data row66 col8\" >-</td>\n",
       "      <td id=\"T_e19ea_row66_col9\" class=\"data row66 col9\" >-</td>\n",
       "      <td id=\"T_e19ea_row66_col10\" class=\"data row66 col10\" >-</td>\n",
       "      <td id=\"T_e19ea_row66_col11\" class=\"data row66 col11\" >-</td>\n",
       "      <td id=\"T_e19ea_row66_col12\" class=\"data row66 col12\" >-</td>\n",
       "      <td id=\"T_e19ea_row66_col13\" class=\"data row66 col13\" >-</td>\n",
       "      <td id=\"T_e19ea_row66_col14\" class=\"data row66 col14\" >-</td>\n",
       "      <td id=\"T_e19ea_row66_col15\" class=\"data row66 col15\" >-</td>\n",
       "      <td id=\"T_e19ea_row66_col16\" class=\"data row66 col16\" >-</td>\n",
       "      <td id=\"T_e19ea_row66_col17\" class=\"data row66 col17\" >-</td>\n",
       "      <td id=\"T_e19ea_row66_col18\" class=\"data row66 col18\" >310</td>\n",
       "      <td id=\"T_e19ea_row66_col19\" class=\"data row66 col19\" >-</td>\n",
       "    </tr>\n",
       "    <tr>\n",
       "      <th id=\"T_e19ea_level1_row67\" class=\"row_heading level1 row67\" >1200</th>\n",
       "      <td id=\"T_e19ea_row67_col0\" class=\"data row67 col0\" >-</td>\n",
       "      <td id=\"T_e19ea_row67_col1\" class=\"data row67 col1\" >-</td>\n",
       "      <td id=\"T_e19ea_row67_col2\" class=\"data row67 col2\" >-</td>\n",
       "      <td id=\"T_e19ea_row67_col3\" class=\"data row67 col3\" >-</td>\n",
       "      <td id=\"T_e19ea_row67_col4\" class=\"data row67 col4\" >-</td>\n",
       "      <td id=\"T_e19ea_row67_col5\" class=\"data row67 col5\" >-</td>\n",
       "      <td id=\"T_e19ea_row67_col6\" class=\"data row67 col6\" >-</td>\n",
       "      <td id=\"T_e19ea_row67_col7\" class=\"data row67 col7\" >-</td>\n",
       "      <td id=\"T_e19ea_row67_col8\" class=\"data row67 col8\" >-</td>\n",
       "      <td id=\"T_e19ea_row67_col9\" class=\"data row67 col9\" >-</td>\n",
       "      <td id=\"T_e19ea_row67_col10\" class=\"data row67 col10\" >-</td>\n",
       "      <td id=\"T_e19ea_row67_col11\" class=\"data row67 col11\" >-</td>\n",
       "      <td id=\"T_e19ea_row67_col12\" class=\"data row67 col12\" >-</td>\n",
       "      <td id=\"T_e19ea_row67_col13\" class=\"data row67 col13\" >-</td>\n",
       "      <td id=\"T_e19ea_row67_col14\" class=\"data row67 col14\" >-</td>\n",
       "      <td id=\"T_e19ea_row67_col15\" class=\"data row67 col15\" >-</td>\n",
       "      <td id=\"T_e19ea_row67_col16\" class=\"data row67 col16\" >-</td>\n",
       "      <td id=\"T_e19ea_row67_col17\" class=\"data row67 col17\" >-</td>\n",
       "      <td id=\"T_e19ea_row67_col18\" class=\"data row67 col18\" >-</td>\n",
       "      <td id=\"T_e19ea_row67_col19\" class=\"data row67 col19\" >101</td>\n",
       "    </tr>\n",
       "    <tr>\n",
       "      <th id=\"T_e19ea_level0_row68\" class=\"row_heading level0 row68\" rowspan=\"3\">CanonRF600mmF4LISUSM</th>\n",
       "      <th id=\"T_e19ea_level1_row68\" class=\"row_heading level1 row68\" >600</th>\n",
       "      <td id=\"T_e19ea_row68_col0\" class=\"data row68 col0\" >-</td>\n",
       "      <td id=\"T_e19ea_row68_col1\" class=\"data row68 col1\" >-</td>\n",
       "      <td id=\"T_e19ea_row68_col2\" class=\"data row68 col2\" >-</td>\n",
       "      <td id=\"T_e19ea_row68_col3\" class=\"data row68 col3\" >-</td>\n",
       "      <td id=\"T_e19ea_row68_col4\" class=\"data row68 col4\" >-</td>\n",
       "      <td id=\"T_e19ea_row68_col5\" class=\"data row68 col5\" >-</td>\n",
       "      <td id=\"T_e19ea_row68_col6\" class=\"data row68 col6\" >-</td>\n",
       "      <td id=\"T_e19ea_row68_col7\" class=\"data row68 col7\" >2060</td>\n",
       "      <td id=\"T_e19ea_row68_col8\" class=\"data row68 col8\" >2581</td>\n",
       "      <td id=\"T_e19ea_row68_col9\" class=\"data row68 col9\" >2541</td>\n",
       "      <td id=\"T_e19ea_row68_col10\" class=\"data row68 col10\" >2500</td>\n",
       "      <td id=\"T_e19ea_row68_col11\" class=\"data row68 col11\" >2191</td>\n",
       "      <td id=\"T_e19ea_row68_col12\" class=\"data row68 col12\" >1882</td>\n",
       "      <td id=\"T_e19ea_row68_col13\" class=\"data row68 col13\" >1573</td>\n",
       "      <td id=\"T_e19ea_row68_col14\" class=\"data row68 col14\" >1338</td>\n",
       "      <td id=\"T_e19ea_row68_col15\" class=\"data row68 col15\" >1103</td>\n",
       "      <td id=\"T_e19ea_row68_col16\" class=\"data row68 col16\" >867</td>\n",
       "      <td id=\"T_e19ea_row68_col17\" class=\"data row68 col17\" >578</td>\n",
       "      <td id=\"T_e19ea_row68_col18\" class=\"data row68 col18\" >289</td>\n",
       "      <td id=\"T_e19ea_row68_col19\" class=\"data row68 col19\" >-</td>\n",
       "    </tr>\n",
       "    <tr>\n",
       "      <th id=\"T_e19ea_level1_row69\" class=\"row_heading level1 row69\" >840</th>\n",
       "      <td id=\"T_e19ea_row69_col0\" class=\"data row69 col0\" >-</td>\n",
       "      <td id=\"T_e19ea_row69_col1\" class=\"data row69 col1\" >-</td>\n",
       "      <td id=\"T_e19ea_row69_col2\" class=\"data row69 col2\" >-</td>\n",
       "      <td id=\"T_e19ea_row69_col3\" class=\"data row69 col3\" >-</td>\n",
       "      <td id=\"T_e19ea_row69_col4\" class=\"data row69 col4\" >-</td>\n",
       "      <td id=\"T_e19ea_row69_col5\" class=\"data row69 col5\" >-</td>\n",
       "      <td id=\"T_e19ea_row69_col6\" class=\"data row69 col6\" >-</td>\n",
       "      <td id=\"T_e19ea_row69_col7\" class=\"data row69 col7\" >-</td>\n",
       "      <td id=\"T_e19ea_row69_col8\" class=\"data row69 col8\" >-</td>\n",
       "      <td id=\"T_e19ea_row69_col9\" class=\"data row69 col9\" >-</td>\n",
       "      <td id=\"T_e19ea_row69_col10\" class=\"data row69 col10\" >790</td>\n",
       "      <td id=\"T_e19ea_row69_col11\" class=\"data row69 col11\" >1053</td>\n",
       "      <td id=\"T_e19ea_row69_col12\" class=\"data row69 col12\" >1102</td>\n",
       "      <td id=\"T_e19ea_row69_col13\" class=\"data row69 col13\" >1150</td>\n",
       "      <td id=\"T_e19ea_row69_col14\" class=\"data row69 col14\" >1036</td>\n",
       "      <td id=\"T_e19ea_row69_col15\" class=\"data row69 col15\" >922</td>\n",
       "      <td id=\"T_e19ea_row69_col16\" class=\"data row69 col16\" >808</td>\n",
       "      <td id=\"T_e19ea_row69_col17\" class=\"data row69 col17\" >561</td>\n",
       "      <td id=\"T_e19ea_row69_col18\" class=\"data row69 col18\" >314</td>\n",
       "      <td id=\"T_e19ea_row69_col19\" class=\"data row69 col19\" >-</td>\n",
       "    </tr>\n",
       "    <tr>\n",
       "      <th id=\"T_e19ea_level1_row70\" class=\"row_heading level1 row70\" >1200</th>\n",
       "      <td id=\"T_e19ea_row70_col0\" class=\"data row70 col0\" >-</td>\n",
       "      <td id=\"T_e19ea_row70_col1\" class=\"data row70 col1\" >-</td>\n",
       "      <td id=\"T_e19ea_row70_col2\" class=\"data row70 col2\" >-</td>\n",
       "      <td id=\"T_e19ea_row70_col3\" class=\"data row70 col3\" >-</td>\n",
       "      <td id=\"T_e19ea_row70_col4\" class=\"data row70 col4\" >-</td>\n",
       "      <td id=\"T_e19ea_row70_col5\" class=\"data row70 col5\" >-</td>\n",
       "      <td id=\"T_e19ea_row70_col6\" class=\"data row70 col6\" >-</td>\n",
       "      <td id=\"T_e19ea_row70_col7\" class=\"data row70 col7\" >-</td>\n",
       "      <td id=\"T_e19ea_row70_col8\" class=\"data row70 col8\" >-</td>\n",
       "      <td id=\"T_e19ea_row70_col9\" class=\"data row70 col9\" >-</td>\n",
       "      <td id=\"T_e19ea_row70_col10\" class=\"data row70 col10\" >-</td>\n",
       "      <td id=\"T_e19ea_row70_col11\" class=\"data row70 col11\" >-</td>\n",
       "      <td id=\"T_e19ea_row70_col12\" class=\"data row70 col12\" >-</td>\n",
       "      <td id=\"T_e19ea_row70_col13\" class=\"data row70 col13\" >390</td>\n",
       "      <td id=\"T_e19ea_row70_col14\" class=\"data row70 col14\" >500</td>\n",
       "      <td id=\"T_e19ea_row70_col15\" class=\"data row70 col15\" >535</td>\n",
       "      <td id=\"T_e19ea_row70_col16\" class=\"data row70 col16\" >569</td>\n",
       "      <td id=\"T_e19ea_row70_col17\" class=\"data row70 col17\" >433</td>\n",
       "      <td id=\"T_e19ea_row70_col18\" class=\"data row70 col18\" >296</td>\n",
       "      <td id=\"T_e19ea_row70_col19\" class=\"data row70 col19\" >-</td>\n",
       "    </tr>\n",
       "    <tr>\n",
       "      <th id=\"T_e19ea_level0_row71\" class=\"row_heading level0 row71\" rowspan=\"4\">CanonRF70-200mmF2.8LISUSM</th>\n",
       "      <th id=\"T_e19ea_level1_row71\" class=\"row_heading level1 row71\" >70</th>\n",
       "      <td id=\"T_e19ea_row71_col0\" class=\"data row71 col0\" >-</td>\n",
       "      <td id=\"T_e19ea_row71_col1\" class=\"data row71 col1\" >-</td>\n",
       "      <td id=\"T_e19ea_row71_col2\" class=\"data row71 col2\" >-</td>\n",
       "      <td id=\"T_e19ea_row71_col3\" class=\"data row71 col3\" >-</td>\n",
       "      <td id=\"T_e19ea_row71_col4\" class=\"data row71 col4\" >-</td>\n",
       "      <td id=\"T_e19ea_row71_col5\" class=\"data row71 col5\" >3208</td>\n",
       "      <td id=\"T_e19ea_row71_col6\" class=\"data row71 col6\" >3987</td>\n",
       "      <td id=\"T_e19ea_row71_col7\" class=\"data row71 col7\" >4223</td>\n",
       "      <td id=\"T_e19ea_row71_col8\" class=\"data row71 col8\" >3833</td>\n",
       "      <td id=\"T_e19ea_row71_col9\" class=\"data row71 col9\" >3442</td>\n",
       "      <td id=\"T_e19ea_row71_col10\" class=\"data row71 col10\" >3052</td>\n",
       "      <td id=\"T_e19ea_row71_col11\" class=\"data row71 col11\" >2677</td>\n",
       "      <td id=\"T_e19ea_row71_col12\" class=\"data row71 col12\" >2303</td>\n",
       "      <td id=\"T_e19ea_row71_col13\" class=\"data row71 col13\" >1928</td>\n",
       "      <td id=\"T_e19ea_row71_col14\" class=\"data row71 col14\" >1630</td>\n",
       "      <td id=\"T_e19ea_row71_col15\" class=\"data row71 col15\" >1331</td>\n",
       "      <td id=\"T_e19ea_row71_col16\" class=\"data row71 col16\" >1032</td>\n",
       "      <td id=\"T_e19ea_row71_col17\" class=\"data row71 col17\" >744</td>\n",
       "      <td id=\"T_e19ea_row71_col18\" class=\"data row71 col18\" >456</td>\n",
       "      <td id=\"T_e19ea_row71_col19\" class=\"data row71 col19\" >-</td>\n",
       "    </tr>\n",
       "    <tr>\n",
       "      <th id=\"T_e19ea_level1_row72\" class=\"row_heading level1 row72\" >100</th>\n",
       "      <td id=\"T_e19ea_row72_col0\" class=\"data row72 col0\" >-</td>\n",
       "      <td id=\"T_e19ea_row72_col1\" class=\"data row72 col1\" >-</td>\n",
       "      <td id=\"T_e19ea_row72_col2\" class=\"data row72 col2\" >-</td>\n",
       "      <td id=\"T_e19ea_row72_col3\" class=\"data row72 col3\" >-</td>\n",
       "      <td id=\"T_e19ea_row72_col4\" class=\"data row72 col4\" >-</td>\n",
       "      <td id=\"T_e19ea_row72_col5\" class=\"data row72 col5\" >3305</td>\n",
       "      <td id=\"T_e19ea_row72_col6\" class=\"data row72 col6\" >4740</td>\n",
       "      <td id=\"T_e19ea_row72_col7\" class=\"data row72 col7\" >4086</td>\n",
       "      <td id=\"T_e19ea_row72_col8\" class=\"data row72 col8\" >3653</td>\n",
       "      <td id=\"T_e19ea_row72_col9\" class=\"data row72 col9\" >3219</td>\n",
       "      <td id=\"T_e19ea_row72_col10\" class=\"data row72 col10\" >2785</td>\n",
       "      <td id=\"T_e19ea_row72_col11\" class=\"data row72 col11\" >2511</td>\n",
       "      <td id=\"T_e19ea_row72_col12\" class=\"data row72 col12\" >2237</td>\n",
       "      <td id=\"T_e19ea_row72_col13\" class=\"data row72 col13\" >1963</td>\n",
       "      <td id=\"T_e19ea_row72_col14\" class=\"data row72 col14\" >1667</td>\n",
       "      <td id=\"T_e19ea_row72_col15\" class=\"data row72 col15\" >1370</td>\n",
       "      <td id=\"T_e19ea_row72_col16\" class=\"data row72 col16\" >1073</td>\n",
       "      <td id=\"T_e19ea_row72_col17\" class=\"data row72 col17\" >766</td>\n",
       "      <td id=\"T_e19ea_row72_col18\" class=\"data row72 col18\" >460</td>\n",
       "      <td id=\"T_e19ea_row72_col19\" class=\"data row72 col19\" >-</td>\n",
       "    </tr>\n",
       "    <tr>\n",
       "      <th id=\"T_e19ea_level1_row73\" class=\"row_heading level1 row73\" >135</th>\n",
       "      <td id=\"T_e19ea_row73_col0\" class=\"data row73 col0\" >-</td>\n",
       "      <td id=\"T_e19ea_row73_col1\" class=\"data row73 col1\" >-</td>\n",
       "      <td id=\"T_e19ea_row73_col2\" class=\"data row73 col2\" >-</td>\n",
       "      <td id=\"T_e19ea_row73_col3\" class=\"data row73 col3\" >-</td>\n",
       "      <td id=\"T_e19ea_row73_col4\" class=\"data row73 col4\" >-</td>\n",
       "      <td id=\"T_e19ea_row73_col5\" class=\"data row73 col5\" >3982</td>\n",
       "      <td id=\"T_e19ea_row73_col6\" class=\"data row73 col6\" >3905</td>\n",
       "      <td id=\"T_e19ea_row73_col7\" class=\"data row73 col7\" >3113</td>\n",
       "      <td id=\"T_e19ea_row73_col8\" class=\"data row73 col8\" >3060</td>\n",
       "      <td id=\"T_e19ea_row73_col9\" class=\"data row73 col9\" >3008</td>\n",
       "      <td id=\"T_e19ea_row73_col10\" class=\"data row73 col10\" >2956</td>\n",
       "      <td id=\"T_e19ea_row73_col11\" class=\"data row73 col11\" >2748</td>\n",
       "      <td id=\"T_e19ea_row73_col12\" class=\"data row73 col12\" >2541</td>\n",
       "      <td id=\"T_e19ea_row73_col13\" class=\"data row73 col13\" >2334</td>\n",
       "      <td id=\"T_e19ea_row73_col14\" class=\"data row73 col14\" >1974</td>\n",
       "      <td id=\"T_e19ea_row73_col15\" class=\"data row73 col15\" >1613</td>\n",
       "      <td id=\"T_e19ea_row73_col16\" class=\"data row73 col16\" >1252</td>\n",
       "      <td id=\"T_e19ea_row73_col17\" class=\"data row73 col17\" >857</td>\n",
       "      <td id=\"T_e19ea_row73_col18\" class=\"data row73 col18\" >462</td>\n",
       "      <td id=\"T_e19ea_row73_col19\" class=\"data row73 col19\" >-</td>\n",
       "    </tr>\n",
       "    <tr>\n",
       "      <th id=\"T_e19ea_level1_row74\" class=\"row_heading level1 row74\" >200</th>\n",
       "      <td id=\"T_e19ea_row74_col0\" class=\"data row74 col0\" >-</td>\n",
       "      <td id=\"T_e19ea_row74_col1\" class=\"data row74 col1\" >-</td>\n",
       "      <td id=\"T_e19ea_row74_col2\" class=\"data row74 col2\" >-</td>\n",
       "      <td id=\"T_e19ea_row74_col3\" class=\"data row74 col3\" >-</td>\n",
       "      <td id=\"T_e19ea_row74_col4\" class=\"data row74 col4\" >-</td>\n",
       "      <td id=\"T_e19ea_row74_col5\" class=\"data row74 col5\" >1423</td>\n",
       "      <td id=\"T_e19ea_row74_col6\" class=\"data row74 col6\" >2629</td>\n",
       "      <td id=\"T_e19ea_row74_col7\" class=\"data row74 col7\" >3898</td>\n",
       "      <td id=\"T_e19ea_row74_col8\" class=\"data row74 col8\" >3776</td>\n",
       "      <td id=\"T_e19ea_row74_col9\" class=\"data row74 col9\" >3654</td>\n",
       "      <td id=\"T_e19ea_row74_col10\" class=\"data row74 col10\" >3532</td>\n",
       "      <td id=\"T_e19ea_row74_col11\" class=\"data row74 col11\" >3137</td>\n",
       "      <td id=\"T_e19ea_row74_col12\" class=\"data row74 col12\" >2742</td>\n",
       "      <td id=\"T_e19ea_row74_col13\" class=\"data row74 col13\" >2347</td>\n",
       "      <td id=\"T_e19ea_row74_col14\" class=\"data row74 col14\" >1957</td>\n",
       "      <td id=\"T_e19ea_row74_col15\" class=\"data row74 col15\" >1566</td>\n",
       "      <td id=\"T_e19ea_row74_col16\" class=\"data row74 col16\" >1176</td>\n",
       "      <td id=\"T_e19ea_row74_col17\" class=\"data row74 col17\" >794</td>\n",
       "      <td id=\"T_e19ea_row74_col18\" class=\"data row74 col18\" >413</td>\n",
       "      <td id=\"T_e19ea_row74_col19\" class=\"data row74 col19\" >-</td>\n",
       "    </tr>\n",
       "    <tr>\n",
       "      <th id=\"T_e19ea_level0_row75\" class=\"row_heading level0 row75\" rowspan=\"4\">CanonRF70-200mmF4LISUSM</th>\n",
       "      <th id=\"T_e19ea_level1_row75\" class=\"row_heading level1 row75\" >70</th>\n",
       "      <td id=\"T_e19ea_row75_col0\" class=\"data row75 col0\" >-</td>\n",
       "      <td id=\"T_e19ea_row75_col1\" class=\"data row75 col1\" >-</td>\n",
       "      <td id=\"T_e19ea_row75_col2\" class=\"data row75 col2\" >-</td>\n",
       "      <td id=\"T_e19ea_row75_col3\" class=\"data row75 col3\" >-</td>\n",
       "      <td id=\"T_e19ea_row75_col4\" class=\"data row75 col4\" >-</td>\n",
       "      <td id=\"T_e19ea_row75_col5\" class=\"data row75 col5\" >-</td>\n",
       "      <td id=\"T_e19ea_row75_col6\" class=\"data row75 col6\" >-</td>\n",
       "      <td id=\"T_e19ea_row75_col7\" class=\"data row75 col7\" >2477</td>\n",
       "      <td id=\"T_e19ea_row75_col8\" class=\"data row75 col8\" >2402</td>\n",
       "      <td id=\"T_e19ea_row75_col9\" class=\"data row75 col9\" >2353</td>\n",
       "      <td id=\"T_e19ea_row75_col10\" class=\"data row75 col10\" >2305</td>\n",
       "      <td id=\"T_e19ea_row75_col11\" class=\"data row75 col11\" >1971</td>\n",
       "      <td id=\"T_e19ea_row75_col12\" class=\"data row75 col12\" >1637</td>\n",
       "      <td id=\"T_e19ea_row75_col13\" class=\"data row75 col13\" >1303</td>\n",
       "      <td id=\"T_e19ea_row75_col14\" class=\"data row75 col14\" >1217</td>\n",
       "      <td id=\"T_e19ea_row75_col15\" class=\"data row75 col15\" >1131</td>\n",
       "      <td id=\"T_e19ea_row75_col16\" class=\"data row75 col16\" >1045</td>\n",
       "      <td id=\"T_e19ea_row75_col17\" class=\"data row75 col17\" >771</td>\n",
       "      <td id=\"T_e19ea_row75_col18\" class=\"data row75 col18\" >496</td>\n",
       "      <td id=\"T_e19ea_row75_col19\" class=\"data row75 col19\" >-</td>\n",
       "    </tr>\n",
       "    <tr>\n",
       "      <th id=\"T_e19ea_level1_row76\" class=\"row_heading level1 row76\" >100</th>\n",
       "      <td id=\"T_e19ea_row76_col0\" class=\"data row76 col0\" >-</td>\n",
       "      <td id=\"T_e19ea_row76_col1\" class=\"data row76 col1\" >-</td>\n",
       "      <td id=\"T_e19ea_row76_col2\" class=\"data row76 col2\" >-</td>\n",
       "      <td id=\"T_e19ea_row76_col3\" class=\"data row76 col3\" >-</td>\n",
       "      <td id=\"T_e19ea_row76_col4\" class=\"data row76 col4\" >-</td>\n",
       "      <td id=\"T_e19ea_row76_col5\" class=\"data row76 col5\" >-</td>\n",
       "      <td id=\"T_e19ea_row76_col6\" class=\"data row76 col6\" >-</td>\n",
       "      <td id=\"T_e19ea_row76_col7\" class=\"data row76 col7\" >1998</td>\n",
       "      <td id=\"T_e19ea_row76_col8\" class=\"data row76 col8\" >2113</td>\n",
       "      <td id=\"T_e19ea_row76_col9\" class=\"data row76 col9\" >2024</td>\n",
       "      <td id=\"T_e19ea_row76_col10\" class=\"data row76 col10\" >1936</td>\n",
       "      <td id=\"T_e19ea_row76_col11\" class=\"data row76 col11\" >1765</td>\n",
       "      <td id=\"T_e19ea_row76_col12\" class=\"data row76 col12\" >1594</td>\n",
       "      <td id=\"T_e19ea_row76_col13\" class=\"data row76 col13\" >1423</td>\n",
       "      <td id=\"T_e19ea_row76_col14\" class=\"data row76 col14\" >1279</td>\n",
       "      <td id=\"T_e19ea_row76_col15\" class=\"data row76 col15\" >1136</td>\n",
       "      <td id=\"T_e19ea_row76_col16\" class=\"data row76 col16\" >992</td>\n",
       "      <td id=\"T_e19ea_row76_col17\" class=\"data row76 col17\" >737</td>\n",
       "      <td id=\"T_e19ea_row76_col18\" class=\"data row76 col18\" >482</td>\n",
       "      <td id=\"T_e19ea_row76_col19\" class=\"data row76 col19\" >-</td>\n",
       "    </tr>\n",
       "    <tr>\n",
       "      <th id=\"T_e19ea_level1_row77\" class=\"row_heading level1 row77\" >135</th>\n",
       "      <td id=\"T_e19ea_row77_col0\" class=\"data row77 col0\" >-</td>\n",
       "      <td id=\"T_e19ea_row77_col1\" class=\"data row77 col1\" >-</td>\n",
       "      <td id=\"T_e19ea_row77_col2\" class=\"data row77 col2\" >-</td>\n",
       "      <td id=\"T_e19ea_row77_col3\" class=\"data row77 col3\" >-</td>\n",
       "      <td id=\"T_e19ea_row77_col4\" class=\"data row77 col4\" >-</td>\n",
       "      <td id=\"T_e19ea_row77_col5\" class=\"data row77 col5\" >-</td>\n",
       "      <td id=\"T_e19ea_row77_col6\" class=\"data row77 col6\" >-</td>\n",
       "      <td id=\"T_e19ea_row77_col7\" class=\"data row77 col7\" >1442</td>\n",
       "      <td id=\"T_e19ea_row77_col8\" class=\"data row77 col8\" >1702</td>\n",
       "      <td id=\"T_e19ea_row77_col9\" class=\"data row77 col9\" >1616</td>\n",
       "      <td id=\"T_e19ea_row77_col10\" class=\"data row77 col10\" >1529</td>\n",
       "      <td id=\"T_e19ea_row77_col11\" class=\"data row77 col11\" >1461</td>\n",
       "      <td id=\"T_e19ea_row77_col12\" class=\"data row77 col12\" >1393</td>\n",
       "      <td id=\"T_e19ea_row77_col13\" class=\"data row77 col13\" >1325</td>\n",
       "      <td id=\"T_e19ea_row77_col14\" class=\"data row77 col14\" >1205</td>\n",
       "      <td id=\"T_e19ea_row77_col15\" class=\"data row77 col15\" >1086</td>\n",
       "      <td id=\"T_e19ea_row77_col16\" class=\"data row77 col16\" >967</td>\n",
       "      <td id=\"T_e19ea_row77_col17\" class=\"data row77 col17\" >710</td>\n",
       "      <td id=\"T_e19ea_row77_col18\" class=\"data row77 col18\" >452</td>\n",
       "      <td id=\"T_e19ea_row77_col19\" class=\"data row77 col19\" >-</td>\n",
       "    </tr>\n",
       "    <tr>\n",
       "      <th id=\"T_e19ea_level1_row78\" class=\"row_heading level1 row78\" >200</th>\n",
       "      <td id=\"T_e19ea_row78_col0\" class=\"data row78 col0\" >-</td>\n",
       "      <td id=\"T_e19ea_row78_col1\" class=\"data row78 col1\" >-</td>\n",
       "      <td id=\"T_e19ea_row78_col2\" class=\"data row78 col2\" >-</td>\n",
       "      <td id=\"T_e19ea_row78_col3\" class=\"data row78 col3\" >-</td>\n",
       "      <td id=\"T_e19ea_row78_col4\" class=\"data row78 col4\" >-</td>\n",
       "      <td id=\"T_e19ea_row78_col5\" class=\"data row78 col5\" >-</td>\n",
       "      <td id=\"T_e19ea_row78_col6\" class=\"data row78 col6\" >-</td>\n",
       "      <td id=\"T_e19ea_row78_col7\" class=\"data row78 col7\" >1914</td>\n",
       "      <td id=\"T_e19ea_row78_col8\" class=\"data row78 col8\" >2877</td>\n",
       "      <td id=\"T_e19ea_row78_col9\" class=\"data row78 col9\" >2935</td>\n",
       "      <td id=\"T_e19ea_row78_col10\" class=\"data row78 col10\" >2994</td>\n",
       "      <td id=\"T_e19ea_row78_col11\" class=\"data row78 col11\" >2649</td>\n",
       "      <td id=\"T_e19ea_row78_col12\" class=\"data row78 col12\" >2303</td>\n",
       "      <td id=\"T_e19ea_row78_col13\" class=\"data row78 col13\" >1958</td>\n",
       "      <td id=\"T_e19ea_row78_col14\" class=\"data row78 col14\" >1675</td>\n",
       "      <td id=\"T_e19ea_row78_col15\" class=\"data row78 col15\" >1392</td>\n",
       "      <td id=\"T_e19ea_row78_col16\" class=\"data row78 col16\" >1110</td>\n",
       "      <td id=\"T_e19ea_row78_col17\" class=\"data row78 col17\" >786</td>\n",
       "      <td id=\"T_e19ea_row78_col18\" class=\"data row78 col18\" >463</td>\n",
       "      <td id=\"T_e19ea_row78_col19\" class=\"data row78 col19\" >-</td>\n",
       "    </tr>\n",
       "    <tr>\n",
       "      <th id=\"T_e19ea_level0_row79\" class=\"row_heading level0 row79\" rowspan=\"3\">CanonRF800mmF11ISSTM</th>\n",
       "      <th id=\"T_e19ea_level1_row79\" class=\"row_heading level1 row79\" >800</th>\n",
       "      <td id=\"T_e19ea_row79_col0\" class=\"data row79 col0\" >-</td>\n",
       "      <td id=\"T_e19ea_row79_col1\" class=\"data row79 col1\" >-</td>\n",
       "      <td id=\"T_e19ea_row79_col2\" class=\"data row79 col2\" >-</td>\n",
       "      <td id=\"T_e19ea_row79_col3\" class=\"data row79 col3\" >-</td>\n",
       "      <td id=\"T_e19ea_row79_col4\" class=\"data row79 col4\" >-</td>\n",
       "      <td id=\"T_e19ea_row79_col5\" class=\"data row79 col5\" >-</td>\n",
       "      <td id=\"T_e19ea_row79_col6\" class=\"data row79 col6\" >-</td>\n",
       "      <td id=\"T_e19ea_row79_col7\" class=\"data row79 col7\" >-</td>\n",
       "      <td id=\"T_e19ea_row79_col8\" class=\"data row79 col8\" >-</td>\n",
       "      <td id=\"T_e19ea_row79_col9\" class=\"data row79 col9\" >-</td>\n",
       "      <td id=\"T_e19ea_row79_col10\" class=\"data row79 col10\" >-</td>\n",
       "      <td id=\"T_e19ea_row79_col11\" class=\"data row79 col11\" >-</td>\n",
       "      <td id=\"T_e19ea_row79_col12\" class=\"data row79 col12\" >-</td>\n",
       "      <td id=\"T_e19ea_row79_col13\" class=\"data row79 col13\" >-</td>\n",
       "      <td id=\"T_e19ea_row79_col14\" class=\"data row79 col14\" >-</td>\n",
       "      <td id=\"T_e19ea_row79_col15\" class=\"data row79 col15\" >-</td>\n",
       "      <td id=\"T_e19ea_row79_col16\" class=\"data row79 col16\" >681</td>\n",
       "      <td id=\"T_e19ea_row79_col17\" class=\"data row79 col17\" >-</td>\n",
       "      <td id=\"T_e19ea_row79_col18\" class=\"data row79 col18\" >-</td>\n",
       "      <td id=\"T_e19ea_row79_col19\" class=\"data row79 col19\" >-</td>\n",
       "    </tr>\n",
       "    <tr>\n",
       "      <th id=\"T_e19ea_level1_row80\" class=\"row_heading level1 row80\" >1120</th>\n",
       "      <td id=\"T_e19ea_row80_col0\" class=\"data row80 col0\" >-</td>\n",
       "      <td id=\"T_e19ea_row80_col1\" class=\"data row80 col1\" >-</td>\n",
       "      <td id=\"T_e19ea_row80_col2\" class=\"data row80 col2\" >-</td>\n",
       "      <td id=\"T_e19ea_row80_col3\" class=\"data row80 col3\" >-</td>\n",
       "      <td id=\"T_e19ea_row80_col4\" class=\"data row80 col4\" >-</td>\n",
       "      <td id=\"T_e19ea_row80_col5\" class=\"data row80 col5\" >-</td>\n",
       "      <td id=\"T_e19ea_row80_col6\" class=\"data row80 col6\" >-</td>\n",
       "      <td id=\"T_e19ea_row80_col7\" class=\"data row80 col7\" >-</td>\n",
       "      <td id=\"T_e19ea_row80_col8\" class=\"data row80 col8\" >-</td>\n",
       "      <td id=\"T_e19ea_row80_col9\" class=\"data row80 col9\" >-</td>\n",
       "      <td id=\"T_e19ea_row80_col10\" class=\"data row80 col10\" >-</td>\n",
       "      <td id=\"T_e19ea_row80_col11\" class=\"data row80 col11\" >-</td>\n",
       "      <td id=\"T_e19ea_row80_col12\" class=\"data row80 col12\" >-</td>\n",
       "      <td id=\"T_e19ea_row80_col13\" class=\"data row80 col13\" >-</td>\n",
       "      <td id=\"T_e19ea_row80_col14\" class=\"data row80 col14\" >-</td>\n",
       "      <td id=\"T_e19ea_row80_col15\" class=\"data row80 col15\" >-</td>\n",
       "      <td id=\"T_e19ea_row80_col16\" class=\"data row80 col16\" >-</td>\n",
       "      <td id=\"T_e19ea_row80_col17\" class=\"data row80 col17\" >-</td>\n",
       "      <td id=\"T_e19ea_row80_col18\" class=\"data row80 col18\" >274</td>\n",
       "      <td id=\"T_e19ea_row80_col19\" class=\"data row80 col19\" >-</td>\n",
       "    </tr>\n",
       "    <tr>\n",
       "      <th id=\"T_e19ea_level1_row81\" class=\"row_heading level1 row81\" >1600</th>\n",
       "      <td id=\"T_e19ea_row81_col0\" class=\"data row81 col0\" >-</td>\n",
       "      <td id=\"T_e19ea_row81_col1\" class=\"data row81 col1\" >-</td>\n",
       "      <td id=\"T_e19ea_row81_col2\" class=\"data row81 col2\" >-</td>\n",
       "      <td id=\"T_e19ea_row81_col3\" class=\"data row81 col3\" >-</td>\n",
       "      <td id=\"T_e19ea_row81_col4\" class=\"data row81 col4\" >-</td>\n",
       "      <td id=\"T_e19ea_row81_col5\" class=\"data row81 col5\" >-</td>\n",
       "      <td id=\"T_e19ea_row81_col6\" class=\"data row81 col6\" >-</td>\n",
       "      <td id=\"T_e19ea_row81_col7\" class=\"data row81 col7\" >-</td>\n",
       "      <td id=\"T_e19ea_row81_col8\" class=\"data row81 col8\" >-</td>\n",
       "      <td id=\"T_e19ea_row81_col9\" class=\"data row81 col9\" >-</td>\n",
       "      <td id=\"T_e19ea_row81_col10\" class=\"data row81 col10\" >-</td>\n",
       "      <td id=\"T_e19ea_row81_col11\" class=\"data row81 col11\" >-</td>\n",
       "      <td id=\"T_e19ea_row81_col12\" class=\"data row81 col12\" >-</td>\n",
       "      <td id=\"T_e19ea_row81_col13\" class=\"data row81 col13\" >-</td>\n",
       "      <td id=\"T_e19ea_row81_col14\" class=\"data row81 col14\" >-</td>\n",
       "      <td id=\"T_e19ea_row81_col15\" class=\"data row81 col15\" >-</td>\n",
       "      <td id=\"T_e19ea_row81_col16\" class=\"data row81 col16\" >-</td>\n",
       "      <td id=\"T_e19ea_row81_col17\" class=\"data row81 col17\" >-</td>\n",
       "      <td id=\"T_e19ea_row81_col18\" class=\"data row81 col18\" >-</td>\n",
       "      <td id=\"T_e19ea_row81_col19\" class=\"data row81 col19\" >98</td>\n",
       "    </tr>\n",
       "    <tr>\n",
       "      <th id=\"T_e19ea_level0_row82\" class=\"row_heading level0 row82\" rowspan=\"2\">CanonRF800mmF5.6LISUSM</th>\n",
       "      <th id=\"T_e19ea_level1_row82\" class=\"row_heading level1 row82\" >800</th>\n",
       "      <td id=\"T_e19ea_row82_col0\" class=\"data row82 col0\" >-</td>\n",
       "      <td id=\"T_e19ea_row82_col1\" class=\"data row82 col1\" >-</td>\n",
       "      <td id=\"T_e19ea_row82_col2\" class=\"data row82 col2\" >-</td>\n",
       "      <td id=\"T_e19ea_row82_col3\" class=\"data row82 col3\" >-</td>\n",
       "      <td id=\"T_e19ea_row82_col4\" class=\"data row82 col4\" >-</td>\n",
       "      <td id=\"T_e19ea_row82_col5\" class=\"data row82 col5\" >-</td>\n",
       "      <td id=\"T_e19ea_row82_col6\" class=\"data row82 col6\" >-</td>\n",
       "      <td id=\"T_e19ea_row82_col7\" class=\"data row82 col7\" >-</td>\n",
       "      <td id=\"T_e19ea_row82_col8\" class=\"data row82 col8\" >-</td>\n",
       "      <td id=\"T_e19ea_row82_col9\" class=\"data row82 col9\" >-</td>\n",
       "      <td id=\"T_e19ea_row82_col10\" class=\"data row82 col10\" >545</td>\n",
       "      <td id=\"T_e19ea_row82_col11\" class=\"data row82 col11\" >823</td>\n",
       "      <td id=\"T_e19ea_row82_col12\" class=\"data row82 col12\" >884</td>\n",
       "      <td id=\"T_e19ea_row82_col13\" class=\"data row82 col13\" >945</td>\n",
       "      <td id=\"T_e19ea_row82_col14\" class=\"data row82 col14\" >875</td>\n",
       "      <td id=\"T_e19ea_row82_col15\" class=\"data row82 col15\" >806</td>\n",
       "      <td id=\"T_e19ea_row82_col16\" class=\"data row82 col16\" >736</td>\n",
       "      <td id=\"T_e19ea_row82_col17\" class=\"data row82 col17\" >516</td>\n",
       "      <td id=\"T_e19ea_row82_col18\" class=\"data row82 col18\" >296</td>\n",
       "      <td id=\"T_e19ea_row82_col19\" class=\"data row82 col19\" >-</td>\n",
       "    </tr>\n",
       "    <tr>\n",
       "      <th id=\"T_e19ea_level1_row83\" class=\"row_heading level1 row83\" >1120</th>\n",
       "      <td id=\"T_e19ea_row83_col0\" class=\"data row83 col0\" >-</td>\n",
       "      <td id=\"T_e19ea_row83_col1\" class=\"data row83 col1\" >-</td>\n",
       "      <td id=\"T_e19ea_row83_col2\" class=\"data row83 col2\" >-</td>\n",
       "      <td id=\"T_e19ea_row83_col3\" class=\"data row83 col3\" >-</td>\n",
       "      <td id=\"T_e19ea_row83_col4\" class=\"data row83 col4\" >-</td>\n",
       "      <td id=\"T_e19ea_row83_col5\" class=\"data row83 col5\" >-</td>\n",
       "      <td id=\"T_e19ea_row83_col6\" class=\"data row83 col6\" >-</td>\n",
       "      <td id=\"T_e19ea_row83_col7\" class=\"data row83 col7\" >-</td>\n",
       "      <td id=\"T_e19ea_row83_col8\" class=\"data row83 col8\" >-</td>\n",
       "      <td id=\"T_e19ea_row83_col9\" class=\"data row83 col9\" >-</td>\n",
       "      <td id=\"T_e19ea_row83_col10\" class=\"data row83 col10\" >-</td>\n",
       "      <td id=\"T_e19ea_row83_col11\" class=\"data row83 col11\" >-</td>\n",
       "      <td id=\"T_e19ea_row83_col12\" class=\"data row83 col12\" >-</td>\n",
       "      <td id=\"T_e19ea_row83_col13\" class=\"data row83 col13\" >326</td>\n",
       "      <td id=\"T_e19ea_row83_col14\" class=\"data row83 col14\" >486</td>\n",
       "      <td id=\"T_e19ea_row83_col15\" class=\"data row83 col15\" >572</td>\n",
       "      <td id=\"T_e19ea_row83_col16\" class=\"data row83 col16\" >659</td>\n",
       "      <td id=\"T_e19ea_row83_col17\" class=\"data row83 col17\" >484</td>\n",
       "      <td id=\"T_e19ea_row83_col18\" class=\"data row83 col18\" >310</td>\n",
       "      <td id=\"T_e19ea_row83_col19\" class=\"data row83 col19\" >-</td>\n",
       "    </tr>\n",
       "    <tr>\n",
       "      <th id=\"T_e19ea_level0_row84\" class=\"row_heading level0 row84\" >CanonRF85mmF1.2LUSM</th>\n",
       "      <th id=\"T_e19ea_level1_row84\" class=\"row_heading level1 row84\" >85</th>\n",
       "      <td id=\"T_e19ea_row84_col0\" class=\"data row84 col0\" >3965</td>\n",
       "      <td id=\"T_e19ea_row84_col1\" class=\"data row84 col1\" >4644</td>\n",
       "      <td id=\"T_e19ea_row84_col2\" class=\"data row84 col2\" >4877</td>\n",
       "      <td id=\"T_e19ea_row84_col3\" class=\"data row84 col3\" >5110</td>\n",
       "      <td id=\"T_e19ea_row84_col4\" class=\"data row84 col4\" >4994</td>\n",
       "      <td id=\"T_e19ea_row84_col5\" class=\"data row84 col5\" >4878</td>\n",
       "      <td id=\"T_e19ea_row84_col6\" class=\"data row84 col6\" >4488</td>\n",
       "      <td id=\"T_e19ea_row84_col7\" class=\"data row84 col7\" >4097</td>\n",
       "      <td id=\"T_e19ea_row84_col8\" class=\"data row84 col8\" >3785</td>\n",
       "      <td id=\"T_e19ea_row84_col9\" class=\"data row84 col9\" >3473</td>\n",
       "      <td id=\"T_e19ea_row84_col10\" class=\"data row84 col10\" >3161</td>\n",
       "      <td id=\"T_e19ea_row84_col11\" class=\"data row84 col11\" >2765</td>\n",
       "      <td id=\"T_e19ea_row84_col12\" class=\"data row84 col12\" >2368</td>\n",
       "      <td id=\"T_e19ea_row84_col13\" class=\"data row84 col13\" >1972</td>\n",
       "      <td id=\"T_e19ea_row84_col14\" class=\"data row84 col14\" >1642</td>\n",
       "      <td id=\"T_e19ea_row84_col15\" class=\"data row84 col15\" >1312</td>\n",
       "      <td id=\"T_e19ea_row84_col16\" class=\"data row84 col16\" >982</td>\n",
       "      <td id=\"T_e19ea_row84_col17\" class=\"data row84 col17\" >703</td>\n",
       "      <td id=\"T_e19ea_row84_col18\" class=\"data row84 col18\" >424</td>\n",
       "      <td id=\"T_e19ea_row84_col19\" class=\"data row84 col19\" >-</td>\n",
       "    </tr>\n",
       "    <tr>\n",
       "      <th id=\"T_e19ea_level0_row85\" class=\"row_heading level0 row85\" >CanonRF85mmF2MacroISSTM</th>\n",
       "      <th id=\"T_e19ea_level1_row85\" class=\"row_heading level1 row85\" >85</th>\n",
       "      <td id=\"T_e19ea_row85_col0\" class=\"data row85 col0\" >-</td>\n",
       "      <td id=\"T_e19ea_row85_col1\" class=\"data row85 col1\" >-</td>\n",
       "      <td id=\"T_e19ea_row85_col2\" class=\"data row85 col2\" >-</td>\n",
       "      <td id=\"T_e19ea_row85_col3\" class=\"data row85 col3\" >2502</td>\n",
       "      <td id=\"T_e19ea_row85_col4\" class=\"data row85 col4\" >2713</td>\n",
       "      <td id=\"T_e19ea_row85_col5\" class=\"data row85 col5\" >3010</td>\n",
       "      <td id=\"T_e19ea_row85_col6\" class=\"data row85 col6\" >3408</td>\n",
       "      <td id=\"T_e19ea_row85_col7\" class=\"data row85 col7\" >3806</td>\n",
       "      <td id=\"T_e19ea_row85_col8\" class=\"data row85 col8\" >3540</td>\n",
       "      <td id=\"T_e19ea_row85_col9\" class=\"data row85 col9\" >3274</td>\n",
       "      <td id=\"T_e19ea_row85_col10\" class=\"data row85 col10\" >3008</td>\n",
       "      <td id=\"T_e19ea_row85_col11\" class=\"data row85 col11\" >2709</td>\n",
       "      <td id=\"T_e19ea_row85_col12\" class=\"data row85 col12\" >2409</td>\n",
       "      <td id=\"T_e19ea_row85_col13\" class=\"data row85 col13\" >2110</td>\n",
       "      <td id=\"T_e19ea_row85_col14\" class=\"data row85 col14\" >1770</td>\n",
       "      <td id=\"T_e19ea_row85_col15\" class=\"data row85 col15\" >1430</td>\n",
       "      <td id=\"T_e19ea_row85_col16\" class=\"data row85 col16\" >1091</td>\n",
       "      <td id=\"T_e19ea_row85_col17\" class=\"data row85 col17\" >750</td>\n",
       "      <td id=\"T_e19ea_row85_col18\" class=\"data row85 col18\" >410</td>\n",
       "      <td id=\"T_e19ea_row85_col19\" class=\"data row85 col19\" >-</td>\n",
       "    </tr>\n",
       "  </tbody>\n",
       "</table>\n"
      ],
      "text/plain": [
       "<pandas.io.formats.style.Styler at 0x216c228fd90>"
      ]
     },
     "execution_count": 189,
     "metadata": {},
     "output_type": "execute_result"
    }
   ],
   "source": [
    "from matplotlib import colors\n",
    "\n",
    "def background_gradient(s, m, M, cmap='PuBu', low=0, high=0):\n",
    "    rng = M - m\n",
    "    norm = colors.Normalize(m - (rng * low),\n",
    "                            M + (rng * high))\n",
    "    normed = norm(s.values)\n",
    "    c = [colors.rgb2hex(x) for x in plt.cm.get_cmap(cmap)(normed)]\n",
    "    return ['background-color: %s' % color for color in c]\n",
    "\n",
    "def fmt(s):\n",
    "    if s > 0:\n",
    "        return f\"{s:.0f}\"\n",
    "    return \"-\"\n",
    "\n",
    "# we use the laplacian sharpness / gradient\n",
    "ddata = data.SP.reset_index(level=[\"aperture\", \"focal_length\"], drop=True)\n",
    "\n",
    "# we\n",
    "d2data = ddata.xs(\"Crop1\", level=-1).xs(\"CanonEOSR5\", level=1).unstack(\"aperture_float\").sort_index(axis=1).sort_values([\"title\"])\n",
    "d2data.columns = d2data.columns.map(lambda f: f\"{f:.1f}\")\n",
    "\n",
    "d2data.sort_index().interpolate(axis=1, limit=2, limit_area=\"inside\").fillna(0).sort_values([\"title\", \"focal_length_int\"]).style.apply(background_gradient,\n",
    "               cmap='viridis',\n",
    "               m=0,\n",
    "               M=4000,\n",
    "               low=0,\n",
    "               high=0).format(fmt)"
   ]
  }
 ],
 "metadata": {
  "kernelspec": {
   "display_name": "Python 3 (ipykernel)",
   "language": "python",
   "name": "python3"
  },
  "language_info": {
   "codemirror_mode": {
    "name": "ipython",
    "version": 3
   },
   "file_extension": ".py",
   "mimetype": "text/x-python",
   "name": "python",
   "nbconvert_exporter": "python",
   "pygments_lexer": "ipython3",
   "version": "3.9.15"
  }
 },
 "nbformat": 4,
 "nbformat_minor": 5
}
